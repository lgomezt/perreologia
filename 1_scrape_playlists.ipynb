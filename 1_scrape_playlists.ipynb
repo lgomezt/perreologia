{
 "cells": [
  {
   "cell_type": "markdown",
   "source": [
    "The purpose of this script is to scrape some Spotify playlist using the function `scrape_playlist` stored in functions.py\r\n",
    "\r\n",
    "Ideally, we are going to run this script every week to track the movements of the playlists."
   ],
   "metadata": {}
  },
  {
   "cell_type": "code",
   "execution_count": 1,
   "source": [
    "from secrets import * # Import the ClientID and clientSecret\r\n",
    "import pandas as pd\r\n",
    "from datetime import date\r\n",
    "import os"
   ],
   "outputs": [],
   "metadata": {}
  },
  {
   "cell_type": "code",
   "execution_count": 2,
   "source": [
    "# Import the package developed\r\n",
    "from functions import * "
   ],
   "outputs": [],
   "metadata": {}
  },
  {
   "cell_type": "code",
   "execution_count": 3,
   "source": [
    "# Playlist\r\n",
    "top_colombia = \"37i9dQZEVXbOa2lmxNORXQ\"\r\n",
    "popeton = \"37i9dQZF1DWTPDzakLfYZr\"\r\n",
    "novedades_viernes = \"37i9dQZF1DX0GwFgIBcx9g\"\r\n",
    "viral = \"37i9dQZEVXbKrooeK9WSFF\""
   ],
   "outputs": [],
   "metadata": {}
  },
  {
   "cell_type": "code",
   "execution_count": 4,
   "source": [
    "# Save the results\r\n",
    "path_scritps = os.getcwd()\r\n",
    "path_data = path_scritps.replace(\"Scripts\", \"Data\")\r\n",
    "\r\n",
    "today = date.today()\r\n",
    "week = str(today.isocalendar()[1])\r\n",
    "year = str(today.isocalendar()[0])"
   ],
   "outputs": [],
   "metadata": {}
  },
  {
   "cell_type": "code",
   "execution_count": 5,
   "source": [
    "df = scrape_playlist(playlistId = top_colombia, \r\n",
    "    clientId = clientId, \r\n",
    "    clientSecret = clientSecret)\r\n",
    "df.to_csv(path_data + \"/top_colombia_\" + year + \"_\" + week + \".csv\", sep = \";\")\r\n",
    "\r\n",
    "df = scrape_playlist(playlistId = popeton, \r\n",
    "    clientId = clientId, \r\n",
    "    clientSecret = clientSecret)\r\n",
    "df.to_csv(path_data + \"/popeton_\" + year + \"_\" + week + \".csv\", sep = \";\")\r\n",
    "\r\n",
    "df = scrape_playlist(playlistId = novedades_viernes, \r\n",
    "    clientId = clientId, \r\n",
    "    clientSecret = clientSecret)\r\n",
    "df.to_csv(path_data + \"/novedades_viernes_\" + year + \"_\" + week + \".csv\", sep = \";\")\r\n",
    "\r\n",
    "df = scrape_playlist(playlistId = viral, \r\n",
    "    clientId = clientId, \r\n",
    "    clientSecret = clientSecret)\r\n",
    "df.to_csv(path_data + \"/viral_\" + year + \"_\" + week + \".csv\", sep = \";\")"
   ],
   "outputs": [],
   "metadata": {}
  }
 ],
 "metadata": {
  "orig_nbformat": 4,
  "language_info": {
   "name": "python",
   "version": "3.8.11",
   "mimetype": "text/x-python",
   "codemirror_mode": {
    "name": "ipython",
    "version": 3
   },
   "pygments_lexer": "ipython3",
   "nbconvert_exporter": "python",
   "file_extension": ".py"
  },
  "kernelspec": {
   "name": "python3",
   "display_name": "Python 3.8.11 64-bit ('tesis': conda)"
  },
  "interpreter": {
   "hash": "b593be6ec2d2954f27bc2722be29da300fa7dcb24a766e52710030263730092e"
  }
 },
 "nbformat": 4,
 "nbformat_minor": 2
}