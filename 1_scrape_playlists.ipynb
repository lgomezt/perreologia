{
 "cells": [
  {
   "cell_type": "markdown",
   "metadata": {},
   "source": [
    "The purpose of this script is to scrape some Spotify playlist using the function `scrape_playlist` stored in functions.py\n",
    "\n",
    "Ideally, we are going to run this script every week to track the movements of the playlists."
   ]
  },
  {
   "cell_type": "code",
   "execution_count": 1,
   "metadata": {},
   "outputs": [],
   "source": [
    "from secrets import * # Import the ClientID and clientSecret\n",
    "import pandas as pd\n",
    "from datetime import date\n",
    "import os"
   ]
  },
  {
   "cell_type": "code",
   "execution_count": 2,
   "metadata": {},
   "outputs": [],
   "source": [
    "# Import the package developed\n",
    "from functions import * "
   ]
  },
  {
   "cell_type": "code",
   "execution_count": null,
   "metadata": {},
   "outputs": [],
   "source": [
    "# Playlist\n",
    "top_colombia = \"37i9dQZEVXbOa2lmxNORXQ\"\n",
    "popeton = \"37i9dQZF1DWTPDzakLfYZr\"\n",
    "novedades_viernes = \"37i9dQZF1DX0GwFgIBcx9g\"\n",
    "viral = \"37i9dQZEVXbKrooeK9WSFF\""
   ]
  },
  {
   "cell_type": "code",
   "execution_count": null,
   "metadata": {},
   "outputs": [],
   "source": [
    "# Save the results\n",
    "path_scritps = os.getcwd()\n",
    "path_data = path_scritps.replace(\"Scripts\", \"Data\")\n",
    "\n",
    "today = str(date.today())"
   ]
  },
  {
   "cell_type": "code",
   "execution_count": null,
   "metadata": {},
   "outputs": [],
   "source": [
    "df = scrape_playlist(playlistId = top_colombia, \n",
    "    clientId = clientId, \n",
    "    clientSecret = clientSecret)\n",
    "df.to_csv(path_data + \"/top_colombia_\" + today + \".csv\", sep = \";\")\n",
    "\n",
    "df = scrape_playlist(playlistId = popeton, \n",
    "    clientId = clientId, \n",
    "    clientSecret = clientSecret)\n",
    "df.to_csv(path_data + \"/popeton_\" + today + \".csv\", sep = \";\")\n",
    "\n",
    "df = scrape_playlist(playlistId = novedades_viernes, \n",
    "    clientId = clientId, \n",
    "    clientSecret = clientSecret)\n",
    "df.to_csv(path_data + \"/novedades_viernes_\" + today + \".csv\", sep = \";\")\n",
    "\n",
    "df = scrape_playlist(playlistId = viral, \n",
    "    clientId = clientId, \n",
    "    clientSecret = clientSecret)\n",
    "df.to_csv(path_data + \"/viral_\" + today + \".csv\", sep = \";\")"
   ]
  }
 ],
 "metadata": {
  "interpreter": {
   "hash": "b593be6ec2d2954f27bc2722be29da300fa7dcb24a766e52710030263730092e"
  },
  "kernelspec": {
   "display_name": "Python 3.8.11 64-bit ('tesis': conda)",
   "name": "python3"
  },
  "language_info": {
   "codemirror_mode": {
    "name": "ipython",
    "version": 3
   },
   "file_extension": ".py",
   "mimetype": "text/x-python",
   "name": "python",
   "nbconvert_exporter": "python",
   "pygments_lexer": "ipython3",
   "version": "3.8.11"
  },
  "orig_nbformat": 4
 },
 "nbformat": 4,
 "nbformat_minor": 2
}
