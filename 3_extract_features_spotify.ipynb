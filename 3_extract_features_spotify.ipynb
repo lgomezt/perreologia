{
 "cells": [
  {
   "cell_type": "markdown",
   "source": [
    "Each song stored in Spotify has some information builded by Spotify to classify the music. This script is going to download all the relevant information associated with the sound of the songs."
   ],
   "metadata": {}
  },
  {
   "cell_type": "code",
   "execution_count": 1,
   "source": [
    "from secrets import * # Import the ClientID and clientSecret\r\n",
    "import os\r\n",
    "import pandas as pd\r\n",
    "import spotipy\r\n",
    "from spotipy.oauth2 import SpotifyClientCredentials \r\n",
    "from datetime import date"
   ],
   "outputs": [],
   "metadata": {}
  },
  {
   "cell_type": "code",
   "execution_count": 2,
   "source": [
    "path_scritps = os.getcwd()\r\n",
    "path_data = path_scritps.replace(\"Scripts\", \"Data\")"
   ],
   "outputs": [],
   "metadata": {}
  },
  {
   "cell_type": "code",
   "execution_count": 3,
   "source": [
    "os.listdir(path_data)"
   ],
   "outputs": [
    {
     "output_type": "execute_result",
     "data": {
      "text/plain": [
       "['consolidate_raw_2021-09-19.csv',\n",
       " 'consolidate_raw_2021_37.csv',\n",
       " 'consolidate_raw_audio_features_2021_37.csv',\n",
       " 'consolidate_raw_audio_features_2021_37.tex',\n",
       " 'novedades_viernes_2021-09-19.csv',\n",
       " 'novedades_viernes_2021_33.csv',\n",
       " 'novedades_viernes_2021_34.csv',\n",
       " 'novedades_viernes_2021_36.csv',\n",
       " 'novedades_viernes_2021_37.csv',\n",
       " 'popeton_2021-09-19.csv',\n",
       " 'popeton_2021_33.csv',\n",
       " 'popeton_2021_34.csv',\n",
       " 'popeton_2021_36.csv',\n",
       " 'popeton_2021_37.csv',\n",
       " 'songs',\n",
       " 'top_colombia_2021-09-19.csv',\n",
       " 'top_colombia_2021_33.csv',\n",
       " 'top_colombia_2021_34.csv',\n",
       " 'top_colombia_2021_36.csv',\n",
       " 'top_colombia_2021_37.csv',\n",
       " 'viral_2021-09-19.csv',\n",
       " 'viral_2021_33.csv',\n",
       " 'viral_2021_34.csv',\n",
       " 'viral_2021_36.csv',\n",
       " 'viral_2021_37.csv']"
      ]
     },
     "metadata": {},
     "execution_count": 3
    }
   ],
   "metadata": {}
  },
  {
   "cell_type": "code",
   "execution_count": 4,
   "source": [
    "# Read the most recent file\r\n",
    "data = pd.read_csv(path_data + \"/consolidate_raw_2021-09-19.csv\", sep = \";\", index_col = 0)"
   ],
   "outputs": [],
   "metadata": {}
  },
  {
   "cell_type": "code",
   "execution_count": 6,
   "source": [
    "client_credentials_manager = SpotifyClientCredentials(client_id = clientId, client_secret = clientSecret)\r\n",
    "# Spotify object to access API\r\n",
    "sp = spotipy.Spotify(client_credentials_manager = client_credentials_manager) "
   ],
   "outputs": [],
   "metadata": {}
  },
  {
   "cell_type": "code",
   "execution_count": 7,
   "source": [
    "# Extracts the song analysis performed by Spotify\r\n",
    "# This process could be optimize if only search the information of the songs that are not \r\n",
    "# searched before. Here we are repeating the extraction for songs that we already had. \r\n",
    "songs = data[\"song_id\"].drop_duplicates().values\r\n",
    "features = pd.DataFrame()\r\n",
    "for song in songs:\r\n",
    "    row = sp.audio_features(song)\r\n",
    "    row = pd.DataFrame.from_dict(row)\r\n",
    "    features = features.append(row).reset_index(drop = True)"
   ],
   "outputs": [],
   "metadata": {}
  },
  {
   "cell_type": "code",
   "execution_count": 8,
   "source": [
    "# Remove variables that are not relevant\r\n",
    "features = features.drop(columns = [\"type\", \"duration_ms\"])"
   ],
   "outputs": [],
   "metadata": {}
  },
  {
   "cell_type": "code",
   "execution_count": 9,
   "source": [
    "# Rename columns for the join\r\n",
    "features = features.rename(columns = {\"id\": \"song_id\"})"
   ],
   "outputs": [],
   "metadata": {}
  },
  {
   "cell_type": "code",
   "execution_count": 10,
   "source": [
    "# Append the new variables to our base\r\n",
    "data = data.merge(features, how = \"left\", on = \"song_id\")"
   ],
   "outputs": [],
   "metadata": {}
  },
  {
   "cell_type": "code",
   "execution_count": 11,
   "source": [
    "# Save results\r\n",
    "today = str(date.today())"
   ],
   "outputs": [],
   "metadata": {}
  },
  {
   "cell_type": "code",
   "execution_count": 12,
   "source": [
    "data.to_csv(path_data + \"/consolidate_raw_audio_features_\" + today + \".csv\", sep = \";\")"
   ],
   "outputs": [],
   "metadata": {}
  },
  {
   "cell_type": "code",
   "execution_count": 14,
   "source": [
    "data = pd.read_csv(path_data + \"/consolidate_raw_audio_features_\" + \r\n",
    "    '2021-09-19' + \".csv\", sep = \";\", index_col = 0)"
   ],
   "outputs": [],
   "metadata": {}
  },
  {
   "cell_type": "code",
   "execution_count": 16,
   "source": [
    "# Create descriptive statistics of the new variables\r\n",
    "stat = data.drop_duplicates(\"song_id\").reset_index(drop = True).describe().T"
   ],
   "outputs": [],
   "metadata": {}
  },
  {
   "cell_type": "code",
   "execution_count": 17,
   "source": [
    "stat.columns = [\"N\", \"Mean\", \"SD\", \"Min\", \"P(25)\", \"P50\", \"P(75)\", \"Max\"]\r\n",
    "\r\n",
    "def f1(x):\r\n",
    "    return '%1.0f' % x\r\n",
    "\r\n",
    "def f2(x):\r\n",
    "    return '%1.2f' % x"
   ],
   "outputs": [],
   "metadata": {}
  },
  {
   "cell_type": "code",
   "execution_count": 18,
   "source": [
    "stat.to_latex(    \r\n",
    "    path_data + \"/consolidate_raw_audio_features_\" + \"2021\" + \"_\" + \"37\" + \".tex\",\r\n",
    "    longtable = True, \r\n",
    "    formatters = [f1, f2, f2, f2, f2, f2, f2, f2]\r\n",
    ")"
   ],
   "outputs": [],
   "metadata": {}
  }
 ],
 "metadata": {
  "orig_nbformat": 4,
  "language_info": {
   "name": "python",
   "version": "3.8.11",
   "mimetype": "text/x-python",
   "codemirror_mode": {
    "name": "ipython",
    "version": 3
   },
   "pygments_lexer": "ipython3",
   "nbconvert_exporter": "python",
   "file_extension": ".py"
  },
  "kernelspec": {
   "name": "python3",
   "display_name": "Python 3.8.11 64-bit ('tesis': conda)"
  },
  "interpreter": {
   "hash": "b593be6ec2d2954f27bc2722be29da300fa7dcb24a766e52710030263730092e"
  }
 },
 "nbformat": 4,
 "nbformat_minor": 2
}