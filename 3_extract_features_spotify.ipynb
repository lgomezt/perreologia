{
 "cells": [
  {
   "cell_type": "markdown",
   "metadata": {},
   "source": [
    "Each song stored in Spotify has some information builded by Spotify to classify the music. This script is going to download all the relevant information associated with the sound of the songs."
   ]
  },
  {
   "cell_type": "code",
   "execution_count": 1,
   "metadata": {},
   "outputs": [],
   "source": [
    "from secrets import * # Import the ClientID and clientSecret\n",
    "import os\n",
    "import pandas as pd\n",
    "import spotipy\n",
    "from spotipy.oauth2 import SpotifyClientCredentials \n",
    "from datetime import date"
   ]
  },
  {
   "cell_type": "code",
   "execution_count": 2,
   "metadata": {},
   "outputs": [],
   "source": [
    "path_scritps = os.getcwd()\n",
    "path_data = path_scritps.replace(\"Scripts\", \"Data\")"
   ]
  },
  {
   "cell_type": "code",
   "execution_count": 3,
   "metadata": {},
   "outputs": [
    {
     "data": {
      "text/plain": [
       "['consolidate_raw_2021-09-19.csv',\n",
       " 'consolidate_raw_2021-09-27.csv',\n",
       " 'consolidate_raw_2021-10-04.csv',\n",
       " 'consolidate_raw_2021-10-11.csv',\n",
       " 'consolidate_raw_2021_37.csv',\n",
       " 'consolidate_raw_audio_features_2021-09-19.csv',\n",
       " 'consolidate_raw_audio_features_2021-09-27.csv',\n",
       " 'consolidate_raw_audio_features_2021-10-04.csv',\n",
       " 'consolidate_raw_audio_features_2021_37.csv',\n",
       " 'consolidate_raw_audio_features_2021_37.tex',\n",
       " 'novedades_viernes_2021-09-19.csv',\n",
       " 'novedades_viernes_2021-09-27.csv',\n",
       " 'novedades_viernes_2021-10-04.csv',\n",
       " 'novedades_viernes_2021-10-11.csv',\n",
       " 'novedades_viernes_2021_33.csv',\n",
       " 'novedades_viernes_2021_34.csv',\n",
       " 'novedades_viernes_2021_36.csv',\n",
       " 'novedades_viernes_2021_37.csv',\n",
       " 'popeton_2021-09-19.csv',\n",
       " 'popeton_2021-09-27.csv',\n",
       " 'popeton_2021-10-04.csv',\n",
       " 'popeton_2021-10-11.csv',\n",
       " 'popeton_2021_33.csv',\n",
       " 'popeton_2021_34.csv',\n",
       " 'popeton_2021_36.csv',\n",
       " 'popeton_2021_37.csv',\n",
       " 'songs',\n",
       " 'top_colombia_2021-09-19.csv',\n",
       " 'top_colombia_2021-09-27.csv',\n",
       " 'top_colombia_2021-10-04.csv',\n",
       " 'top_colombia_2021-10-11.csv',\n",
       " 'top_colombia_2021_33.csv',\n",
       " 'top_colombia_2021_34.csv',\n",
       " 'top_colombia_2021_36.csv',\n",
       " 'top_colombia_2021_37.csv',\n",
       " 'viral_2021-09-19.csv',\n",
       " 'viral_2021-09-27.csv',\n",
       " 'viral_2021-10-04.csv',\n",
       " 'viral_2021-10-11.csv',\n",
       " 'viral_2021_33.csv',\n",
       " 'viral_2021_34.csv',\n",
       " 'viral_2021_36.csv',\n",
       " 'viral_2021_37.csv']"
      ]
     },
     "execution_count": 3,
     "metadata": {},
     "output_type": "execute_result"
    }
   ],
   "source": [
    "os.listdir(path_data)"
   ]
  },
  {
   "cell_type": "code",
   "execution_count": 4,
   "metadata": {},
   "outputs": [],
   "source": [
    "# Read the most recent file\n",
    "data = pd.read_csv(path_data + \"/consolidate_raw_2021-09-19.csv\", sep = \";\", index_col = 0)"
   ]
  },
  {
   "cell_type": "code",
   "execution_count": 5,
   "metadata": {},
   "outputs": [
    {
     "ename": "NameError",
     "evalue": "name 'clientId' is not defined",
     "output_type": "error",
     "traceback": [
      "\u001b[1;31m---------------------------------------------------------------------------\u001b[0m",
      "\u001b[1;31mNameError\u001b[0m                                 Traceback (most recent call last)",
      "\u001b[1;32mC:\\Users\\Public\\Documents\\Wondershare\\CreatorTemp/ipykernel_11556/1230274668.py\u001b[0m in \u001b[0;36m<module>\u001b[1;34m\u001b[0m\n\u001b[1;32m----> 1\u001b[1;33m \u001b[0mclient_credentials_manager\u001b[0m \u001b[1;33m=\u001b[0m \u001b[0mSpotifyClientCredentials\u001b[0m\u001b[1;33m(\u001b[0m\u001b[0mclient_id\u001b[0m \u001b[1;33m=\u001b[0m \u001b[0mclientId\u001b[0m\u001b[1;33m,\u001b[0m \u001b[0mclient_secret\u001b[0m \u001b[1;33m=\u001b[0m \u001b[0mclientSecret\u001b[0m\u001b[1;33m)\u001b[0m\u001b[1;33m\u001b[0m\u001b[1;33m\u001b[0m\u001b[0m\n\u001b[0m\u001b[0;32m      2\u001b[0m \u001b[1;31m# Spotify object to access API\u001b[0m\u001b[1;33m\u001b[0m\u001b[1;33m\u001b[0m\u001b[1;33m\u001b[0m\u001b[0m\n\u001b[0;32m      3\u001b[0m \u001b[0msp\u001b[0m \u001b[1;33m=\u001b[0m \u001b[0mspotipy\u001b[0m\u001b[1;33m.\u001b[0m\u001b[0mSpotify\u001b[0m\u001b[1;33m(\u001b[0m\u001b[0mclient_credentials_manager\u001b[0m \u001b[1;33m=\u001b[0m \u001b[0mclient_credentials_manager\u001b[0m\u001b[1;33m)\u001b[0m\u001b[1;33m\u001b[0m\u001b[1;33m\u001b[0m\u001b[0m\n",
      "\u001b[1;31mNameError\u001b[0m: name 'clientId' is not defined"
     ]
    }
   ],
   "source": [
    "client_credentials_manager = SpotifyClientCredentials(client_id = clientId, client_secret = clientSecret)\n",
    "# Spotify object to access API\n",
    "sp = spotipy.Spotify(client_credentials_manager = client_credentials_manager) "
   ]
  },
  {
   "cell_type": "code",
   "execution_count": null,
   "metadata": {},
   "outputs": [],
   "source": [
    "# Extracts the song analysis performed by Spotify\n",
    "# This process could be optimize if only search the information of the songs that are not \n",
    "# searched before. Here we are repeating the extraction for songs that we already had. \n",
    "songs = data[\"song_id\"].drop_duplicates().values\n",
    "features = pd.DataFrame()\n",
    "for song in songs:\n",
    "    row = sp.audio_features(song)\n",
    "    row = pd.DataFrame.from_dict(row)\n",
    "    features = features.append(row).reset_index(drop = True)"
   ]
  },
  {
   "cell_type": "code",
   "execution_count": null,
   "metadata": {},
   "outputs": [],
   "source": [
    "# Remove variables that are not relevant\n",
    "features = features.drop(columns = [\"type\", \"duration_ms\"])"
   ]
  },
  {
   "cell_type": "code",
   "execution_count": null,
   "metadata": {},
   "outputs": [],
   "source": [
    "# Rename columns for the join\n",
    "features = features.rename(columns = {\"id\": \"song_id\"})"
   ]
  },
  {
   "cell_type": "code",
   "execution_count": null,
   "metadata": {},
   "outputs": [],
   "source": [
    "# Append the new variables to our base\n",
    "data = data.merge(features, how = \"left\", on = \"song_id\")"
   ]
  },
  {
   "cell_type": "code",
   "execution_count": null,
   "metadata": {},
   "outputs": [],
   "source": [
    "# Save results\n",
    "today = str(date.today())"
   ]
  },
  {
   "cell_type": "code",
   "execution_count": null,
   "metadata": {},
   "outputs": [],
   "source": [
    "data.to_csv(path_data + \"/consolidate_raw_audio_features_\" + today + \".csv\", sep = \";\")"
   ]
  },
  {
   "cell_type": "code",
   "execution_count": null,
   "metadata": {},
   "outputs": [],
   "source": [
    "data = pd.read_csv(path_data + \"/consolidate_raw_audio_features_\" + \n",
    "    '2021-09-19' + \".csv\", sep = \";\", index_col = 0)"
   ]
  },
  {
   "cell_type": "code",
   "execution_count": null,
   "metadata": {},
   "outputs": [],
   "source": [
    "# Create descriptive statistics of the new variables\n",
    "stat = data.drop_duplicates(\"song_id\").reset_index(drop = True).describe().T"
   ]
  },
  {
   "cell_type": "code",
   "execution_count": null,
   "metadata": {},
   "outputs": [],
   "source": [
    "stat.columns = [\"N\", \"Mean\", \"SD\", \"Min\", \"P(25)\", \"P50\", \"P(75)\", \"Max\"]\n",
    "\n",
    "def f1(x):\n",
    "    return '%1.0f' % x\n",
    "\n",
    "def f2(x):\n",
    "    return '%1.2f' % x"
   ]
  },
  {
   "cell_type": "code",
   "execution_count": null,
   "metadata": {},
   "outputs": [],
   "source": [
    "stat.to_latex(    \n",
    "    path_data + \"/consolidate_raw_audio_features_\" + \"2021\" + \"_\" + \"37\" + \".tex\",\n",
    "    longtable = True, \n",
    "    formatters = [f1, f2, f2, f2, f2, f2, f2, f2]\n",
    ")"
   ]
  }
 ],
 "metadata": {
  "interpreter": {
   "hash": "b593be6ec2d2954f27bc2722be29da300fa7dcb24a766e52710030263730092e"
  },
  "kernelspec": {
   "display_name": "Python 3.8.11 64-bit ('tesis': conda)",
   "name": "python3"
  },
  "language_info": {
   "codemirror_mode": {
    "name": "ipython",
    "version": 3
   },
   "file_extension": ".py",
   "mimetype": "text/x-python",
   "name": "python",
   "nbconvert_exporter": "python",
   "pygments_lexer": "ipython3",
   "version": "3.8.11"
  },
  "orig_nbformat": 4
 },
 "nbformat": 4,
 "nbformat_minor": 2
}
