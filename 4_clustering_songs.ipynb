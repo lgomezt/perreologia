{
 "cells": [
  {
   "cell_type": "markdown",
   "source": [
    "Using the data from the audio analysis that Spotify perform to each song we want to build some visualizations to understand the proximities of the songs.\r\n",
    "\r\n",
    "First we are going to perform a PCA to plot the first two and the first three componentes.\r\n",
    "\r\n",
    "Then we will cluster the data using K-means algorithm and visualize the results."
   ],
   "metadata": {}
  },
  {
   "cell_type": "code",
   "execution_count": 160,
   "source": [
    "import os\r\n",
    "import pandas as pd\r\n",
    "import numpy as np\r\n",
    "from datetime import date\r\n",
    "import matplotlib.pyplot as plt\r\n",
    "import plotly.express as px\r\n",
    "from sklearn.preprocessing import MinMaxScaler\r\n",
    "from sklearn.decomposition import PCA\r\n",
    "from sklearn.cluster import KMeans"
   ],
   "outputs": [],
   "metadata": {}
  },
  {
   "cell_type": "code",
   "execution_count": 2,
   "source": [
    "path_scritps = os.getcwd()\r\n",
    "path_data = path_scritps.replace(\"Scripts\", \"Data\")"
   ],
   "outputs": [],
   "metadata": {}
  },
  {
   "cell_type": "code",
   "execution_count": 3,
   "source": [
    "os.listdir(path_data)"
   ],
   "outputs": [
    {
     "output_type": "execute_result",
     "data": {
      "text/plain": [
       "['consolidate_raw_2021-09-19.csv',\n",
       " 'consolidate_raw_2021_37.csv',\n",
       " 'consolidate_raw_audio_features_2021-09-19.csv',\n",
       " 'consolidate_raw_audio_features_2021_37.csv',\n",
       " 'consolidate_raw_audio_features_2021_37.tex',\n",
       " 'novedades_viernes_2021-09-19.csv',\n",
       " 'novedades_viernes_2021_33.csv',\n",
       " 'novedades_viernes_2021_34.csv',\n",
       " 'novedades_viernes_2021_36.csv',\n",
       " 'novedades_viernes_2021_37.csv',\n",
       " 'popeton_2021-09-19.csv',\n",
       " 'popeton_2021_33.csv',\n",
       " 'popeton_2021_34.csv',\n",
       " 'popeton_2021_36.csv',\n",
       " 'popeton_2021_37.csv',\n",
       " 'songs',\n",
       " 'top_colombia_2021-09-19.csv',\n",
       " 'top_colombia_2021_33.csv',\n",
       " 'top_colombia_2021_34.csv',\n",
       " 'top_colombia_2021_36.csv',\n",
       " 'top_colombia_2021_37.csv',\n",
       " 'viral_2021-09-19.csv',\n",
       " 'viral_2021_33.csv',\n",
       " 'viral_2021_34.csv',\n",
       " 'viral_2021_36.csv',\n",
       " 'viral_2021_37.csv']"
      ]
     },
     "metadata": {},
     "execution_count": 3
    }
   ],
   "metadata": {}
  },
  {
   "cell_type": "code",
   "execution_count": 4,
   "source": [
    "# Load the most recent file\r\n",
    "data = pd.read_csv(path_data + \"/consolidate_raw_audio_features_\" + \r\n",
    "    \"2021-09-19\" + \".csv\", sep = \";\", index_col = 0)"
   ],
   "outputs": [],
   "metadata": {}
  },
  {
   "cell_type": "code",
   "execution_count": 5,
   "source": [
    "# Remove duplicate songs\r\n",
    "data = data.sort_values(\"top50\").drop_duplicates(\"song_id\").reset_index(drop = True)"
   ],
   "outputs": [],
   "metadata": {}
  },
  {
   "cell_type": "code",
   "execution_count": 26,
   "source": [
    "# Pie chart of the output\r\n",
    "labels = 'No éxito', 'Éxito'\r\n",
    "sizes = data[\"top50\"].value_counts()/data[\"top50\"].size\r\n",
    "explode = (0, 0.1)  # only \"explode\" the 2nd slice (i.e. 'Éxito')\r\n",
    "\r\n",
    "fig1, ax1 = plt.subplots()\r\n",
    "ax1.pie(sizes, explode = explode, labels = labels, autopct = '%1.1f%%',\r\n",
    "        shadow = True, startangle = 90, textprops={'color':\"w\"})\r\n",
    "ax1.axis('equal')  # Equal aspect ratio ensures that pie is drawn as a circle.\r\n",
    "\r\n",
    "plt.savefig(r\"C:\\Users\\User\\Downloads\\marca.png\", transparent = True, dpi = 1200)\r\n",
    "plt.show()"
   ],
   "outputs": [
    {
     "output_type": "display_data",
     "data": {
      "image/png": "[encoded data removed]",
      "text/plain": [
       "<Figure size 432x288 with 1 Axes>"
      ]
     },
     "metadata": {}
    }
   ],
   "metadata": {}
  },
  {
   "cell_type": "code",
   "execution_count": 149,
   "source": [
    "# Create a Polar plot of two songs\r\n",
    "\r\n",
    "# Select only numeric variables\r\n",
    "df = data.select_dtypes(include = np.number)\r\n",
    "# We are going to scale all the variables to be between 0 and 1\r\n",
    "scaler = MinMaxScaler()\r\n",
    "df_scaled = pd.DataFrame(scaler.fit_transform(df), columns = df.columns)\r\n",
    "# We select two songs arbitrarily\r\n",
    "song_names = [\"200 COPAS\", \"Yonaguni\"]\r\n",
    "mask = data.song.isin(song_names)\r\n",
    "columns_to_drop = [\"position\", \"popularity\", \"time_signature\", \"speechiness\", \r\n",
    "    \"instrumentalness\", \"acousticness\", \"liveness\"]\r\n",
    "polar_df = df_scaled.loc[mask,].drop(columns = columns_to_drop) \\\r\n",
    "    .assign(Name = [\"200 Copas\", \"Yonaguni\"]) \\\r\n",
    "        .melt(id_vars = [\"Name\"])\r\n",
    "polar_df # Pepas, Yonaguni duration 0.59, 0.38"
   ],
   "outputs": [
    {
     "output_type": "execute_result",
     "data": {
      "text/html": [
       "<div>\n",
       "<style scoped>\n",
       "    .dataframe tbody tr th:only-of-type {\n",
       "        vertical-align: middle;\n",
       "    }\n",
       "\n",
       "    .dataframe tbody tr th {\n",
       "        vertical-align: top;\n",
       "    }\n",
       "\n",
       "    .dataframe thead th {\n",
       "        text-align: right;\n",
       "    }\n",
       "</style>\n",
       "<table border=\"1\" class=\"dataframe\">\n",
       "  <thead>\n",
       "    <tr style=\"text-align: right;\">\n",
       "      <th></th>\n",
       "      <th>Name</th>\n",
       "      <th>variable</th>\n",
       "      <th>value</th>\n",
       "    </tr>\n",
       "  </thead>\n",
       "  <tbody>\n",
       "    <tr>\n",
       "      <th>0</th>\n",
       "      <td>200 Copas</td>\n",
       "      <td>duration</td>\n",
       "      <td>0.414938</td>\n",
       "    </tr>\n",
       "    <tr>\n",
       "      <th>1</th>\n",
       "      <td>Yonaguni</td>\n",
       "      <td>duration</td>\n",
       "      <td>0.387540</td>\n",
       "    </tr>\n",
       "    <tr>\n",
       "      <th>2</th>\n",
       "      <td>200 Copas</td>\n",
       "      <td>danceability</td>\n",
       "      <td>0.431944</td>\n",
       "    </tr>\n",
       "    <tr>\n",
       "      <th>3</th>\n",
       "      <td>Yonaguni</td>\n",
       "      <td>danceability</td>\n",
       "      <td>0.611111</td>\n",
       "    </tr>\n",
       "    <tr>\n",
       "      <th>4</th>\n",
       "      <td>200 Copas</td>\n",
       "      <td>energy</td>\n",
       "      <td>0.685597</td>\n",
       "    </tr>\n",
       "    <tr>\n",
       "      <th>5</th>\n",
       "      <td>Yonaguni</td>\n",
       "      <td>energy</td>\n",
       "      <td>0.623602</td>\n",
       "    </tr>\n",
       "    <tr>\n",
       "      <th>6</th>\n",
       "      <td>200 Copas</td>\n",
       "      <td>key</td>\n",
       "      <td>0.818182</td>\n",
       "    </tr>\n",
       "    <tr>\n",
       "      <th>7</th>\n",
       "      <td>Yonaguni</td>\n",
       "      <td>key</td>\n",
       "      <td>0.090909</td>\n",
       "    </tr>\n",
       "    <tr>\n",
       "      <th>8</th>\n",
       "      <td>200 Copas</td>\n",
       "      <td>loudness</td>\n",
       "      <td>0.743749</td>\n",
       "    </tr>\n",
       "    <tr>\n",
       "      <th>9</th>\n",
       "      <td>Yonaguni</td>\n",
       "      <td>loudness</td>\n",
       "      <td>0.778872</td>\n",
       "    </tr>\n",
       "    <tr>\n",
       "      <th>10</th>\n",
       "      <td>200 Copas</td>\n",
       "      <td>mode</td>\n",
       "      <td>0.000000</td>\n",
       "    </tr>\n",
       "    <tr>\n",
       "      <th>11</th>\n",
       "      <td>Yonaguni</td>\n",
       "      <td>mode</td>\n",
       "      <td>1.000000</td>\n",
       "    </tr>\n",
       "    <tr>\n",
       "      <th>12</th>\n",
       "      <td>200 Copas</td>\n",
       "      <td>valence</td>\n",
       "      <td>0.909411</td>\n",
       "    </tr>\n",
       "    <tr>\n",
       "      <th>13</th>\n",
       "      <td>Yonaguni</td>\n",
       "      <td>valence</td>\n",
       "      <td>0.435149</td>\n",
       "    </tr>\n",
       "    <tr>\n",
       "      <th>14</th>\n",
       "      <td>200 Copas</td>\n",
       "      <td>tempo</td>\n",
       "      <td>0.186765</td>\n",
       "    </tr>\n",
       "    <tr>\n",
       "      <th>15</th>\n",
       "      <td>Yonaguni</td>\n",
       "      <td>tempo</td>\n",
       "      <td>0.849129</td>\n",
       "    </tr>\n",
       "  </tbody>\n",
       "</table>\n",
       "</div>"
      ],
      "text/plain": [
       "         Name      variable     value\n",
       "0   200 Copas      duration  0.414938\n",
       "1    Yonaguni      duration  0.387540\n",
       "2   200 Copas  danceability  0.431944\n",
       "3    Yonaguni  danceability  0.611111\n",
       "4   200 Copas        energy  0.685597\n",
       "5    Yonaguni        energy  0.623602\n",
       "6   200 Copas           key  0.818182\n",
       "7    Yonaguni           key  0.090909\n",
       "8   200 Copas      loudness  0.743749\n",
       "9    Yonaguni      loudness  0.778872\n",
       "10  200 Copas          mode  0.000000\n",
       "11   Yonaguni          mode  1.000000\n",
       "12  200 Copas       valence  0.909411\n",
       "13   Yonaguni       valence  0.435149\n",
       "14  200 Copas         tempo  0.186765\n",
       "15   Yonaguni         tempo  0.849129"
      ]
     },
     "metadata": {},
     "execution_count": 149
    }
   ],
   "metadata": {}
  },
  {
   "cell_type": "code",
   "execution_count": 112,
   "source": [
    "fig = px.line_polar(polar_df, r = 'value', theta = 'variable', \r\n",
    "    line_close = True, color = \"Name\")\r\n",
    "fig.update_traces(fill = 'toself')\r\n",
    "fig.show()"
   ],
   "outputs": [
    {
     "output_type": "display_data",
     "data": {
      "application/vnd.plotly.v1+json": {
       "config": {
        "plotlyServerURL": "https://plotly.com"
       },
       "data": [
        {
         "fill": "toself",
         "hovertemplate": "Name=200 Copas<br>value=%{r}<br>variable=%{theta}<extra></extra>",
         "legendgroup": "200 Copas",
         "line": {
          "color": "#636efa",
          "dash": "solid"
         },
         "marker": {
          "symbol": "circle"
         },
         "mode": "lines",
         "name": "200 Copas",
         "r": [
          0.4149380191159898,
          0.4319444444444444,
          0.6855972545112365,
          0.8181818181818182,
          0.7437493235198616,
          0,
          0.9094106362570605,
          0.1867654306237959,
          0.4149380191159898
         ],
         "showlegend": true,
         "subplot": "polar",
         "theta": [
          "duration",
          "danceability",
          "energy",
          "key",
          "loudness",
          "mode",
          "valence",
          "tempo",
          "duration"
         ],
         "type": "scatterpolar"
        },
        {
         "fill": "toself",
         "hovertemplate": "Name=Yonaguni<br>value=%{r}<br>variable=%{theta}<extra></extra>",
         "legendgroup": "Yonaguni",
         "line": {
          "color": "#EF553B",
          "dash": "solid"
         },
         "marker": {
          "symbol": "circle"
         },
         "mode": "lines",
         "name": "Yonaguni",
         "r": [
          0.38753965107057886,
          0.6111111111111109,
          0.623602346950072,
          0.09090909090909091,
          0.778872172313021,
          1,
          0.4351486731322604,
          0.8491285972431714,
          0.38753965107057886
         ],
         "showlegend": true,
         "subplot": "polar",
         "theta": [
          "duration",
          "danceability",
          "energy",
          "key",
          "loudness",
          "mode",
          "valence",
          "tempo",
          "duration"
         ],
         "type": "scatterpolar"
        }
       ],
       "layout": {
        "legend": {
         "title": {
          "text": "Name"
         },
         "tracegroupgap": 0
        },
        "margin": {
         "t": 60
        },
        "polar": {
         "angularaxis": {
          "direction": "clockwise",
          "rotation": 90
         },
         "domain": {
          "x": [
           0,
           1
          ],
          "y": [
           0,
           1
          ]
         }
        },
        "template": {
         "data": {
          "bar": [
           {
            "error_x": {
             "color": "#2a3f5f"
            },
            "error_y": {
             "color": "#2a3f5f"
            },
            "marker": {
             "line": {
              "color": "#E5ECF6",
              "width": 0.5
             },
             "pattern": {
              "fillmode": "overlay",
              "size": 10,
              "solidity": 0.2
             }
            },
            "type": "bar"
           }
          ],
          "barpolar": [
           {
            "marker": {
             "line": {
              "color": "#E5ECF6",
              "width": 0.5
             },
             "pattern": {
              "fillmode": "overlay",
              "size": 10,
              "solidity": 0.2
             }
            },
            "type": "barpolar"
           }
          ],
          "carpet": [
           {
            "aaxis": {
             "endlinecolor": "#2a3f5f",
             "gridcolor": "white",
             "linecolor": "white",
             "minorgridcolor": "white",
             "startlinecolor": "#2a3f5f"
            },
            "baxis": {
             "endlinecolor": "#2a3f5f",
             "gridcolor": "white",
             "linecolor": "white",
             "minorgridcolor": "white",
             "startlinecolor": "#2a3f5f"
            },
            "type": "carpet"
           }
          ],
          "choropleth": [
           {
            "colorbar": {
             "outlinewidth": 0,
             "ticks": ""
            },
            "type": "choropleth"
           }
          ],
          "contour": [
           {
            "colorbar": {
             "outlinewidth": 0,
             "ticks": ""
            },
            "colorscale": [
             [
              0,
              "#0d0887"
             ],
             [
              0.1111111111111111,
              "#46039f"
             ],
             [
              0.2222222222222222,
              "#7201a8"
             ],
             [
              0.3333333333333333,
              "#9c179e"
             ],
             [
              0.4444444444444444,
              "#bd3786"
             ],
             [
              0.5555555555555556,
              "#d8576b"
             ],
             [
              0.6666666666666666,
              "#ed7953"
             ],
             [
              0.7777777777777778,
              "#fb9f3a"
             ],
             [
              0.8888888888888888,
              "#fdca26"
             ],
             [
              1,
              "#f0f921"
             ]
            ],
            "type": "contour"
           }
          ],
          "contourcarpet": [
           {
            "colorbar": {
             "outlinewidth": 0,
             "ticks": ""
            },
            "type": "contourcarpet"
           }
          ],
          "heatmap": [
           {
            "colorbar": {
             "outlinewidth": 0,
             "ticks": ""
            },
            "colorscale": [
             [
              0,
              "#0d0887"
             ],
             [
              0.1111111111111111,
              "#46039f"
             ],
             [
              0.2222222222222222,
              "#7201a8"
             ],
             [
              0.3333333333333333,
              "#9c179e"
             ],
             [
              0.4444444444444444,
              "#bd3786"
             ],
             [
              0.5555555555555556,
              "#d8576b"
             ],
             [
              0.6666666666666666,
              "#ed7953"
             ],
             [
              0.7777777777777778,
              "#fb9f3a"
             ],
             [
              0.8888888888888888,
              "#fdca26"
             ],
             [
              1,
              "#f0f921"
             ]
            ],
            "type": "heatmap"
           }
          ],
          "heatmapgl": [
           {
            "colorbar": {
             "outlinewidth": 0,
             "ticks": ""
            },
            "colorscale": [
             [
              0,
              "#0d0887"
             ],
             [
              0.1111111111111111,
              "#46039f"
             ],
             [
              0.2222222222222222,
              "#7201a8"
             ],
             [
              0.3333333333333333,
              "#9c179e"
             ],
             [
              0.4444444444444444,
              "#bd3786"
             ],
             [
              0.5555555555555556,
              "#d8576b"
             ],
             [
              0.6666666666666666,
              "#ed7953"
             ],
             [
              0.7777777777777778,
              "#fb9f3a"
             ],
             [
              0.8888888888888888,
              "#fdca26"
             ],
             [
              1,
              "#f0f921"
             ]
            ],
            "type": "heatmapgl"
           }
          ],
          "histogram": [
           {
            "marker": {
             "pattern": {
              "fillmode": "overlay",
              "size": 10,
              "solidity": 0.2
             }
            },
            "type": "histogram"
           }
          ],
          "histogram2d": [
           {
            "colorbar": {
             "outlinewidth": 0,
             "ticks": ""
            },
            "colorscale": [
             [
              0,
              "#0d0887"
             ],
             [
              0.1111111111111111,
              "#46039f"
             ],
             [
              0.2222222222222222,
              "#7201a8"
             ],
             [
              0.3333333333333333,
              "#9c179e"
             ],
             [
              0.4444444444444444,
              "#bd3786"
             ],
             [
              0.5555555555555556,
              "#d8576b"
             ],
             [
              0.6666666666666666,
              "#ed7953"
             ],
             [
              0.7777777777777778,
              "#fb9f3a"
             ],
             [
              0.8888888888888888,
              "#fdca26"
             ],
             [
              1,
              "#f0f921"
             ]
            ],
            "type": "histogram2d"
           }
          ],
          "histogram2dcontour": [
           {
            "colorbar": {
             "outlinewidth": 0,
             "ticks": ""
            },
            "colorscale": [
             [
              0,
              "#0d0887"
             ],
             [
              0.1111111111111111,
              "#46039f"
             ],
             [
              0.2222222222222222,
              "#7201a8"
             ],
             [
              0.3333333333333333,
              "#9c179e"
             ],
             [
              0.4444444444444444,
              "#bd3786"
             ],
             [
              0.5555555555555556,
              "#d8576b"
             ],
             [
              0.6666666666666666,
              "#ed7953"
             ],
             [
              0.7777777777777778,
              "#fb9f3a"
             ],
             [
              0.8888888888888888,
              "#fdca26"
             ],
             [
              1,
              "#f0f921"
             ]
            ],
            "type": "histogram2dcontour"
           }
          ],
          "mesh3d": [
           {
            "colorbar": {
             "outlinewidth": 0,
             "ticks": ""
            },
            "type": "mesh3d"
           }
          ],
          "parcoords": [
           {
            "line": {
             "colorbar": {
              "outlinewidth": 0,
              "ticks": ""
             }
            },
            "type": "parcoords"
           }
          ],
          "pie": [
           {
            "automargin": true,
            "type": "pie"
           }
          ],
          "scatter": [
           {
            "marker": {
             "colorbar": {
              "outlinewidth": 0,
              "ticks": ""
             }
            },
            "type": "scatter"
           }
          ],
          "scatter3d": [
           {
            "line": {
             "colorbar": {
              "outlinewidth": 0,
              "ticks": ""
             }
            },
            "marker": {
             "colorbar": {
              "outlinewidth": 0,
              "ticks": ""
             }
            },
            "type": "scatter3d"
           }
          ],
          "scattercarpet": [
           {
            "marker": {
             "colorbar": {
              "outlinewidth": 0,
              "ticks": ""
             }
            },
            "type": "scattercarpet"
           }
          ],
          "scattergeo": [
           {
            "marker": {
             "colorbar": {
              "outlinewidth": 0,
              "ticks": ""
             }
            },
            "type": "scattergeo"
           }
          ],
          "scattergl": [
           {
            "marker": {
             "colorbar": {
              "outlinewidth": 0,
              "ticks": ""
             }
            },
            "type": "scattergl"
           }
          ],
          "scattermapbox": [
           {
            "marker": {
             "colorbar": {
              "outlinewidth": 0,
              "ticks": ""
             }
            },
            "type": "scattermapbox"
           }
          ],
          "scatterpolar": [
           {
            "marker": {
             "colorbar": {
              "outlinewidth": 0,
              "ticks": ""
             }
            },
            "type": "scatterpolar"
           }
          ],
          "scatterpolargl": [
           {
            "marker": {
             "colorbar": {
              "outlinewidth": 0,
              "ticks": ""
             }
            },
            "type": "scatterpolargl"
           }
          ],
          "scatterternary": [
           {
            "marker": {
             "colorbar": {
              "outlinewidth": 0,
              "ticks": ""
             }
            },
            "type": "scatterternary"
           }
          ],
          "surface": [
           {
            "colorbar": {
             "outlinewidth": 0,
             "ticks": ""
            },
            "colorscale": [
             [
              0,
              "#0d0887"
             ],
             [
              0.1111111111111111,
              "#46039f"
             ],
             [
              0.2222222222222222,
              "#7201a8"
             ],
             [
              0.3333333333333333,
              "#9c179e"
             ],
             [
              0.4444444444444444,
              "#bd3786"
             ],
             [
              0.5555555555555556,
              "#d8576b"
             ],
             [
              0.6666666666666666,
              "#ed7953"
             ],
             [
              0.7777777777777778,
              "#fb9f3a"
             ],
             [
              0.8888888888888888,
              "#fdca26"
             ],
             [
              1,
              "#f0f921"
             ]
            ],
            "type": "surface"
           }
          ],
          "table": [
           {
            "cells": {
             "fill": {
              "color": "#EBF0F8"
             },
             "line": {
              "color": "white"
             }
            },
            "header": {
             "fill": {
              "color": "#C8D4E3"
             },
             "line": {
              "color": "white"
             }
            },
            "type": "table"
           }
          ]
         },
         "layout": {
          "annotationdefaults": {
           "arrowcolor": "#2a3f5f",
           "arrowhead": 0,
           "arrowwidth": 1
          },
          "autotypenumbers": "strict",
          "coloraxis": {
           "colorbar": {
            "outlinewidth": 0,
            "ticks": ""
           }
          },
          "colorscale": {
           "diverging": [
            [
             0,
             "#8e0152"
            ],
            [
             0.1,
             "#c51b7d"
            ],
            [
             0.2,
             "#de77ae"
            ],
            [
             0.3,
             "#f1b6da"
            ],
            [
             0.4,
             "#fde0ef"
            ],
            [
             0.5,
             "#f7f7f7"
            ],
            [
             0.6,
             "#e6f5d0"
            ],
            [
             0.7,
             "#b8e186"
            ],
            [
             0.8,
             "#7fbc41"
            ],
            [
             0.9,
             "#4d9221"
            ],
            [
             1,
             "#276419"
            ]
           ],
           "sequential": [
            [
             0,
             "#0d0887"
            ],
            [
             0.1111111111111111,
             "#46039f"
            ],
            [
             0.2222222222222222,
             "#7201a8"
            ],
            [
             0.3333333333333333,
             "#9c179e"
            ],
            [
             0.4444444444444444,
             "#bd3786"
            ],
            [
             0.5555555555555556,
             "#d8576b"
            ],
            [
             0.6666666666666666,
             "#ed7953"
            ],
            [
             0.7777777777777778,
             "#fb9f3a"
            ],
            [
             0.8888888888888888,
             "#fdca26"
            ],
            [
             1,
             "#f0f921"
            ]
           ],
           "sequentialminus": [
            [
             0,
             "#0d0887"
            ],
            [
             0.1111111111111111,
             "#46039f"
            ],
            [
             0.2222222222222222,
             "#7201a8"
            ],
            [
             0.3333333333333333,
             "#9c179e"
            ],
            [
             0.4444444444444444,
             "#bd3786"
            ],
            [
             0.5555555555555556,
             "#d8576b"
            ],
            [
             0.6666666666666666,
             "#ed7953"
            ],
            [
             0.7777777777777778,
             "#fb9f3a"
            ],
            [
             0.8888888888888888,
             "#fdca26"
            ],
            [
             1,
             "#f0f921"
            ]
           ]
          },
          "colorway": [
           "#636efa",
           "#EF553B",
           "#00cc96",
           "#ab63fa",
           "#FFA15A",
           "#19d3f3",
           "#FF6692",
           "#B6E880",
           "#FF97FF",
           "#FECB52"
          ],
          "font": {
           "color": "#2a3f5f"
          },
          "geo": {
           "bgcolor": "white",
           "lakecolor": "white",
           "landcolor": "#E5ECF6",
           "showlakes": true,
           "showland": true,
           "subunitcolor": "white"
          },
          "hoverlabel": {
           "align": "left"
          },
          "hovermode": "closest",
          "mapbox": {
           "style": "light"
          },
          "paper_bgcolor": "white",
          "plot_bgcolor": "#E5ECF6",
          "polar": {
           "angularaxis": {
            "gridcolor": "white",
            "linecolor": "white",
            "ticks": ""
           },
           "bgcolor": "#E5ECF6",
           "radialaxis": {
            "gridcolor": "white",
            "linecolor": "white",
            "ticks": ""
           }
          },
          "scene": {
           "xaxis": {
            "backgroundcolor": "#E5ECF6",
            "gridcolor": "white",
            "gridwidth": 2,
            "linecolor": "white",
            "showbackground": true,
            "ticks": "",
            "zerolinecolor": "white"
           },
           "yaxis": {
            "backgroundcolor": "#E5ECF6",
            "gridcolor": "white",
            "gridwidth": 2,
            "linecolor": "white",
            "showbackground": true,
            "ticks": "",
            "zerolinecolor": "white"
           },
           "zaxis": {
            "backgroundcolor": "#E5ECF6",
            "gridcolor": "white",
            "gridwidth": 2,
            "linecolor": "white",
            "showbackground": true,
            "ticks": "",
            "zerolinecolor": "white"
           }
          },
          "shapedefaults": {
           "line": {
            "color": "#2a3f5f"
           }
          },
          "ternary": {
           "aaxis": {
            "gridcolor": "white",
            "linecolor": "white",
            "ticks": ""
           },
           "baxis": {
            "gridcolor": "white",
            "linecolor": "white",
            "ticks": ""
           },
           "bgcolor": "#E5ECF6",
           "caxis": {
            "gridcolor": "white",
            "linecolor": "white",
            "ticks": ""
           }
          },
          "title": {
           "x": 0.05
          },
          "xaxis": {
           "automargin": true,
           "gridcolor": "white",
           "linecolor": "white",
           "ticks": "",
           "title": {
            "standoff": 15
           },
           "zerolinecolor": "white",
           "zerolinewidth": 2
          },
          "yaxis": {
           "automargin": true,
           "gridcolor": "white",
           "linecolor": "white",
           "ticks": "",
           "title": {
            "standoff": 15
           },
           "zerolinecolor": "white",
           "zerolinewidth": 2
          }
         }
        }
       }
      }
     },
     "metadata": {}
    }
   ],
   "metadata": {}
  },
  {
   "cell_type": "code",
   "execution_count": 150,
   "source": [
    "df_scaled = df_scaled.drop(columns = [\"position\", \"popularity\", \"time_signature\", \"mode\"])"
   ],
   "outputs": [],
   "metadata": {}
  },
  {
   "cell_type": "code",
   "execution_count": 156,
   "source": [
    "# Perform PCA\r\n",
    "pca = PCA(n_components = 3)  \r\n",
    "pc = pca.fit_transform(df_scaled)\r\n",
    "\r\n",
    "names = [\"Principal Component \" + str(i) for i in range(1, 4)]\r\n",
    "pc = pd.DataFrame(pc, columns = names)\r\n",
    "pc = pd.concat([pc, data], axis = 1)\r\n",
    "pc = pc.rename(columns = {\"top50\": \"Éxito\"})"
   ],
   "outputs": [],
   "metadata": {}
  },
  {
   "cell_type": "code",
   "execution_count": 157,
   "source": [
    "fig = px.scatter(pc, x = \"Principal Component 1\", y = \"Principal Component 2\", \r\n",
    "    hover_data = [\"song\", \"Éxito\"], color = \"Éxito\")\r\n",
    "fig.update_yaxes(range = [-1, 1])\r\n",
    "fig.update_xaxes(range = [-1, 1])\r\n",
    "fig.show()"
   ],
   "outputs": [
    {
     "output_type": "display_data",
     "data": {
      "application/vnd.plotly.v1+json": {
       "config": {
        "plotlyServerURL": "https://plotly.com"
       },
       "data": [
        {
         "customdata": [
          [
           "PENDEJO",
           false
          ],
          [
           "POR ELLA",
           false
          ],
          [
           "Miami",
           false
          ],
          [
           "La Niña de la Escuela",
           false
          ],
          [
           "3 de La Mañana",
           false
          ],
          [
           "Ya Pasó",
           false
          ],
          [
           "Mi Debilidad",
           false
          ],
          [
           "Perfecta",
           false
          ],
          [
           "Hasta Abajo - Remix",
           false
          ],
          [
           "KESI - Remix",
           false
          ],
          [
           "Uva",
           false
          ],
          [
           "Casualidad",
           false
          ],
          [
           "Amor en Coma",
           false
          ],
          [
           "Tú 1ero",
           false
          ],
          [
           "La Rutina",
           false
          ],
          [
           "Aloha",
           false
          ],
          [
           "Tan Bonita",
           false
          ],
          [
           "Despiértate",
           false
          ],
          [
           "EL TREN",
           false
          ],
          [
           "Machu Picchu",
           false
          ],
          [
           "Rumba (Puro Oro Anthem)",
           false
          ],
          [
           "Ojos Cafe",
           false
          ],
          [
           "Balenciaga",
           false
          ],
          [
           "Nadie La Controla",
           false
          ],
          [
           "Mal Acostumbrao",
           false
          ],
          [
           "Quiereme Mientras se Pueda - Remix",
           false
          ],
          [
           "El Mismo Aire - con Pablo Alborán",
           false
          ],
          [
           "Nada",
           false
          ],
          [
           "Locura - Remix",
           false
          ],
          [
           "ADMV - Versión Urbana",
           false
          ],
          [
           "UN DIA (ONE DAY) (Feat. Tainy)",
           false
          ],
          [
           "Quiéreme Mientras Se Pueda",
           false
          ],
          [
           "Dónde Estás (with Piso 21) - Remix",
           false
          ],
          [
           "Loco - Remix",
           false
          ],
          [
           "Djadja (feat. Maluma) - Remix",
           false
          ],
          [
           "TBT - Remix",
           false
          ],
          [
           "Si Me Dices Que Sí",
           false
          ],
          [
           "Rojo",
           false
          ],
          [
           "Por Fin Te Encontré",
           false
          ],
          [
           "La Botella",
           false
          ],
          [
           "Yo No Te Olvido",
           false
          ],
          [
           "Fuego",
           false
          ],
          [
           "Besos en Cualquier Horario",
           false
          ],
          [
           "Kaprichosa",
           false
          ],
          [
           "Loco",
           false
          ],
          [
           "La Buena - Remix",
           false
          ],
          [
           "Baila Conmigo (with Rauw Alejandro)",
           false
          ],
          [
           "Será",
           false
          ],
          [
           "Dejaría Todo",
           false
          ],
          [
           "Miedito o Qué? (feat. KAROL G)",
           false
          ],
          [
           "El Malo",
           false
          ],
          [
           "Cuántas veces",
           false
          ],
          [
           "Millones",
           false
          ],
          [
           "Mi Niña - Remix",
           false
          ],
          [
           "DÁKITI",
           false
          ],
          [
           "Hawái",
           false
          ],
          [
           "Increíble",
           false
          ],
          [
           "ANTES QUE SALGA EL SOL",
           false
          ],
          [
           "Tan Enamorados",
           false
          ],
          [
           "Despeinada",
           false
          ],
          [
           "De 0 a Siempre",
           false
          ],
          [
           "Tattoo - Remix with Camilo",
           false
          ],
          [
           "Adicto a Ti",
           false
          ],
          [
           "Me Enamora",
           false
          ],
          [
           "Algo Mágico - R3HAB Remix",
           false
          ],
          [
           "Insuficiente",
           false
          ],
          [
           "Apartamento",
           false
          ],
          [
           "Ojalá Pudiera",
           false
          ],
          [
           "Ram Pam Pam",
           false
          ],
          [
           "Que Locura",
           false
          ],
          [
           "Lao' a Lao'",
           false
          ],
          [
           "Jugaste y Sufrí",
           false
          ],
          [
           "Fanático",
           false
          ],
          [
           "Wake Up",
           false
          ],
          [
           "Como Si No Importara",
           false
          ],
          [
           "WOLFGANG",
           false
          ],
          [
           "Meet Me At Our Spot",
           false
          ],
          [
           "Need To Know",
           false
          ],
          [
           "DUMB DUMB",
           false
          ],
          [
           "double take",
           false
          ],
          [
           "Mon Amour",
           false
          ],
          [
           "Buscate Otro",
           false
          ],
          [
           "Loverboy",
           false
          ],
          [
           "NO WAY",
           false
          ],
          [
           "Love Nwantiti - Remix",
           false
          ],
          [
           "Touch It",
           false
          ],
          [
           "Dueles Tan Bien",
           false
          ],
          [
           "edamame (feat. Rich Brian)",
           false
          ],
          [
           "Chica 10",
           false
          ],
          [
           "Amapolas",
           false
          ],
          [
           "Shake It",
           false
          ],
          [
           "Strange",
           false
          ],
          [
           "Stay With Me",
           false
          ],
          [
           "Stoned at the Nail Salon",
           false
          ],
          [
           "Happier Than Ever",
           false
          ],
          [
           "FVN!",
           false
          ],
          [
           "Tranquilísimo",
           false
          ],
          [
           "Dark Red",
           false
          ],
          [
           "Cry Baby",
           false
          ],
          [
           "Not Into You",
           false
          ],
          [
           "Estoy Bien",
           false
          ],
          [
           "Everywhereigo",
           false
          ],
          [
           "INDUSTRY BABY (feat. Jack Harlow)",
           false
          ],
          [
           "Bezos I",
           false
          ],
          [
           "Todo Lo Bueno Tarda",
           false
          ],
          [
           "Estoy Bien",
           false
          ],
          [
           "Feel Like God",
           false
          ],
          [
           "Pimpeo",
           false
          ],
          [
           "Matatan",
           false
          ],
          [
           "Los Sótanos del Infierno",
           false
          ],
          [
           "Turraka (Remix)",
           false
          ],
          [
           "Mi Destino",
           false
          ],
          [
           "Not Around",
           false
          ],
          [
           "Catanas",
           false
          ],
          [
           "Cold Heart - PNAU Remix",
           false
          ],
          [
           "Beethoven",
           false
          ],
          [
           "Sou Favela",
           false
          ],
          [
           "Guaracha Con Ñejo",
           false
          ],
          [
           "love nwantiti (feat. Dj Yo! & AX'EL) - Remix",
           false
          ],
          [
           "Bailar",
           false
          ],
          [
           "in heat.",
           false
          ],
          [
           "As the World Caves In",
           false
          ],
          [
           "Mon Amour - Remix",
           false
          ],
          [
           "love nwantiti (ah ah ah)",
           false
          ],
          [
           "Loverboy",
           false
          ],
          [
           "FVN!",
           false
          ],
          [
           "Si Fueras Mía",
           false
          ],
          [
           "Over The Top (feat. Drake)",
           false
          ],
          [
           "love nwantiti (feat. ElGrande Toto) - North African Remix",
           false
          ],
          [
           "Lejos Conmigo",
           false
          ],
          [
           "Pepas - Remix",
           false
          ],
          [
           "You Are Enough",
           false
          ],
          [
           "I GUESS I'M IN LOVE",
           false
          ],
          [
           "LO$ER=LO♡ER",
           false
          ],
          [
           "Thunderous",
           false
          ],
          [
           "ANIVERSARIO (feat. Nico Legreti)",
           false
          ],
          [
           "Espera (feat. Carlos Sadness)",
           false
          ],
          [
           "Gute Vibes",
           false
          ],
          [
           "No Todo Es un Juego",
           false
          ],
          [
           "El Amor II",
           false
          ],
          [
           "Dancing Beauty",
           false
          ],
          [
           "L.N.E.M. (GATA) (feat. Kapla y Miky, Philip Ariaz & Blessd)",
           false
          ],
          [
           "Perra",
           false
          ],
          [
           "Magnum",
           false
          ],
          [
           "999 (with Camilo)",
           false
          ],
          [
           "A La Buena, El Mejor - Featured in Call Of Duty Mobile - Season 7: Elite of the Elite",
           false
          ],
          [
           "Wow Wow (feat. Becky G)",
           false
          ],
          [
           "justified",
           false
          ],
          [
           "Burning Bridges",
           false
          ],
          [
           "California",
           false
          ],
          [
           "I am not a woman, I'm a god",
           false
          ],
          [
           "Someday",
           false
          ],
          [
           "Pa'lla Voy",
           false
          ],
          [
           "Lo Pasado Pisado",
           false
          ],
          [
           "Esta Ciudad",
           false
          ],
          [
           "Lo Que Nunca Fue Tuyo",
           false
          ],
          [
           "Que Te Quedes Aquí",
           false
          ],
          [
           "Lejos de Aquí",
           false
          ],
          [
           "Tarareo",
           false
          ],
          [
           "Todo Lo Que Sube",
           false
          ],
          [
           "Rey",
           false
          ],
          [
           "Peach",
           false
          ],
          [
           "Todo viene, todo va",
           false
          ],
          [
           "Esta Noche",
           false
          ],
          [
           "3am",
           false
          ],
          [
           "Blind",
           false
          ],
          [
           "Walkman",
           false
          ],
          [
           "If You Ever Leave, I'm Coming with You",
           false
          ],
          [
           "Walking at a Downtown Pace",
           false
          ],
          [
           "Perdón Margarita",
           false
          ],
          [
           "Sevier",
           false
          ],
          [
           "We Are Midnight",
           false
          ],
          [
           "En el Mar No Eres Nadie",
           false
          ],
          [
           "Santo Remedio",
           false
          ],
          [
           "Freedom Highway",
           false
          ],
          [
           "About Last Night",
           false
          ],
          [
           "Living In The Heart Of Love",
           false
          ],
          [
           "Survivor",
           false
          ],
          [
           "Can't Stop The Rain",
           false
          ],
          [
           "Acerca de los Padres",
           false
          ],
          [
           "Dueño de Tus Besos",
           false
          ],
          [
           "Tu Recuerdo",
           false
          ],
          [
           "Me Enamoré",
           false
          ],
          [
           "Mala Fama",
           false
          ],
          [
           "Wish You Were Gay - Versión en Español - Spotify Singles",
           false
          ],
          [
           "Necesidad",
           false
          ],
          [
           "Corazón Maltratado",
           false
          ],
          [
           "Te Quiero Ver",
           false
          ],
          [
           "Bailando",
           false
          ],
          [
           "Vil Reptil",
           false
          ],
          [
           "Regularly Scheduled Programming",
           false
          ],
          [
           "You Can Do It",
           false
          ],
          [
           "MÉTELE AL PERREO",
           false
          ],
          [
           "Colorao",
           false
          ],
          [
           "Tú Eres Prohibida",
           false
          ],
          [
           "Las Olas",
           false
          ],
          [
           "Million To One - from the Amazon Original Movie \"Cinderella\"",
           false
          ],
          [
           "Way 2 Sexy (with Future & Young Thug)",
           false
          ],
          [
           "Hurricane",
           false
          ],
          [
           "Good Ones",
           false
          ],
          [
           "Sahara",
           false
          ],
          [
           "Estoy Triste",
           false
          ],
          [
           "Radio, Radio",
           false
          ],
          [
           "The Pines",
           false
          ],
          [
           "Miénteme",
           false
          ],
          [
           "Luna",
           false
          ],
          [
           "Todos Somos Uno (feat. Santiago Cruz)",
           false
          ],
          [
           "Nunca entenderé",
           false
          ],
          [
           "Ferrari",
           false
          ],
          [
           "Swipe Left",
           false
          ],
          [
           "Mi Parcera",
           false
          ],
          [
           "Tears",
           false
          ],
          [
           "Chucky73: Bzrp Music Sessions, Vol. 43",
           false
          ],
          [
           "Quédate",
           false
          ],
          [
           "23 Preguntas",
           false
          ],
          [
           "Océano",
           false
          ],
          [
           "Jimmy Jimmy (feat. AJ Tracey)",
           false
          ],
          [
           "Happiness",
           false
          ],
          [
           "Pasatiempo",
           false
          ],
          [
           "Para Amar (Lovely Day)",
           false
          ],
          [
           "Pequeños Hombres",
           false
          ],
          [
           "Birch (feat. Taylor Swift)",
           false
          ],
          [
           "Estar Vivo",
           false
          ],
          [
           "Pájaro",
           false
          ],
          [
           "Nadie Nunca Nada",
           false
          ],
          [
           "Arte",
           false
          ],
          [
           "Angelitos",
           false
          ],
          [
           "Hoy No",
           false
          ],
          [
           "Vente Conmigo",
           false
          ],
          [
           "MHD: Bzrp Music Sessions, Vol. 44",
           false
          ],
          [
           "Masta´z (Padrino Sessions) - Live",
           false
          ],
          [
           "Mi Vida",
           false
          ],
          [
           "Guaro - Remix",
           false
          ],
          [
           "A Mi Gente De Acá",
           false
          ],
          [
           "Sobrenatural",
           false
          ],
          [
           "Picadita De Ojo",
           false
          ],
          [
           "Sírvame Otra Copa",
           false
          ],
          [
           "Lo Que Te Perdiste",
           false
          ],
          [
           "Te Necesito",
           false
          ],
          [
           "Pensando en Mi Morena",
           false
          ],
          [
           "No Dejes Que Se Vaya",
           false
          ],
          [
           "El Mago",
           false
          ],
          [
           "Calma",
           false
          ],
          [
           "La Dueña de Mis Churupos",
           false
          ],
          [
           "18 de Junio / Homenaje al Gran Martín Elías",
           false
          ],
          [
           "Tu Norte Soy Yo",
           false
          ],
          [
           "Vuelve",
           false
          ],
          [
           "Burbujas de Amor - (Sesión en vivo)",
           false
          ],
          [
           "Si Mi Cuarto Sigue Igual",
           false
          ],
          [
           "Telepatía - Spotify Singles",
           false
          ],
          [
           "Loco",
           false
          ],
          [
           "Atención",
           false
          ],
          [
           "Pa Que Guaye",
           false
          ],
          [
           "Guille 2.0",
           false
          ],
          [
           "La Funka",
           false
          ],
          [
           "Tarde",
           false
          ],
          [
           "Llori Pari",
           false
          ],
          [
           "Tal Vez - Remix",
           false
          ],
          [
           "Pal Suelo",
           false
          ],
          [
           "A SOLAS",
           false
          ],
          [
           "Picó",
           false
          ],
          [
           "Los Cachos",
           false
          ],
          [
           "Bad Habits - Ovy On The Drums Remix",
           false
          ],
          [
           "Who's In Your Head",
           false
          ],
          [
           "tamale",
           false
          ],
          [
           "You Will Be Found (with Summer Walker) - From The “Dear Evan Hansen” Original Motion Picture Soundtrack",
           false
          ],
          [
           "Breakdown (feat. Demi Lovato)",
           false
          ],
          [
           "Parapente",
           false
          ],
          [
           "Berlín",
           false
          ],
          [
           "¿Otra Canción de Amor?",
           false
          ],
          [
           "CHEESY",
           false
          ],
          [
           "Sígueme",
           false
          ],
          [
           "PORTAL",
           false
          ],
          [
           "Se Fue",
           false
          ],
          [
           "Cógela Suave",
           false
          ],
          [
           "Hijuepu",
           false
          ],
          [
           "THATS WHAT I WANT",
           false
          ],
          [
           "I Still Have Faith In You",
           false
          ],
          [
           "Under The Sun",
           false
          ],
          [
           "Milky Way",
           false
          ],
          [
           "Reaching Out",
           false
          ],
          [
           "Thelma + Louise",
           false
          ],
          [
           "I Feel Good",
           false
          ],
          [
           "PAKATA",
           false
          ],
          [
           "Dejame Tranki",
           false
          ],
          [
           "Adicto",
           false
          ],
          [
           "Abajo y Arriba (with Juhn)",
           false
          ],
          [
           "Rendido",
           false
          ],
          [
           "Bonita",
           false
          ],
          [
           "Aguacero",
           false
          ],
          [
           "Fango",
           false
          ],
          [
           "Ain't No Love (feat. elevn)",
           false
          ],
          [
           "No Finjas Más",
           false
          ],
          [
           "Más De Ti - En Vivo Desde Medellín, 2021",
           false
          ],
          [
           "COMO EH",
           false
          ],
          [
           "Nos Matamos",
           false
          ],
          [
           "Socios",
           false
          ],
          [
           "Pulsiones",
           false
          ],
          [
           "El Remate",
           false
          ],
          [
           "Amor Divino - En Vivo",
           false
          ],
          [
           "Cumbia Valledupar",
           false
          ],
          [
           "Don’t Go (with Justin Bieber & Don Toliver)",
           false
          ],
          [
           "Runaway (with Sigala and JP Cooper)",
           false
          ],
          [
           "Chasing Stars (feat. James Bay)",
           false
          ],
          [
           "Move",
           false
          ],
          [
           "Camaleón de Jackson",
           false
          ],
          [
           "Contracorriente",
           false
          ],
          [
           "Beautiful James",
           false
          ],
          [
           "405 - Metronomy x Biig Piig",
           false
          ],
          [
           "I Don't Live Here Anymore (feat. Lucius)",
           false
          ],
          [
           "The Nowhere Inn",
           false
          ],
          [
           "Planes in the Sky",
           false
          ],
          [
           "Famous Last Words",
           false
          ],
          [
           "Espiral",
           false
          ],
          [
           "Guayabo",
           false
          ],
          [
           "Valentine",
           false
          ],
          [
           "Llévame",
           false
          ],
          [
           "Chureito en la mañana",
           false
          ],
          [
           "Maldita Foto",
           false
          ],
          [
           "Hora Loca Remix - Spotify Singles (with Piso 21)",
           false
          ],
          [
           "Huele A Gol",
           false
          ],
          [
           "Visiting Hours",
           false
          ],
          [
           "Summer of Love (Shawn Mendes & Tainy)",
           false
          ],
          [
           "Mood Ring",
           false
          ],
          [
           "Vuelve",
           false
          ],
          [
           "Monday",
           false
          ],
          [
           "Just for me",
           false
          ],
          [
           "Likes y Cicatrices",
           false
          ],
          [
           "Tamborero",
           false
          ],
          [
           "Soy la Fuerza",
           false
          ],
          [
           "Memoria",
           false
          ],
          [
           "Drive - Edit",
           false
          ],
          [
           "If You Say the Word",
           false
          ],
          [
           "Might Forgive You",
           false
          ],
          [
           "Dante",
           false
          ],
          [
           "True Seekers",
           false
          ],
          [
           "Long Way",
           false
          ],
          [
           "Hanging On Your Hinges",
           false
          ],
          [
           "Not Me Anymore",
           false
          ],
          [
           "La Claque",
           false
          ],
          [
           "Rompe",
           false
          ],
          [
           "piensa en mí",
           false
          ],
          [
           "Misma Intención",
           false
          ],
          [
           "Renacer",
           false
          ],
          [
           "Histéricos",
           false
          ],
          [
           "Arcadia",
           false
          ],
          [
           "Variaciones Sobre un Viejo Tema",
           false
          ],
          [
           "Quereme de Amor",
           false
          ],
          [
           "Cuando Estoy Con Ella (En Vivo)",
           false
          ],
          [
           "Jump Off The Top",
           false
          ],
          [
           "El Arcoiris",
           false
          ],
          [
           "Mónaco",
           false
          ],
          [
           "Al Fin Qué",
           false
          ],
          [
           "Joselito Cubano (Huérfano Soy / No, No, No, Que Va)",
           false
          ],
          [
           "La Luna",
           false
          ],
          [
           "Llorar (Big Tears)",
           false
          ],
          [
           "DPM (De Pxta Madre)",
           false
          ],
          [
           "Incontrolable",
           false
          ],
          [
           "El Tracatra",
           false
          ],
          [
           "simple times",
           false
          ],
          [
           "I Don't Wanna Talk (I Just Wanna Dance)",
           false
          ],
          [
           "Angel Baby",
           false
          ],
          [
           "Acapulco",
           false
          ],
          [
           "Como Lo Pedí",
           false
          ],
          [
           "Sad Boy (feat. Ava Max & Kylie Cantrall)",
           false
          ],
          [
           "Mal de Amores",
           false
          ],
          [
           "Shivers",
           false
          ],
          [
           "Days Of Future Past",
           false
          ],
          [
           "Unknown Male 01",
           false
          ],
          [
           "El Día del Huracán - Versión 2021",
           false
          ],
          [
           "Nada que hablar (feat. Aterciopelados)",
           false
          ],
          [
           "Spirit Power and Soul",
           false
          ],
          [
           "Annie",
           false
          ],
          [
           "Human Touch",
           false
          ],
          [
           "Calendarios y Acetatos",
           false
          ],
          [
           "Nostálgico",
           false
          ],
          [
           "Tuyo (Nueva Versión)",
           false
          ],
          [
           "Mami Mamacita",
           false
          ],
          [
           "Guarito",
           false
          ],
          [
           "Como Lo Hice Yo",
           false
          ],
          [
           "Caso Cerrado",
           false
          ],
          [
           "La Reina de la Cantina",
           false
          ],
          [
           "Puño de Diamantes",
           false
          ],
          [
           "Poema",
           false
          ],
          [
           "La Ciudad del Rap",
           false
          ],
          [
           "Mil Vueltas a Este Pantalón",
           false
          ],
          [
           "Nueva Vida",
           false
          ],
          [
           "Me Re Sirve",
           false
          ],
          [
           "Curazao",
           false
          ],
          [
           "ASUNTO SERIO / TATUA",
           false
          ],
          [
           "Un Trago",
           false
          ],
          [
           "FEEL ME??",
           false
          ],
          [
           "Como + Nadie",
           false
          ],
          [
           "Ven (with Luar La L & Eydren)",
           false
          ],
          [
           "Trap Romantic",
           false
          ],
          [
           "LALA (Unlocked) (feat. Swae Lee)",
           false
          ],
          [
           "Paso a Paso",
           false
          ],
          [
           "Mal Acompañada",
           false
          ],
          [
           "Gánatelo",
           false
          ],
          [
           "Guaro",
           false
          ],
          [
           "Doncella",
           false
          ],
          [
           "Darte",
           false
          ],
          [
           "Bendecida (Padrino Sessions) - Live",
           false
          ],
          [
           "Contigo",
           false
          ],
          [
           "Vuelo y Vértigo",
           false
          ],
          [
           "Nube Gris",
           false
          ],
          [
           "Neo Quimeras",
           false
          ],
          [
           "Tiempo de la Cruz",
           false
          ],
          [
           "Ya Fue",
           false
          ],
          [
           "Insomnio",
           false
          ],
          [
           "Toa La Vida",
           false
          ],
          [
           "Deja de Mirarme",
           false
          ],
          [
           "Blame On Me",
           false
          ],
          [
           "Sorbito de Champán - Bonita y Mentirosa - Desorden Público rinde Homenaje al Indio Pastor López ft Billo's & Chicha Libre",
           false
          ],
          [
           "Querer Es Poder",
           false
          ],
          [
           "Tengo Ganas",
           false
          ],
          [
           "¿Donde Estarás Libertad?",
           false
          ],
          [
           "Eco de Mis Ancestros",
           false
          ],
          [
           "Te Quiero Igual Que Ayer",
           false
          ],
          [
           "Cumbia del Olvido",
           false
          ],
          [
           "Ley de Atracción",
           false
          ],
          [
           "Poison (with DEKKO)",
           false
          ],
          [
           "Al Escondido",
           false
          ],
          [
           "Sun Came Up",
           false
          ],
          [
           "Por El Alcohol",
           false
          ],
          [
           "La Graduación",
           false
          ],
          [
           "Santera",
           false
          ],
          [
           "Repetíamos",
           false
          ],
          [
           "Hace Calor",
           false
          ],
          [
           "El Gato Andaluz",
           false
          ],
          [
           "Cero Tiroteo",
           false
          ],
          [
           "Mentas / Lo Simple",
           false
          ],
          [
           "High",
           false
          ],
          [
           "Iluminábamos (feat. Monsieur Periné)",
           false
          ],
          [
           "Piece Of My Mind",
           false
          ],
          [
           "Nos Entendemos",
           false
          ],
          [
           "Buscándote",
           false
          ],
          [
           "Just A Ghost",
           false
          ],
          [
           "Ya No Funcionó",
           false
          ],
          [
           "GPS",
           false
          ],
          [
           "Linda",
           false
          ],
          [
           "Ella Es Mala",
           false
          ],
          [
           "La Foto Se Me Borró - Bachata",
           false
          ]
         ],
         "hovertemplate": "Éxito=%{customdata[1]}<br>Principal Component 1=%{x}<br>Principal Component 2=%{y}<br>song=%{customdata[0]}<extra></extra>",
         "legendgroup": "False",
         "marker": {
          "color": "#636efa",
          "symbol": "circle"
         },
         "mode": "markers",
         "name": "False",
         "orientation": "v",
         "showlegend": true,
         "type": "scatter",
         "x": [
          0.3765685077889236,
          -0.30790921382291586,
          -0.06534263050116831,
          0.12750640151738266,
          -0.6676704526712509,
          -0.061540471813872344,
          -0.20018216528713634,
          -0.2417308462378307,
          -0.037757923478757914,
          -0.10427072857938267,
          0.34229069533199774,
          -0.45436925473743145,
          0.4423980269746502,
          0.09473620764137487,
          -0.1820655994982446,
          0.30301088340631116,
          -0.44984572737604844,
          0.1947343461578362,
          0.26297807866186124,
          0.2802690004673183,
          -0.39937335415755026,
          0.2703106610371662,
          -0.1357795680666757,
          0.1407220984323899,
          -0.13338957987002203,
          0.029051621432845075,
          0.5753939014150661,
          0.2683763069670801,
          -0.30815088322464534,
          -0.3009978904254163,
          -0.0178227192800178,
          0.014692974026582296,
          -0.024439017352058518,
          -0.15666621443983725,
          -0.0544162127146128,
          0.15547949309937142,
          -0.12853853891454436,
          -0.4215931012774326,
          -0.6191689255509766,
          -0.17627716460730786,
          0.27797609683075786,
          -0.41616018203177935,
          0.2360003589450486,
          -0.565123784328124,
          -0.3927475361289194,
          0.12480400596856246,
          -0.07943563050183469,
          0.3761739620402388,
          -0.43938064883675687,
          -0.24821430545869563,
          0.00608105085783831,
          -0.49162504034004484,
          -0.5920777706262335,
          -0.6389838318664365,
          0.31618022825904507,
          -0.12260422976337143,
          -0.4268988865124447,
          -0.2589556538573136,
          0.0018310814194660377,
          -0.33307902859936983,
          0.3418242317116064,
          -0.42852372666740396,
          0.19644730682041855,
          0.3350798324638596,
          -0.4711567242333105,
          -0.4466775955503126,
          0.170928686786559,
          0.29945263947735,
          -0.191520223189597,
          0.2873564836929366,
          0.2849612761050005,
          0.18941881385455397,
          -0.044152303157499045,
          0.04450516643002771,
          0.3966464781477101,
          0.3467416708349222,
          0.2784540613488088,
          0.49851341432191637,
          0.17822488368061834,
          0.1439174071353009,
          0.4209237098761489,
          0.42020121510800906,
          0.648906208959324,
          0.3030936529950985,
          -0.07154383483765926,
          -0.537018675198038,
          -0.1523599455514242,
          -0.08014548132661217,
          -0.42778991974332575,
          0.3036134947262541,
          -0.17715605768486817,
          0.8643488301951882,
          -0.23981723422525816,
          0.8361209847765171,
          0.8695066923671898,
          0.33995007105198866,
          -0.3853248744082559,
          -0.07574139483651275,
          0.35494328645041534,
          0.22300200497713393,
          -0.1960576829238875,
          -0.44460957951095204,
          0.008026085961435619,
          0.0763136858858849,
          -0.43813697280350916,
          -0.1960576829238875,
          0.4947043626177495,
          -0.5612390516098725,
          0.3166428814890094,
          -0.21905759681277084,
          0.04133879121434203,
          0.47064652862926754,
          0.1306895415182341,
          -0.12951631353179538,
          0.10728858132779273,
          -0.32994153325844394,
          0.06452758946815672,
          -0.38649072837946047,
          -0.0719528394979973,
          -0.4845951142332073,
          0.6061486025729802,
          0.7334602376774126,
          0.25804197013009456,
          -0.21050058577022862,
          0.648906208959324,
          0.33897745906623794,
          0.4212798562153275,
          -0.3386865423411596,
          0.4520743205627902,
          0.2615909785575825,
          -0.19333939867219418,
          0.578536085864416,
          0.8506705353984344,
          -0.5880629097883359,
          0.23601204192994088,
          0.2407566760420154,
          0.37754171762816596,
          -0.004789508872990615,
          -0.30070990347107523,
          0.7646986397760424,
          0.40107853797539605,
          -0.19470642353425324,
          -0.4932696467732647,
          -0.38471616039280165,
          0.17532458808848267,
          -0.3576090493278232,
          -0.15253166184913255,
          0.6324413213521572,
          0.18988404547708027,
          -0.22302381382185904,
          -0.0537827969501966,
          0.5029861269098594,
          -0.3985227469472592,
          -0.09288326597283365,
          0.24692579213003357,
          0.39804193747510314,
          0.07717613844363685,
          0.14572591301587312,
          0.10701496505626917,
          -0.5541252352358721,
          0.2707940578336574,
          -0.28772872017762363,
          -0.13572126356427733,
          -0.03728631975092989,
          -0.011645839854573218,
          0.09241354360399072,
          -0.2894662314838466,
          -0.37230084989651413,
          -0.5716179219059404,
          -0.37163085199011175,
          -0.09741389269865608,
          0.19134409936021718,
          0.14085538291830216,
          0.22309959305171181,
          -0.6087277709977089,
          -0.492600445920877,
          0.2824483679991813,
          -0.2644897558767819,
          -0.0021811909286803643,
          -0.2913790504867072,
          -0.2846583583331907,
          -0.18867685468263598,
          0.22384509462206295,
          -0.29104866076957026,
          0.029998046799723246,
          -0.05825792002332295,
          -0.21145667646411473,
          0.02514194250283747,
          -0.08020913890675603,
          -0.14330630791576898,
          0.10807562178366345,
          0.4073795188514742,
          -0.17838799556744628,
          -0.15585928461456997,
          0.53682855882246,
          -0.2645773645829868,
          0.14891228573199652,
          -0.45773517241634226,
          0.48945243396433286,
          -0.27537497725418036,
          -0.015260694040113208,
          0.26305047363709555,
          -0.42181151190111016,
          -0.3168753940850277,
          0.23763244275319145,
          -0.24408415511611412,
          0.3930304883835729,
          0.6122379224908214,
          -0.44972630593756263,
          -0.14097685754899716,
          -0.1450083013160346,
          0.27776441482194647,
          -0.09316067398239411,
          0.4325020281794641,
          0.1472022829011007,
          0.46796630862884786,
          -0.2568781758066802,
          -0.014814930658779188,
          -0.06897897193139955,
          0.3160489221983137,
          0.5855342477823092,
          0.15470779973819312,
          0.33301682106921315,
          0.07295676725118602,
          -0.06879306129541021,
          0.4545964125579409,
          0.46659280585312624,
          0.2918750623311633,
          0.27146880806872536,
          -0.02133424900337362,
          0.5027868793775305,
          -0.3083786374151187,
          0.0150331214719012,
          -0.25227055099748263,
          -0.3021467856067947,
          -0.3192041207574735,
          -0.28047269078380516,
          0.3318724726545965,
          0.10718841454561287,
          -0.5183172150130081,
          -0.2523801396109596,
          -0.038389853048205524,
          -0.17781579430892855,
          -0.15481795365285825,
          -0.3497071175964143,
          0.20704276376371578,
          0.7940270288797263,
          0.25151947629448407,
          0.7375816864549032,
          -0.15180896470815322,
          0.08845815956594491,
          0.07643865307966496,
          -0.1974789152960909,
          0.22731258714755734,
          -0.06782144723359795,
          0.37807679992924276,
          0.17467214007480078,
          0.361013760455319,
          0.08530255089729727,
          -0.2481410204414637,
          0.34687887806271755,
          -0.06452930681055473,
          -0.5033419135335854,
          -0.1530780675594458,
          -0.13529977481917793,
          0.581063600964376,
          0.4330823821476388,
          0.20000732742347993,
          -0.13499794949099406,
          0.2286943551977324,
          -0.5005132401982795,
          -0.3916074496390661,
          0.16709653929598128,
          -0.138731540593742,
          -0.5768943933300512,
          0.17497120251428488,
          0.2140854021525543,
          0.3622136623220816,
          -0.10349773456284891,
          0.08435267326097881,
          0.3066606681176712,
          -0.4873936789970265,
          -0.1571195249016596,
          0.12869038909559463,
          -0.44642072937861,
          0.28395463495947154,
          -0.1769378043554717,
          -0.1512234399079827,
          -0.047514985945608705,
          0.1972293162393153,
          0.29228664417196926,
          0.3845616983997686,
          0.01474484089878314,
          -0.20588994377061182,
          -0.5748581649838548,
          -0.04292304818049147,
          0.1202426122592044,
          -0.2773299866142333,
          0.0025683696870735027,
          -0.0845451429993539,
          -0.5523600430636105,
          -0.45307585565320246,
          0.2139447750847518,
          -0.3677059548795181,
          -0.20442292286665442,
          -0.48375927990647954,
          -0.519608934301611,
          0.5159756738838909,
          0.523051672794838,
          0.011410704005734027,
          0.08912696310833076,
          0.003371161574410163,
          0.5804902604399286,
          0.40780734371352984,
          0.3964083150201191,
          0.5366854345892703,
          0.05141046113920923,
          0.5689364413350408,
          0.08857645918791864,
          0.30525261377317847,
          -0.5523182128099329,
          0.160203873479798,
          -0.545874041929737,
          0.20782813020934526,
          -0.11509238138500047,
          -0.1914093158485385,
          0.4843845438645324,
          0.4531495973678672,
          0.3803334789707667,
          0.14516130242558514,
          0.41906638561154425,
          0.2597227562969587,
          0.14985246220487003,
          0.17266811121657183,
          0.22196407558436745,
          0.20225819874225093,
          -0.16578103550264436,
          -0.22143474862929796,
          0.5862486229122522,
          0.08361411414799369,
          -0.5955854371762566,
          0.8304965406840588,
          -0.13317637271668253,
          -0.0808778975353921,
          0.4613085508876921,
          0.22223686148896515,
          0.35886756205383524,
          -0.1274812347914154,
          -0.21926573431213425,
          -0.008746089843382114,
          -0.36460467190463985,
          -0.4153114825314478,
          0.022595711871531855,
          -0.3817344795922074,
          -0.18226043328853284,
          -0.42122517959577305,
          0.35584289069952363,
          0.29604214245445787,
          0.2185236788533306,
          0.4065533291721599,
          -0.2695934399784387,
          -0.3696045791820777,
          -0.4692626897574439,
          0.44462082741599557,
          0.28649513676211386,
          -0.1174416040431561,
          0.10268592429885405,
          0.08443448956137829,
          0.2960417408407447,
          0.003105947432917998,
          -0.10552256232806383,
          -0.2257363720189385,
          0.12820205325950046,
          -0.135220310506997,
          0.36801689908307567,
          -0.39009007798015416,
          -0.3125855771939744,
          0.10936464442779167,
          0.26466974482878775,
          0.31395741357732654,
          -0.013173534847174317,
          0.4051169054707829,
          0.22864587577472723,
          -0.0714087065920085,
          -0.2798804785506379,
          0.3334992364906886,
          -0.03436687550952696,
          0.29487598739345067,
          -0.5765601645458037,
          -0.3375729576272347,
          -0.09772728016498824,
          -0.3136751065586058,
          -0.25676021882269545,
          -0.009900352795906828,
          -0.2360504800800049,
          -0.14242223596767603,
          -0.1329420230657223,
          -0.18740581529041153,
          -0.48223602719479647,
          -0.4216326859713514,
          -0.3525442134976932,
          0.1903805610448128,
          0.272282327386175,
          0.1297365365506855,
          -0.38998089664307944,
          0.5132454411389783,
          -0.32561325865662766,
          0.03461852011161591,
          0.2741071115348601,
          -0.07842112143658948,
          0.5295505214051635,
          0.12890614276048673,
          0.4967052260538006,
          -0.17998753392117925,
          -0.5639578503135994,
          0.30142085481373293,
          0.5506902408429623,
          -0.4645940575051106,
          0.22979615605393677,
          0.2447669796118099,
          -0.4006471909911416,
          0.009669363643293244,
          -0.1977794296298419,
          -0.2674520691938023,
          -0.4124943681144571,
          0.3353147944740916,
          0.2748922553085523,
          0.11952342334081535,
          0.027681653995554282,
          -0.1793157138147236,
          -0.2858181402038484,
          -0.017280843927003603,
          0.26534890304046843,
          -0.16614031880032382,
          0.23121910920728084,
          0.2874702069522796,
          -0.518056244991479,
          0.27705065596399714,
          -0.43515248243192695,
          0.2868944861526967,
          0.0635076214447101,
          -0.1482931800561129,
          -0.43565512915907995
         ],
         "xaxis": "x",
         "y": [
          -0.2465910659754551,
          -0.17450285217847575,
          0.06725833080058578,
          -0.6037666195782189,
          -0.043862231854881015,
          -0.44809651038376924,
          0.03460830245337461,
          -0.1883133733131732,
          -0.18303780905975456,
          -0.3465022634887475,
          -0.2943610395852284,
          0.037620404416522944,
          -0.12184259832589496,
          -0.49917030980603116,
          0.023266291298941248,
          -0.11287758337705878,
          -0.022890482347091526,
          -0.616793041407496,
          -0.22700946124786628,
          -0.46870049119892476,
          0.04596945361136603,
          -0.33785810510424724,
          0.4085318460084491,
          -0.2925414392791023,
          -0.010828993504295174,
          -0.18422504987309632,
          0.036586186151803576,
          -0.5747483193633363,
          0.004922110701966951,
          0.08128070857376789,
          -0.030414633773689477,
          -0.16896962907352203,
          0.34920687033850734,
          -0.01809402854690508,
          -0.055260863386614435,
          -0.2593506889389697,
          0.08114426149875292,
          0.18720143150343013,
          -0.13734087911401108,
          -0.044929789278880305,
          -0.5486905268035437,
          0.05930311678630931,
          -0.4651427009832831,
          0.10584740713954646,
          -0.15982655428195797,
          -0.3585901617281745,
          -0.17951562532138854,
          -0.3564259347182813,
          -0.1389258523300227,
          -0.1997898761316077,
          -0.3129777636038779,
          0.22572853302420082,
          -0.22876653795956478,
          0.00717823682078121,
          0.33534208367709584,
          -0.16843219801120224,
          -0.07903081098372904,
          -0.05820346233423927,
          -0.1454709353009414,
          -0.1372125369629941,
          -0.20266716934010953,
          0.01806313797591755,
          -0.28827228319927745,
          -0.4331929242216731,
          0.2737066853426785,
          0.16925816001641572,
          -0.4028872891661374,
          -0.4852151321679264,
          -0.2400515863780764,
          -0.38061517383720117,
          -0.442339546406876,
          0.46681920681628913,
          -0.19688656183634726,
          -0.49103816154725755,
          0.03778647045158661,
          -0.18051774178775876,
          -0.04865519817200001,
          0.04806937867338639,
          -0.24106326085534538,
          0.8005045853419468,
          0.14406117088558307,
          -0.16591743792281696,
          0.2262958075972035,
          -0.3654292821283959,
          0.3534035538439744,
          0.010092823358715633,
          0.31649873643044296,
          -0.3201273240348522,
          0.05524863443911066,
          0.3421833543031447,
          -0.054650749487053375,
          0.9649860180103523,
          0.22189102194709337,
          0.8738795053579117,
          0.6077198816315755,
          -0.3564258908242045,
          0.24119541449264578,
          -0.0635809647636276,
          -0.40575090497740357,
          0.005872843175359032,
          0.8340381146876541,
          0.3045088559533913,
          -0.3883732420988557,
          -0.4536782398881932,
          0.08998337664092428,
          0.8340381146876541,
          0.09416498382228744,
          0.13720192807558984,
          -0.27728808674461963,
          -0.3686150244213918,
          -0.033209242595765354,
          -0.1710667815480331,
          0.28696623975595065,
          -0.24507741725520513,
          -0.5057570574779068,
          0.17697592825082392,
          0.3519693963458263,
          -0.11631948892990604,
          0.35326204426962854,
          -0.10285125690154506,
          0.2784590773171773,
          0.279459600513712,
          -0.1482035843316465,
          0.18625102586889508,
          0.2262958075972035,
          -0.35768253308506703,
          0.4276975472447106,
          0.22560645633433496,
          -0.08052516834209382,
          -0.41119886403851974,
          -0.043270268552663624,
          0.27553215033062484,
          0.5835047913946707,
          -0.018543942024286785,
          -0.4350138362256716,
          -0.32126085107764585,
          0.051923982619357954,
          0.04957733550755177,
          0.642043565142463,
          0.5066885910062456,
          -0.020347219509567784,
          -0.05762899387576849,
          -0.27357140974730315,
          0.06755636651927296,
          -0.4664337919548535,
          0.2588884558301767,
          -0.36161872576597803,
          0.24622012096865933,
          -0.13220433131034015,
          0.059283027402426074,
          -0.1159952489744306,
          -0.14692918248583267,
          0.08791453756580116,
          0.10830206842937808,
          0.2785742883928007,
          -0.3076128979903316,
          0.5521368040289331,
          -0.002741502074765931,
          0.874892282840219,
          0.14145524108159843,
          -0.5242816728829953,
          -0.03868431635821269,
          0.3467727269726971,
          -0.25347968682540445,
          -0.11993300740381957,
          1.0029182374456895,
          -0.06468558851153763,
          -0.08388279138749166,
          0.03883585152075048,
          -0.037166088699146616,
          0.015189756366464097,
          -0.04312689649738297,
          0.15657756293156294,
          -0.3119720293852378,
          -0.06818864351202893,
          0.16899954598336694,
          -0.53888196304252,
          0.11661270239030452,
          -0.22469538257190177,
          0.3214107171075433,
          -0.21307106597609746,
          -0.07113136057111567,
          -0.4812873396254601,
          -0.18999506903494637,
          0.3612492638296048,
          0.004548973783100424,
          0.31966462343215263,
          0.11022173788164273,
          0.19065098630658678,
          0.12694752384383975,
          0.34513791608829064,
          0.16312370864530193,
          -0.2831729272774672,
          -0.19580976573433187,
          0.046140914414457314,
          -0.19639387468660408,
          0.4920827714967404,
          0.20477243525347502,
          -0.07339806523218313,
          -0.13414402838445297,
          -0.3175338270841526,
          -0.005869991592089267,
          -0.12890695598057644,
          0.21511882444704894,
          -0.3688284542057795,
          -0.15249542153089152,
          -0.21480969415397944,
          0.1239352230930763,
          -0.029185305592218783,
          -0.006824153761936976,
          -0.3268814648553445,
          -0.49586576201569904,
          -0.09888789996240546,
          -0.13185166459276998,
          0.14494352695877444,
          0.302442273552276,
          0.09937785899521176,
          0.6616464669232581,
          0.5020788754021285,
          0.48719650871490455,
          0.7835807654752278,
          0.8470440214906317,
          -0.1259859979108326,
          -0.12353436784657153,
          0.21783457649043836,
          -0.093529581607677,
          0.5058104147324664,
          0.344346822819957,
          -0.345584050192419,
          -0.3793598283611662,
          0.05302967651025566,
          -0.146759087115349,
          0.06951245780908734,
          -0.22018906893189943,
          0.323594467384505,
          -0.06423170205064335,
          0.12444160407922288,
          -0.23495679180714302,
          -0.0034852378916558464,
          -0.15571515581086845,
          -0.23112525832592734,
          -0.24632780709396243,
          -0.13400907009187618,
          -0.038489399719947755,
          -0.030546279167123287,
          0.8153731688175556,
          0.5199663028326494,
          0.6643877126911297,
          0.3314126822355816,
          -0.1286372983620686,
          0.33244426271938393,
          0.07670457686957598,
          -0.09525892833833291,
          -0.32709182886533406,
          -0.28044991956256393,
          0.6419424260008952,
          0.13622837563168247,
          -0.25713223414537734,
          -0.5104468722389361,
          -0.03491206842383195,
          -0.12937073767429794,
          -0.23252379124974804,
          0.18433710423477162,
          -0.25737688203510906,
          0.06587661168306325,
          0.29332346147952143,
          -0.185791419679475,
          0.7360931174914611,
          -0.46857813565845796,
          0.03222077263093572,
          0.06939430664265946,
          0.38204342798497515,
          0.42956617876738534,
          -0.32672196478576854,
          -0.04199311437768981,
          -0.5028668620939805,
          -0.3567514227326313,
          0.5743847932853737,
          0.14050794710221912,
          -0.3953601294483261,
          -0.4106502824996971,
          -0.1610011004685074,
          -0.14537236948212182,
          -0.5031380949529419,
          0.2801108148397207,
          -0.22913535288221695,
          -0.24799541184536905,
          0.11031269119118457,
          -0.1791685383209657,
          -0.5895843091852159,
          0.35872568583519565,
          -0.04570264897138177,
          -0.276438719170363,
          0.021452600448664334,
          0.08534077595204476,
          -0.28780443333279604,
          -0.05190857084120329,
          0.6676499735680276,
          -0.1350749800950131,
          0.2901210267803224,
          0.14385335570766833,
          0.28160032048630135,
          -0.06993300723743903,
          0.22664623314473287,
          -0.2420906716952193,
          0.12787780431333554,
          0.14977647569115526,
          -0.266130969930476,
          -0.02057947820888074,
          -0.09876445496822576,
          0.4407331488224329,
          -0.11481736568409226,
          0.9372000803709775,
          -0.16072900834759177,
          0.09295462524430612,
          -0.13861165858358526,
          0.12901417270345578,
          0.520425455008276,
          -0.46021747524150863,
          -0.3522171151239835,
          0.012675089215121109,
          0.7023354247996643,
          0.06649173117114279,
          0.39681168255232996,
          0.5477248235031111,
          -0.08546195575825197,
          -0.027063275138355707,
          -0.25822118339065675,
          -0.3340487913672958,
          -0.41573405542256076,
          -0.35740349401554206,
          -0.1191131946796499,
          0.2011712781021597,
          0.2615942548305807,
          -0.18494924446377684,
          -0.32107924306911506,
          -0.005684017235601392,
          -0.19135769935571623,
          0.10120476723934074,
          0.015455735627267422,
          -0.08700711915532044,
          0.44672499274476235,
          0.1998932099071418,
          0.4082225578275889,
          0.03119317754428215,
          1.2844482648692321,
          0.6576764350175208,
          -0.4099144810575081,
          0.5122160330636147,
          -0.5409839581317946,
          0.18894329491880538,
          0.3105546328236649,
          0.2079543319675655,
          0.2543151345785111,
          -0.012228135088912035,
          -0.09739639436534037,
          -0.04471898070178241,
          -0.33854370625004554,
          -0.30290958429064135,
          0.05907948602682832,
          -0.13628733079474628,
          0.41265362718588017,
          0.02604237681525892,
          -0.17268239206395727,
          -0.2422851245067985,
          -0.14006540047347946,
          -0.39372986346676053,
          -0.13277091524850304,
          0.24275917832235577,
          0.2948644060502209,
          -0.22989980276966854,
          -0.28859060101787587,
          0.20030214167109078,
          0.08695011197931865,
          -0.33132781686943696,
          0.034631553346153185,
          0.02233093841417361,
          0.1712788863764838,
          -0.3632299578890242,
          -0.07269089194768771,
          0.03464532581568646,
          0.03943871361426838,
          -0.25368998644223345,
          0.3411698551900675,
          0.3981628423484374,
          0.18818338106807098,
          -0.04560189321199828,
          -0.06297135019062196,
          0.025230517234962665,
          0.552454090715042,
          0.20993185527186098,
          0.34102294882357803,
          -0.044984368753664496,
          0.03500432971091792,
          0.45960772026314806,
          0.1698735009496338,
          -0.2517629092448211,
          -0.2276891085773589,
          0.33139023977663373,
          -0.08143532818059773,
          0.331185702666157,
          -0.47785114393912015,
          -0.12192803267458983,
          0.30964285448131207,
          0.031278933502651436,
          -0.06697861080908478,
          0.5260260644037413,
          0.3278368916292475,
          0.8129172794332861,
          -0.13369659227637243,
          0.0865021553437322,
          0.4893754209506609,
          -0.07705272725918703,
          -0.3026925421550336,
          0.10802240628763521,
          -0.13817860514725383,
          -0.04226308208726627,
          0.3691209181199767,
          0.03069722050403828,
          -0.41543631541496145,
          0.07089617069905058,
          0.06894592510115075,
          0.06868913592337905,
          0.1725192130234083,
          -0.07812283378847004,
          0.06747422999480804,
          0.18382097230441716,
          -0.1296968484600381,
          -0.4843564951679818,
          0.07026396594310504,
          -0.37688671045965505,
          0.37026817716883215,
          -0.40987651146681464,
          0.2625906035740475,
          -0.4689333458395449,
          -0.2768385581046992,
          0.04308751220585101,
          -0.02880390633321305,
          0.034927836167244694,
          -0.14392610955718282,
          -0.41585160551310346,
          -0.034575881301034186,
          0.1633364787916394
         ],
         "yaxis": "y"
        },
        {
         "customdata": [
          [
           "Volando - Remix",
           true
          ],
          [
           "Tiroteo - Remix",
           true
          ],
          [
           "Sobrio",
           true
          ],
          [
           "STAY (with Justin Bieber)",
           true
          ],
          [
           "TENGO FE",
           true
          ],
          [
           "Entre Nosotros",
           true
          ],
          [
           "200 COPAS",
           true
          ],
          [
           "París",
           true
          ],
          [
           "Life Goes On",
           true
          ],
          [
           "SI TÚ SUPIERAS - Bonus Track",
           true
          ],
          [
           "Wasa Wasa",
           true
          ],
          [
           "Una Nota",
           true
          ],
          [
           "Don't Be Shy",
           true
          ],
          [
           "Qué Más Pues?",
           true
          ],
          [
           "Miénteme",
           true
          ],
          [
           "Pepas",
           true
          ],
          [
           "Pareja Del Año",
           true
          ],
          [
           "Muy Feliz",
           true
          ],
          [
           "Dos Problemas (feat. Big Soto) - Remix",
           true
          ],
          [
           "TE MATA",
           true
          ],
          [
           "Volví",
           true
          ],
          [
           "INDUSTRY BABY (feat. Jack Harlow)",
           true
          ],
          [
           "Jordan",
           true
          ],
          [
           "Woman",
           true
          ],
          [
           "JORDAN IV",
           true
          ],
          [
           "Beggin'",
           true
          ],
          [
           "Yonaguni",
           true
          ],
          [
           "512",
           true
          ],
          [
           "Cúrame",
           true
          ],
          [
           "Hace Tiempo",
           true
          ],
          [
           "14 De Febrero",
           true
          ],
          [
           "Sal y Perrea",
           true
          ],
          [
           "Bandido",
           true
          ],
          [
           "HULU",
           true
          ],
          [
           "HECTOL",
           true
          ],
          [
           "EL MAKINON",
           true
          ],
          [
           "COMO CUANDO",
           true
          ],
          [
           "EL PADRINO",
           true
          ],
          [
           "DÁKITI",
           true
          ],
          [
           "2/Catorce",
           true
          ],
          [
           "PURRITO APA",
           true
          ],
          [
           "911 - Remix",
           true
          ],
          [
           "CORONE",
           true
          ],
          [
           "FUMETEO",
           true
          ],
          [
           "Poblado - Remix",
           true
          ],
          [
           "CHIMBITA",
           true
          ],
          [
           "AM Remix",
           true
          ],
          [
           "FERXXO VI",
           true
          ],
          [
           "Botella Tras Botella",
           true
          ],
          [
           "XXXX",
           true
          ],
          [
           "Todo De Ti",
           true
          ],
          [
           "La Curiosidad",
           true
          ],
          [
           "Fiel",
           true
          ],
          [
           "LA NOCHE DE ANOCHE",
           true
          ],
          [
           "Fiel - Remix",
           true
          ],
          [
           "In Da Getto",
           true
          ],
          [
           "IMPOSIBLE - REMIX",
           true
          ],
          [
           "In Da Getto",
           true
          ],
          [
           "Bebé Que Bien Te Ves",
           true
          ],
          [
           "Poblado - Remix",
           true
          ],
          [
           "Qué Más Pues?",
           true
          ],
          [
           "Ley Seca",
           true
          ],
          [
           "Hawái",
           true
          ],
          [
           "Ella",
           true
          ],
          [
           "Alguien Más",
           true
          ],
          [
           "Vestido",
           true
          ],
          [
           "La Venganza",
           true
          ],
          [
           "Te Acuerdas De Mí",
           true
          ],
          [
           "Si Te Atreves",
           true
          ],
          [
           "Una Locura",
           true
          ],
          [
           "Butter (feat. Megan Thee Stallion)",
           true
          ],
          [
           "F40",
           true
          ]
         ],
         "hovertemplate": "Éxito=%{customdata[1]}<br>Principal Component 1=%{x}<br>Principal Component 2=%{y}<br>song=%{customdata[0]}<extra></extra>",
         "legendgroup": "True",
         "marker": {
          "color": "#EF553B",
          "symbol": "circle"
         },
         "mode": "markers",
         "name": "True",
         "orientation": "v",
         "showlegend": true,
         "type": "scatter",
         "x": [
          -0.08127849573824565,
          -0.2566045370267447,
          -0.09123396639800996,
          0.3120210676216746,
          -0.12699850074324742,
          0.045882339205784536,
          -0.21638935773129328,
          0.5209261973980283,
          0.42538544824913177,
          0.15069948046107493,
          -0.24778125280830313,
          0.04522366083917026,
          -0.5119712163281178,
          -0.43777996693193866,
          0.08786473687010546,
          -0.20367086626443753,
          0.0017391814966958414,
          -0.41792288179042336,
          -0.09255517141870172,
          -0.4034311577834941,
          0.2538453599723582,
          -0.537780216034617,
          -0.5064033824110267,
          -0.19064848850600175,
          -0.035467203240896104,
          -0.5320708350082598,
          0.395416417713125,
          0.05950854097786199,
          -0.12829271558310323,
          -0.5254314225445854,
          -0.1298176746128418,
          -0.5758178601957403,
          -0.28167672460933585,
          -0.22482709223804315,
          -0.09978788642303774,
          0.0582175256356945,
          -0.3663253648466241,
          0.44161256932908466,
          0.31618022825904507,
          0.35560258596611355,
          0.26252932551595926,
          -0.2867193669141314,
          0.26862953675821666,
          -0.029001182387662458,
          0.05609072558326447,
          0.3002996636916475,
          -0.17248206319240025,
          0.8047498603276723,
          0.49652254539981083,
          -0.3243445821180997,
          0.22006977082551088,
          -0.5278349737108209,
          -0.04652132170763385,
          -0.18254002930613333,
          -0.060243498092293346,
          -0.39018383208718843,
          -0.4265952009434445,
          -0.3998080537643007,
          0.2517932489370792,
          0.06312796915285404,
          -0.43111666244878794,
          -0.32086249304208336,
          -0.12655062698212732,
          -0.1345804285850702,
          -0.4921978441481328,
          -0.07493081150052457,
          0.24754125240840488,
          -0.44810576197624985,
          0.32246545918548425,
          -0.14752412496224993,
          -0.35025515896503673,
          -0.111334534466806
         ],
         "xaxis": "x",
         "y": [
          -0.0582445141702901,
          0.29310832183369673,
          -0.2911822769931864,
          -0.35629169945763767,
          0.052172184973767834,
          0.034266596565515645,
          0.4029781744763795,
          0.048207728671774815,
          -0.11689237855596075,
          -0.04678099598211673,
          -0.026398235469416175,
          -0.4346770703054851,
          0.14739835081436142,
          -0.18285888846976628,
          -0.28541023838813845,
          -0.07682066304652432,
          -0.1080410770483361,
          0.2646628433033087,
          0.16930212194124153,
          -0.09579937063595685,
          -0.37441114123566627,
          -0.07712184195075755,
          -0.08993772001730298,
          -0.2939550212045876,
          -0.040796096990693254,
          0.08622212184815947,
          -0.19631884826917637,
          0.0060432577587541236,
          0.48755228845859444,
          0.04009801809256572,
          0.4168066748237537,
          -0.06366867118969295,
          -0.05363599211246603,
          -0.1783386885457001,
          0.08571739840062652,
          0.0789356150797181,
          0.1233886783083049,
          -0.28000293167265244,
          0.33534208367709584,
          0.2643453648010988,
          -0.3082538486037835,
          -0.08016110169674227,
          -0.3708790837606916,
          -0.21952982243081212,
          -0.22634071426670896,
          -0.35812486375588776,
          -0.2106326982058064,
          0.8586655736535717,
          0.015575026634724182,
          0.29260807415221884,
          -0.04369732548698273,
          0.22791813900998395,
          0.13660507778124772,
          0.06899238107720357,
          0.12138481364636654,
          -0.15469054636998517,
          0.05079720620965884,
          -0.16810432708585732,
          -0.3823575266197542,
          -0.21541011736397025,
          -0.17245479359609905,
          -0.03820944008179612,
          -0.17461672488582242,
          0.062403464936232264,
          -0.055226504400177026,
          -0.04068794801055673,
          -0.07973168214685306,
          -0.19880289954159877,
          -0.33219840678023216,
          -0.3345409036864094,
          -0.061953967501881424,
          -0.14392289749848058
         ],
         "yaxis": "y"
        }
       ],
       "layout": {
        "legend": {
         "title": {
          "text": "Éxito"
         },
         "tracegroupgap": 0
        },
        "margin": {
         "t": 60
        },
        "template": {
         "data": {
          "bar": [
           {
            "error_x": {
             "color": "#2a3f5f"
            },
            "error_y": {
             "color": "#2a3f5f"
            },
            "marker": {
             "line": {
              "color": "#E5ECF6",
              "width": 0.5
             },
             "pattern": {
              "fillmode": "overlay",
              "size": 10,
              "solidity": 0.2
             }
            },
            "type": "bar"
           }
          ],
          "barpolar": [
           {
            "marker": {
             "line": {
              "color": "#E5ECF6",
              "width": 0.5
             },
             "pattern": {
              "fillmode": "overlay",
              "size": 10,
              "solidity": 0.2
             }
            },
            "type": "barpolar"
           }
          ],
          "carpet": [
           {
            "aaxis": {
             "endlinecolor": "#2a3f5f",
             "gridcolor": "white",
             "linecolor": "white",
             "minorgridcolor": "white",
             "startlinecolor": "#2a3f5f"
            },
            "baxis": {
             "endlinecolor": "#2a3f5f",
             "gridcolor": "white",
             "linecolor": "white",
             "minorgridcolor": "white",
             "startlinecolor": "#2a3f5f"
            },
            "type": "carpet"
           }
          ],
          "choropleth": [
           {
            "colorbar": {
             "outlinewidth": 0,
             "ticks": ""
            },
            "type": "choropleth"
           }
          ],
          "contour": [
           {
            "colorbar": {
             "outlinewidth": 0,
             "ticks": ""
            },
            "colorscale": [
             [
              0,
              "#0d0887"
             ],
             [
              0.1111111111111111,
              "#46039f"
             ],
             [
              0.2222222222222222,
              "#7201a8"
             ],
             [
              0.3333333333333333,
              "#9c179e"
             ],
             [
              0.4444444444444444,
              "#bd3786"
             ],
             [
              0.5555555555555556,
              "#d8576b"
             ],
             [
              0.6666666666666666,
              "#ed7953"
             ],
             [
              0.7777777777777778,
              "#fb9f3a"
             ],
             [
              0.8888888888888888,
              "#fdca26"
             ],
             [
              1,
              "#f0f921"
             ]
            ],
            "type": "contour"
           }
          ],
          "contourcarpet": [
           {
            "colorbar": {
             "outlinewidth": 0,
             "ticks": ""
            },
            "type": "contourcarpet"
           }
          ],
          "heatmap": [
           {
            "colorbar": {
             "outlinewidth": 0,
             "ticks": ""
            },
            "colorscale": [
             [
              0,
              "#0d0887"
             ],
             [
              0.1111111111111111,
              "#46039f"
             ],
             [
              0.2222222222222222,
              "#7201a8"
             ],
             [
              0.3333333333333333,
              "#9c179e"
             ],
             [
              0.4444444444444444,
              "#bd3786"
             ],
             [
              0.5555555555555556,
              "#d8576b"
             ],
             [
              0.6666666666666666,
              "#ed7953"
             ],
             [
              0.7777777777777778,
              "#fb9f3a"
             ],
             [
              0.8888888888888888,
              "#fdca26"
             ],
             [
              1,
              "#f0f921"
             ]
            ],
            "type": "heatmap"
           }
          ],
          "heatmapgl": [
           {
            "colorbar": {
             "outlinewidth": 0,
             "ticks": ""
            },
            "colorscale": [
             [
              0,
              "#0d0887"
             ],
             [
              0.1111111111111111,
              "#46039f"
             ],
             [
              0.2222222222222222,
              "#7201a8"
             ],
             [
              0.3333333333333333,
              "#9c179e"
             ],
             [
              0.4444444444444444,
              "#bd3786"
             ],
             [
              0.5555555555555556,
              "#d8576b"
             ],
             [
              0.6666666666666666,
              "#ed7953"
             ],
             [
              0.7777777777777778,
              "#fb9f3a"
             ],
             [
              0.8888888888888888,
              "#fdca26"
             ],
             [
              1,
              "#f0f921"
             ]
            ],
            "type": "heatmapgl"
           }
          ],
          "histogram": [
           {
            "marker": {
             "pattern": {
              "fillmode": "overlay",
              "size": 10,
              "solidity": 0.2
             }
            },
            "type": "histogram"
           }
          ],
          "histogram2d": [
           {
            "colorbar": {
             "outlinewidth": 0,
             "ticks": ""
            },
            "colorscale": [
             [
              0,
              "#0d0887"
             ],
             [
              0.1111111111111111,
              "#46039f"
             ],
             [
              0.2222222222222222,
              "#7201a8"
             ],
             [
              0.3333333333333333,
              "#9c179e"
             ],
             [
              0.4444444444444444,
              "#bd3786"
             ],
             [
              0.5555555555555556,
              "#d8576b"
             ],
             [
              0.6666666666666666,
              "#ed7953"
             ],
             [
              0.7777777777777778,
              "#fb9f3a"
             ],
             [
              0.8888888888888888,
              "#fdca26"
             ],
             [
              1,
              "#f0f921"
             ]
            ],
            "type": "histogram2d"
           }
          ],
          "histogram2dcontour": [
           {
            "colorbar": {
             "outlinewidth": 0,
             "ticks": ""
            },
            "colorscale": [
             [
              0,
              "#0d0887"
             ],
             [
              0.1111111111111111,
              "#46039f"
             ],
             [
              0.2222222222222222,
              "#7201a8"
             ],
             [
              0.3333333333333333,
              "#9c179e"
             ],
             [
              0.4444444444444444,
              "#bd3786"
             ],
             [
              0.5555555555555556,
              "#d8576b"
             ],
             [
              0.6666666666666666,
              "#ed7953"
             ],
             [
              0.7777777777777778,
              "#fb9f3a"
             ],
             [
              0.8888888888888888,
              "#fdca26"
             ],
             [
              1,
              "#f0f921"
             ]
            ],
            "type": "histogram2dcontour"
           }
          ],
          "mesh3d": [
           {
            "colorbar": {
             "outlinewidth": 0,
             "ticks": ""
            },
            "type": "mesh3d"
           }
          ],
          "parcoords": [
           {
            "line": {
             "colorbar": {
              "outlinewidth": 0,
              "ticks": ""
             }
            },
            "type": "parcoords"
           }
          ],
          "pie": [
           {
            "automargin": true,
            "type": "pie"
           }
          ],
          "scatter": [
           {
            "marker": {
             "colorbar": {
              "outlinewidth": 0,
              "ticks": ""
             }
            },
            "type": "scatter"
           }
          ],
          "scatter3d": [
           {
            "line": {
             "colorbar": {
              "outlinewidth": 0,
              "ticks": ""
             }
            },
            "marker": {
             "colorbar": {
              "outlinewidth": 0,
              "ticks": ""
             }
            },
            "type": "scatter3d"
           }
          ],
          "scattercarpet": [
           {
            "marker": {
             "colorbar": {
              "outlinewidth": 0,
              "ticks": ""
             }
            },
            "type": "scattercarpet"
           }
          ],
          "scattergeo": [
           {
            "marker": {
             "colorbar": {
              "outlinewidth": 0,
              "ticks": ""
             }
            },
            "type": "scattergeo"
           }
          ],
          "scattergl": [
           {
            "marker": {
             "colorbar": {
              "outlinewidth": 0,
              "ticks": ""
             }
            },
            "type": "scattergl"
           }
          ],
          "scattermapbox": [
           {
            "marker": {
             "colorbar": {
              "outlinewidth": 0,
              "ticks": ""
             }
            },
            "type": "scattermapbox"
           }
          ],
          "scatterpolar": [
           {
            "marker": {
             "colorbar": {
              "outlinewidth": 0,
              "ticks": ""
             }
            },
            "type": "scatterpolar"
           }
          ],
          "scatterpolargl": [
           {
            "marker": {
             "colorbar": {
              "outlinewidth": 0,
              "ticks": ""
             }
            },
            "type": "scatterpolargl"
           }
          ],
          "scatterternary": [
           {
            "marker": {
             "colorbar": {
              "outlinewidth": 0,
              "ticks": ""
             }
            },
            "type": "scatterternary"
           }
          ],
          "surface": [
           {
            "colorbar": {
             "outlinewidth": 0,
             "ticks": ""
            },
            "colorscale": [
             [
              0,
              "#0d0887"
             ],
             [
              0.1111111111111111,
              "#46039f"
             ],
             [
              0.2222222222222222,
              "#7201a8"
             ],
             [
              0.3333333333333333,
              "#9c179e"
             ],
             [
              0.4444444444444444,
              "#bd3786"
             ],
             [
              0.5555555555555556,
              "#d8576b"
             ],
             [
              0.6666666666666666,
              "#ed7953"
             ],
             [
              0.7777777777777778,
              "#fb9f3a"
             ],
             [
              0.8888888888888888,
              "#fdca26"
             ],
             [
              1,
              "#f0f921"
             ]
            ],
            "type": "surface"
           }
          ],
          "table": [
           {
            "cells": {
             "fill": {
              "color": "#EBF0F8"
             },
             "line": {
              "color": "white"
             }
            },
            "header": {
             "fill": {
              "color": "#C8D4E3"
             },
             "line": {
              "color": "white"
             }
            },
            "type": "table"
           }
          ]
         },
         "layout": {
          "annotationdefaults": {
           "arrowcolor": "#2a3f5f",
           "arrowhead": 0,
           "arrowwidth": 1
          },
          "autotypenumbers": "strict",
          "coloraxis": {
           "colorbar": {
            "outlinewidth": 0,
            "ticks": ""
           }
          },
          "colorscale": {
           "diverging": [
            [
             0,
             "#8e0152"
            ],
            [
             0.1,
             "#c51b7d"
            ],
            [
             0.2,
             "#de77ae"
            ],
            [
             0.3,
             "#f1b6da"
            ],
            [
             0.4,
             "#fde0ef"
            ],
            [
             0.5,
             "#f7f7f7"
            ],
            [
             0.6,
             "#e6f5d0"
            ],
            [
             0.7,
             "#b8e186"
            ],
            [
             0.8,
             "#7fbc41"
            ],
            [
             0.9,
             "#4d9221"
            ],
            [
             1,
             "#276419"
            ]
           ],
           "sequential": [
            [
             0,
             "#0d0887"
            ],
            [
             0.1111111111111111,
             "#46039f"
            ],
            [
             0.2222222222222222,
             "#7201a8"
            ],
            [
             0.3333333333333333,
             "#9c179e"
            ],
            [
             0.4444444444444444,
             "#bd3786"
            ],
            [
             0.5555555555555556,
             "#d8576b"
            ],
            [
             0.6666666666666666,
             "#ed7953"
            ],
            [
             0.7777777777777778,
             "#fb9f3a"
            ],
            [
             0.8888888888888888,
             "#fdca26"
            ],
            [
             1,
             "#f0f921"
            ]
           ],
           "sequentialminus": [
            [
             0,
             "#0d0887"
            ],
            [
             0.1111111111111111,
             "#46039f"
            ],
            [
             0.2222222222222222,
             "#7201a8"
            ],
            [
             0.3333333333333333,
             "#9c179e"
            ],
            [
             0.4444444444444444,
             "#bd3786"
            ],
            [
             0.5555555555555556,
             "#d8576b"
            ],
            [
             0.6666666666666666,
             "#ed7953"
            ],
            [
             0.7777777777777778,
             "#fb9f3a"
            ],
            [
             0.8888888888888888,
             "#fdca26"
            ],
            [
             1,
             "#f0f921"
            ]
           ]
          },
          "colorway": [
           "#636efa",
           "#EF553B",
           "#00cc96",
           "#ab63fa",
           "#FFA15A",
           "#19d3f3",
           "#FF6692",
           "#B6E880",
           "#FF97FF",
           "#FECB52"
          ],
          "font": {
           "color": "#2a3f5f"
          },
          "geo": {
           "bgcolor": "white",
           "lakecolor": "white",
           "landcolor": "#E5ECF6",
           "showlakes": true,
           "showland": true,
           "subunitcolor": "white"
          },
          "hoverlabel": {
           "align": "left"
          },
          "hovermode": "closest",
          "mapbox": {
           "style": "light"
          },
          "paper_bgcolor": "white",
          "plot_bgcolor": "#E5ECF6",
          "polar": {
           "angularaxis": {
            "gridcolor": "white",
            "linecolor": "white",
            "ticks": ""
           },
           "bgcolor": "#E5ECF6",
           "radialaxis": {
            "gridcolor": "white",
            "linecolor": "white",
            "ticks": ""
           }
          },
          "scene": {
           "xaxis": {
            "backgroundcolor": "#E5ECF6",
            "gridcolor": "white",
            "gridwidth": 2,
            "linecolor": "white",
            "showbackground": true,
            "ticks": "",
            "zerolinecolor": "white"
           },
           "yaxis": {
            "backgroundcolor": "#E5ECF6",
            "gridcolor": "white",
            "gridwidth": 2,
            "linecolor": "white",
            "showbackground": true,
            "ticks": "",
            "zerolinecolor": "white"
           },
           "zaxis": {
            "backgroundcolor": "#E5ECF6",
            "gridcolor": "white",
            "gridwidth": 2,
            "linecolor": "white",
            "showbackground": true,
            "ticks": "",
            "zerolinecolor": "white"
           }
          },
          "shapedefaults": {
           "line": {
            "color": "#2a3f5f"
           }
          },
          "ternary": {
           "aaxis": {
            "gridcolor": "white",
            "linecolor": "white",
            "ticks": ""
           },
           "baxis": {
            "gridcolor": "white",
            "linecolor": "white",
            "ticks": ""
           },
           "bgcolor": "#E5ECF6",
           "caxis": {
            "gridcolor": "white",
            "linecolor": "white",
            "ticks": ""
           }
          },
          "title": {
           "x": 0.05
          },
          "xaxis": {
           "automargin": true,
           "gridcolor": "white",
           "linecolor": "white",
           "ticks": "",
           "title": {
            "standoff": 15
           },
           "zerolinecolor": "white",
           "zerolinewidth": 2
          },
          "yaxis": {
           "automargin": true,
           "gridcolor": "white",
           "linecolor": "white",
           "ticks": "",
           "title": {
            "standoff": 15
           },
           "zerolinecolor": "white",
           "zerolinewidth": 2
          }
         }
        },
        "xaxis": {
         "anchor": "y",
         "domain": [
          0,
          1
         ],
         "range": [
          -1,
          1
         ],
         "title": {
          "text": "Principal Component 1"
         }
        },
        "yaxis": {
         "anchor": "x",
         "domain": [
          0,
          1
         ],
         "range": [
          -1,
          1
         ],
         "title": {
          "text": "Principal Component 2"
         }
        }
       }
      }
     },
     "metadata": {}
    }
   ],
   "metadata": {}
  },
  {
   "cell_type": "code",
   "execution_count": 154,
   "source": [
    "fig = px.scatter_3d(pc, x = \"Principal Component 1\", y = \"Principal Component 2\", \r\n",
    "    z = \"Principal Component 3\", hover_data = [\"song\", \"top50\"], color = \"top50\")\r\n",
    "fig.update_scenes(aspectratio = dict(x=1, y=1, z=1))"
   ],
   "outputs": [
    {
     "output_type": "display_data",
     "data": {
      "application/vnd.plotly.v1+json": {
       "config": {
        "plotlyServerURL": "https://plotly.com"
       },
       "data": [
        {
         "customdata": [
          [
           "PENDEJO",
           false
          ],
          [
           "POR ELLA",
           false
          ],
          [
           "Miami",
           false
          ],
          [
           "La Niña de la Escuela",
           false
          ],
          [
           "3 de La Mañana",
           false
          ],
          [
           "Ya Pasó",
           false
          ],
          [
           "Mi Debilidad",
           false
          ],
          [
           "Perfecta",
           false
          ],
          [
           "Hasta Abajo - Remix",
           false
          ],
          [
           "KESI - Remix",
           false
          ],
          [
           "Uva",
           false
          ],
          [
           "Casualidad",
           false
          ],
          [
           "Amor en Coma",
           false
          ],
          [
           "Tú 1ero",
           false
          ],
          [
           "La Rutina",
           false
          ],
          [
           "Aloha",
           false
          ],
          [
           "Tan Bonita",
           false
          ],
          [
           "Despiértate",
           false
          ],
          [
           "EL TREN",
           false
          ],
          [
           "Machu Picchu",
           false
          ],
          [
           "Rumba (Puro Oro Anthem)",
           false
          ],
          [
           "Ojos Cafe",
           false
          ],
          [
           "Balenciaga",
           false
          ],
          [
           "Nadie La Controla",
           false
          ],
          [
           "Mal Acostumbrao",
           false
          ],
          [
           "Quiereme Mientras se Pueda - Remix",
           false
          ],
          [
           "El Mismo Aire - con Pablo Alborán",
           false
          ],
          [
           "Nada",
           false
          ],
          [
           "Locura - Remix",
           false
          ],
          [
           "ADMV - Versión Urbana",
           false
          ],
          [
           "UN DIA (ONE DAY) (Feat. Tainy)",
           false
          ],
          [
           "Quiéreme Mientras Se Pueda",
           false
          ],
          [
           "Dónde Estás (with Piso 21) - Remix",
           false
          ],
          [
           "Loco - Remix",
           false
          ],
          [
           "Djadja (feat. Maluma) - Remix",
           false
          ],
          [
           "TBT - Remix",
           false
          ],
          [
           "Si Me Dices Que Sí",
           false
          ],
          [
           "Rojo",
           false
          ],
          [
           "Por Fin Te Encontré",
           false
          ],
          [
           "La Botella",
           false
          ],
          [
           "Yo No Te Olvido",
           false
          ],
          [
           "Fuego",
           false
          ],
          [
           "Besos en Cualquier Horario",
           false
          ],
          [
           "Kaprichosa",
           false
          ],
          [
           "Loco",
           false
          ],
          [
           "La Buena - Remix",
           false
          ],
          [
           "Baila Conmigo (with Rauw Alejandro)",
           false
          ],
          [
           "Será",
           false
          ],
          [
           "Dejaría Todo",
           false
          ],
          [
           "Miedito o Qué? (feat. KAROL G)",
           false
          ],
          [
           "El Malo",
           false
          ],
          [
           "Cuántas veces",
           false
          ],
          [
           "Millones",
           false
          ],
          [
           "Mi Niña - Remix",
           false
          ],
          [
           "DÁKITI",
           false
          ],
          [
           "Hawái",
           false
          ],
          [
           "Increíble",
           false
          ],
          [
           "ANTES QUE SALGA EL SOL",
           false
          ],
          [
           "Tan Enamorados",
           false
          ],
          [
           "Despeinada",
           false
          ],
          [
           "De 0 a Siempre",
           false
          ],
          [
           "Tattoo - Remix with Camilo",
           false
          ],
          [
           "Adicto a Ti",
           false
          ],
          [
           "Me Enamora",
           false
          ],
          [
           "Algo Mágico - R3HAB Remix",
           false
          ],
          [
           "Insuficiente",
           false
          ],
          [
           "Apartamento",
           false
          ],
          [
           "Ojalá Pudiera",
           false
          ],
          [
           "Ram Pam Pam",
           false
          ],
          [
           "Que Locura",
           false
          ],
          [
           "Lao' a Lao'",
           false
          ],
          [
           "Jugaste y Sufrí",
           false
          ],
          [
           "Fanático",
           false
          ],
          [
           "Wake Up",
           false
          ],
          [
           "Como Si No Importara",
           false
          ],
          [
           "WOLFGANG",
           false
          ],
          [
           "Meet Me At Our Spot",
           false
          ],
          [
           "Need To Know",
           false
          ],
          [
           "DUMB DUMB",
           false
          ],
          [
           "double take",
           false
          ],
          [
           "Mon Amour",
           false
          ],
          [
           "Buscate Otro",
           false
          ],
          [
           "Loverboy",
           false
          ],
          [
           "NO WAY",
           false
          ],
          [
           "Love Nwantiti - Remix",
           false
          ],
          [
           "Touch It",
           false
          ],
          [
           "Dueles Tan Bien",
           false
          ],
          [
           "edamame (feat. Rich Brian)",
           false
          ],
          [
           "Chica 10",
           false
          ],
          [
           "Amapolas",
           false
          ],
          [
           "Shake It",
           false
          ],
          [
           "Strange",
           false
          ],
          [
           "Stay With Me",
           false
          ],
          [
           "Stoned at the Nail Salon",
           false
          ],
          [
           "Happier Than Ever",
           false
          ],
          [
           "FVN!",
           false
          ],
          [
           "Tranquilísimo",
           false
          ],
          [
           "Dark Red",
           false
          ],
          [
           "Cry Baby",
           false
          ],
          [
           "Not Into You",
           false
          ],
          [
           "Estoy Bien",
           false
          ],
          [
           "Everywhereigo",
           false
          ],
          [
           "INDUSTRY BABY (feat. Jack Harlow)",
           false
          ],
          [
           "Bezos I",
           false
          ],
          [
           "Todo Lo Bueno Tarda",
           false
          ],
          [
           "Estoy Bien",
           false
          ],
          [
           "Feel Like God",
           false
          ],
          [
           "Pimpeo",
           false
          ],
          [
           "Matatan",
           false
          ],
          [
           "Los Sótanos del Infierno",
           false
          ],
          [
           "Turraka (Remix)",
           false
          ],
          [
           "Mi Destino",
           false
          ],
          [
           "Not Around",
           false
          ],
          [
           "Catanas",
           false
          ],
          [
           "Cold Heart - PNAU Remix",
           false
          ],
          [
           "Beethoven",
           false
          ],
          [
           "Sou Favela",
           false
          ],
          [
           "Guaracha Con Ñejo",
           false
          ],
          [
           "love nwantiti (feat. Dj Yo! & AX'EL) - Remix",
           false
          ],
          [
           "Bailar",
           false
          ],
          [
           "in heat.",
           false
          ],
          [
           "As the World Caves In",
           false
          ],
          [
           "Mon Amour - Remix",
           false
          ],
          [
           "love nwantiti (ah ah ah)",
           false
          ],
          [
           "Loverboy",
           false
          ],
          [
           "FVN!",
           false
          ],
          [
           "Si Fueras Mía",
           false
          ],
          [
           "Over The Top (feat. Drake)",
           false
          ],
          [
           "love nwantiti (feat. ElGrande Toto) - North African Remix",
           false
          ],
          [
           "Lejos Conmigo",
           false
          ],
          [
           "Pepas - Remix",
           false
          ],
          [
           "You Are Enough",
           false
          ],
          [
           "I GUESS I'M IN LOVE",
           false
          ],
          [
           "LO$ER=LO♡ER",
           false
          ],
          [
           "Thunderous",
           false
          ],
          [
           "ANIVERSARIO (feat. Nico Legreti)",
           false
          ],
          [
           "Espera (feat. Carlos Sadness)",
           false
          ],
          [
           "Gute Vibes",
           false
          ],
          [
           "No Todo Es un Juego",
           false
          ],
          [
           "El Amor II",
           false
          ],
          [
           "Dancing Beauty",
           false
          ],
          [
           "L.N.E.M. (GATA) (feat. Kapla y Miky, Philip Ariaz & Blessd)",
           false
          ],
          [
           "Perra",
           false
          ],
          [
           "Magnum",
           false
          ],
          [
           "999 (with Camilo)",
           false
          ],
          [
           "A La Buena, El Mejor - Featured in Call Of Duty Mobile - Season 7: Elite of the Elite",
           false
          ],
          [
           "Wow Wow (feat. Becky G)",
           false
          ],
          [
           "justified",
           false
          ],
          [
           "Burning Bridges",
           false
          ],
          [
           "California",
           false
          ],
          [
           "I am not a woman, I'm a god",
           false
          ],
          [
           "Someday",
           false
          ],
          [
           "Pa'lla Voy",
           false
          ],
          [
           "Lo Pasado Pisado",
           false
          ],
          [
           "Esta Ciudad",
           false
          ],
          [
           "Lo Que Nunca Fue Tuyo",
           false
          ],
          [
           "Que Te Quedes Aquí",
           false
          ],
          [
           "Lejos de Aquí",
           false
          ],
          [
           "Tarareo",
           false
          ],
          [
           "Todo Lo Que Sube",
           false
          ],
          [
           "Rey",
           false
          ],
          [
           "Peach",
           false
          ],
          [
           "Todo viene, todo va",
           false
          ],
          [
           "Esta Noche",
           false
          ],
          [
           "3am",
           false
          ],
          [
           "Blind",
           false
          ],
          [
           "Walkman",
           false
          ],
          [
           "If You Ever Leave, I'm Coming with You",
           false
          ],
          [
           "Walking at a Downtown Pace",
           false
          ],
          [
           "Perdón Margarita",
           false
          ],
          [
           "Sevier",
           false
          ],
          [
           "We Are Midnight",
           false
          ],
          [
           "En el Mar No Eres Nadie",
           false
          ],
          [
           "Santo Remedio",
           false
          ],
          [
           "Freedom Highway",
           false
          ],
          [
           "About Last Night",
           false
          ],
          [
           "Living In The Heart Of Love",
           false
          ],
          [
           "Survivor",
           false
          ],
          [
           "Can't Stop The Rain",
           false
          ],
          [
           "Acerca de los Padres",
           false
          ],
          [
           "Dueño de Tus Besos",
           false
          ],
          [
           "Tu Recuerdo",
           false
          ],
          [
           "Me Enamoré",
           false
          ],
          [
           "Mala Fama",
           false
          ],
          [
           "Wish You Were Gay - Versión en Español - Spotify Singles",
           false
          ],
          [
           "Necesidad",
           false
          ],
          [
           "Corazón Maltratado",
           false
          ],
          [
           "Te Quiero Ver",
           false
          ],
          [
           "Bailando",
           false
          ],
          [
           "Vil Reptil",
           false
          ],
          [
           "Regularly Scheduled Programming",
           false
          ],
          [
           "You Can Do It",
           false
          ],
          [
           "MÉTELE AL PERREO",
           false
          ],
          [
           "Colorao",
           false
          ],
          [
           "Tú Eres Prohibida",
           false
          ],
          [
           "Las Olas",
           false
          ],
          [
           "Million To One - from the Amazon Original Movie \"Cinderella\"",
           false
          ],
          [
           "Way 2 Sexy (with Future & Young Thug)",
           false
          ],
          [
           "Hurricane",
           false
          ],
          [
           "Good Ones",
           false
          ],
          [
           "Sahara",
           false
          ],
          [
           "Estoy Triste",
           false
          ],
          [
           "Radio, Radio",
           false
          ],
          [
           "The Pines",
           false
          ],
          [
           "Miénteme",
           false
          ],
          [
           "Luna",
           false
          ],
          [
           "Todos Somos Uno (feat. Santiago Cruz)",
           false
          ],
          [
           "Nunca entenderé",
           false
          ],
          [
           "Ferrari",
           false
          ],
          [
           "Swipe Left",
           false
          ],
          [
           "Mi Parcera",
           false
          ],
          [
           "Tears",
           false
          ],
          [
           "Chucky73: Bzrp Music Sessions, Vol. 43",
           false
          ],
          [
           "Quédate",
           false
          ],
          [
           "23 Preguntas",
           false
          ],
          [
           "Océano",
           false
          ],
          [
           "Jimmy Jimmy (feat. AJ Tracey)",
           false
          ],
          [
           "Happiness",
           false
          ],
          [
           "Pasatiempo",
           false
          ],
          [
           "Para Amar (Lovely Day)",
           false
          ],
          [
           "Pequeños Hombres",
           false
          ],
          [
           "Birch (feat. Taylor Swift)",
           false
          ],
          [
           "Estar Vivo",
           false
          ],
          [
           "Pájaro",
           false
          ],
          [
           "Nadie Nunca Nada",
           false
          ],
          [
           "Arte",
           false
          ],
          [
           "Angelitos",
           false
          ],
          [
           "Hoy No",
           false
          ],
          [
           "Vente Conmigo",
           false
          ],
          [
           "MHD: Bzrp Music Sessions, Vol. 44",
           false
          ],
          [
           "Masta´z (Padrino Sessions) - Live",
           false
          ],
          [
           "Mi Vida",
           false
          ],
          [
           "Guaro - Remix",
           false
          ],
          [
           "A Mi Gente De Acá",
           false
          ],
          [
           "Sobrenatural",
           false
          ],
          [
           "Picadita De Ojo",
           false
          ],
          [
           "Sírvame Otra Copa",
           false
          ],
          [
           "Lo Que Te Perdiste",
           false
          ],
          [
           "Te Necesito",
           false
          ],
          [
           "Pensando en Mi Morena",
           false
          ],
          [
           "No Dejes Que Se Vaya",
           false
          ],
          [
           "El Mago",
           false
          ],
          [
           "Calma",
           false
          ],
          [
           "La Dueña de Mis Churupos",
           false
          ],
          [
           "18 de Junio / Homenaje al Gran Martín Elías",
           false
          ],
          [
           "Tu Norte Soy Yo",
           false
          ],
          [
           "Vuelve",
           false
          ],
          [
           "Burbujas de Amor - (Sesión en vivo)",
           false
          ],
          [
           "Si Mi Cuarto Sigue Igual",
           false
          ],
          [
           "Telepatía - Spotify Singles",
           false
          ],
          [
           "Loco",
           false
          ],
          [
           "Atención",
           false
          ],
          [
           "Pa Que Guaye",
           false
          ],
          [
           "Guille 2.0",
           false
          ],
          [
           "La Funka",
           false
          ],
          [
           "Tarde",
           false
          ],
          [
           "Llori Pari",
           false
          ],
          [
           "Tal Vez - Remix",
           false
          ],
          [
           "Pal Suelo",
           false
          ],
          [
           "A SOLAS",
           false
          ],
          [
           "Picó",
           false
          ],
          [
           "Los Cachos",
           false
          ],
          [
           "Bad Habits - Ovy On The Drums Remix",
           false
          ],
          [
           "Who's In Your Head",
           false
          ],
          [
           "tamale",
           false
          ],
          [
           "You Will Be Found (with Summer Walker) - From The “Dear Evan Hansen” Original Motion Picture Soundtrack",
           false
          ],
          [
           "Breakdown (feat. Demi Lovato)",
           false
          ],
          [
           "Parapente",
           false
          ],
          [
           "Berlín",
           false
          ],
          [
           "¿Otra Canción de Amor?",
           false
          ],
          [
           "CHEESY",
           false
          ],
          [
           "Sígueme",
           false
          ],
          [
           "PORTAL",
           false
          ],
          [
           "Se Fue",
           false
          ],
          [
           "Cógela Suave",
           false
          ],
          [
           "Hijuepu",
           false
          ],
          [
           "THATS WHAT I WANT",
           false
          ],
          [
           "I Still Have Faith In You",
           false
          ],
          [
           "Under The Sun",
           false
          ],
          [
           "Milky Way",
           false
          ],
          [
           "Reaching Out",
           false
          ],
          [
           "Thelma + Louise",
           false
          ],
          [
           "I Feel Good",
           false
          ],
          [
           "PAKATA",
           false
          ],
          [
           "Dejame Tranki",
           false
          ],
          [
           "Adicto",
           false
          ],
          [
           "Abajo y Arriba (with Juhn)",
           false
          ],
          [
           "Rendido",
           false
          ],
          [
           "Bonita",
           false
          ],
          [
           "Aguacero",
           false
          ],
          [
           "Fango",
           false
          ],
          [
           "Ain't No Love (feat. elevn)",
           false
          ],
          [
           "No Finjas Más",
           false
          ],
          [
           "Más De Ti - En Vivo Desde Medellín, 2021",
           false
          ],
          [
           "COMO EH",
           false
          ],
          [
           "Nos Matamos",
           false
          ],
          [
           "Socios",
           false
          ],
          [
           "Pulsiones",
           false
          ],
          [
           "El Remate",
           false
          ],
          [
           "Amor Divino - En Vivo",
           false
          ],
          [
           "Cumbia Valledupar",
           false
          ],
          [
           "Don’t Go (with Justin Bieber & Don Toliver)",
           false
          ],
          [
           "Runaway (with Sigala and JP Cooper)",
           false
          ],
          [
           "Chasing Stars (feat. James Bay)",
           false
          ],
          [
           "Move",
           false
          ],
          [
           "Camaleón de Jackson",
           false
          ],
          [
           "Contracorriente",
           false
          ],
          [
           "Beautiful James",
           false
          ],
          [
           "405 - Metronomy x Biig Piig",
           false
          ],
          [
           "I Don't Live Here Anymore (feat. Lucius)",
           false
          ],
          [
           "The Nowhere Inn",
           false
          ],
          [
           "Planes in the Sky",
           false
          ],
          [
           "Famous Last Words",
           false
          ],
          [
           "Espiral",
           false
          ],
          [
           "Guayabo",
           false
          ],
          [
           "Valentine",
           false
          ],
          [
           "Llévame",
           false
          ],
          [
           "Chureito en la mañana",
           false
          ],
          [
           "Maldita Foto",
           false
          ],
          [
           "Hora Loca Remix - Spotify Singles (with Piso 21)",
           false
          ],
          [
           "Huele A Gol",
           false
          ],
          [
           "Visiting Hours",
           false
          ],
          [
           "Summer of Love (Shawn Mendes & Tainy)",
           false
          ],
          [
           "Mood Ring",
           false
          ],
          [
           "Vuelve",
           false
          ],
          [
           "Monday",
           false
          ],
          [
           "Just for me",
           false
          ],
          [
           "Likes y Cicatrices",
           false
          ],
          [
           "Tamborero",
           false
          ],
          [
           "Soy la Fuerza",
           false
          ],
          [
           "Memoria",
           false
          ],
          [
           "Drive - Edit",
           false
          ],
          [
           "If You Say the Word",
           false
          ],
          [
           "Might Forgive You",
           false
          ],
          [
           "Dante",
           false
          ],
          [
           "True Seekers",
           false
          ],
          [
           "Long Way",
           false
          ],
          [
           "Hanging On Your Hinges",
           false
          ],
          [
           "Not Me Anymore",
           false
          ],
          [
           "La Claque",
           false
          ],
          [
           "Rompe",
           false
          ],
          [
           "piensa en mí",
           false
          ],
          [
           "Misma Intención",
           false
          ],
          [
           "Renacer",
           false
          ],
          [
           "Histéricos",
           false
          ],
          [
           "Arcadia",
           false
          ],
          [
           "Variaciones Sobre un Viejo Tema",
           false
          ],
          [
           "Quereme de Amor",
           false
          ],
          [
           "Cuando Estoy Con Ella (En Vivo)",
           false
          ],
          [
           "Jump Off The Top",
           false
          ],
          [
           "El Arcoiris",
           false
          ],
          [
           "Mónaco",
           false
          ],
          [
           "Al Fin Qué",
           false
          ],
          [
           "Joselito Cubano (Huérfano Soy / No, No, No, Que Va)",
           false
          ],
          [
           "La Luna",
           false
          ],
          [
           "Llorar (Big Tears)",
           false
          ],
          [
           "DPM (De Pxta Madre)",
           false
          ],
          [
           "Incontrolable",
           false
          ],
          [
           "El Tracatra",
           false
          ],
          [
           "simple times",
           false
          ],
          [
           "I Don't Wanna Talk (I Just Wanna Dance)",
           false
          ],
          [
           "Angel Baby",
           false
          ],
          [
           "Acapulco",
           false
          ],
          [
           "Como Lo Pedí",
           false
          ],
          [
           "Sad Boy (feat. Ava Max & Kylie Cantrall)",
           false
          ],
          [
           "Mal de Amores",
           false
          ],
          [
           "Shivers",
           false
          ],
          [
           "Days Of Future Past",
           false
          ],
          [
           "Unknown Male 01",
           false
          ],
          [
           "El Día del Huracán - Versión 2021",
           false
          ],
          [
           "Nada que hablar (feat. Aterciopelados)",
           false
          ],
          [
           "Spirit Power and Soul",
           false
          ],
          [
           "Annie",
           false
          ],
          [
           "Human Touch",
           false
          ],
          [
           "Calendarios y Acetatos",
           false
          ],
          [
           "Nostálgico",
           false
          ],
          [
           "Tuyo (Nueva Versión)",
           false
          ],
          [
           "Mami Mamacita",
           false
          ],
          [
           "Guarito",
           false
          ],
          [
           "Como Lo Hice Yo",
           false
          ],
          [
           "Caso Cerrado",
           false
          ],
          [
           "La Reina de la Cantina",
           false
          ],
          [
           "Puño de Diamantes",
           false
          ],
          [
           "Poema",
           false
          ],
          [
           "La Ciudad del Rap",
           false
          ],
          [
           "Mil Vueltas a Este Pantalón",
           false
          ],
          [
           "Nueva Vida",
           false
          ],
          [
           "Me Re Sirve",
           false
          ],
          [
           "Curazao",
           false
          ],
          [
           "ASUNTO SERIO / TATUA",
           false
          ],
          [
           "Un Trago",
           false
          ],
          [
           "FEEL ME??",
           false
          ],
          [
           "Como + Nadie",
           false
          ],
          [
           "Ven (with Luar La L & Eydren)",
           false
          ],
          [
           "Trap Romantic",
           false
          ],
          [
           "LALA (Unlocked) (feat. Swae Lee)",
           false
          ],
          [
           "Paso a Paso",
           false
          ],
          [
           "Mal Acompañada",
           false
          ],
          [
           "Gánatelo",
           false
          ],
          [
           "Guaro",
           false
          ],
          [
           "Doncella",
           false
          ],
          [
           "Darte",
           false
          ],
          [
           "Bendecida (Padrino Sessions) - Live",
           false
          ],
          [
           "Contigo",
           false
          ],
          [
           "Vuelo y Vértigo",
           false
          ],
          [
           "Nube Gris",
           false
          ],
          [
           "Neo Quimeras",
           false
          ],
          [
           "Tiempo de la Cruz",
           false
          ],
          [
           "Ya Fue",
           false
          ],
          [
           "Insomnio",
           false
          ],
          [
           "Toa La Vida",
           false
          ],
          [
           "Deja de Mirarme",
           false
          ],
          [
           "Blame On Me",
           false
          ],
          [
           "Sorbito de Champán - Bonita y Mentirosa - Desorden Público rinde Homenaje al Indio Pastor López ft Billo's & Chicha Libre",
           false
          ],
          [
           "Querer Es Poder",
           false
          ],
          [
           "Tengo Ganas",
           false
          ],
          [
           "¿Donde Estarás Libertad?",
           false
          ],
          [
           "Eco de Mis Ancestros",
           false
          ],
          [
           "Te Quiero Igual Que Ayer",
           false
          ],
          [
           "Cumbia del Olvido",
           false
          ],
          [
           "Ley de Atracción",
           false
          ],
          [
           "Poison (with DEKKO)",
           false
          ],
          [
           "Al Escondido",
           false
          ],
          [
           "Sun Came Up",
           false
          ],
          [
           "Por El Alcohol",
           false
          ],
          [
           "La Graduación",
           false
          ],
          [
           "Santera",
           false
          ],
          [
           "Repetíamos",
           false
          ],
          [
           "Hace Calor",
           false
          ],
          [
           "El Gato Andaluz",
           false
          ],
          [
           "Cero Tiroteo",
           false
          ],
          [
           "Mentas / Lo Simple",
           false
          ],
          [
           "High",
           false
          ],
          [
           "Iluminábamos (feat. Monsieur Periné)",
           false
          ],
          [
           "Piece Of My Mind",
           false
          ],
          [
           "Nos Entendemos",
           false
          ],
          [
           "Buscándote",
           false
          ],
          [
           "Just A Ghost",
           false
          ],
          [
           "Ya No Funcionó",
           false
          ],
          [
           "GPS",
           false
          ],
          [
           "Linda",
           false
          ],
          [
           "Ella Es Mala",
           false
          ],
          [
           "La Foto Se Me Borró - Bachata",
           false
          ]
         ],
         "hovertemplate": "top50=%{customdata[1]}<br>Principal Component 1=%{x}<br>Principal Component 2=%{y}<br>Principal Component 3=%{z}<br>song=%{customdata[0]}<extra></extra>",
         "legendgroup": "False",
         "marker": {
          "color": "#636efa",
          "symbol": "circle"
         },
         "mode": "markers",
         "name": "False",
         "scene": "scene",
         "showlegend": true,
         "type": "scatter3d",
         "x": [
          0.37656850778892337,
          -0.30790921382291736,
          -0.06534263050116869,
          0.127506401517381,
          -0.6676704526712517,
          -0.0615404718138737,
          -0.20018216528713625,
          -0.24173084623783145,
          -0.03775792347875853,
          -0.10427072857938378,
          0.3422906953319968,
          -0.45436925473743156,
          0.44239802697465,
          0.09473620764137332,
          -0.1820655994982446,
          0.303010883406311,
          -0.44984572737604867,
          0.19473434615783475,
          0.2629780786618606,
          0.2802690004673171,
          -0.3993733541575507,
          0.27031066103716545,
          -0.13577956806667454,
          0.14072209843238898,
          -0.13338957987002206,
          0.02905162143284469,
          0.5753939014150669,
          0.2683763069670786,
          -0.3081508832246455,
          -0.3009978904254163,
          -0.017822719280018006,
          0.014692974026581913,
          -0.02443901735205733,
          -0.15666621443983728,
          -0.054416212714612944,
          0.15547949309937048,
          -0.12853853891454442,
          -0.4215931012774324,
          -0.6191689255509775,
          -0.176277164607308,
          0.2779760968307563,
          -0.4161601820317794,
          0.23600035894504767,
          -0.5651237843281245,
          -0.39274753612892005,
          0.12480400596856121,
          -0.07943563050183514,
          0.37617396204023795,
          -0.4393806488367573,
          -0.2482143054586964,
          0.006081050857837215,
          -0.4916250403400449,
          -0.5920777706262342,
          -0.6389838318664374,
          0.31618022825904596,
          -0.1226042297633721,
          -0.4268988865124449,
          -0.25895565385731395,
          0.0018310814194655925,
          -0.33307902859937044,
          0.3418242317116062,
          -0.4285237266674042,
          0.19644730682041797,
          0.3350798324638587,
          -0.4711567242333095,
          -0.44667759555031245,
          0.17092868678655795,
          0.29945263947734885,
          -0.19152022318959766,
          0.28735648369293565,
          0.28496127610499966,
          0.18941881385455556,
          -0.04415230315749963,
          0.044505166430026485,
          0.3966464781477105,
          0.34674167083492174,
          0.2784540613488088,
          0.49851341432191654,
          0.17822488368061776,
          0.14391740713530338,
          0.42092370987614947,
          0.4202012151080087,
          0.6489062089593253,
          0.3030936529950976,
          -0.0715438348376583,
          -0.5370186751980385,
          -0.1523599455514235,
          -0.08014548132661319,
          -0.42778991974332586,
          0.3036134947262553,
          -0.17715605768486903,
          0.8643488301951917,
          -0.23981723422525794,
          0.8361209847765204,
          0.8695066923671922,
          0.3399500710519879,
          -0.3853248744082559,
          -0.07574139483651288,
          0.354943286450414,
          0.22300200497713402,
          -0.19605768292388484,
          -0.44460957951095137,
          0.00802608596143471,
          0.07631368588588368,
          -0.43813697280350916,
          -0.19605768292388484,
          0.4947043626177499,
          -0.5612390516098725,
          0.3166428814890087,
          -0.21905759681277212,
          0.04133879121434196,
          0.4706465286292678,
          0.13068954151823475,
          -0.1295163135317961,
          0.10728858132779141,
          -0.32994153325844366,
          0.0645275894681578,
          -0.386490728379461,
          -0.07195283949799632,
          -0.48459511423320767,
          0.6061486025729815,
          0.7334602376774139,
          0.25804197013009417,
          -0.21050058577022823,
          0.6489062089593253,
          0.3389774590662371,
          0.42127985621532904,
          -0.3386865423411593,
          0.45207432056279023,
          0.26159097855758134,
          -0.1933393986721946,
          0.5785360858644172,
          0.8506705353984368,
          -0.5880629097883364,
          0.23601204192994002,
          0.24075667604201453,
          0.377541717628166,
          -0.004789508872990585,
          -0.3007099034710737,
          0.7646986397760438,
          0.4010785379753955,
          -0.1947064235342535,
          -0.4932696467732658,
          -0.38471616039280176,
          0.17532458808848145,
          -0.35760904932782284,
          -0.15253166184913344,
          0.6324413213521585,
          0.18988404547707977,
          -0.2230238138218593,
          -0.053782796950196984,
          0.5029861269098592,
          -0.3985227469472593,
          -0.09288326597283314,
          0.24692579213003443,
          0.3980419374751027,
          0.07717613844363845,
          0.14572591301587326,
          0.10701496505627185,
          -0.5541252352358718,
          0.270794057833656,
          -0.2877287201776239,
          -0.13572126356427666,
          -0.03728631975093038,
          -0.011645839854573414,
          0.09241354360399377,
          -0.2894662314838468,
          -0.37230084989651485,
          -0.571617921905941,
          -0.37163085199011203,
          -0.09741389269865645,
          0.1913440993602169,
          0.14085538291830227,
          0.22309959305171118,
          -0.6087277709977095,
          -0.49260044592087693,
          0.28244836799917994,
          -0.2644897558767819,
          -0.002181190928681201,
          -0.2913790504867062,
          -0.28465835833319136,
          -0.18867685468263617,
          0.22384509462206173,
          -0.2910486607695711,
          0.02999804679972441,
          -0.058257920023323057,
          -0.21145667646411373,
          0.02514194250283792,
          -0.08020913890675571,
          -0.1433063079157688,
          0.10807562178366467,
          0.40737951885147516,
          -0.17838799556744725,
          -0.15585928461457063,
          0.5368285588224603,
          -0.2645773645829876,
          0.14891228573199802,
          -0.45773517241634215,
          0.4894524339643326,
          -0.2753749772541808,
          -0.015260694040114129,
          0.2630504736370961,
          -0.421811511901111,
          -0.31687539408502735,
          0.23763244275319054,
          -0.24408415511611453,
          0.3930304883835727,
          0.612237922490822,
          -0.44972630593756296,
          -0.14097685754899722,
          -0.14500830131603543,
          0.27776441482194547,
          -0.09316067398239436,
          0.43250202817946404,
          0.14720228290110124,
          0.46796630862884914,
          -0.25687817580667993,
          -0.01481493065877721,
          -0.0689789719313981,
          0.31604892219831526,
          0.5855342477823118,
          0.15470779973819548,
          0.3330168210692131,
          0.07295676725118537,
          -0.0687930612954097,
          0.4545964125579409,
          0.4665928058531282,
          0.29187506233116445,
          0.2714688080687248,
          -0.021334249003374724,
          0.5027868793775311,
          -0.3083786374151192,
          0.015033121471901528,
          -0.25227055099748324,
          -0.30214678560679376,
          -0.3192041207574738,
          -0.2804726907838047,
          0.33187247265459613,
          0.10718841454561308,
          -0.5183172150130088,
          -0.25238013961096034,
          -0.03838985304820618,
          -0.17781579430892894,
          -0.15481795365285853,
          -0.3497071175964146,
          0.2070427637637185,
          0.7940270288797285,
          0.25151947629448645,
          0.7375816864549047,
          -0.15180896470815342,
          0.08845815956594585,
          0.07643865307966499,
          -0.19747891529609127,
          0.22731258714755662,
          -0.06782144723359866,
          0.37807679992924503,
          0.1746721400748013,
          0.3610137604553187,
          0.08530255089729587,
          -0.24814102044146413,
          0.3468788780627172,
          -0.06452930681055533,
          -0.5033419135335855,
          -0.15307806755944664,
          -0.13529977481917754,
          0.5810636009643775,
          0.4330823821476386,
          0.20000732742348212,
          -0.13499794949099536,
          0.22869435519773254,
          -0.5005132401982796,
          -0.3916074496390657,
          0.1670965392959826,
          -0.13873154059374296,
          -0.5768943933300517,
          0.17497120251428347,
          0.21408540215255334,
          0.3622136623220835,
          -0.10349773456284876,
          0.08435267326097792,
          0.30666066811767023,
          -0.4873936789970271,
          -0.15711952490166026,
          0.12869038909559324,
          -0.4464207293786092,
          0.28395463495947076,
          -0.17693780435547257,
          -0.15122343990798254,
          -0.047514985945609226,
          0.19722931623931378,
          0.2922866441719707,
          0.38456169839976906,
          0.014744840898782356,
          -0.20588994377061196,
          -0.5748581649838549,
          -0.04292304818049242,
          0.12024261225920428,
          -0.2773299866142317,
          0.002568369687073431,
          -0.08454514299935291,
          -0.5523600430636105,
          -0.4530758556532022,
          0.21394477508475157,
          -0.3677059548795177,
          -0.20442292286665514,
          -0.4837592799064795,
          -0.5196089343016107,
          0.51597567388389,
          0.5230516727948382,
          0.011410704005733543,
          0.08912696310833206,
          0.00337116157440996,
          0.5804902604399318,
          0.40780734371352956,
          0.3964083150201197,
          0.5366854345892703,
          0.051410461139209856,
          0.5689364413350426,
          0.08857645918791747,
          0.3052526137731776,
          -0.5523182128099331,
          0.16020387347979986,
          -0.5458740419297373,
          0.20782813020934654,
          -0.11509238138499871,
          -0.19140931584853868,
          0.4843845438645329,
          0.45314959736786653,
          0.38033347897076547,
          0.1451613024255842,
          0.41906638561154336,
          0.2597227562969583,
          0.14985246220487056,
          0.17266811121657244,
          0.22196407558436715,
          0.20225819874224996,
          -0.16578103550264464,
          -0.22143474862929866,
          0.5862486229122528,
          0.08361411414799343,
          -0.5955854371762572,
          0.8304965406840603,
          -0.133176372716682,
          -0.08087789753539111,
          0.46130855088769257,
          0.22223686148896912,
          0.3588675620538371,
          -0.12748123479141663,
          -0.21926573431213306,
          -0.008746089843383542,
          -0.36460467190463935,
          -0.4153114825314475,
          0.02259571187153268,
          -0.3817344795922069,
          -0.18226043328853336,
          -0.42122517959577366,
          0.35584289069952385,
          0.2960421424544568,
          0.2185236788533297,
          0.4065533291721606,
          -0.26959343997843904,
          -0.36960457918207695,
          -0.4692626897574443,
          0.4446208274159952,
          0.28649513676211336,
          -0.11744160404315644,
          0.1026859242988531,
          0.08443448956137779,
          0.29604174084074536,
          0.003105947432918585,
          -0.10552256232806462,
          -0.2257363720189396,
          0.12820205325950101,
          -0.13522031050699732,
          0.36801689908307494,
          -0.3900900779801543,
          -0.3125855771939746,
          0.10936464442779212,
          0.26466974482878686,
          0.3139574135773265,
          -0.013173534847173941,
          0.40511690547078333,
          0.22864587577472661,
          -0.07140870659200745,
          -0.2798804785506369,
          0.3334992364906893,
          -0.03436687550952704,
          0.2948759873934507,
          -0.5765601645458045,
          -0.3375729576272335,
          -0.09772728016498784,
          -0.31367510655860503,
          -0.2567602188226957,
          -0.009900352795906744,
          -0.23605048008000362,
          -0.1424222359676758,
          -0.13294202306572303,
          -0.18740581529041217,
          -0.4822360271947956,
          -0.4216326859713518,
          -0.3525442134976923,
          0.1903805610448115,
          0.2722823273861748,
          0.12973653655068648,
          -0.38998089664307933,
          0.5132454411389784,
          -0.32561325865662627,
          0.03461852011161673,
          0.2741071115348626,
          -0.07842112143658977,
          0.5295505214051641,
          0.1289061427604881,
          0.49670522605380063,
          -0.17998753392118017,
          -0.5639578503135994,
          0.3014208548137329,
          0.5506902408429621,
          -0.46459405750510974,
          0.22979615605393713,
          0.2447669796118092,
          -0.40064719099114177,
          0.009669363643293504,
          -0.1977794296298417,
          -0.2674520691938021,
          -0.41249436811445755,
          0.335314794474092,
          0.274892255308553,
          0.11952342334081491,
          0.027681653995552898,
          -0.17931571381472347,
          -0.2858181402038496,
          -0.01728084392700239,
          0.26534890304046727,
          -0.1661403188003232,
          0.23121910920727937,
          0.28747020695227915,
          -0.5180562449914792,
          0.2770506559639968,
          -0.4351524824319273,
          0.2868944861526964,
          0.06350762144470898,
          -0.14829318005611303,
          -0.43565512915907967
         ],
         "y": [
          -0.24659106597545546,
          -0.17450285217847566,
          0.06725833080058527,
          -0.6037666195782186,
          -0.04386223185487946,
          -0.44809651038376924,
          0.034608302453375164,
          -0.18831337331317222,
          -0.18303780905975492,
          -0.34650226348874735,
          -0.29436103958522897,
          0.03762040441652392,
          -0.12184259832589607,
          -0.4991703098060309,
          0.02326629129894169,
          -0.11287758337705871,
          -0.022890482347090752,
          -0.6167930414074967,
          -0.22700946124786645,
          -0.4687004911989251,
          0.04596945361136686,
          -0.3378581051042476,
          0.40853184600845016,
          -0.2925414392791026,
          -0.010828993504294943,
          -0.1842250498730962,
          0.036586186151803035,
          -0.574748319363337,
          0.004922110701967441,
          0.08128070857376829,
          -0.03041463377369037,
          -0.16896962907352175,
          0.34920687033850817,
          -0.018094028546904766,
          -0.05526086338661427,
          -0.25935068893897023,
          0.08114426149875219,
          0.18720143150343033,
          -0.13734087911401055,
          -0.044929789278879466,
          -0.5486905268035442,
          0.05930311678631032,
          -0.4651427009832833,
          0.10584740713954782,
          -0.15982655428195705,
          -0.358590161728175,
          -0.17951562532138882,
          -0.35642593471828254,
          -0.138925852330022,
          -0.19978987613160712,
          -0.3129777636038783,
          0.2257285330242018,
          -0.22876653795956367,
          0.007178236820782712,
          0.335342083677095,
          -0.16843219801120238,
          -0.07903081098372847,
          -0.05820346233423922,
          -0.14547093530094177,
          -0.13721253696299368,
          -0.20266716934011014,
          0.018063137975918308,
          -0.2882722831992769,
          -0.4331929242216738,
          0.27370668534267933,
          0.16925816001641641,
          -0.40288728916613764,
          -0.48521513216792694,
          -0.2400515863780754,
          -0.38061517383720145,
          -0.44233954640687667,
          0.4668192068162882,
          -0.19688656183634773,
          -0.4910381615472575,
          0.0377864704515863,
          -0.1805177417877603,
          -0.04865519817200094,
          0.04806937867338506,
          -0.24106326085534624,
          0.8005045853419471,
          0.14406117088558196,
          -0.16591743792281777,
          0.22629580759720258,
          -0.3654292821283964,
          0.35340355384397454,
          0.010092823358716802,
          0.3164987364304433,
          -0.3201273240348522,
          0.05524863443911172,
          0.34218335430314445,
          -0.05465074948705274,
          0.964986018010351,
          0.22189102194709365,
          0.8738795053579098,
          0.6077198816315744,
          -0.35642589082420567,
          0.24119541449264642,
          -0.06358096476362736,
          -0.4057509049774051,
          0.005872843175359338,
          0.8340381146876545,
          0.30450885595339167,
          -0.3883732420988562,
          -0.45367823988819345,
          0.08998337664092555,
          0.8340381146876545,
          0.0941649838222859,
          0.13720192807559092,
          -0.27728808674461985,
          -0.3686150244213906,
          -0.03320924259576509,
          -0.17106678154803368,
          0.28696623975595015,
          -0.24507741725520543,
          -0.505757057477907,
          0.17697592825082434,
          0.351969396345826,
          -0.11631948892990505,
          0.3532620442696288,
          -0.1028512569015441,
          0.2784590773171761,
          0.2794596005137109,
          -0.1482035843316474,
          0.18625102586889583,
          0.22629580759720258,
          -0.35768253308506814,
          0.42769754724471,
          0.22560645633433513,
          -0.08052516834209468,
          -0.4111988640385199,
          -0.0432702685526639,
          0.2755321503306242,
          0.5835047913946697,
          -0.01854394202428595,
          -0.43501383622567197,
          -0.3212608510776466,
          0.051923982619356525,
          0.04957733550755217,
          0.6420435651424642,
          0.5066885910062441,
          -0.020347219509568994,
          -0.05762899387576745,
          -0.2735714097473019,
          0.0675563665192738,
          -0.46643379195485396,
          0.2588884558301771,
          -0.361618725765978,
          0.246220120968659,
          -0.1322043313103411,
          0.059283027402426094,
          -0.11599524897443136,
          -0.1469291824858343,
          0.08791453756580259,
          0.10830206842937919,
          0.27857428839280035,
          -0.3076128979903324,
          0.5521368040289337,
          -0.0027415020747666922,
          0.8748922828402192,
          0.14145524108159974,
          -0.5242816728829958,
          -0.038684316358212525,
          0.34677272697269657,
          -0.2534796868254042,
          -0.11993300740381888,
          1.002918237445691,
          -0.06468558851153679,
          -0.08388279138749152,
          0.03883585152075137,
          -0.0371660886991458,
          0.015189756366463601,
          -0.04312689649738417,
          0.15657756293156266,
          -0.3119720293852383,
          -0.06818864351202819,
          0.1689995459833675,
          -0.5388819630425208,
          0.11661270239030538,
          -0.2246953825719019,
          0.32141071710754365,
          -0.21307106597609704,
          -0.0711313605711153,
          -0.48128733962546033,
          -0.1899950690349462,
          0.3612492638296051,
          0.004548973783100101,
          0.3196646234321531,
          0.11022173788164204,
          0.1906509863065864,
          0.1269475238438404,
          0.34513791608829,
          0.16312370864530204,
          -0.28317292727746735,
          -0.19580976573433145,
          0.04614091441445694,
          -0.19639387468660338,
          0.49208277149673985,
          0.20477243525347524,
          -0.0733980652321842,
          -0.13414402838445258,
          -0.31753382708415295,
          -0.005869991592090265,
          -0.12890695598057617,
          0.21511882444704947,
          -0.36882845420578053,
          -0.1524954215308906,
          -0.21480969415398016,
          0.12393522309307538,
          -0.029185305592218425,
          -0.006824153761936691,
          -0.3268814648553444,
          -0.49586576201569965,
          -0.09888789996240452,
          -0.13185166459277056,
          0.1449435269587745,
          0.3024422735522755,
          0.09937785899521275,
          0.6616464669232601,
          0.5020788754021291,
          0.4871965087149048,
          0.7835807654752264,
          0.8470440214906313,
          -0.1259859979108331,
          -0.12353436784657185,
          0.2178345764904389,
          -0.09352958160767794,
          0.5058104147324664,
          0.34434682281995643,
          -0.3455840501924189,
          -0.3793598283611658,
          0.053029676510255586,
          -0.14675908711534824,
          0.06951245780908766,
          -0.22018906893189913,
          0.3235944673845061,
          -0.0642317020506425,
          0.1244416040792235,
          -0.2349567918071437,
          -0.003485237891655612,
          -0.1557151558108673,
          -0.23112525832592667,
          -0.24632780709396215,
          -0.13400907009187588,
          -0.03848939971994706,
          -0.030546279167122426,
          0.8153731688175558,
          0.5199663028326481,
          0.6643877126911297,
          0.3314126822355805,
          -0.12863729836206816,
          0.3324442627193833,
          0.07670457686957537,
          -0.09525892833833201,
          -0.32709182886533433,
          -0.28044991956256377,
          0.6419424260008952,
          0.13622837563168147,
          -0.2571322341453777,
          -0.5104468722389361,
          -0.03491206842383205,
          -0.12937073767429833,
          -0.23252379124974756,
          0.1843371042347727,
          -0.25737688203510883,
          0.06587661168306382,
          0.2933234614795207,
          -0.18579141967947596,
          0.7360931174914608,
          -0.4685781356584575,
          0.0322207726309356,
          0.06939430664266062,
          0.38204342798497604,
          0.4295661787673851,
          -0.3267219647857685,
          -0.04199311437768841,
          -0.5028668620939808,
          -0.35675142273263183,
          0.5743847932853732,
          0.1405079471022189,
          -0.39536012944832616,
          -0.4106502824996978,
          -0.16100110046850666,
          -0.14537236948212176,
          -0.5031380949529421,
          0.2801108148397219,
          -0.22913535288221779,
          -0.24799541184536866,
          0.11031269119118481,
          -0.17916853832096527,
          -0.5895843091852166,
          0.35872568583519565,
          -0.04570264897138178,
          -0.2764387191703635,
          0.02145260044866462,
          0.08534077595204596,
          -0.28780443333279615,
          -0.05190857084120317,
          0.6676499735680291,
          -0.13507498009501323,
          0.2901210267803227,
          0.14385335570766977,
          0.281600320486302,
          -0.06993300723743963,
          0.22664623314473323,
          -0.24209067169521897,
          0.12787780431333573,
          0.1497764756911561,
          -0.2661309699304782,
          -0.020579478208882118,
          -0.09876445496822643,
          0.44073314882243264,
          -0.11481736568409225,
          0.9372000803709771,
          -0.16072900834759266,
          0.09295462524430556,
          -0.1386116585835872,
          0.1290141727034562,
          0.5204254550082761,
          -0.46021747524150886,
          -0.35221711512398435,
          0.012675089215121565,
          0.7023354247996638,
          0.0664917311711434,
          0.3968116825523295,
          0.5477248235031115,
          -0.08546195575825132,
          -0.027063275138355877,
          -0.258221183390658,
          -0.33404879136729715,
          -0.4157340554225611,
          -0.35740349401554367,
          -0.11911319467965038,
          0.20117127810215954,
          0.2615942548305799,
          -0.18494924446377747,
          -0.32107924306911617,
          -0.005684017235601601,
          -0.19135769935571598,
          0.10120476723933959,
          0.015455735627267108,
          -0.08700711915531985,
          0.4467249927447611,
          0.19989320990714268,
          0.40822255782758815,
          0.031193177544281286,
          1.2844482648692324,
          0.6576764350175196,
          -0.40991448105750794,
          0.5122160330636154,
          -0.540983958131795,
          0.1889432949188064,
          0.3105546328236653,
          0.20795433196756566,
          0.25431513457851207,
          -0.012228135088911981,
          -0.0973963943653398,
          -0.04471898070178289,
          -0.3385437062500463,
          -0.3029095842906421,
          0.05907948602682835,
          -0.1362873307947459,
          0.4126536271858805,
          0.0260423768152596,
          -0.17268239206395808,
          -0.24228512450679926,
          -0.14006540047347887,
          -0.3937298634667605,
          -0.13277091524850365,
          0.24275917832235427,
          0.29486440605021996,
          -0.22989980276966834,
          -0.28859060101787565,
          0.20030214167109014,
          0.08695011197931782,
          -0.3313278168694382,
          0.03463155334615392,
          0.02233093841417447,
          0.1712788863764834,
          -0.3632299578890248,
          -0.07269089194768828,
          0.0346453258156871,
          0.039438713614268275,
          -0.2536899864422343,
          0.34116985519006804,
          0.3981628423484381,
          0.18818338106807053,
          -0.045601893211998,
          -0.0629713501906226,
          0.025230517234963196,
          0.5524540907150426,
          0.2099318552718612,
          0.3410229488235787,
          -0.04498436875366386,
          0.03500432971091831,
          0.4596077202631479,
          0.16987350094963358,
          -0.2517629092448208,
          -0.22768910857735877,
          0.3313902397766352,
          -0.08143532818059665,
          0.33118570266615777,
          -0.47785114393912065,
          -0.12192803267459076,
          0.30964285448131235,
          0.031278933502651846,
          -0.06697861080908617,
          0.5260260644037421,
          0.32783689162924706,
          0.8129172794332857,
          -0.13369659227637187,
          0.08650215534373136,
          0.4893754209506607,
          -0.07705272725918814,
          -0.3026925421550332,
          0.10802240628763655,
          -0.13817860514725389,
          -0.04226308208726777,
          0.3691209181199785,
          0.03069722050403837,
          -0.4154363154149623,
          0.0708961706990517,
          0.06894592510115091,
          0.06868913592337964,
          0.17251921302340817,
          -0.07812283378846951,
          0.06747422999480816,
          0.18382097230441735,
          -0.1296968484600385,
          -0.4843564951679816,
          0.07026396594310506,
          -0.3768867104596547,
          0.3702681771688325,
          -0.4098765114668158,
          0.26259060357404795,
          -0.4689333458395451,
          -0.2768385581047001,
          0.043087512205852156,
          -0.02880390633321428,
          0.03492783616724489,
          -0.14392610955718269,
          -0.41585160551310335,
          -0.03457588130103343,
          0.16333647879164065
         ],
         "z": [
          -0.3153507282717854,
          -0.27579183730015555,
          0.4750122354335784,
          0.2977754248340788,
          -0.32661529311291404,
          -0.1733534758571575,
          -0.22291535937899362,
          -0.33637777810914005,
          0.3753657195214186,
          -0.13659296993139008,
          -0.33567227345067613,
          0.3677485154099944,
          0.424591545436237,
          -0.3503128679752153,
          -0.2116800975210566,
          -0.24954892980165896,
          -0.13070886858193495,
          0.0653559413004741,
          -0.33709978642734195,
          0.19340030423696714,
          -0.19654519389410938,
          -0.40438986087507833,
          -0.1943516464047939,
          -0.32693249018896764,
          -0.23830057037499586,
          0.1411893124071166,
          0.23210113585779016,
          0.24711908981874334,
          -0.22254995098547115,
          0.35806159432791557,
          0.36606395829510985,
          0.0714240732596792,
          -0.12708143230652508,
          -0.20616422344410568,
          -0.22841397266852115,
          -0.31718853467060104,
          0.5363084293777465,
          0.4245138034454149,
          0.4575230527577159,
          -0.3378394456783537,
          0.24080654938281162,
          -0.25911968684763886,
          -0.34964573196885557,
          -0.16696966748829314,
          -0.010294964593928464,
          -0.26816734496163985,
          0.10959404372318884,
          0.21472738251164503,
          0.3350641459779657,
          -0.2869195753233294,
          0.29944022221169764,
          -0.17344039662793656,
          0.4629142690879437,
          -0.16527389177895388,
          -0.07510874799685673,
          0.3861350072739655,
          0.24625729707118504,
          0.3845263419083368,
          0.34322210961690186,
          0.28707468881606085,
          0.2916052144318441,
          -0.21947443800793984,
          -0.28363244279545663,
          0.3000933995763233,
          -0.09790288985305744,
          -0.27920009042145627,
          -0.3280345613573668,
          0.30927334243053195,
          -0.3030361314573572,
          -0.19981490612175778,
          -0.07584981499286644,
          0.7381737960565444,
          0.3072681715249585,
          -0.053612465699177915,
          -0.2772702702454383,
          0.299691477445451,
          -0.27085491838025055,
          0.03963524232506701,
          -0.2679748155477388,
          0.03532394993894917,
          -0.07629559943316405,
          -0.26071409150658753,
          -0.0012191560899527142,
          -0.09978554714351358,
          0.06932220918995448,
          -0.258929772684582,
          -0.2966472129975806,
          -0.23243242951957915,
          -0.19383114487711758,
          0.005556934707145902,
          -0.02342312334402789,
          -0.11410648499980312,
          0.11197943752687164,
          0.20022314710137418,
          -0.11709861927393439,
          -0.03149308692411129,
          -0.18415089813716562,
          0.36871348967618534,
          0.6121087811417056,
          -0.1910305843569527,
          0.048162482577405415,
          0.1511128881498109,
          0.09646780875937686,
          -0.16500864006456614,
          0.4135076916933767,
          0.048162482577405415,
          -0.0822710166870569,
          -0.20475944087020403,
          -0.37757756705060697,
          -0.033061169415573674,
          -0.3221986313935052,
          0.4969328942599841,
          0.19414451498392649,
          0.5441714965403365,
          -0.20097835175081077,
          -0.17229227327666566,
          0.31607637548009837,
          -0.0015089833267757057,
          0.069024684575231,
          -0.21680340282752905,
          0.0917289648554967,
          0.1162914125076918,
          -0.11499703814526877,
          -0.1995224859910124,
          -0.0012191560899527142,
          -0.031639992855097526,
          0.352990076633963,
          0.12988621891629779,
          0.44430866532180513,
          -0.343048126870361,
          0.04424646966174898,
          -0.0011569182820275444,
          -0.18590188364880453,
          0.04869536502145271,
          0.3125398023721335,
          -0.3241626452232516,
          -0.2010400233274536,
          -0.20863256732818547,
          -0.07042640038451506,
          0.03522515245853907,
          0.014153924785705208,
          -0.333990817379962,
          -0.2599608748409382,
          -0.2149866575584792,
          0.08545261985717625,
          0.05392957845187173,
          0.3025701116115516,
          -0.153705006209538,
          -0.052333533302227925,
          -0.08164013900642536,
          0.4463382021000546,
          -0.0231383242122306,
          -0.17589238721059877,
          -0.14077148574928927,
          -0.14910257974249388,
          0.17068999958637582,
          -0.030560177111991486,
          0.11648988519914448,
          0.1965660437341883,
          0.14480712884553482,
          0.1878081954211704,
          0.2628378263083382,
          0.13017735050276497,
          0.10148908465204465,
          -0.14421484966379353,
          -0.14079186652194256,
          -0.11290452463969673,
          0.290413365860406,
          0.003905010818244872,
          0.27372317975009985,
          0.14716441676140132,
          0.12793664565009716,
          -0.05812390920359126,
          -0.1954869707844724,
          0.3352722836237671,
          -0.06403730082839575,
          0.038510243978209964,
          -0.18687651189637128,
          0.3856161408648299,
          0.3453130403622233,
          0.3701225787029493,
          -0.21883838928870536,
          -0.28901364028346105,
          -0.014118524266762687,
          0.15178272213385718,
          0.06421381504078023,
          0.38209650386477645,
          0.3147997731905637,
          -0.0807890457751028,
          -0.07204552670669725,
          0.5351316132315136,
          0.11417882226003864,
          0.3796642330452727,
          -0.38086359458434804,
          -0.1780709128449576,
          -0.3805649427295379,
          0.33188593699113117,
          0.1334005674725935,
          -0.30564467040692644,
          -0.012192321994960422,
          0.13315443729960816,
          0.23034474912683392,
          0.21066412013581312,
          0.29378659117825756,
          0.5783551595585337,
          -0.3221680111136557,
          -0.2892660130169671,
          -0.19573577686490293,
          0.4406095362863622,
          -0.27318638588739574,
          0.3343679155921339,
          0.27314134704470855,
          -0.16802388919098732,
          -0.06841708286777944,
          -0.3008625081733505,
          -0.21216476582346544,
          0.03377578092890593,
          -0.31139214128133186,
          0.48645653727735005,
          -0.2064274578556294,
          0.10917222483429026,
          -0.08094875314271528,
          -0.13429961525389195,
          -0.0407933726604852,
          -0.08707923101616259,
          -0.31683857461406706,
          -0.11558371254296561,
          -0.17534281085205483,
          -0.32820927555144513,
          -0.11151785602837543,
          -0.34175072557105174,
          -0.2176007428205647,
          -0.17672956503117387,
          0.47543437731142535,
          0.1803045039393971,
          0.31607108051957583,
          0.4209462518873618,
          0.2685589051060215,
          0.12414428966021188,
          -0.10311679121248347,
          -0.19349584801595066,
          -0.18658083069744305,
          -0.10042261123641476,
          -0.24881363473453502,
          -0.07447904672181628,
          -0.047596973093937386,
          -0.11815651555631543,
          -0.009852864594416802,
          0.04882113369775784,
          0.31025371578083505,
          0.4592261615164062,
          -0.19786710905392244,
          -0.2709820386840202,
          -0.24275370778406966,
          -0.09974296260046903,
          -0.0035564716372337565,
          0.41133396805020694,
          -0.2520471304637511,
          -0.3606625912200407,
          0.40541023768474826,
          -0.22293631386895352,
          -0.27498958310399196,
          -0.07499785118303207,
          -0.21129710869046395,
          -0.2829613562238562,
          -0.21136432288893423,
          -0.23904660256607588,
          0.07706987220121385,
          0.10937490882912636,
          -0.18973237839497656,
          -0.18893248388692216,
          -0.049234074185722114,
          0.024209867230426292,
          0.2783383841111132,
          -0.2295753785269302,
          0.28949326344498166,
          -0.34142480309884315,
          -0.09688875409673338,
          -0.19570875352969375,
          -0.2024311679174696,
          -0.1283210357048604,
          -0.04971714704755374,
          -0.058988587179448895,
          -0.20898525429920164,
          0.17962227697923944,
          -0.31541741914987037,
          -0.2995666399006074,
          -0.2645315385149484,
          -0.378395478114936,
          -0.015740313217026694,
          0.09547884872581726,
          0.14381000747412032,
          0.3008417450897492,
          -0.1755823749777424,
          -0.013272196795414148,
          -0.08050689618666282,
          0.297877840494861,
          -0.11073956100288421,
          0.47257215036106476,
          -0.13751880015783044,
          -0.07705209268059365,
          -0.2828018616152355,
          -0.007802209584200392,
          -0.1357069987901697,
          -0.029788271896066566,
          0.4382415324300156,
          -0.056467864807357424,
          0.35530183084731404,
          -0.002897254377327936,
          -0.03249079094269184,
          -0.08848116806315737,
          -0.11439701691607922,
          0.35829028821686426,
          -0.28999509174124216,
          0.01121292874075412,
          0.06774679899292786,
          0.022815001162702155,
          -0.20182096697004537,
          0.26153860476914964,
          -0.3353257552548439,
          0.29914935203649373,
          0.3779243635493239,
          0.01574527484522651,
          -0.15453498532254417,
          -0.20671779207173174,
          -0.2808327588284614,
          -0.001962040610278317,
          0.2924184751990835,
          -0.10323908894725838,
          -0.20728828425663487,
          0.333316335943459,
          -0.0712584755769794,
          -0.04900411160965517,
          -0.041491174985319755,
          -0.05734251566376588,
          0.19128202570114708,
          -0.03315435780663506,
          0.22788215288246405,
          -0.3401508254052169,
          0.08460338760542144,
          0.37220082788211245,
          0.003287447021354037,
          -0.20725998704568027,
          0.30078022331173426,
          0.21158054249042113,
          0.05160142980972974,
          0.3645310021384682,
          -0.19746058003672964,
          -0.03354660174904857,
          0.327594297518889,
          0.421368953015988,
          -0.10182116475204885,
          0.2805944096522402,
          -0.08881999455165888,
          -0.14671835529642283,
          0.042486968387678396,
          0.3978213853205062,
          0.3064320111709795,
          0.32163573462246375,
          -0.32505903515550516,
          0.04609988351946523,
          -0.23136036185754874,
          -0.017025161602994766,
          -0.09174679854761011,
          -0.22450913042739903,
          -0.2948421555480296,
          0.010557156080984198,
          -0.16007994287569832,
          -0.24906592775537242,
          0.023305712170132775,
          -0.006898367638834745,
          0.006494159017394827,
          0.030240427464742863,
          0.2742645256042756,
          -0.0748519635033848,
          -0.17316853055609363,
          -0.1531218853223189,
          -0.16600207415301488,
          0.22952140661425133,
          0.1057272225980747,
          -0.24078502997859103,
          -0.32715834534759913,
          0.07723225233245193,
          -0.29688423958985205,
          0.18540611218952951,
          0.052339307577223604,
          -0.32388119316020514,
          0.3312859541420014,
          0.01628913883077451,
          -0.10899829978841621,
          -0.18365148500652365,
          0.055371003306447675,
          -0.2793177620698692,
          -0.2813725442726,
          0.1387210810484682,
          0.2100522431924348,
          0.0899841799321402,
          0.327260724403475,
          -0.1962252842580189,
          0.333689856389711,
          -0.1445571599103541,
          0.22198640252392704,
          0.025114842119055087,
          -0.12714731539203514,
          -0.022864216551260717,
          -0.054506724342819744,
          0.16347017821800336,
          0.10753383186406419,
          0.20575455597639233,
          0.07833720921009008,
          0.38450027066233894,
          0.5065884818013562,
          -0.11078486826954115,
          -0.12299484468450576,
          0.0557741302323664,
          -0.24652372181005602,
          -0.14066567511190559,
          -0.18930392872133758,
          0.16312649099160767,
          0.4237347249130521,
          -0.22289089663183298,
          -0.2838774825281649,
          0.5144520088588487,
          0.04582625192944987,
          0.35325327819535207,
          -0.1594051759765351,
          -0.11257857125726303,
          -0.28689732767435755,
          -0.2138478908751632,
          -0.06775372261465686,
          0.22274248624607754,
          -0.20457862272250568,
          0.36065388973397494,
          -0.08343559971836069,
          -0.36957478880467487,
          0.2369253872256407,
          -0.1342656057930032,
          0.039089642832714135,
          0.22896383645709634,
          -0.3584558643149152,
          -0.20888637939815397,
          -0.11520353851659021,
          -0.017816794960512885
         ]
        },
        {
         "customdata": [
          [
           "Volando - Remix",
           true
          ],
          [
           "Tiroteo - Remix",
           true
          ],
          [
           "Sobrio",
           true
          ],
          [
           "STAY (with Justin Bieber)",
           true
          ],
          [
           "TENGO FE",
           true
          ],
          [
           "Entre Nosotros",
           true
          ],
          [
           "200 COPAS",
           true
          ],
          [
           "París",
           true
          ],
          [
           "Life Goes On",
           true
          ],
          [
           "SI TÚ SUPIERAS - Bonus Track",
           true
          ],
          [
           "Wasa Wasa",
           true
          ],
          [
           "Una Nota",
           true
          ],
          [
           "Don't Be Shy",
           true
          ],
          [
           "Qué Más Pues?",
           true
          ],
          [
           "Miénteme",
           true
          ],
          [
           "Pepas",
           true
          ],
          [
           "Pareja Del Año",
           true
          ],
          [
           "Muy Feliz",
           true
          ],
          [
           "Dos Problemas (feat. Big Soto) - Remix",
           true
          ],
          [
           "TE MATA",
           true
          ],
          [
           "Volví",
           true
          ],
          [
           "INDUSTRY BABY (feat. Jack Harlow)",
           true
          ],
          [
           "Jordan",
           true
          ],
          [
           "Woman",
           true
          ],
          [
           "JORDAN IV",
           true
          ],
          [
           "Beggin'",
           true
          ],
          [
           "Yonaguni",
           true
          ],
          [
           "512",
           true
          ],
          [
           "Cúrame",
           true
          ],
          [
           "Hace Tiempo",
           true
          ],
          [
           "14 De Febrero",
           true
          ],
          [
           "Sal y Perrea",
           true
          ],
          [
           "Bandido",
           true
          ],
          [
           "HULU",
           true
          ],
          [
           "HECTOL",
           true
          ],
          [
           "EL MAKINON",
           true
          ],
          [
           "COMO CUANDO",
           true
          ],
          [
           "EL PADRINO",
           true
          ],
          [
           "DÁKITI",
           true
          ],
          [
           "2/Catorce",
           true
          ],
          [
           "PURRITO APA",
           true
          ],
          [
           "911 - Remix",
           true
          ],
          [
           "CORONE",
           true
          ],
          [
           "FUMETEO",
           true
          ],
          [
           "Poblado - Remix",
           true
          ],
          [
           "CHIMBITA",
           true
          ],
          [
           "AM Remix",
           true
          ],
          [
           "FERXXO VI",
           true
          ],
          [
           "Botella Tras Botella",
           true
          ],
          [
           "XXXX",
           true
          ],
          [
           "Todo De Ti",
           true
          ],
          [
           "La Curiosidad",
           true
          ],
          [
           "Fiel",
           true
          ],
          [
           "LA NOCHE DE ANOCHE",
           true
          ],
          [
           "Fiel - Remix",
           true
          ],
          [
           "In Da Getto",
           true
          ],
          [
           "IMPOSIBLE - REMIX",
           true
          ],
          [
           "In Da Getto",
           true
          ],
          [
           "Bebé Que Bien Te Ves",
           true
          ],
          [
           "Poblado - Remix",
           true
          ],
          [
           "Qué Más Pues?",
           true
          ],
          [
           "Ley Seca",
           true
          ],
          [
           "Hawái",
           true
          ],
          [
           "Ella",
           true
          ],
          [
           "Alguien Más",
           true
          ],
          [
           "Vestido",
           true
          ],
          [
           "La Venganza",
           true
          ],
          [
           "Te Acuerdas De Mí",
           true
          ],
          [
           "Si Te Atreves",
           true
          ],
          [
           "Una Locura",
           true
          ],
          [
           "Butter (feat. Megan Thee Stallion)",
           true
          ],
          [
           "F40",
           true
          ]
         ],
         "hovertemplate": "top50=%{customdata[1]}<br>Principal Component 1=%{x}<br>Principal Component 2=%{y}<br>Principal Component 3=%{z}<br>song=%{customdata[0]}<extra></extra>",
         "legendgroup": "True",
         "marker": {
          "color": "#EF553B",
          "symbol": "circle"
         },
         "mode": "markers",
         "name": "True",
         "scene": "scene",
         "showlegend": true,
         "type": "scatter3d",
         "x": [
          -0.08127849573824586,
          -0.25660453702674413,
          -0.09123396639801092,
          0.3120210676216739,
          -0.1269985007432474,
          0.04588233920578492,
          -0.21638935773129195,
          0.5209261973980289,
          0.425385448249132,
          0.15069948046107498,
          -0.24778125280830332,
          0.04522366083916913,
          -0.5119712163281179,
          -0.4377799669319394,
          0.08786473687010483,
          -0.20367086626443817,
          0.0017391814966957234,
          -0.41792288179042286,
          -0.09255517141870105,
          -0.4034311577834944,
          0.25384535997235724,
          -0.5377802160346175,
          -0.5064033824110272,
          -0.1906484885060025,
          -0.035467203240896444,
          -0.5320708350082601,
          0.3954164177131245,
          0.059508540977862096,
          -0.128292715583102,
          -0.5254314225445859,
          -0.12981767461284033,
          -0.5758178601957409,
          -0.2816767246093361,
          -0.2248270922380439,
          -0.09978788642303738,
          0.0582175256356947,
          -0.3663253648466238,
          0.4416125693290841,
          0.31618022825904596,
          0.35560258596611455,
          0.2625293255159585,
          -0.28671936691413175,
          0.2686295367582159,
          -0.029001182387663155,
          0.05609072558326359,
          0.30029966369164657,
          -0.1724820631924009,
          0.8047498603276756,
          0.4965225453998112,
          -0.3243445821180995,
          0.2200697708255107,
          -0.5278349737108208,
          -0.046521321707633595,
          -0.18254002930613344,
          -0.060243498092293145,
          -0.3901838320871892,
          -0.4265952009434446,
          -0.3998080537643015,
          0.25179324893707833,
          0.06312796915285317,
          -0.4311166624487887,
          -0.3208624930420839,
          -0.126550626982128,
          -0.1345804285850699,
          -0.49219784414813317,
          -0.0749308115005246,
          0.2475412524084049,
          -0.44810576197625074,
          0.3224654591854835,
          -0.14752412496225087,
          -0.3502551589650369,
          -0.1113345344668065
         ],
         "y": [
          -0.05824451417029026,
          0.2931083218336971,
          -0.29118227699318655,
          -0.3562916994576391,
          0.05217218497376801,
          0.03426659656551576,
          0.40297817447638123,
          0.04820772867177364,
          -0.1168923785559614,
          -0.04678099598211717,
          -0.02639823546941568,
          -0.4346770703054856,
          0.14739835081436248,
          -0.18285888846976542,
          -0.28541023838813806,
          -0.07682066304652457,
          -0.10804107704833582,
          0.26466284330330986,
          0.16930212194124208,
          -0.09579937063595621,
          -0.3744111412356666,
          -0.07712184195075696,
          -0.08993772001730244,
          -0.29395502120458694,
          -0.04079609699069388,
          0.08622212184816022,
          -0.1963188482691776,
          0.006043257758754396,
          0.48755228845859494,
          0.04009801809256707,
          0.4168066748237545,
          -0.06366867118969147,
          -0.05363599211246597,
          -0.17833868854570012,
          0.08571739840062721,
          0.0789356150797181,
          0.1233886783083059,
          -0.2800029316726538,
          0.335342083677095,
          0.26434536480109866,
          -0.3082538486037838,
          -0.08016110169674139,
          -0.3708790837606925,
          -0.21952982243081212,
          -0.2263407142667093,
          -0.35812486375588876,
          -0.21063269820580638,
          0.8586655736535705,
          0.015575026634723928,
          0.29260807415221923,
          -0.04369732548698334,
          0.2279181390099853,
          0.13660507778124797,
          0.06899238107720372,
          0.12138481364636672,
          -0.15469054636998458,
          0.050797206209659954,
          -0.16810432708585676,
          -0.3823575266197552,
          -0.21541011736397062,
          -0.17245479359609822,
          -0.038209440081795686,
          -0.17461672488582247,
          0.06240346493623328,
          -0.05522650440017568,
          -0.040687948010556106,
          -0.0797316821468534,
          -0.19880289954159763,
          -0.33219840678023327,
          -0.3345409036864093,
          -0.061953967501880786,
          -0.14392289749848056
         ],
         "z": [
          0.2292578715269571,
          -0.05377921113349972,
          0.3415958358323392,
          0.28639682611318684,
          0.26304666057943654,
          0.31802399860678826,
          -0.06836445185262666,
          0.3438978278212749,
          -0.36777792962381795,
          0.3778632521843474,
          -0.266407319793004,
          0.3489298201821589,
          -0.002184841603205969,
          -0.23501683657377806,
          -0.3439713548081242,
          0.022181684532777565,
          -0.35430144029592053,
          -0.2135471226793184,
          0.3571554941407317,
          0.38856009448518525,
          0.2954855226308239,
          0.1797488376315784,
          0.4110233620843951,
          -0.20960368542460728,
          0.2969504494479246,
          0.11822016244064569,
          0.3781764342392422,
          -0.3039126120964257,
          -0.09506158554367988,
          -0.26150066803707545,
          0.44475818709011067,
          -0.2463125238818346,
          0.3219275948245122,
          0.31972749471229894,
          -0.24612434196134825,
          -0.2145678276800024,
          -0.2419187505495084,
          0.3227505048197552,
          -0.07510874799685673,
          -0.08357884497090728,
          -0.11322148957661943,
          -0.265959541760752,
          0.23319845337560063,
          -0.29757625507756774,
          -0.2852570327990701,
          0.38738122766891403,
          0.31427278422512256,
          -0.13992695683123502,
          -0.1673917109025288,
          -0.22433090596153324,
          -0.022457102547486896,
          -0.22812551848093013,
          -0.21669760558709603,
          -0.31631021079455673,
          -0.2106954103687544,
          -0.07351373579971779,
          -0.30763307356041086,
          -0.07779547582528618,
          0.20849451132587538,
          -0.28404876532767215,
          -0.23526011733147192,
          -0.14234891703274186,
          0.38649274287419694,
          -0.29723549509206976,
          -0.3176744785314429,
          -0.32289635745099393,
          -0.29175595088376655,
          -0.2944983644256482,
          0.41079121610170627,
          0.26260955730801877,
          -0.10791458591865642,
          0.41529117870881854
         ]
        }
       ],
       "layout": {
        "legend": {
         "title": {
          "text": "top50"
         },
         "tracegroupgap": 0
        },
        "margin": {
         "t": 60
        },
        "scene": {
         "aspectratio": {
          "x": 1,
          "y": 1,
          "z": 1
         },
         "domain": {
          "x": [
           0,
           1
          ],
          "y": [
           0,
           1
          ]
         },
         "xaxis": {
          "title": {
           "text": "Principal Component 1"
          }
         },
         "yaxis": {
          "title": {
           "text": "Principal Component 2"
          }
         },
         "zaxis": {
          "title": {
           "text": "Principal Component 3"
          }
         }
        },
        "template": {
         "data": {
          "bar": [
           {
            "error_x": {
             "color": "#2a3f5f"
            },
            "error_y": {
             "color": "#2a3f5f"
            },
            "marker": {
             "line": {
              "color": "#E5ECF6",
              "width": 0.5
             },
             "pattern": {
              "fillmode": "overlay",
              "size": 10,
              "solidity": 0.2
             }
            },
            "type": "bar"
           }
          ],
          "barpolar": [
           {
            "marker": {
             "line": {
              "color": "#E5ECF6",
              "width": 0.5
             },
             "pattern": {
              "fillmode": "overlay",
              "size": 10,
              "solidity": 0.2
             }
            },
            "type": "barpolar"
           }
          ],
          "carpet": [
           {
            "aaxis": {
             "endlinecolor": "#2a3f5f",
             "gridcolor": "white",
             "linecolor": "white",
             "minorgridcolor": "white",
             "startlinecolor": "#2a3f5f"
            },
            "baxis": {
             "endlinecolor": "#2a3f5f",
             "gridcolor": "white",
             "linecolor": "white",
             "minorgridcolor": "white",
             "startlinecolor": "#2a3f5f"
            },
            "type": "carpet"
           }
          ],
          "choropleth": [
           {
            "colorbar": {
             "outlinewidth": 0,
             "ticks": ""
            },
            "type": "choropleth"
           }
          ],
          "contour": [
           {
            "colorbar": {
             "outlinewidth": 0,
             "ticks": ""
            },
            "colorscale": [
             [
              0,
              "#0d0887"
             ],
             [
              0.1111111111111111,
              "#46039f"
             ],
             [
              0.2222222222222222,
              "#7201a8"
             ],
             [
              0.3333333333333333,
              "#9c179e"
             ],
             [
              0.4444444444444444,
              "#bd3786"
             ],
             [
              0.5555555555555556,
              "#d8576b"
             ],
             [
              0.6666666666666666,
              "#ed7953"
             ],
             [
              0.7777777777777778,
              "#fb9f3a"
             ],
             [
              0.8888888888888888,
              "#fdca26"
             ],
             [
              1,
              "#f0f921"
             ]
            ],
            "type": "contour"
           }
          ],
          "contourcarpet": [
           {
            "colorbar": {
             "outlinewidth": 0,
             "ticks": ""
            },
            "type": "contourcarpet"
           }
          ],
          "heatmap": [
           {
            "colorbar": {
             "outlinewidth": 0,
             "ticks": ""
            },
            "colorscale": [
             [
              0,
              "#0d0887"
             ],
             [
              0.1111111111111111,
              "#46039f"
             ],
             [
              0.2222222222222222,
              "#7201a8"
             ],
             [
              0.3333333333333333,
              "#9c179e"
             ],
             [
              0.4444444444444444,
              "#bd3786"
             ],
             [
              0.5555555555555556,
              "#d8576b"
             ],
             [
              0.6666666666666666,
              "#ed7953"
             ],
             [
              0.7777777777777778,
              "#fb9f3a"
             ],
             [
              0.8888888888888888,
              "#fdca26"
             ],
             [
              1,
              "#f0f921"
             ]
            ],
            "type": "heatmap"
           }
          ],
          "heatmapgl": [
           {
            "colorbar": {
             "outlinewidth": 0,
             "ticks": ""
            },
            "colorscale": [
             [
              0,
              "#0d0887"
             ],
             [
              0.1111111111111111,
              "#46039f"
             ],
             [
              0.2222222222222222,
              "#7201a8"
             ],
             [
              0.3333333333333333,
              "#9c179e"
             ],
             [
              0.4444444444444444,
              "#bd3786"
             ],
             [
              0.5555555555555556,
              "#d8576b"
             ],
             [
              0.6666666666666666,
              "#ed7953"
             ],
             [
              0.7777777777777778,
              "#fb9f3a"
             ],
             [
              0.8888888888888888,
              "#fdca26"
             ],
             [
              1,
              "#f0f921"
             ]
            ],
            "type": "heatmapgl"
           }
          ],
          "histogram": [
           {
            "marker": {
             "pattern": {
              "fillmode": "overlay",
              "size": 10,
              "solidity": 0.2
             }
            },
            "type": "histogram"
           }
          ],
          "histogram2d": [
           {
            "colorbar": {
             "outlinewidth": 0,
             "ticks": ""
            },
            "colorscale": [
             [
              0,
              "#0d0887"
             ],
             [
              0.1111111111111111,
              "#46039f"
             ],
             [
              0.2222222222222222,
              "#7201a8"
             ],
             [
              0.3333333333333333,
              "#9c179e"
             ],
             [
              0.4444444444444444,
              "#bd3786"
             ],
             [
              0.5555555555555556,
              "#d8576b"
             ],
             [
              0.6666666666666666,
              "#ed7953"
             ],
             [
              0.7777777777777778,
              "#fb9f3a"
             ],
             [
              0.8888888888888888,
              "#fdca26"
             ],
             [
              1,
              "#f0f921"
             ]
            ],
            "type": "histogram2d"
           }
          ],
          "histogram2dcontour": [
           {
            "colorbar": {
             "outlinewidth": 0,
             "ticks": ""
            },
            "colorscale": [
             [
              0,
              "#0d0887"
             ],
             [
              0.1111111111111111,
              "#46039f"
             ],
             [
              0.2222222222222222,
              "#7201a8"
             ],
             [
              0.3333333333333333,
              "#9c179e"
             ],
             [
              0.4444444444444444,
              "#bd3786"
             ],
             [
              0.5555555555555556,
              "#d8576b"
             ],
             [
              0.6666666666666666,
              "#ed7953"
             ],
             [
              0.7777777777777778,
              "#fb9f3a"
             ],
             [
              0.8888888888888888,
              "#fdca26"
             ],
             [
              1,
              "#f0f921"
             ]
            ],
            "type": "histogram2dcontour"
           }
          ],
          "mesh3d": [
           {
            "colorbar": {
             "outlinewidth": 0,
             "ticks": ""
            },
            "type": "mesh3d"
           }
          ],
          "parcoords": [
           {
            "line": {
             "colorbar": {
              "outlinewidth": 0,
              "ticks": ""
             }
            },
            "type": "parcoords"
           }
          ],
          "pie": [
           {
            "automargin": true,
            "type": "pie"
           }
          ],
          "scatter": [
           {
            "marker": {
             "colorbar": {
              "outlinewidth": 0,
              "ticks": ""
             }
            },
            "type": "scatter"
           }
          ],
          "scatter3d": [
           {
            "line": {
             "colorbar": {
              "outlinewidth": 0,
              "ticks": ""
             }
            },
            "marker": {
             "colorbar": {
              "outlinewidth": 0,
              "ticks": ""
             }
            },
            "type": "scatter3d"
           }
          ],
          "scattercarpet": [
           {
            "marker": {
             "colorbar": {
              "outlinewidth": 0,
              "ticks": ""
             }
            },
            "type": "scattercarpet"
           }
          ],
          "scattergeo": [
           {
            "marker": {
             "colorbar": {
              "outlinewidth": 0,
              "ticks": ""
             }
            },
            "type": "scattergeo"
           }
          ],
          "scattergl": [
           {
            "marker": {
             "colorbar": {
              "outlinewidth": 0,
              "ticks": ""
             }
            },
            "type": "scattergl"
           }
          ],
          "scattermapbox": [
           {
            "marker": {
             "colorbar": {
              "outlinewidth": 0,
              "ticks": ""
             }
            },
            "type": "scattermapbox"
           }
          ],
          "scatterpolar": [
           {
            "marker": {
             "colorbar": {
              "outlinewidth": 0,
              "ticks": ""
             }
            },
            "type": "scatterpolar"
           }
          ],
          "scatterpolargl": [
           {
            "marker": {
             "colorbar": {
              "outlinewidth": 0,
              "ticks": ""
             }
            },
            "type": "scatterpolargl"
           }
          ],
          "scatterternary": [
           {
            "marker": {
             "colorbar": {
              "outlinewidth": 0,
              "ticks": ""
             }
            },
            "type": "scatterternary"
           }
          ],
          "surface": [
           {
            "colorbar": {
             "outlinewidth": 0,
             "ticks": ""
            },
            "colorscale": [
             [
              0,
              "#0d0887"
             ],
             [
              0.1111111111111111,
              "#46039f"
             ],
             [
              0.2222222222222222,
              "#7201a8"
             ],
             [
              0.3333333333333333,
              "#9c179e"
             ],
             [
              0.4444444444444444,
              "#bd3786"
             ],
             [
              0.5555555555555556,
              "#d8576b"
             ],
             [
              0.6666666666666666,
              "#ed7953"
             ],
             [
              0.7777777777777778,
              "#fb9f3a"
             ],
             [
              0.8888888888888888,
              "#fdca26"
             ],
             [
              1,
              "#f0f921"
             ]
            ],
            "type": "surface"
           }
          ],
          "table": [
           {
            "cells": {
             "fill": {
              "color": "#EBF0F8"
             },
             "line": {
              "color": "white"
             }
            },
            "header": {
             "fill": {
              "color": "#C8D4E3"
             },
             "line": {
              "color": "white"
             }
            },
            "type": "table"
           }
          ]
         },
         "layout": {
          "annotationdefaults": {
           "arrowcolor": "#2a3f5f",
           "arrowhead": 0,
           "arrowwidth": 1
          },
          "autotypenumbers": "strict",
          "coloraxis": {
           "colorbar": {
            "outlinewidth": 0,
            "ticks": ""
           }
          },
          "colorscale": {
           "diverging": [
            [
             0,
             "#8e0152"
            ],
            [
             0.1,
             "#c51b7d"
            ],
            [
             0.2,
             "#de77ae"
            ],
            [
             0.3,
             "#f1b6da"
            ],
            [
             0.4,
             "#fde0ef"
            ],
            [
             0.5,
             "#f7f7f7"
            ],
            [
             0.6,
             "#e6f5d0"
            ],
            [
             0.7,
             "#b8e186"
            ],
            [
             0.8,
             "#7fbc41"
            ],
            [
             0.9,
             "#4d9221"
            ],
            [
             1,
             "#276419"
            ]
           ],
           "sequential": [
            [
             0,
             "#0d0887"
            ],
            [
             0.1111111111111111,
             "#46039f"
            ],
            [
             0.2222222222222222,
             "#7201a8"
            ],
            [
             0.3333333333333333,
             "#9c179e"
            ],
            [
             0.4444444444444444,
             "#bd3786"
            ],
            [
             0.5555555555555556,
             "#d8576b"
            ],
            [
             0.6666666666666666,
             "#ed7953"
            ],
            [
             0.7777777777777778,
             "#fb9f3a"
            ],
            [
             0.8888888888888888,
             "#fdca26"
            ],
            [
             1,
             "#f0f921"
            ]
           ],
           "sequentialminus": [
            [
             0,
             "#0d0887"
            ],
            [
             0.1111111111111111,
             "#46039f"
            ],
            [
             0.2222222222222222,
             "#7201a8"
            ],
            [
             0.3333333333333333,
             "#9c179e"
            ],
            [
             0.4444444444444444,
             "#bd3786"
            ],
            [
             0.5555555555555556,
             "#d8576b"
            ],
            [
             0.6666666666666666,
             "#ed7953"
            ],
            [
             0.7777777777777778,
             "#fb9f3a"
            ],
            [
             0.8888888888888888,
             "#fdca26"
            ],
            [
             1,
             "#f0f921"
            ]
           ]
          },
          "colorway": [
           "#636efa",
           "#EF553B",
           "#00cc96",
           "#ab63fa",
           "#FFA15A",
           "#19d3f3",
           "#FF6692",
           "#B6E880",
           "#FF97FF",
           "#FECB52"
          ],
          "font": {
           "color": "#2a3f5f"
          },
          "geo": {
           "bgcolor": "white",
           "lakecolor": "white",
           "landcolor": "#E5ECF6",
           "showlakes": true,
           "showland": true,
           "subunitcolor": "white"
          },
          "hoverlabel": {
           "align": "left"
          },
          "hovermode": "closest",
          "mapbox": {
           "style": "light"
          },
          "paper_bgcolor": "white",
          "plot_bgcolor": "#E5ECF6",
          "polar": {
           "angularaxis": {
            "gridcolor": "white",
            "linecolor": "white",
            "ticks": ""
           },
           "bgcolor": "#E5ECF6",
           "radialaxis": {
            "gridcolor": "white",
            "linecolor": "white",
            "ticks": ""
           }
          },
          "scene": {
           "xaxis": {
            "backgroundcolor": "#E5ECF6",
            "gridcolor": "white",
            "gridwidth": 2,
            "linecolor": "white",
            "showbackground": true,
            "ticks": "",
            "zerolinecolor": "white"
           },
           "yaxis": {
            "backgroundcolor": "#E5ECF6",
            "gridcolor": "white",
            "gridwidth": 2,
            "linecolor": "white",
            "showbackground": true,
            "ticks": "",
            "zerolinecolor": "white"
           },
           "zaxis": {
            "backgroundcolor": "#E5ECF6",
            "gridcolor": "white",
            "gridwidth": 2,
            "linecolor": "white",
            "showbackground": true,
            "ticks": "",
            "zerolinecolor": "white"
           }
          },
          "shapedefaults": {
           "line": {
            "color": "#2a3f5f"
           }
          },
          "ternary": {
           "aaxis": {
            "gridcolor": "white",
            "linecolor": "white",
            "ticks": ""
           },
           "baxis": {
            "gridcolor": "white",
            "linecolor": "white",
            "ticks": ""
           },
           "bgcolor": "#E5ECF6",
           "caxis": {
            "gridcolor": "white",
            "linecolor": "white",
            "ticks": ""
           }
          },
          "title": {
           "x": 0.05
          },
          "xaxis": {
           "automargin": true,
           "gridcolor": "white",
           "linecolor": "white",
           "ticks": "",
           "title": {
            "standoff": 15
           },
           "zerolinecolor": "white",
           "zerolinewidth": 2
          },
          "yaxis": {
           "automargin": true,
           "gridcolor": "white",
           "linecolor": "white",
           "ticks": "",
           "title": {
            "standoff": 15
           },
           "zerolinecolor": "white",
           "zerolinewidth": 2
          }
         }
        }
       }
      }
     },
     "metadata": {}
    }
   ],
   "metadata": {}
  },
  {
   "cell_type": "code",
   "execution_count": 162,
   "source": [
    "# Perform K-Means\r\n",
    "wcss = []\r\n",
    "X = df_scaled.values\r\n",
    "for i in range(1, 100):\r\n",
    "    kmeans = KMeans(n_clusters = i, init = 'k-means++', max_iter = 300, \r\n",
    "        n_init = 10, random_state = 666)\r\n",
    "    kmeans.fit(X) \r\n",
    "    wcss.append(kmeans.inertia_)\r\n",
    "plt.plot(range(1, 100), wcss)\r\n",
    "plt.title('Elbow Method')\r\n",
    "plt.xlabel('Number of clusters')\r\n",
    "plt.ylabel('WCSS')\r\n",
    "plt.show()"
   ],
   "outputs": [
    {
     "output_type": "display_data",
     "data": {
      "image/png": "[encoded data removed]",
      "text/plain": [
       "<Figure size 432x288 with 1 Axes>"
      ]
     },
     "metadata": {
      "needs_background": "dark"
     }
    }
   ],
   "metadata": {}
  }
 ],
 "metadata": {
  "orig_nbformat": 4,
  "language_info": {
   "name": "python",
   "version": "3.8.11",
   "mimetype": "text/x-python",
   "codemirror_mode": {
    "name": "ipython",
    "version": 3
   },
   "pygments_lexer": "ipython3",
   "nbconvert_exporter": "python",
   "file_extension": ".py"
  },
  "kernelspec": {
   "name": "python3",
   "display_name": "Python 3.8.11 64-bit ('tesis': conda)"
  },
  "interpreter": {
   "hash": "b593be6ec2d2954f27bc2722be29da300fa7dcb24a766e52710030263730092e"
  }
 },
 "nbformat": 4,
 "nbformat_minor": 2
}