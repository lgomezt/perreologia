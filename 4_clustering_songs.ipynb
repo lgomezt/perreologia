{
 "cells": [
  {
   "cell_type": "markdown",
   "source": [
    "Using the data from the audio analysis that Spotify perform to each song we want to build some visualizations to understand the proximities of the songs.\r\n",
    "\r\n",
    "First we are going to perform a PCA to plot the first two and the first three componentes.\r\n",
    "\r\n",
    "Then we will cluster the data using K-means algorithm and visualize the results."
   ],
   "metadata": {}
  },
  {
   "cell_type": "code",
   "execution_count": 8,
   "source": [
    "import os\r\n",
    "import pandas as pd\r\n",
    "import numpy as np\r\n",
    "from datetime import date\r\n",
    "import matplotlib.pyplot as plt\r\n",
    "import plotly.express as px\r\n",
    "from sklearn.preprocessing import MinMaxScaler\r\n",
    "from sklearn.decomposition import PCA\r\n",
    "from sklearn.cluster import KMeans"
   ],
   "outputs": [],
   "metadata": {}
  },
  {
   "cell_type": "code",
   "execution_count": 9,
   "source": [
    "path_scritps = os.getcwd()\r\n",
    "path_data = path_scritps.replace(\"Scripts\", \"Data\")"
   ],
   "outputs": [],
   "metadata": {}
  },
  {
   "cell_type": "code",
   "execution_count": 10,
   "source": [
    "os.listdir(path_data)"
   ],
   "outputs": [
    {
     "output_type": "execute_result",
     "data": {
      "text/plain": [
       "['consolidate_raw_2021-09-19.csv',\n",
       " 'consolidate_raw_2021-09-27.csv',\n",
       " 'consolidate_raw_2021_37.csv',\n",
       " 'consolidate_raw_audio_features_2021-09-19.csv',\n",
       " 'consolidate_raw_audio_features_2021-09-27.csv',\n",
       " 'consolidate_raw_audio_features_2021_37.csv',\n",
       " 'consolidate_raw_audio_features_2021_37.tex',\n",
       " 'novedades_viernes_2021-09-19.csv',\n",
       " 'novedades_viernes_2021-09-27.csv',\n",
       " 'novedades_viernes_2021_33.csv',\n",
       " 'novedades_viernes_2021_34.csv',\n",
       " 'novedades_viernes_2021_36.csv',\n",
       " 'novedades_viernes_2021_37.csv',\n",
       " 'popeton_2021-09-19.csv',\n",
       " 'popeton_2021-09-27.csv',\n",
       " 'popeton_2021_33.csv',\n",
       " 'popeton_2021_34.csv',\n",
       " 'popeton_2021_36.csv',\n",
       " 'popeton_2021_37.csv',\n",
       " 'songs',\n",
       " 'top_colombia_2021-09-19.csv',\n",
       " 'top_colombia_2021-09-27.csv',\n",
       " 'top_colombia_2021_33.csv',\n",
       " 'top_colombia_2021_34.csv',\n",
       " 'top_colombia_2021_36.csv',\n",
       " 'top_colombia_2021_37.csv',\n",
       " 'viral_2021-09-19.csv',\n",
       " 'viral_2021-09-27.csv',\n",
       " 'viral_2021_33.csv',\n",
       " 'viral_2021_34.csv',\n",
       " 'viral_2021_36.csv',\n",
       " 'viral_2021_37.csv']"
      ]
     },
     "metadata": {},
     "execution_count": 10
    }
   ],
   "metadata": {}
  },
  {
   "cell_type": "code",
   "execution_count": 11,
   "source": [
    "# Load the most recent file\r\n",
    "data = pd.read_csv(path_data + \"/consolidate_raw_audio_features_\" + \r\n",
    "    \"2021-09-19\" + \".csv\", sep = \";\", index_col = 0)"
   ],
   "outputs": [],
   "metadata": {}
  },
  {
   "cell_type": "code",
   "execution_count": 12,
   "source": [
    "# Remove duplicate songs\r\n",
    "data = data.sort_values(\"top50\").drop_duplicates(\"song_id\").reset_index(drop = True)"
   ],
   "outputs": [],
   "metadata": {}
  },
  {
   "cell_type": "code",
   "execution_count": 13,
   "source": [
    "# Pie chart of the output\r\n",
    "labels = 'Not a hit', 'Hit'\r\n",
    "sizes = data[\"top50\"].value_counts()/data[\"top50\"].size\r\n",
    "explode = (0, 0.1)  # only \"explode\" the 2nd slice (i.e. 'Éxito')\r\n",
    "\r\n",
    "fig1, ax1 = plt.subplots()\r\n",
    "ax1.pie(sizes, explode = explode, labels = labels, autopct = '%1.1f%%',\r\n",
    "        shadow = True, startangle = 90) # textprops={'color':\"w\"}\r\n",
    "ax1.axis('equal')  # Equal aspect ratio ensures that pie is drawn as a circle.\r\n",
    "\r\n",
    "plt.savefig(r\"C:\\Users\\User\\Downloads\\marca.png\", transparent = True, dpi = 1200)\r\n",
    "plt.show()"
   ],
   "outputs": [
    {
     "output_type": "display_data",
     "data": {
      "image/png": "[encoded data removed]",
      "text/plain": [
       "<Figure size 432x288 with 1 Axes>"
      ]
     },
     "metadata": {}
    }
   ],
   "metadata": {}
  },
  {
   "cell_type": "code",
   "execution_count": 14,
   "source": [
    "# Create a Polar plot of two songs\r\n",
    "\r\n",
    "# Select only numeric variables\r\n",
    "df = data.select_dtypes(include = np.number)\r\n",
    "# We are going to scale all the variables to be between 0 and 1\r\n",
    "scaler = MinMaxScaler()\r\n",
    "df_scaled = pd.DataFrame(scaler.fit_transform(df), columns = df.columns)\r\n",
    "# We select two songs arbitrarily\r\n",
    "song_names = [\"200 COPAS\", \"Yonaguni\"]\r\n",
    "mask = data.song.isin(song_names)\r\n",
    "columns_to_drop = [\"position\", \"popularity\", \"time_signature\", \"speechiness\", \r\n",
    "    \"instrumentalness\", \"acousticness\", \"liveness\"]\r\n",
    "polar_df = df_scaled.loc[mask,].drop(columns = columns_to_drop) \\\r\n",
    "    .assign(Name = [\"200 Copas\", \"Yonaguni\"]) \\\r\n",
    "        .melt(id_vars = [\"Name\"])\r\n",
    "polar_df # Pepas, Yonaguni duration 0.59, 0.38"
   ],
   "outputs": [
    {
     "output_type": "execute_result",
     "data": {
      "text/html": [
       "<div>\n",
       "<style scoped>\n",
       "    .dataframe tbody tr th:only-of-type {\n",
       "        vertical-align: middle;\n",
       "    }\n",
       "\n",
       "    .dataframe tbody tr th {\n",
       "        vertical-align: top;\n",
       "    }\n",
       "\n",
       "    .dataframe thead th {\n",
       "        text-align: right;\n",
       "    }\n",
       "</style>\n",
       "<table border=\"1\" class=\"dataframe\">\n",
       "  <thead>\n",
       "    <tr style=\"text-align: right;\">\n",
       "      <th></th>\n",
       "      <th>Name</th>\n",
       "      <th>variable</th>\n",
       "      <th>value</th>\n",
       "    </tr>\n",
       "  </thead>\n",
       "  <tbody>\n",
       "    <tr>\n",
       "      <th>0</th>\n",
       "      <td>200 Copas</td>\n",
       "      <td>duration</td>\n",
       "      <td>0.414938</td>\n",
       "    </tr>\n",
       "    <tr>\n",
       "      <th>1</th>\n",
       "      <td>Yonaguni</td>\n",
       "      <td>duration</td>\n",
       "      <td>0.387540</td>\n",
       "    </tr>\n",
       "    <tr>\n",
       "      <th>2</th>\n",
       "      <td>200 Copas</td>\n",
       "      <td>danceability</td>\n",
       "      <td>0.431944</td>\n",
       "    </tr>\n",
       "    <tr>\n",
       "      <th>3</th>\n",
       "      <td>Yonaguni</td>\n",
       "      <td>danceability</td>\n",
       "      <td>0.611111</td>\n",
       "    </tr>\n",
       "    <tr>\n",
       "      <th>4</th>\n",
       "      <td>200 Copas</td>\n",
       "      <td>energy</td>\n",
       "      <td>0.685597</td>\n",
       "    </tr>\n",
       "    <tr>\n",
       "      <th>5</th>\n",
       "      <td>Yonaguni</td>\n",
       "      <td>energy</td>\n",
       "      <td>0.623602</td>\n",
       "    </tr>\n",
       "    <tr>\n",
       "      <th>6</th>\n",
       "      <td>200 Copas</td>\n",
       "      <td>key</td>\n",
       "      <td>0.818182</td>\n",
       "    </tr>\n",
       "    <tr>\n",
       "      <th>7</th>\n",
       "      <td>Yonaguni</td>\n",
       "      <td>key</td>\n",
       "      <td>0.090909</td>\n",
       "    </tr>\n",
       "    <tr>\n",
       "      <th>8</th>\n",
       "      <td>200 Copas</td>\n",
       "      <td>loudness</td>\n",
       "      <td>0.743749</td>\n",
       "    </tr>\n",
       "    <tr>\n",
       "      <th>9</th>\n",
       "      <td>Yonaguni</td>\n",
       "      <td>loudness</td>\n",
       "      <td>0.778872</td>\n",
       "    </tr>\n",
       "    <tr>\n",
       "      <th>10</th>\n",
       "      <td>200 Copas</td>\n",
       "      <td>mode</td>\n",
       "      <td>0.000000</td>\n",
       "    </tr>\n",
       "    <tr>\n",
       "      <th>11</th>\n",
       "      <td>Yonaguni</td>\n",
       "      <td>mode</td>\n",
       "      <td>1.000000</td>\n",
       "    </tr>\n",
       "    <tr>\n",
       "      <th>12</th>\n",
       "      <td>200 Copas</td>\n",
       "      <td>valence</td>\n",
       "      <td>0.909411</td>\n",
       "    </tr>\n",
       "    <tr>\n",
       "      <th>13</th>\n",
       "      <td>Yonaguni</td>\n",
       "      <td>valence</td>\n",
       "      <td>0.435149</td>\n",
       "    </tr>\n",
       "    <tr>\n",
       "      <th>14</th>\n",
       "      <td>200 Copas</td>\n",
       "      <td>tempo</td>\n",
       "      <td>0.186765</td>\n",
       "    </tr>\n",
       "    <tr>\n",
       "      <th>15</th>\n",
       "      <td>Yonaguni</td>\n",
       "      <td>tempo</td>\n",
       "      <td>0.849129</td>\n",
       "    </tr>\n",
       "  </tbody>\n",
       "</table>\n",
       "</div>"
      ],
      "text/plain": [
       "         Name      variable     value\n",
       "0   200 Copas      duration  0.414938\n",
       "1    Yonaguni      duration  0.387540\n",
       "2   200 Copas  danceability  0.431944\n",
       "3    Yonaguni  danceability  0.611111\n",
       "4   200 Copas        energy  0.685597\n",
       "5    Yonaguni        energy  0.623602\n",
       "6   200 Copas           key  0.818182\n",
       "7    Yonaguni           key  0.090909\n",
       "8   200 Copas      loudness  0.743749\n",
       "9    Yonaguni      loudness  0.778872\n",
       "10  200 Copas          mode  0.000000\n",
       "11   Yonaguni          mode  1.000000\n",
       "12  200 Copas       valence  0.909411\n",
       "13   Yonaguni       valence  0.435149\n",
       "14  200 Copas         tempo  0.186765\n",
       "15   Yonaguni         tempo  0.849129"
      ]
     },
     "metadata": {},
     "execution_count": 14
    }
   ],
   "metadata": {}
  },
  {
   "cell_type": "code",
   "execution_count": 15,
   "source": [
    "fig = px.line_polar(polar_df, r = 'value', theta = 'variable', \r\n",
    "    line_close = True, color = \"Name\")\r\n",
    "fig.update_traces(fill = 'toself')\r\n",
    "fig.show()"
   ],
   "outputs": [
    {
     "output_type": "display_data",
     "data": {
      "application/vnd.plotly.v1+json": {
       "config": {
        "plotlyServerURL": "https://plotly.com"
       },
       "data": [
        {
         "fill": "toself",
         "hovertemplate": "Name=200 Copas<br>value=%{r}<br>variable=%{theta}<extra></extra>",
         "legendgroup": "200 Copas",
         "line": {
          "color": "#636efa",
          "dash": "solid"
         },
         "marker": {
          "symbol": "circle"
         },
         "mode": "lines",
         "name": "200 Copas",
         "r": [
          0.4149380191159898,
          0.4319444444444444,
          0.6855972545112365,
          0.8181818181818182,
          0.7437493235198616,
          0,
          0.9094106362570605,
          0.1867654306237959,
          0.4149380191159898
         ],
         "showlegend": true,
         "subplot": "polar",
         "theta": [
          "duration",
          "danceability",
          "energy",
          "key",
          "loudness",
          "mode",
          "valence",
          "tempo",
          "duration"
         ],
         "type": "scatterpolar"
        },
        {
         "fill": "toself",
         "hovertemplate": "Name=Yonaguni<br>value=%{r}<br>variable=%{theta}<extra></extra>",
         "legendgroup": "Yonaguni",
         "line": {
          "color": "#EF553B",
          "dash": "solid"
         },
         "marker": {
          "symbol": "circle"
         },
         "mode": "lines",
         "name": "Yonaguni",
         "r": [
          0.38753965107057886,
          0.6111111111111109,
          0.623602346950072,
          0.09090909090909091,
          0.778872172313021,
          1,
          0.4351486731322604,
          0.8491285972431714,
          0.38753965107057886
         ],
         "showlegend": true,
         "subplot": "polar",
         "theta": [
          "duration",
          "danceability",
          "energy",
          "key",
          "loudness",
          "mode",
          "valence",
          "tempo",
          "duration"
         ],
         "type": "scatterpolar"
        }
       ],
       "layout": {
        "legend": {
         "title": {
          "text": "Name"
         },
         "tracegroupgap": 0
        },
        "margin": {
         "t": 60
        },
        "polar": {
         "angularaxis": {
          "direction": "clockwise",
          "rotation": 90
         },
         "domain": {
          "x": [
           0,
           1
          ],
          "y": [
           0,
           1
          ]
         }
        },
        "template": {
         "data": {
          "bar": [
           {
            "error_x": {
             "color": "#2a3f5f"
            },
            "error_y": {
             "color": "#2a3f5f"
            },
            "marker": {
             "line": {
              "color": "#E5ECF6",
              "width": 0.5
             },
             "pattern": {
              "fillmode": "overlay",
              "size": 10,
              "solidity": 0.2
             }
            },
            "type": "bar"
           }
          ],
          "barpolar": [
           {
            "marker": {
             "line": {
              "color": "#E5ECF6",
              "width": 0.5
             },
             "pattern": {
              "fillmode": "overlay",
              "size": 10,
              "solidity": 0.2
             }
            },
            "type": "barpolar"
           }
          ],
          "carpet": [
           {
            "aaxis": {
             "endlinecolor": "#2a3f5f",
             "gridcolor": "white",
             "linecolor": "white",
             "minorgridcolor": "white",
             "startlinecolor": "#2a3f5f"
            },
            "baxis": {
             "endlinecolor": "#2a3f5f",
             "gridcolor": "white",
             "linecolor": "white",
             "minorgridcolor": "white",
             "startlinecolor": "#2a3f5f"
            },
            "type": "carpet"
           }
          ],
          "choropleth": [
           {
            "colorbar": {
             "outlinewidth": 0,
             "ticks": ""
            },
            "type": "choropleth"
           }
          ],
          "contour": [
           {
            "colorbar": {
             "outlinewidth": 0,
             "ticks": ""
            },
            "colorscale": [
             [
              0,
              "#0d0887"
             ],
             [
              0.1111111111111111,
              "#46039f"
             ],
             [
              0.2222222222222222,
              "#7201a8"
             ],
             [
              0.3333333333333333,
              "#9c179e"
             ],
             [
              0.4444444444444444,
              "#bd3786"
             ],
             [
              0.5555555555555556,
              "#d8576b"
             ],
             [
              0.6666666666666666,
              "#ed7953"
             ],
             [
              0.7777777777777778,
              "#fb9f3a"
             ],
             [
              0.8888888888888888,
              "#fdca26"
             ],
             [
              1,
              "#f0f921"
             ]
            ],
            "type": "contour"
           }
          ],
          "contourcarpet": [
           {
            "colorbar": {
             "outlinewidth": 0,
             "ticks": ""
            },
            "type": "contourcarpet"
           }
          ],
          "heatmap": [
           {
            "colorbar": {
             "outlinewidth": 0,
             "ticks": ""
            },
            "colorscale": [
             [
              0,
              "#0d0887"
             ],
             [
              0.1111111111111111,
              "#46039f"
             ],
             [
              0.2222222222222222,
              "#7201a8"
             ],
             [
              0.3333333333333333,
              "#9c179e"
             ],
             [
              0.4444444444444444,
              "#bd3786"
             ],
             [
              0.5555555555555556,
              "#d8576b"
             ],
             [
              0.6666666666666666,
              "#ed7953"
             ],
             [
              0.7777777777777778,
              "#fb9f3a"
             ],
             [
              0.8888888888888888,
              "#fdca26"
             ],
             [
              1,
              "#f0f921"
             ]
            ],
            "type": "heatmap"
           }
          ],
          "heatmapgl": [
           {
            "colorbar": {
             "outlinewidth": 0,
             "ticks": ""
            },
            "colorscale": [
             [
              0,
              "#0d0887"
             ],
             [
              0.1111111111111111,
              "#46039f"
             ],
             [
              0.2222222222222222,
              "#7201a8"
             ],
             [
              0.3333333333333333,
              "#9c179e"
             ],
             [
              0.4444444444444444,
              "#bd3786"
             ],
             [
              0.5555555555555556,
              "#d8576b"
             ],
             [
              0.6666666666666666,
              "#ed7953"
             ],
             [
              0.7777777777777778,
              "#fb9f3a"
             ],
             [
              0.8888888888888888,
              "#fdca26"
             ],
             [
              1,
              "#f0f921"
             ]
            ],
            "type": "heatmapgl"
           }
          ],
          "histogram": [
           {
            "marker": {
             "pattern": {
              "fillmode": "overlay",
              "size": 10,
              "solidity": 0.2
             }
            },
            "type": "histogram"
           }
          ],
          "histogram2d": [
           {
            "colorbar": {
             "outlinewidth": 0,
             "ticks": ""
            },
            "colorscale": [
             [
              0,
              "#0d0887"
             ],
             [
              0.1111111111111111,
              "#46039f"
             ],
             [
              0.2222222222222222,
              "#7201a8"
             ],
             [
              0.3333333333333333,
              "#9c179e"
             ],
             [
              0.4444444444444444,
              "#bd3786"
             ],
             [
              0.5555555555555556,
              "#d8576b"
             ],
             [
              0.6666666666666666,
              "#ed7953"
             ],
             [
              0.7777777777777778,
              "#fb9f3a"
             ],
             [
              0.8888888888888888,
              "#fdca26"
             ],
             [
              1,
              "#f0f921"
             ]
            ],
            "type": "histogram2d"
           }
          ],
          "histogram2dcontour": [
           {
            "colorbar": {
             "outlinewidth": 0,
             "ticks": ""
            },
            "colorscale": [
             [
              0,
              "#0d0887"
             ],
             [
              0.1111111111111111,
              "#46039f"
             ],
             [
              0.2222222222222222,
              "#7201a8"
             ],
             [
              0.3333333333333333,
              "#9c179e"
             ],
             [
              0.4444444444444444,
              "#bd3786"
             ],
             [
              0.5555555555555556,
              "#d8576b"
             ],
             [
              0.6666666666666666,
              "#ed7953"
             ],
             [
              0.7777777777777778,
              "#fb9f3a"
             ],
             [
              0.8888888888888888,
              "#fdca26"
             ],
             [
              1,
              "#f0f921"
             ]
            ],
            "type": "histogram2dcontour"
           }
          ],
          "mesh3d": [
           {
            "colorbar": {
             "outlinewidth": 0,
             "ticks": ""
            },
            "type": "mesh3d"
           }
          ],
          "parcoords": [
           {
            "line": {
             "colorbar": {
              "outlinewidth": 0,
              "ticks": ""
             }
            },
            "type": "parcoords"
           }
          ],
          "pie": [
           {
            "automargin": true,
            "type": "pie"
           }
          ],
          "scatter": [
           {
            "marker": {
             "colorbar": {
              "outlinewidth": 0,
              "ticks": ""
             }
            },
            "type": "scatter"
           }
          ],
          "scatter3d": [
           {
            "line": {
             "colorbar": {
              "outlinewidth": 0,
              "ticks": ""
             }
            },
            "marker": {
             "colorbar": {
              "outlinewidth": 0,
              "ticks": ""
             }
            },
            "type": "scatter3d"
           }
          ],
          "scattercarpet": [
           {
            "marker": {
             "colorbar": {
              "outlinewidth": 0,
              "ticks": ""
             }
            },
            "type": "scattercarpet"
           }
          ],
          "scattergeo": [
           {
            "marker": {
             "colorbar": {
              "outlinewidth": 0,
              "ticks": ""
             }
            },
            "type": "scattergeo"
           }
          ],
          "scattergl": [
           {
            "marker": {
             "colorbar": {
              "outlinewidth": 0,
              "ticks": ""
             }
            },
            "type": "scattergl"
           }
          ],
          "scattermapbox": [
           {
            "marker": {
             "colorbar": {
              "outlinewidth": 0,
              "ticks": ""
             }
            },
            "type": "scattermapbox"
           }
          ],
          "scatterpolar": [
           {
            "marker": {
             "colorbar": {
              "outlinewidth": 0,
              "ticks": ""
             }
            },
            "type": "scatterpolar"
           }
          ],
          "scatterpolargl": [
           {
            "marker": {
             "colorbar": {
              "outlinewidth": 0,
              "ticks": ""
             }
            },
            "type": "scatterpolargl"
           }
          ],
          "scatterternary": [
           {
            "marker": {
             "colorbar": {
              "outlinewidth": 0,
              "ticks": ""
             }
            },
            "type": "scatterternary"
           }
          ],
          "surface": [
           {
            "colorbar": {
             "outlinewidth": 0,
             "ticks": ""
            },
            "colorscale": [
             [
              0,
              "#0d0887"
             ],
             [
              0.1111111111111111,
              "#46039f"
             ],
             [
              0.2222222222222222,
              "#7201a8"
             ],
             [
              0.3333333333333333,
              "#9c179e"
             ],
             [
              0.4444444444444444,
              "#bd3786"
             ],
             [
              0.5555555555555556,
              "#d8576b"
             ],
             [
              0.6666666666666666,
              "#ed7953"
             ],
             [
              0.7777777777777778,
              "#fb9f3a"
             ],
             [
              0.8888888888888888,
              "#fdca26"
             ],
             [
              1,
              "#f0f921"
             ]
            ],
            "type": "surface"
           }
          ],
          "table": [
           {
            "cells": {
             "fill": {
              "color": "#EBF0F8"
             },
             "line": {
              "color": "white"
             }
            },
            "header": {
             "fill": {
              "color": "#C8D4E3"
             },
             "line": {
              "color": "white"
             }
            },
            "type": "table"
           }
          ]
         },
         "layout": {
          "annotationdefaults": {
           "arrowcolor": "#2a3f5f",
           "arrowhead": 0,
           "arrowwidth": 1
          },
          "autotypenumbers": "strict",
          "coloraxis": {
           "colorbar": {
            "outlinewidth": 0,
            "ticks": ""
           }
          },
          "colorscale": {
           "diverging": [
            [
             0,
             "#8e0152"
            ],
            [
             0.1,
             "#c51b7d"
            ],
            [
             0.2,
             "#de77ae"
            ],
            [
             0.3,
             "#f1b6da"
            ],
            [
             0.4,
             "#fde0ef"
            ],
            [
             0.5,
             "#f7f7f7"
            ],
            [
             0.6,
             "#e6f5d0"
            ],
            [
             0.7,
             "#b8e186"
            ],
            [
             0.8,
             "#7fbc41"
            ],
            [
             0.9,
             "#4d9221"
            ],
            [
             1,
             "#276419"
            ]
           ],
           "sequential": [
            [
             0,
             "#0d0887"
            ],
            [
             0.1111111111111111,
             "#46039f"
            ],
            [
             0.2222222222222222,
             "#7201a8"
            ],
            [
             0.3333333333333333,
             "#9c179e"
            ],
            [
             0.4444444444444444,
             "#bd3786"
            ],
            [
             0.5555555555555556,
             "#d8576b"
            ],
            [
             0.6666666666666666,
             "#ed7953"
            ],
            [
             0.7777777777777778,
             "#fb9f3a"
            ],
            [
             0.8888888888888888,
             "#fdca26"
            ],
            [
             1,
             "#f0f921"
            ]
           ],
           "sequentialminus": [
            [
             0,
             "#0d0887"
            ],
            [
             0.1111111111111111,
             "#46039f"
            ],
            [
             0.2222222222222222,
             "#7201a8"
            ],
            [
             0.3333333333333333,
             "#9c179e"
            ],
            [
             0.4444444444444444,
             "#bd3786"
            ],
            [
             0.5555555555555556,
             "#d8576b"
            ],
            [
             0.6666666666666666,
             "#ed7953"
            ],
            [
             0.7777777777777778,
             "#fb9f3a"
            ],
            [
             0.8888888888888888,
             "#fdca26"
            ],
            [
             1,
             "#f0f921"
            ]
           ]
          },
          "colorway": [
           "#636efa",
           "#EF553B",
           "#00cc96",
           "#ab63fa",
           "#FFA15A",
           "#19d3f3",
           "#FF6692",
           "#B6E880",
           "#FF97FF",
           "#FECB52"
          ],
          "font": {
           "color": "#2a3f5f"
          },
          "geo": {
           "bgcolor": "white",
           "lakecolor": "white",
           "landcolor": "#E5ECF6",
           "showlakes": true,
           "showland": true,
           "subunitcolor": "white"
          },
          "hoverlabel": {
           "align": "left"
          },
          "hovermode": "closest",
          "mapbox": {
           "style": "light"
          },
          "paper_bgcolor": "white",
          "plot_bgcolor": "#E5ECF6",
          "polar": {
           "angularaxis": {
            "gridcolor": "white",
            "linecolor": "white",
            "ticks": ""
           },
           "bgcolor": "#E5ECF6",
           "radialaxis": {
            "gridcolor": "white",
            "linecolor": "white",
            "ticks": ""
           }
          },
          "scene": {
           "xaxis": {
            "backgroundcolor": "#E5ECF6",
            "gridcolor": "white",
            "gridwidth": 2,
            "linecolor": "white",
            "showbackground": true,
            "ticks": "",
            "zerolinecolor": "white"
           },
           "yaxis": {
            "backgroundcolor": "#E5ECF6",
            "gridcolor": "white",
            "gridwidth": 2,
            "linecolor": "white",
            "showbackground": true,
            "ticks": "",
            "zerolinecolor": "white"
           },
           "zaxis": {
            "backgroundcolor": "#E5ECF6",
            "gridcolor": "white",
            "gridwidth": 2,
            "linecolor": "white",
            "showbackground": true,
            "ticks": "",
            "zerolinecolor": "white"
           }
          },
          "shapedefaults": {
           "line": {
            "color": "#2a3f5f"
           }
          },
          "ternary": {
           "aaxis": {
            "gridcolor": "white",
            "linecolor": "white",
            "ticks": ""
           },
           "baxis": {
            "gridcolor": "white",
            "linecolor": "white",
            "ticks": ""
           },
           "bgcolor": "#E5ECF6",
           "caxis": {
            "gridcolor": "white",
            "linecolor": "white",
            "ticks": ""
           }
          },
          "title": {
           "x": 0.05
          },
          "xaxis": {
           "automargin": true,
           "gridcolor": "white",
           "linecolor": "white",
           "ticks": "",
           "title": {
            "standoff": 15
           },
           "zerolinecolor": "white",
           "zerolinewidth": 2
          },
          "yaxis": {
           "automargin": true,
           "gridcolor": "white",
           "linecolor": "white",
           "ticks": "",
           "title": {
            "standoff": 15
           },
           "zerolinecolor": "white",
           "zerolinewidth": 2
          }
         }
        }
       }
      }
     },
     "metadata": {}
    }
   ],
   "metadata": {}
  },
  {
   "cell_type": "code",
   "execution_count": 16,
   "source": [
    "df_scaled = df_scaled.drop(columns = [\"position\", \"popularity\", \"time_signature\", \"mode\"])"
   ],
   "outputs": [],
   "metadata": {}
  },
  {
   "cell_type": "code",
   "execution_count": 17,
   "source": [
    "# Perform PCA\r\n",
    "pca = PCA(n_components = 3)  \r\n",
    "pc = pca.fit_transform(df_scaled)\r\n",
    "\r\n",
    "names = [\"Principal Component \" + str(i) for i in range(1, 4)]\r\n",
    "pc = pd.DataFrame(pc, columns = names)\r\n",
    "pc = pd.concat([pc, data], axis = 1)\r\n",
    "pc = pc.rename(columns = {\"top50\": \"Éxito\"})"
   ],
   "outputs": [],
   "metadata": {}
  },
  {
   "cell_type": "code",
   "execution_count": 22,
   "source": [
    "fig = px.scatter(pc.rename(columns = {\"Éxito\": \"Is a Hit?\"}), x = \"Principal Component 1\", y = \"Principal Component 2\", \r\n",
    "    hover_data = [\"song\", \"Is a Hit?\"], color = \"Is a Hit?\")\r\n",
    "fig.update_yaxes(range = [-1, 1])\r\n",
    "fig.update_xaxes(range = [-1, 1])\r\n",
    "fig.show()"
   ],
   "outputs": [
    {
     "output_type": "display_data",
     "data": {
      "application/vnd.plotly.v1+json": {
       "config": {
        "plotlyServerURL": "https://plotly.com"
       },
       "data": [
        {
         "customdata": [
          [
           "PENDEJO",
           false
          ],
          [
           "POR ELLA",
           false
          ],
          [
           "Miami",
           false
          ],
          [
           "La Niña de la Escuela",
           false
          ],
          [
           "3 de La Mañana",
           false
          ],
          [
           "Ya Pasó",
           false
          ],
          [
           "Mi Debilidad",
           false
          ],
          [
           "Perfecta",
           false
          ],
          [
           "Hasta Abajo - Remix",
           false
          ],
          [
           "KESI - Remix",
           false
          ],
          [
           "Uva",
           false
          ],
          [
           "Casualidad",
           false
          ],
          [
           "Amor en Coma",
           false
          ],
          [
           "Tú 1ero",
           false
          ],
          [
           "La Rutina",
           false
          ],
          [
           "Aloha",
           false
          ],
          [
           "Tan Bonita",
           false
          ],
          [
           "Despiértate",
           false
          ],
          [
           "EL TREN",
           false
          ],
          [
           "Machu Picchu",
           false
          ],
          [
           "Rumba (Puro Oro Anthem)",
           false
          ],
          [
           "Ojos Cafe",
           false
          ],
          [
           "Balenciaga",
           false
          ],
          [
           "Nadie La Controla",
           false
          ],
          [
           "Mal Acostumbrao",
           false
          ],
          [
           "Quiereme Mientras se Pueda - Remix",
           false
          ],
          [
           "El Mismo Aire - con Pablo Alborán",
           false
          ],
          [
           "Nada",
           false
          ],
          [
           "Locura - Remix",
           false
          ],
          [
           "ADMV - Versión Urbana",
           false
          ],
          [
           "UN DIA (ONE DAY) (Feat. Tainy)",
           false
          ],
          [
           "Quiéreme Mientras Se Pueda",
           false
          ],
          [
           "Dónde Estás (with Piso 21) - Remix",
           false
          ],
          [
           "Loco - Remix",
           false
          ],
          [
           "Djadja (feat. Maluma) - Remix",
           false
          ],
          [
           "TBT - Remix",
           false
          ],
          [
           "Si Me Dices Que Sí",
           false
          ],
          [
           "Rojo",
           false
          ],
          [
           "Por Fin Te Encontré",
           false
          ],
          [
           "La Botella",
           false
          ],
          [
           "Yo No Te Olvido",
           false
          ],
          [
           "Fuego",
           false
          ],
          [
           "Besos en Cualquier Horario",
           false
          ],
          [
           "Kaprichosa",
           false
          ],
          [
           "Loco",
           false
          ],
          [
           "La Buena - Remix",
           false
          ],
          [
           "Baila Conmigo (with Rauw Alejandro)",
           false
          ],
          [
           "Será",
           false
          ],
          [
           "Dejaría Todo",
           false
          ],
          [
           "Miedito o Qué? (feat. KAROL G)",
           false
          ],
          [
           "El Malo",
           false
          ],
          [
           "Cuántas veces",
           false
          ],
          [
           "Millones",
           false
          ],
          [
           "Mi Niña - Remix",
           false
          ],
          [
           "DÁKITI",
           false
          ],
          [
           "Hawái",
           false
          ],
          [
           "Increíble",
           false
          ],
          [
           "ANTES QUE SALGA EL SOL",
           false
          ],
          [
           "Tan Enamorados",
           false
          ],
          [
           "Despeinada",
           false
          ],
          [
           "De 0 a Siempre",
           false
          ],
          [
           "Tattoo - Remix with Camilo",
           false
          ],
          [
           "Adicto a Ti",
           false
          ],
          [
           "Me Enamora",
           false
          ],
          [
           "Algo Mágico - R3HAB Remix",
           false
          ],
          [
           "Insuficiente",
           false
          ],
          [
           "Apartamento",
           false
          ],
          [
           "Ojalá Pudiera",
           false
          ],
          [
           "Ram Pam Pam",
           false
          ],
          [
           "Que Locura",
           false
          ],
          [
           "Lao' a Lao'",
           false
          ],
          [
           "Jugaste y Sufrí",
           false
          ],
          [
           "Fanático",
           false
          ],
          [
           "Wake Up",
           false
          ],
          [
           "Como Si No Importara",
           false
          ],
          [
           "WOLFGANG",
           false
          ],
          [
           "Meet Me At Our Spot",
           false
          ],
          [
           "Need To Know",
           false
          ],
          [
           "DUMB DUMB",
           false
          ],
          [
           "double take",
           false
          ],
          [
           "Mon Amour",
           false
          ],
          [
           "Buscate Otro",
           false
          ],
          [
           "Loverboy",
           false
          ],
          [
           "NO WAY",
           false
          ],
          [
           "Love Nwantiti - Remix",
           false
          ],
          [
           "Touch It",
           false
          ],
          [
           "Dueles Tan Bien",
           false
          ],
          [
           "edamame (feat. Rich Brian)",
           false
          ],
          [
           "Chica 10",
           false
          ],
          [
           "Amapolas",
           false
          ],
          [
           "Shake It",
           false
          ],
          [
           "Strange",
           false
          ],
          [
           "Stay With Me",
           false
          ],
          [
           "Stoned at the Nail Salon",
           false
          ],
          [
           "Happier Than Ever",
           false
          ],
          [
           "FVN!",
           false
          ],
          [
           "Tranquilísimo",
           false
          ],
          [
           "Dark Red",
           false
          ],
          [
           "Cry Baby",
           false
          ],
          [
           "Not Into You",
           false
          ],
          [
           "Estoy Bien",
           false
          ],
          [
           "Everywhereigo",
           false
          ],
          [
           "INDUSTRY BABY (feat. Jack Harlow)",
           false
          ],
          [
           "Bezos I",
           false
          ],
          [
           "Todo Lo Bueno Tarda",
           false
          ],
          [
           "Estoy Bien",
           false
          ],
          [
           "Feel Like God",
           false
          ],
          [
           "Pimpeo",
           false
          ],
          [
           "Matatan",
           false
          ],
          [
           "Los Sótanos del Infierno",
           false
          ],
          [
           "Turraka (Remix)",
           false
          ],
          [
           "Mi Destino",
           false
          ],
          [
           "Not Around",
           false
          ],
          [
           "Catanas",
           false
          ],
          [
           "Cold Heart - PNAU Remix",
           false
          ],
          [
           "Beethoven",
           false
          ],
          [
           "Sou Favela",
           false
          ],
          [
           "Guaracha Con Ñejo",
           false
          ],
          [
           "love nwantiti (feat. Dj Yo! & AX'EL) - Remix",
           false
          ],
          [
           "Bailar",
           false
          ],
          [
           "in heat.",
           false
          ],
          [
           "As the World Caves In",
           false
          ],
          [
           "Mon Amour - Remix",
           false
          ],
          [
           "love nwantiti (ah ah ah)",
           false
          ],
          [
           "Loverboy",
           false
          ],
          [
           "FVN!",
           false
          ],
          [
           "Si Fueras Mía",
           false
          ],
          [
           "Over The Top (feat. Drake)",
           false
          ],
          [
           "love nwantiti (feat. ElGrande Toto) - North African Remix",
           false
          ],
          [
           "Lejos Conmigo",
           false
          ],
          [
           "Pepas - Remix",
           false
          ],
          [
           "You Are Enough",
           false
          ],
          [
           "I GUESS I'M IN LOVE",
           false
          ],
          [
           "LO$ER=LO♡ER",
           false
          ],
          [
           "Thunderous",
           false
          ],
          [
           "ANIVERSARIO (feat. Nico Legreti)",
           false
          ],
          [
           "Espera (feat. Carlos Sadness)",
           false
          ],
          [
           "Gute Vibes",
           false
          ],
          [
           "No Todo Es un Juego",
           false
          ],
          [
           "El Amor II",
           false
          ],
          [
           "Dancing Beauty",
           false
          ],
          [
           "L.N.E.M. (GATA) (feat. Kapla y Miky, Philip Ariaz & Blessd)",
           false
          ],
          [
           "Perra",
           false
          ],
          [
           "Magnum",
           false
          ],
          [
           "999 (with Camilo)",
           false
          ],
          [
           "A La Buena, El Mejor - Featured in Call Of Duty Mobile - Season 7: Elite of the Elite",
           false
          ],
          [
           "Wow Wow (feat. Becky G)",
           false
          ],
          [
           "justified",
           false
          ],
          [
           "Burning Bridges",
           false
          ],
          [
           "California",
           false
          ],
          [
           "I am not a woman, I'm a god",
           false
          ],
          [
           "Someday",
           false
          ],
          [
           "Pa'lla Voy",
           false
          ],
          [
           "Lo Pasado Pisado",
           false
          ],
          [
           "Esta Ciudad",
           false
          ],
          [
           "Lo Que Nunca Fue Tuyo",
           false
          ],
          [
           "Que Te Quedes Aquí",
           false
          ],
          [
           "Lejos de Aquí",
           false
          ],
          [
           "Tarareo",
           false
          ],
          [
           "Todo Lo Que Sube",
           false
          ],
          [
           "Rey",
           false
          ],
          [
           "Peach",
           false
          ],
          [
           "Todo viene, todo va",
           false
          ],
          [
           "Esta Noche",
           false
          ],
          [
           "3am",
           false
          ],
          [
           "Blind",
           false
          ],
          [
           "Walkman",
           false
          ],
          [
           "If You Ever Leave, I'm Coming with You",
           false
          ],
          [
           "Walking at a Downtown Pace",
           false
          ],
          [
           "Perdón Margarita",
           false
          ],
          [
           "Sevier",
           false
          ],
          [
           "We Are Midnight",
           false
          ],
          [
           "En el Mar No Eres Nadie",
           false
          ],
          [
           "Santo Remedio",
           false
          ],
          [
           "Freedom Highway",
           false
          ],
          [
           "About Last Night",
           false
          ],
          [
           "Living In The Heart Of Love",
           false
          ],
          [
           "Survivor",
           false
          ],
          [
           "Can't Stop The Rain",
           false
          ],
          [
           "Acerca de los Padres",
           false
          ],
          [
           "Dueño de Tus Besos",
           false
          ],
          [
           "Tu Recuerdo",
           false
          ],
          [
           "Me Enamoré",
           false
          ],
          [
           "Mala Fama",
           false
          ],
          [
           "Wish You Were Gay - Versión en Español - Spotify Singles",
           false
          ],
          [
           "Necesidad",
           false
          ],
          [
           "Corazón Maltratado",
           false
          ],
          [
           "Te Quiero Ver",
           false
          ],
          [
           "Bailando",
           false
          ],
          [
           "Vil Reptil",
           false
          ],
          [
           "Regularly Scheduled Programming",
           false
          ],
          [
           "You Can Do It",
           false
          ],
          [
           "MÉTELE AL PERREO",
           false
          ],
          [
           "Colorao",
           false
          ],
          [
           "Tú Eres Prohibida",
           false
          ],
          [
           "Las Olas",
           false
          ],
          [
           "Million To One - from the Amazon Original Movie \"Cinderella\"",
           false
          ],
          [
           "Way 2 Sexy (with Future & Young Thug)",
           false
          ],
          [
           "Hurricane",
           false
          ],
          [
           "Good Ones",
           false
          ],
          [
           "Sahara",
           false
          ],
          [
           "Estoy Triste",
           false
          ],
          [
           "Radio, Radio",
           false
          ],
          [
           "The Pines",
           false
          ],
          [
           "Miénteme",
           false
          ],
          [
           "Luna",
           false
          ],
          [
           "Todos Somos Uno (feat. Santiago Cruz)",
           false
          ],
          [
           "Nunca entenderé",
           false
          ],
          [
           "Ferrari",
           false
          ],
          [
           "Swipe Left",
           false
          ],
          [
           "Mi Parcera",
           false
          ],
          [
           "Tears",
           false
          ],
          [
           "Chucky73: Bzrp Music Sessions, Vol. 43",
           false
          ],
          [
           "Quédate",
           false
          ],
          [
           "23 Preguntas",
           false
          ],
          [
           "Océano",
           false
          ],
          [
           "Jimmy Jimmy (feat. AJ Tracey)",
           false
          ],
          [
           "Happiness",
           false
          ],
          [
           "Pasatiempo",
           false
          ],
          [
           "Para Amar (Lovely Day)",
           false
          ],
          [
           "Pequeños Hombres",
           false
          ],
          [
           "Birch (feat. Taylor Swift)",
           false
          ],
          [
           "Estar Vivo",
           false
          ],
          [
           "Pájaro",
           false
          ],
          [
           "Nadie Nunca Nada",
           false
          ],
          [
           "Arte",
           false
          ],
          [
           "Angelitos",
           false
          ],
          [
           "Hoy No",
           false
          ],
          [
           "Vente Conmigo",
           false
          ],
          [
           "MHD: Bzrp Music Sessions, Vol. 44",
           false
          ],
          [
           "Masta´z (Padrino Sessions) - Live",
           false
          ],
          [
           "Mi Vida",
           false
          ],
          [
           "Guaro - Remix",
           false
          ],
          [
           "A Mi Gente De Acá",
           false
          ],
          [
           "Sobrenatural",
           false
          ],
          [
           "Picadita De Ojo",
           false
          ],
          [
           "Sírvame Otra Copa",
           false
          ],
          [
           "Lo Que Te Perdiste",
           false
          ],
          [
           "Te Necesito",
           false
          ],
          [
           "Pensando en Mi Morena",
           false
          ],
          [
           "No Dejes Que Se Vaya",
           false
          ],
          [
           "El Mago",
           false
          ],
          [
           "Calma",
           false
          ],
          [
           "La Dueña de Mis Churupos",
           false
          ],
          [
           "18 de Junio / Homenaje al Gran Martín Elías",
           false
          ],
          [
           "Tu Norte Soy Yo",
           false
          ],
          [
           "Vuelve",
           false
          ],
          [
           "Burbujas de Amor - (Sesión en vivo)",
           false
          ],
          [
           "Si Mi Cuarto Sigue Igual",
           false
          ],
          [
           "Telepatía - Spotify Singles",
           false
          ],
          [
           "Loco",
           false
          ],
          [
           "Atención",
           false
          ],
          [
           "Pa Que Guaye",
           false
          ],
          [
           "Guille 2.0",
           false
          ],
          [
           "La Funka",
           false
          ],
          [
           "Tarde",
           false
          ],
          [
           "Llori Pari",
           false
          ],
          [
           "Tal Vez - Remix",
           false
          ],
          [
           "Pal Suelo",
           false
          ],
          [
           "A SOLAS",
           false
          ],
          [
           "Picó",
           false
          ],
          [
           "Los Cachos",
           false
          ],
          [
           "Bad Habits - Ovy On The Drums Remix",
           false
          ],
          [
           "Who's In Your Head",
           false
          ],
          [
           "tamale",
           false
          ],
          [
           "You Will Be Found (with Summer Walker) - From The “Dear Evan Hansen” Original Motion Picture Soundtrack",
           false
          ],
          [
           "Breakdown (feat. Demi Lovato)",
           false
          ],
          [
           "Parapente",
           false
          ],
          [
           "Berlín",
           false
          ],
          [
           "¿Otra Canción de Amor?",
           false
          ],
          [
           "CHEESY",
           false
          ],
          [
           "Sígueme",
           false
          ],
          [
           "PORTAL",
           false
          ],
          [
           "Se Fue",
           false
          ],
          [
           "Cógela Suave",
           false
          ],
          [
           "Hijuepu",
           false
          ],
          [
           "THATS WHAT I WANT",
           false
          ],
          [
           "I Still Have Faith In You",
           false
          ],
          [
           "Under The Sun",
           false
          ],
          [
           "Milky Way",
           false
          ],
          [
           "Reaching Out",
           false
          ],
          [
           "Thelma + Louise",
           false
          ],
          [
           "I Feel Good",
           false
          ],
          [
           "PAKATA",
           false
          ],
          [
           "Dejame Tranki",
           false
          ],
          [
           "Adicto",
           false
          ],
          [
           "Abajo y Arriba (with Juhn)",
           false
          ],
          [
           "Rendido",
           false
          ],
          [
           "Bonita",
           false
          ],
          [
           "Aguacero",
           false
          ],
          [
           "Fango",
           false
          ],
          [
           "Ain't No Love (feat. elevn)",
           false
          ],
          [
           "No Finjas Más",
           false
          ],
          [
           "Más De Ti - En Vivo Desde Medellín, 2021",
           false
          ],
          [
           "COMO EH",
           false
          ],
          [
           "Nos Matamos",
           false
          ],
          [
           "Socios",
           false
          ],
          [
           "Pulsiones",
           false
          ],
          [
           "El Remate",
           false
          ],
          [
           "Amor Divino - En Vivo",
           false
          ],
          [
           "Cumbia Valledupar",
           false
          ],
          [
           "Don’t Go (with Justin Bieber & Don Toliver)",
           false
          ],
          [
           "Runaway (with Sigala and JP Cooper)",
           false
          ],
          [
           "Chasing Stars (feat. James Bay)",
           false
          ],
          [
           "Move",
           false
          ],
          [
           "Camaleón de Jackson",
           false
          ],
          [
           "Contracorriente",
           false
          ],
          [
           "Beautiful James",
           false
          ],
          [
           "405 - Metronomy x Biig Piig",
           false
          ],
          [
           "I Don't Live Here Anymore (feat. Lucius)",
           false
          ],
          [
           "The Nowhere Inn",
           false
          ],
          [
           "Planes in the Sky",
           false
          ],
          [
           "Famous Last Words",
           false
          ],
          [
           "Espiral",
           false
          ],
          [
           "Guayabo",
           false
          ],
          [
           "Valentine",
           false
          ],
          [
           "Llévame",
           false
          ],
          [
           "Chureito en la mañana",
           false
          ],
          [
           "Maldita Foto",
           false
          ],
          [
           "Hora Loca Remix - Spotify Singles (with Piso 21)",
           false
          ],
          [
           "Huele A Gol",
           false
          ],
          [
           "Visiting Hours",
           false
          ],
          [
           "Summer of Love (Shawn Mendes & Tainy)",
           false
          ],
          [
           "Mood Ring",
           false
          ],
          [
           "Vuelve",
           false
          ],
          [
           "Monday",
           false
          ],
          [
           "Just for me",
           false
          ],
          [
           "Likes y Cicatrices",
           false
          ],
          [
           "Tamborero",
           false
          ],
          [
           "Soy la Fuerza",
           false
          ],
          [
           "Memoria",
           false
          ],
          [
           "Drive - Edit",
           false
          ],
          [
           "If You Say the Word",
           false
          ],
          [
           "Might Forgive You",
           false
          ],
          [
           "Dante",
           false
          ],
          [
           "True Seekers",
           false
          ],
          [
           "Long Way",
           false
          ],
          [
           "Hanging On Your Hinges",
           false
          ],
          [
           "Not Me Anymore",
           false
          ],
          [
           "La Claque",
           false
          ],
          [
           "Rompe",
           false
          ],
          [
           "piensa en mí",
           false
          ],
          [
           "Misma Intención",
           false
          ],
          [
           "Renacer",
           false
          ],
          [
           "Histéricos",
           false
          ],
          [
           "Arcadia",
           false
          ],
          [
           "Variaciones Sobre un Viejo Tema",
           false
          ],
          [
           "Quereme de Amor",
           false
          ],
          [
           "Cuando Estoy Con Ella (En Vivo)",
           false
          ],
          [
           "Jump Off The Top",
           false
          ],
          [
           "El Arcoiris",
           false
          ],
          [
           "Mónaco",
           false
          ],
          [
           "Al Fin Qué",
           false
          ],
          [
           "Joselito Cubano (Huérfano Soy / No, No, No, Que Va)",
           false
          ],
          [
           "La Luna",
           false
          ],
          [
           "Llorar (Big Tears)",
           false
          ],
          [
           "DPM (De Pxta Madre)",
           false
          ],
          [
           "Incontrolable",
           false
          ],
          [
           "El Tracatra",
           false
          ],
          [
           "simple times",
           false
          ],
          [
           "I Don't Wanna Talk (I Just Wanna Dance)",
           false
          ],
          [
           "Angel Baby",
           false
          ],
          [
           "Acapulco",
           false
          ],
          [
           "Como Lo Pedí",
           false
          ],
          [
           "Sad Boy (feat. Ava Max & Kylie Cantrall)",
           false
          ],
          [
           "Mal de Amores",
           false
          ],
          [
           "Shivers",
           false
          ],
          [
           "Days Of Future Past",
           false
          ],
          [
           "Unknown Male 01",
           false
          ],
          [
           "El Día del Huracán - Versión 2021",
           false
          ],
          [
           "Nada que hablar (feat. Aterciopelados)",
           false
          ],
          [
           "Spirit Power and Soul",
           false
          ],
          [
           "Annie",
           false
          ],
          [
           "Human Touch",
           false
          ],
          [
           "Calendarios y Acetatos",
           false
          ],
          [
           "Nostálgico",
           false
          ],
          [
           "Tuyo (Nueva Versión)",
           false
          ],
          [
           "Mami Mamacita",
           false
          ],
          [
           "Guarito",
           false
          ],
          [
           "Como Lo Hice Yo",
           false
          ],
          [
           "Caso Cerrado",
           false
          ],
          [
           "La Reina de la Cantina",
           false
          ],
          [
           "Puño de Diamantes",
           false
          ],
          [
           "Poema",
           false
          ],
          [
           "La Ciudad del Rap",
           false
          ],
          [
           "Mil Vueltas a Este Pantalón",
           false
          ],
          [
           "Nueva Vida",
           false
          ],
          [
           "Me Re Sirve",
           false
          ],
          [
           "Curazao",
           false
          ],
          [
           "ASUNTO SERIO / TATUA",
           false
          ],
          [
           "Un Trago",
           false
          ],
          [
           "FEEL ME??",
           false
          ],
          [
           "Como + Nadie",
           false
          ],
          [
           "Ven (with Luar La L & Eydren)",
           false
          ],
          [
           "Trap Romantic",
           false
          ],
          [
           "LALA (Unlocked) (feat. Swae Lee)",
           false
          ],
          [
           "Paso a Paso",
           false
          ],
          [
           "Mal Acompañada",
           false
          ],
          [
           "Gánatelo",
           false
          ],
          [
           "Guaro",
           false
          ],
          [
           "Doncella",
           false
          ],
          [
           "Darte",
           false
          ],
          [
           "Bendecida (Padrino Sessions) - Live",
           false
          ],
          [
           "Contigo",
           false
          ],
          [
           "Vuelo y Vértigo",
           false
          ],
          [
           "Nube Gris",
           false
          ],
          [
           "Neo Quimeras",
           false
          ],
          [
           "Tiempo de la Cruz",
           false
          ],
          [
           "Ya Fue",
           false
          ],
          [
           "Insomnio",
           false
          ],
          [
           "Toa La Vida",
           false
          ],
          [
           "Deja de Mirarme",
           false
          ],
          [
           "Blame On Me",
           false
          ],
          [
           "Sorbito de Champán - Bonita y Mentirosa - Desorden Público rinde Homenaje al Indio Pastor López ft Billo's & Chicha Libre",
           false
          ],
          [
           "Querer Es Poder",
           false
          ],
          [
           "Tengo Ganas",
           false
          ],
          [
           "¿Donde Estarás Libertad?",
           false
          ],
          [
           "Eco de Mis Ancestros",
           false
          ],
          [
           "Te Quiero Igual Que Ayer",
           false
          ],
          [
           "Cumbia del Olvido",
           false
          ],
          [
           "Ley de Atracción",
           false
          ],
          [
           "Poison (with DEKKO)",
           false
          ],
          [
           "Al Escondido",
           false
          ],
          [
           "Sun Came Up",
           false
          ],
          [
           "Por El Alcohol",
           false
          ],
          [
           "La Graduación",
           false
          ],
          [
           "Santera",
           false
          ],
          [
           "Repetíamos",
           false
          ],
          [
           "Hace Calor",
           false
          ],
          [
           "El Gato Andaluz",
           false
          ],
          [
           "Cero Tiroteo",
           false
          ],
          [
           "Mentas / Lo Simple",
           false
          ],
          [
           "High",
           false
          ],
          [
           "Iluminábamos (feat. Monsieur Periné)",
           false
          ],
          [
           "Piece Of My Mind",
           false
          ],
          [
           "Nos Entendemos",
           false
          ],
          [
           "Buscándote",
           false
          ],
          [
           "Just A Ghost",
           false
          ],
          [
           "Ya No Funcionó",
           false
          ],
          [
           "GPS",
           false
          ],
          [
           "Linda",
           false
          ],
          [
           "Ella Es Mala",
           false
          ],
          [
           "La Foto Se Me Borró - Bachata",
           false
          ]
         ],
         "hovertemplate": "Is a Hit?=%{customdata[1]}<br>Principal Component 1=%{x}<br>Principal Component 2=%{y}<br>song=%{customdata[0]}<extra></extra>",
         "legendgroup": "False",
         "marker": {
          "color": "#636efa",
          "symbol": "circle"
         },
         "mode": "markers",
         "name": "False",
         "orientation": "v",
         "showlegend": true,
         "type": "scatter",
         "x": [
          0.3765685077889308,
          -0.3079092138229151,
          -0.06534263050116865,
          0.12750640151738346,
          -0.6676704526712505,
          -0.06154047181387113,
          -0.20018216528713625,
          -0.24173084623783012,
          -0.03775792347875802,
          -0.10427072857938165,
          0.34229069533199835,
          -0.45436925473743145,
          0.44239802697465025,
          0.0947362076413763,
          -0.18206559949824452,
          0.30301088340631155,
          -0.44984572737604817,
          0.19473434615783736,
          0.262978078661862,
          0.28026900046731923,
          -0.3993733541575499,
          0.27031066103716705,
          -0.135779568066676,
          0.1407220984323909,
          -0.13338957987002195,
          0.029051621432845367,
          0.5753939014150654,
          0.2683763069670812,
          -0.3081508832246452,
          -0.3009978904254166,
          -0.017822719280018086,
          0.01469297402658287,
          -0.024439017352059073,
          -0.15666621443983722,
          -0.054416212714612444,
          0.155479493099372,
          -0.12853853891454467,
          -0.4215931012774331,
          -0.6191689255509762,
          -0.17627716460730747,
          0.27797609683075863,
          -0.4161601820317793,
          0.2360003589450501,
          -0.5651237843281242,
          -0.3927475361289185,
          0.12480400596856372,
          -0.07943563050183453,
          0.37617396204023906,
          -0.4393806488367565,
          -0.24821430545869494,
          0.0060810508578391835,
          -0.4916250403400446,
          -0.5920777706262329,
          -0.6389838318664367,
          0.31618022825904424,
          -0.1226042297633709,
          -0.42689888651244456,
          -0.2589556538573136,
          0.0018310814194661452,
          -0.3330790285993694,
          0.34182423171160675,
          -0.42852372666740385,
          0.19644730682041953,
          0.33507983246386014,
          -0.4711567242333105,
          -0.44667759555031283,
          0.17092868678656006,
          0.2994526394773506,
          -0.191520223189596,
          0.2873564836929374,
          0.28496127610500155,
          0.18941881385455242,
          -0.04415230315749893,
          0.04450516643002917,
          0.3966464781477102,
          0.3467416708349229,
          0.2784540613488088,
          0.4985134143219162,
          0.17822488368061934,
          0.14391740713529916,
          0.42092370987614885,
          0.4202012151080094,
          0.6489062089593229,
          0.30309365299509977,
          -0.07154383483765991,
          -0.5370186751980373,
          -0.15235994555142515,
          -0.08014548132661077,
          -0.4277899197433259,
          0.30361349472625376,
          -0.1771560576848669,
          0.8643488301951853,
          -0.23981723422525833,
          0.8361209847765141,
          0.8695066923671873,
          0.33995007105198943,
          -0.385324874408256,
          -0.07574139483651257,
          0.3549432864504157,
          0.22300200497713452,
          -0.19605768292388961,
          -0.4446095795109528,
          0.00802608596143619,
          0.07631368588588615,
          -0.4381369728035093,
          -0.19605768292388961,
          0.4947043626177493,
          -0.5612390516098726,
          0.3166428814890103,
          -0.21905759681276976,
          0.04133879121434241,
          0.47064652862926765,
          0.1306895415182331,
          -0.1295163135317951,
          0.10728858132779392,
          -0.32994153325844405,
          0.06452758946815566,
          -0.3864907283794599,
          -0.07195283949799781,
          -0.48459511423320634,
          0.6061486025729794,
          0.7334602376774108,
          0.25804197013009517,
          -0.2105005857702286,
          0.6489062089593229,
          0.33897745906623855,
          0.4212798562153259,
          -0.3386865423411601,
          0.4520743205627904,
          0.2615909785575839,
          -0.19333939867219432,
          0.5785360858644151,
          0.8506705353984331,
          -0.5880629097883354,
          0.23601204192994163,
          0.24075667604201664,
          0.3775417176281657,
          -0.004789508872990318,
          -0.3007099034710763,
          0.7646986397760409,
          0.40107853797539667,
          -0.19470642353425283,
          -0.4932696467732633,
          -0.3847161603928013,
          0.1753245880884839,
          -0.3576090493278236,
          -0.15253166184913194,
          0.6324413213521565,
          0.18988404547708052,
          -0.2230238138218589,
          -0.053782796950196624,
          0.5029861269098596,
          -0.3985227469472591,
          -0.09288326597283354,
          0.2469257921300328,
          0.39804193747510347,
          0.0771761384436357,
          0.1457259130158727,
          0.10701496505626673,
          -0.5541252352358724,
          0.27079405783365795,
          -0.2877287201776235,
          -0.13572126356427813,
          -0.0372863197509296,
          -0.011645839854572591,
          0.09241354360398896,
          -0.2894662314838465,
          -0.3723008498965141,
          -0.5716179219059406,
          -0.3716308519901116,
          -0.09741389269865634,
          0.1913440993602171,
          0.1408553829183021,
          0.22309959305171204,
          -0.6087277709977087,
          -0.49260044592087726,
          0.2824483679991826,
          -0.2644897558767818,
          -0.0021811909286799163,
          -0.29137905048670837,
          -0.2846583583331905,
          -0.1886768546826359,
          0.22384509462206406,
          -0.2910486607695698,
          0.029998046799722254,
          -0.05825792002332283,
          -0.2114566764641159,
          0.025141942502836495,
          -0.08020913890675653,
          -0.1433063079157688,
          0.10807562178366234,
          0.4073795188514734,
          -0.17838799556744575,
          -0.15585928461456938,
          0.5368285588224594,
          -0.26457736458298603,
          0.1489122857319952,
          -0.45773517241634293,
          0.48945243396433263,
          -0.27537497725417975,
          -0.015260694040112675,
          0.263050473637095,
          -0.42181151190110977,
          -0.31687539408502846,
          0.2376324427531918,
          -0.24408415511611342,
          0.3930304883835735,
          0.6122379224908213,
          -0.44972630593756263,
          -0.14097685754899678,
          -0.1450083013160339,
          0.2777644148219471,
          -0.09316067398239333,
          0.43250202817946415,
          0.14720228290110052,
          0.467966308628847,
          -0.2568781758066803,
          -0.014814930658779644,
          -0.06897897193140086,
          0.31604892219831277,
          0.5855342477823066,
          0.15470779973819138,
          0.3330168210692134,
          0.07295676725118574,
          -0.06879306129541024,
          0.45459641255794114,
          0.46659280585312435,
          0.2918750623311622,
          0.27146880806872653,
          -0.021334249003372403,
          0.5027868793775309,
          -0.3083786374151182,
          0.015033121471900912,
          -0.25227055099748263,
          -0.3021467856067954,
          -0.3192041207574735,
          -0.2804726907838055,
          0.3318724726545965,
          0.1071884145456126,
          -0.5183172150130073,
          -0.25238013961095884,
          -0.038389853048205046,
          -0.17781579430892797,
          -0.1548179536528576,
          -0.3497071175964142,
          0.20704276376371267,
          0.7940270288797244,
          0.2515194762944827,
          0.7375816864549022,
          -0.15180896470815305,
          0.08845815956594406,
          0.07643865307966513,
          -0.19747891529609019,
          0.22731258714755836,
          -0.06782144723359733,
          0.37807679992924104,
          0.17467214007480023,
          0.3610137604553194,
          0.08530255089729857,
          -0.24814102044146383,
          0.3468788780627182,
          -0.06452930681055405,
          -0.5033419135335854,
          -0.15307806755944517,
          -0.13529977481917804,
          0.5810636009643749,
          0.43308238214763917,
          0.20000732742347813,
          -0.13499794949099309,
          0.22869435519773246,
          -0.5005132401982795,
          -0.3916074496390667,
          0.16709653929598015,
          -0.1387315405937412,
          -0.5768943933300508,
          0.1749712025142857,
          0.2140854021525554,
          0.36221366232207963,
          -0.1034977345628492,
          0.08435267326097985,
          0.30666066811767223,
          -0.48739367899702546,
          -0.1571195249016588,
          0.12869038909559613,
          -0.44642072937861066,
          0.2839546349594722,
          -0.1769378043554709,
          -0.1512234399079826,
          -0.04751498594560827,
          0.19722931623931694,
          0.29228664417196804,
          0.38456169839976856,
          0.014744840898783714,
          -0.20588994377061176,
          -0.574858164983855,
          -0.042923048180490836,
          0.1202426122592045,
          -0.2773299866142345,
          0.0025683696870732685,
          -0.08454514299935499,
          -0.5523600430636108,
          -0.45307585565320274,
          0.213944775084752,
          -0.3677059548795186,
          -0.2044229228666537,
          -0.48375927990648016,
          -0.5196089343016111,
          0.5159756738838909,
          0.5230516727948374,
          0.011410704005734148,
          0.0891269631083293,
          0.003371161574410232,
          0.5804902604399259,
          0.40780734371352984,
          0.39640831502011836,
          0.5366854345892702,
          0.051410461139208864,
          0.5689364413350405,
          0.08857645918791936,
          0.30525261377317925,
          -0.5523182128099328,
          0.160203873479796,
          -0.5458740419297367,
          0.20782813020934407,
          -0.11509238138500186,
          -0.19140931584853813,
          0.4843845438645324,
          0.4531495973678676,
          0.38033347897076747,
          0.14516130242558584,
          0.41906638561154425,
          0.259722756296959,
          0.14985246220486964,
          0.17266811121657094,
          0.22196407558436743,
          0.2022581987422515,
          -0.16578103550264453,
          -0.22143474862929738,
          0.5862486229122514,
          0.08361411414799413,
          -0.5955854371762567,
          0.8304965406840574,
          -0.13317637271668262,
          -0.0808778975353933,
          0.46130855088769135,
          0.2222368614889621,
          0.35886756205383286,
          -0.12748123479141432,
          -0.2192657343121355,
          -0.00874608984338092,
          -0.3646046719046404,
          -0.4153114825314484,
          0.02259571187153092,
          -0.38173447959220763,
          -0.18226043328853248,
          -0.4212251795957727,
          0.35584289069952346,
          0.2960421424544585,
          0.21852367885333127,
          0.4065533291721601,
          -0.26959343997843854,
          -0.36960457918207856,
          -0.4692626897574435,
          0.4446208274159962,
          0.28649513676211463,
          -0.1174416040431558,
          0.10268592429885505,
          0.08443448956137868,
          0.2960417408407436,
          0.003105947432916802,
          -0.10552256232806331,
          -0.22573637201893815,
          0.1282020532594997,
          -0.1352203105069969,
          0.3680168990830761,
          -0.3900900779801539,
          -0.3125855771939742,
          0.10936464442779144,
          0.26466974482878863,
          0.3139574135773267,
          -0.013173534847174297,
          0.40511690547078305,
          0.22864587577472759,
          -0.07140870659200944,
          -0.2798804785506387,
          0.3334992364906882,
          -0.03436687550952655,
          0.2948759873934503,
          -0.5765601645458031,
          -0.3375729576272359,
          -0.09772728016498848,
          -0.31367510655860653,
          -0.2567602188226951,
          -0.009900352795906698,
          -0.23605048008000623,
          -0.14242223596767672,
          -0.13294202306572167,
          -0.18740581529041128,
          -0.4822360271947967,
          -0.42163268597135095,
          -0.3525442134976939,
          0.19038056104481352,
          0.27228232738617514,
          0.12973653655068487,
          -0.3899808966430795,
          0.513245441138979,
          -0.3256132586566287,
          0.034618520111614884,
          0.27410711153485784,
          -0.0784211214365892,
          0.529550521405163,
          0.12890614276048537,
          0.49670522605380085,
          -0.17998753392117842,
          -0.5639578503135996,
          0.3014208548137333,
          0.5506902408429619,
          -0.46459405750511096,
          0.22979615605393655,
          0.2447669796118099,
          -0.4006471909911418,
          0.009669363643293166,
          -0.197779429629842,
          -0.26745206919380254,
          -0.41249436811445694,
          0.3353147944740906,
          0.2748922553085523,
          0.11952342334081568,
          0.02768165399555567,
          -0.17931571381472416,
          -0.2858181402038475,
          -0.01728084392700431,
          0.2653489030404688,
          -0.16614031880032454,
          0.23121910920728148,
          0.28747020695227987,
          -0.5180562449914786,
          0.27705065596399725,
          -0.43515248243192706,
          0.2868944861526967,
          0.0635076214447113,
          -0.14829318005611264,
          -0.43565512915908
         ],
         "xaxis": "x",
         "y": [
          -0.24659106597545266,
          -0.1745028521784758,
          0.06725833080058435,
          -0.6037666195782188,
          -0.04386223185488115,
          -0.44809651038376863,
          0.034608302453374665,
          -0.18831337331317252,
          -0.18303780905975447,
          -0.346502263488747,
          -0.2943610395852271,
          0.037620404416521654,
          -0.12184259832589495,
          -0.49917030980602956,
          0.023266291298941425,
          -0.112877583377057,
          -0.022890482347091932,
          -0.6167930414074954,
          -0.2270094612478646,
          -0.4687004911989239,
          0.0459694536113658,
          -0.3378581051042458,
          0.4085318460084498,
          -0.29254143927910115,
          -0.010828993504295038,
          -0.1842250498730961,
          0.036586186151804374,
          -0.5747483193633359,
          0.0049221107019668505,
          0.08128070857376649,
          -0.03041463377369089,
          -0.16896962907352162,
          0.34920687033850784,
          -0.018094028546904804,
          -0.055260863386614095,
          -0.2593506889389684,
          0.08114426149875101,
          0.18720143150342797,
          -0.13734087911401283,
          -0.044929789278879334,
          -0.5486905268035432,
          0.05930311678630906,
          -0.46514270098328153,
          0.10584740713954606,
          -0.15982655428195802,
          -0.3585901617281734,
          -0.17951562532138912,
          -0.3564259347182813,
          -0.13892585233002386,
          -0.19978987613160715,
          -0.31297776360387847,
          0.22572853302420015,
          -0.2287665379595663,
          0.007178236820781062,
          0.335342083677096,
          -0.168432198011203,
          -0.07903081098373056,
          -0.05820346233424072,
          -0.1454709353009423,
          -0.13721253696299504,
          -0.20266716934010895,
          0.018063137975917364,
          -0.2882722831992754,
          -0.4331929242216727,
          0.2737066853426776,
          0.16925816001641547,
          -0.40288728916613636,
          -0.48521513216792617,
          -0.2400515863780753,
          -0.3806151738371999,
          -0.4423395464068749,
          0.46681920681628725,
          -0.19688656183634817,
          -0.4910381615472573,
          0.037786470451587915,
          -0.18051774178775928,
          -0.04865519817199966,
          0.04806937867338673,
          -0.24106326085534502,
          0.8005045853419464,
          0.14406117088558337,
          -0.16591743792281552,
          0.2262958075972045,
          -0.3654292821283949,
          0.3534035538439739,
          0.01009282335871536,
          0.3164987364304424,
          -0.3201273240348519,
          0.05524863443911058,
          0.34218335430314517,
          -0.05465074948705327,
          0.9649860180103533,
          0.22189102194709223,
          0.8738795053579115,
          0.6077198816315771,
          -0.3564258908242041,
          0.24119541449264503,
          -0.06358096476362822,
          -0.40575090497740446,
          0.0058728431753601006,
          0.8340381146876528,
          0.30450885595338933,
          -0.3883732420988559,
          -0.453678239888193,
          0.08998337664092323,
          0.8340381146876528,
          0.09416498382228741,
          0.13720192807558898,
          -0.27728808674461786,
          -0.36861502442139177,
          -0.03320924259576466,
          -0.1710667815480325,
          0.28696623975594965,
          -0.2450774172552067,
          -0.505757057477906,
          0.17697592825082317,
          0.35196939634582547,
          -0.11631948892990625,
          0.35326204426962815,
          -0.10285125690154523,
          0.2784590773171774,
          0.27945960051371244,
          -0.14820358433164615,
          0.1862510258688951,
          0.2262958075972045,
          -0.3576825330850666,
          0.4276975472447103,
          0.2256064563343334,
          -0.08052516834209386,
          -0.41119886403851813,
          -0.04327026855266428,
          0.2755321503306258,
          0.5835047913946723,
          -0.018543942024287968,
          -0.43501383622567125,
          -0.32126085107764496,
          0.051923982619358294,
          0.049577335507552354,
          0.6420435651424623,
          0.5066885910062466,
          -0.02034721950956728,
          -0.05762899387576732,
          -0.2735714097473028,
          0.0675563665192728,
          -0.466433791954853,
          0.2588884558301753,
          -0.3616187257659787,
          0.2462201209686609,
          -0.1322043313103402,
          0.059283027402425637,
          -0.11599524897443221,
          -0.1469291824858325,
          0.08791453756580174,
          0.10830206842937895,
          0.2785742883928011,
          -0.30761289799033137,
          0.5521368040289335,
          -0.00274150207476628,
          0.8748922828402178,
          0.14145524108159735,
          -0.5242816728829948,
          -0.03868431635821393,
          0.34677272697269573,
          -0.25347968682540467,
          -0.11993300740381879,
          1.0029182374456902,
          -0.06468558851153769,
          -0.08388279138749334,
          0.03883585152074969,
          -0.037166088699147753,
          0.015189756366463162,
          -0.04312689649738346,
          0.156577562931563,
          -0.3119720293852371,
          -0.06818864351203072,
          0.1689995459833658,
          -0.538881963042519,
          0.11661270239030479,
          -0.22469538257190239,
          0.32141071710754193,
          -0.21307106597609834,
          -0.07113136057111558,
          -0.4812873396254588,
          -0.18999506903494692,
          0.36124926382960465,
          0.004548973783099677,
          0.31966462343215174,
          0.1102217378816412,
          0.19065098630658608,
          0.12694752384383967,
          0.34513791608828925,
          0.163123708645303,
          -0.2831729272774681,
          -0.1958097657343311,
          0.04614091441445881,
          -0.19639387468660321,
          0.4920827714967393,
          0.2047724352534735,
          -0.07339806523218188,
          -0.1341440283844536,
          -0.31753382708415306,
          -0.005869991592089855,
          -0.12890695598057778,
          0.21511882444704725,
          -0.3688284542057803,
          -0.1524954215308909,
          -0.21480969415397827,
          0.12393522309307772,
          -0.029185305592220667,
          -0.006824153761936798,
          -0.3268814648553452,
          -0.495865762015699,
          -0.09888789996240457,
          -0.13185166459276876,
          0.14494352695877555,
          0.3024422735522771,
          0.09937785899521163,
          0.6616464669232591,
          0.5020788754021275,
          0.4871965087149057,
          0.7835807654752279,
          0.8470440214906318,
          -0.12598599791083193,
          -0.12353436784657171,
          0.21783457649043853,
          -0.09352958160767569,
          0.5058104147324675,
          0.3443468228199575,
          -0.34558405019241706,
          -0.3793598283611654,
          0.05302967651025769,
          -0.14675908711534885,
          0.0695124578090879,
          -0.22018906893190066,
          0.32359446738450454,
          -0.06423170205064413,
          0.12444160407922153,
          -0.23495679180714302,
          -0.003485237891655366,
          -0.15571515581086862,
          -0.23112525832592715,
          -0.24632780709396188,
          -0.13400907009187632,
          -0.038489399719947075,
          -0.030546279167123058,
          0.8153731688175558,
          0.5199663028326507,
          0.6643877126911298,
          0.33141268223558235,
          -0.12863729836206916,
          0.3324442627193827,
          0.07670457686957587,
          -0.09525892833833213,
          -0.3270918288653328,
          -0.28044991956256343,
          0.6419424260008956,
          0.13622837563168136,
          -0.2571322341453759,
          -0.5104468722389348,
          -0.03491206842383356,
          -0.12937073767429666,
          -0.23252379124974715,
          0.18433710423477107,
          -0.2573768820351088,
          0.06587661168306343,
          0.29332346147952265,
          -0.18579141967947413,
          0.7360931174914606,
          -0.468578135658458,
          0.03222077263093657,
          0.06939430664265903,
          0.3820434279849743,
          0.42956617876738495,
          -0.3267219647857689,
          -0.04199311437769012,
          -0.5028668620939801,
          -0.35675142273263005,
          0.5743847932853741,
          0.14050794710221887,
          -0.39536012944832527,
          -0.4106502824996964,
          -0.16100110046850816,
          -0.145372369482122,
          -0.5031380949529407,
          0.28011081483971983,
          -0.2291353528822161,
          -0.24799541184536852,
          0.11031269119118449,
          -0.17916853832096474,
          -0.5895843091852152,
          0.3587256858351961,
          -0.04570264897138089,
          -0.2764387191703637,
          0.021452600448664254,
          0.08534077595204373,
          -0.28780443333279543,
          -0.05190857084120323,
          0.6676499735680275,
          -0.1350749800950142,
          0.29012102678032237,
          0.143853355707668,
          0.28160032048630057,
          -0.06993300723743891,
          0.22664623314473184,
          -0.24209067169521967,
          0.12787780431333318,
          0.14977647569115415,
          -0.26613096993047636,
          -0.020579478208880113,
          -0.09876445496822565,
          0.4407331488224327,
          -0.11481736568409184,
          0.9372000803709776,
          -0.16072900834759066,
          0.09295462524430692,
          -0.13861165858358523,
          0.1290141727034564,
          0.5204254550082782,
          -0.4602174752415086,
          -0.35221711512398207,
          0.01267508921511899,
          0.7023354247996634,
          0.06649173117114153,
          0.3968116825523302,
          0.5477248235031107,
          -0.08546195575825151,
          -0.027063275138354624,
          -0.25822118339065653,
          -0.334048791367295,
          -0.41573405542256,
          -0.35740349401554244,
          -0.11911319467964916,
          0.20117127810216,
          0.2615942548305805,
          -0.18494924446377684,
          -0.3210792430691152,
          -0.005684017235601736,
          -0.191357699355717,
          0.10120476723934191,
          0.015455735627267417,
          -0.0870071191553223,
          0.4467249927447633,
          0.19989320990714235,
          0.40822255782758715,
          0.031193177544282472,
          1.2844482648692317,
          0.6576764350175199,
          -0.40991448105750766,
          0.5122160330636149,
          -0.5409839581317952,
          0.18894329491880474,
          0.3105546328236637,
          0.20795433196756508,
          0.2543151345785109,
          -0.012228135088912458,
          -0.09739639436534121,
          -0.044718980701782325,
          -0.3385437062500455,
          -0.3029095842906414,
          0.059079486026830004,
          -0.13628733079474695,
          0.4126536271858793,
          0.026042376815257853,
          -0.17268239206395614,
          -0.2422851245067979,
          -0.14006540047347885,
          -0.3937298634667596,
          -0.13277091524850276,
          0.24275917832235622,
          0.2948644060502198,
          -0.2298998027696685,
          -0.2885906010178759,
          0.2003021416710904,
          0.08695011197931707,
          -0.331327816869436,
          0.03463155334615291,
          0.022330938414174214,
          0.17127888637648386,
          -0.36322995788902396,
          -0.07269089194768737,
          0.03464532581568724,
          0.03943871361427005,
          -0.2536899864422333,
          0.3411698551900678,
          0.39816284234843674,
          0.18818338106807192,
          -0.04560189321199765,
          -0.06297135019062208,
          0.025230517234961565,
          0.5524540907150411,
          0.20993185527186123,
          0.3410229488235772,
          -0.0449843687536643,
          0.03500432971091881,
          0.45960772026314645,
          0.16987350094963283,
          -0.25176290924482114,
          -0.22768910857735966,
          0.3313902397766333,
          -0.08143532818059868,
          0.3311857026661564,
          -0.4778511439391199,
          -0.12192803267458963,
          0.3096428544813126,
          0.0312789335026506,
          -0.06697861080908434,
          0.5260260644037403,
          0.32783689162924684,
          0.8129172794332854,
          -0.13369659227637237,
          0.08650215534373257,
          0.48937542095065995,
          -0.07705272725918622,
          -0.30269254215503344,
          0.10802240628763446,
          -0.13817860514725183,
          -0.04226308208726534,
          0.3691209181199771,
          0.03069722050403885,
          -0.41543631541496195,
          0.0708961706990505,
          0.06894592510115123,
          0.06868913592337811,
          0.17251921302340711,
          -0.07812283378847132,
          0.06747422999480897,
          0.18382097230441835,
          -0.12969684846003746,
          -0.48435649516798085,
          0.07026396594310455,
          -0.37688671045965577,
          0.3702681771688324,
          -0.4098765114668152,
          0.26259060357404707,
          -0.46893334583954344,
          -0.27683855810469926,
          0.0430875122058506,
          -0.028803906333213107,
          0.03492783616724321,
          -0.1439261095571811,
          -0.41585160551310263,
          -0.03457588130103356,
          0.163336478791639
         ],
         "yaxis": "y"
        },
        {
         "customdata": [
          [
           "Volando - Remix",
           true
          ],
          [
           "Tiroteo - Remix",
           true
          ],
          [
           "Sobrio",
           true
          ],
          [
           "STAY (with Justin Bieber)",
           true
          ],
          [
           "TENGO FE",
           true
          ],
          [
           "Entre Nosotros",
           true
          ],
          [
           "200 COPAS",
           true
          ],
          [
           "París",
           true
          ],
          [
           "Life Goes On",
           true
          ],
          [
           "SI TÚ SUPIERAS - Bonus Track",
           true
          ],
          [
           "Wasa Wasa",
           true
          ],
          [
           "Una Nota",
           true
          ],
          [
           "Don't Be Shy",
           true
          ],
          [
           "Qué Más Pues?",
           true
          ],
          [
           "Miénteme",
           true
          ],
          [
           "Pepas",
           true
          ],
          [
           "Pareja Del Año",
           true
          ],
          [
           "Muy Feliz",
           true
          ],
          [
           "Dos Problemas (feat. Big Soto) - Remix",
           true
          ],
          [
           "TE MATA",
           true
          ],
          [
           "Volví",
           true
          ],
          [
           "INDUSTRY BABY (feat. Jack Harlow)",
           true
          ],
          [
           "Jordan",
           true
          ],
          [
           "Woman",
           true
          ],
          [
           "JORDAN IV",
           true
          ],
          [
           "Beggin'",
           true
          ],
          [
           "Yonaguni",
           true
          ],
          [
           "512",
           true
          ],
          [
           "Cúrame",
           true
          ],
          [
           "Hace Tiempo",
           true
          ],
          [
           "14 De Febrero",
           true
          ],
          [
           "Sal y Perrea",
           true
          ],
          [
           "Bandido",
           true
          ],
          [
           "HULU",
           true
          ],
          [
           "HECTOL",
           true
          ],
          [
           "EL MAKINON",
           true
          ],
          [
           "COMO CUANDO",
           true
          ],
          [
           "EL PADRINO",
           true
          ],
          [
           "DÁKITI",
           true
          ],
          [
           "2/Catorce",
           true
          ],
          [
           "PURRITO APA",
           true
          ],
          [
           "911 - Remix",
           true
          ],
          [
           "CORONE",
           true
          ],
          [
           "FUMETEO",
           true
          ],
          [
           "Poblado - Remix",
           true
          ],
          [
           "CHIMBITA",
           true
          ],
          [
           "AM Remix",
           true
          ],
          [
           "FERXXO VI",
           true
          ],
          [
           "Botella Tras Botella",
           true
          ],
          [
           "XXXX",
           true
          ],
          [
           "Todo De Ti",
           true
          ],
          [
           "La Curiosidad",
           true
          ],
          [
           "Fiel",
           true
          ],
          [
           "LA NOCHE DE ANOCHE",
           true
          ],
          [
           "Fiel - Remix",
           true
          ],
          [
           "In Da Getto",
           true
          ],
          [
           "IMPOSIBLE - REMIX",
           true
          ],
          [
           "In Da Getto",
           true
          ],
          [
           "Bebé Que Bien Te Ves",
           true
          ],
          [
           "Poblado - Remix",
           true
          ],
          [
           "Qué Más Pues?",
           true
          ],
          [
           "Ley Seca",
           true
          ],
          [
           "Hawái",
           true
          ],
          [
           "Ella",
           true
          ],
          [
           "Alguien Más",
           true
          ],
          [
           "Vestido",
           true
          ],
          [
           "La Venganza",
           true
          ],
          [
           "Te Acuerdas De Mí",
           true
          ],
          [
           "Si Te Atreves",
           true
          ],
          [
           "Una Locura",
           true
          ],
          [
           "Butter (feat. Megan Thee Stallion)",
           true
          ],
          [
           "F40",
           true
          ]
         ],
         "hovertemplate": "Is a Hit?=%{customdata[1]}<br>Principal Component 1=%{x}<br>Principal Component 2=%{y}<br>song=%{customdata[0]}<extra></extra>",
         "legendgroup": "True",
         "marker": {
          "color": "#EF553B",
          "symbol": "circle"
         },
         "mode": "markers",
         "name": "True",
         "orientation": "v",
         "showlegend": true,
         "type": "scatter",
         "x": [
          -0.08127849573824573,
          -0.25660453702674557,
          -0.09123396639800924,
          0.31202106762167536,
          -0.12699850074324767,
          0.04588233920578411,
          -0.2163893577312941,
          0.5209261973980277,
          0.4253854482491321,
          0.15069948046107493,
          -0.24778125280830302,
          0.04522366083917124,
          -0.5119712163281178,
          -0.43777996693193794,
          0.08786473687010594,
          -0.20367086626443734,
          0.0017391814966960476,
          -0.4179228817904233,
          -0.0925551714187023,
          -0.4034311577834941,
          0.253845359972359,
          -0.537780216034617,
          -0.5064033824110263,
          -0.19064848850600075,
          -0.035467203240895875,
          -0.5320708350082598,
          0.39541641771312513,
          0.0595085409778622,
          -0.1282927155831039,
          -0.5254314225445852,
          -0.12981767461284266,
          -0.5758178601957398,
          -0.281676724609336,
          -0.22482709223804231,
          -0.09978788642303778,
          0.058217525635694524,
          -0.3663253648466241,
          0.44161256932908505,
          0.31618022825904424,
          0.3556025859661131,
          0.26252932551596,
          -0.2867193669141312,
          0.26862953675821744,
          -0.029001182387661584,
          0.05609072558326464,
          0.30029966369164796,
          -0.17248206319240003,
          0.80474986032767,
          0.4965225453998106,
          -0.3243445821180998,
          0.22006977082551127,
          -0.527834973710821,
          -0.04652132170763387,
          -0.18254002930613322,
          -0.06024349809229354,
          -0.39018383208718754,
          -0.42659520094344444,
          -0.3998080537642999,
          0.2517932489370797,
          0.06312796915285424,
          -0.431116662448787,
          -0.32086249304208303,
          -0.12655062698212682,
          -0.13458042858507016,
          -0.49219784414813283,
          -0.07493081150052415,
          0.2475412524084053,
          -0.4481057619762491,
          0.32246545918548475,
          -0.14752412496224943,
          -0.35025515896503645,
          -0.11133453446680651
         ],
         "xaxis": "x",
         "y": [
          -0.058244514170290605,
          0.29310832183369645,
          -0.29118227699318694,
          -0.35629169945763817,
          0.05217218497376679,
          0.03426659656551521,
          0.4029781744763799,
          0.04820772867177463,
          -0.11689237855595937,
          -0.04678099598211718,
          -0.026398235469416324,
          -0.43467707030548564,
          0.1473983508143603,
          -0.18285888846976628,
          -0.2854102383881372,
          -0.07682066304652481,
          -0.10804107704833518,
          0.2646628433033086,
          0.16930212194124106,
          -0.09579937063595861,
          -0.37441114123566566,
          -0.07712184195075898,
          -0.08993772001730477,
          -0.2939550212045871,
          -0.0407960969906944,
          0.08622212184815824,
          -0.1963188482691765,
          0.0060432577587550135,
          0.4875522884585943,
          0.04009801809256563,
          0.41680667482375255,
          -0.06366867118969279,
          -0.05363599211246723,
          -0.17833868854570137,
          0.08571739840062702,
          0.07893561507971868,
          0.12338867830830479,
          -0.28000293167265267,
          0.335342083677096,
          0.2643453648010999,
          -0.3082538486037828,
          -0.08016110169674195,
          -0.37087908376069184,
          -0.21952982243081168,
          -0.22634071426670774,
          -0.35812486375588803,
          -0.21063269820580696,
          0.8586655736535722,
          0.015575026634725814,
          0.29260807415221796,
          -0.043697325486982394,
          0.22791813900998384,
          0.13660507778124836,
          0.06899238107720367,
          0.12138481364636738,
          -0.15469054636998578,
          0.05079720620965906,
          -0.16810432708585796,
          -0.38235752661975425,
          -0.21541011736396903,
          -0.17245479359609908,
          -0.03820944008179613,
          -0.1746167248858232,
          0.062403464936233236,
          -0.05522650440017705,
          -0.040687948010555856,
          -0.07973168214685178,
          -0.19880289954159888,
          -0.3321984067802326,
          -0.3345409036864098,
          -0.0619539675018819,
          -0.14392289749848186
         ],
         "yaxis": "y"
        }
       ],
       "layout": {
        "legend": {
         "title": {
          "text": "Is a Hit?"
         },
         "tracegroupgap": 0
        },
        "margin": {
         "t": 60
        },
        "template": {
         "data": {
          "bar": [
           {
            "error_x": {
             "color": "#2a3f5f"
            },
            "error_y": {
             "color": "#2a3f5f"
            },
            "marker": {
             "line": {
              "color": "#E5ECF6",
              "width": 0.5
             },
             "pattern": {
              "fillmode": "overlay",
              "size": 10,
              "solidity": 0.2
             }
            },
            "type": "bar"
           }
          ],
          "barpolar": [
           {
            "marker": {
             "line": {
              "color": "#E5ECF6",
              "width": 0.5
             },
             "pattern": {
              "fillmode": "overlay",
              "size": 10,
              "solidity": 0.2
             }
            },
            "type": "barpolar"
           }
          ],
          "carpet": [
           {
            "aaxis": {
             "endlinecolor": "#2a3f5f",
             "gridcolor": "white",
             "linecolor": "white",
             "minorgridcolor": "white",
             "startlinecolor": "#2a3f5f"
            },
            "baxis": {
             "endlinecolor": "#2a3f5f",
             "gridcolor": "white",
             "linecolor": "white",
             "minorgridcolor": "white",
             "startlinecolor": "#2a3f5f"
            },
            "type": "carpet"
           }
          ],
          "choropleth": [
           {
            "colorbar": {
             "outlinewidth": 0,
             "ticks": ""
            },
            "type": "choropleth"
           }
          ],
          "contour": [
           {
            "colorbar": {
             "outlinewidth": 0,
             "ticks": ""
            },
            "colorscale": [
             [
              0,
              "#0d0887"
             ],
             [
              0.1111111111111111,
              "#46039f"
             ],
             [
              0.2222222222222222,
              "#7201a8"
             ],
             [
              0.3333333333333333,
              "#9c179e"
             ],
             [
              0.4444444444444444,
              "#bd3786"
             ],
             [
              0.5555555555555556,
              "#d8576b"
             ],
             [
              0.6666666666666666,
              "#ed7953"
             ],
             [
              0.7777777777777778,
              "#fb9f3a"
             ],
             [
              0.8888888888888888,
              "#fdca26"
             ],
             [
              1,
              "#f0f921"
             ]
            ],
            "type": "contour"
           }
          ],
          "contourcarpet": [
           {
            "colorbar": {
             "outlinewidth": 0,
             "ticks": ""
            },
            "type": "contourcarpet"
           }
          ],
          "heatmap": [
           {
            "colorbar": {
             "outlinewidth": 0,
             "ticks": ""
            },
            "colorscale": [
             [
              0,
              "#0d0887"
             ],
             [
              0.1111111111111111,
              "#46039f"
             ],
             [
              0.2222222222222222,
              "#7201a8"
             ],
             [
              0.3333333333333333,
              "#9c179e"
             ],
             [
              0.4444444444444444,
              "#bd3786"
             ],
             [
              0.5555555555555556,
              "#d8576b"
             ],
             [
              0.6666666666666666,
              "#ed7953"
             ],
             [
              0.7777777777777778,
              "#fb9f3a"
             ],
             [
              0.8888888888888888,
              "#fdca26"
             ],
             [
              1,
              "#f0f921"
             ]
            ],
            "type": "heatmap"
           }
          ],
          "heatmapgl": [
           {
            "colorbar": {
             "outlinewidth": 0,
             "ticks": ""
            },
            "colorscale": [
             [
              0,
              "#0d0887"
             ],
             [
              0.1111111111111111,
              "#46039f"
             ],
             [
              0.2222222222222222,
              "#7201a8"
             ],
             [
              0.3333333333333333,
              "#9c179e"
             ],
             [
              0.4444444444444444,
              "#bd3786"
             ],
             [
              0.5555555555555556,
              "#d8576b"
             ],
             [
              0.6666666666666666,
              "#ed7953"
             ],
             [
              0.7777777777777778,
              "#fb9f3a"
             ],
             [
              0.8888888888888888,
              "#fdca26"
             ],
             [
              1,
              "#f0f921"
             ]
            ],
            "type": "heatmapgl"
           }
          ],
          "histogram": [
           {
            "marker": {
             "pattern": {
              "fillmode": "overlay",
              "size": 10,
              "solidity": 0.2
             }
            },
            "type": "histogram"
           }
          ],
          "histogram2d": [
           {
            "colorbar": {
             "outlinewidth": 0,
             "ticks": ""
            },
            "colorscale": [
             [
              0,
              "#0d0887"
             ],
             [
              0.1111111111111111,
              "#46039f"
             ],
             [
              0.2222222222222222,
              "#7201a8"
             ],
             [
              0.3333333333333333,
              "#9c179e"
             ],
             [
              0.4444444444444444,
              "#bd3786"
             ],
             [
              0.5555555555555556,
              "#d8576b"
             ],
             [
              0.6666666666666666,
              "#ed7953"
             ],
             [
              0.7777777777777778,
              "#fb9f3a"
             ],
             [
              0.8888888888888888,
              "#fdca26"
             ],
             [
              1,
              "#f0f921"
             ]
            ],
            "type": "histogram2d"
           }
          ],
          "histogram2dcontour": [
           {
            "colorbar": {
             "outlinewidth": 0,
             "ticks": ""
            },
            "colorscale": [
             [
              0,
              "#0d0887"
             ],
             [
              0.1111111111111111,
              "#46039f"
             ],
             [
              0.2222222222222222,
              "#7201a8"
             ],
             [
              0.3333333333333333,
              "#9c179e"
             ],
             [
              0.4444444444444444,
              "#bd3786"
             ],
             [
              0.5555555555555556,
              "#d8576b"
             ],
             [
              0.6666666666666666,
              "#ed7953"
             ],
             [
              0.7777777777777778,
              "#fb9f3a"
             ],
             [
              0.8888888888888888,
              "#fdca26"
             ],
             [
              1,
              "#f0f921"
             ]
            ],
            "type": "histogram2dcontour"
           }
          ],
          "mesh3d": [
           {
            "colorbar": {
             "outlinewidth": 0,
             "ticks": ""
            },
            "type": "mesh3d"
           }
          ],
          "parcoords": [
           {
            "line": {
             "colorbar": {
              "outlinewidth": 0,
              "ticks": ""
             }
            },
            "type": "parcoords"
           }
          ],
          "pie": [
           {
            "automargin": true,
            "type": "pie"
           }
          ],
          "scatter": [
           {
            "marker": {
             "colorbar": {
              "outlinewidth": 0,
              "ticks": ""
             }
            },
            "type": "scatter"
           }
          ],
          "scatter3d": [
           {
            "line": {
             "colorbar": {
              "outlinewidth": 0,
              "ticks": ""
             }
            },
            "marker": {
             "colorbar": {
              "outlinewidth": 0,
              "ticks": ""
             }
            },
            "type": "scatter3d"
           }
          ],
          "scattercarpet": [
           {
            "marker": {
             "colorbar": {
              "outlinewidth": 0,
              "ticks": ""
             }
            },
            "type": "scattercarpet"
           }
          ],
          "scattergeo": [
           {
            "marker": {
             "colorbar": {
              "outlinewidth": 0,
              "ticks": ""
             }
            },
            "type": "scattergeo"
           }
          ],
          "scattergl": [
           {
            "marker": {
             "colorbar": {
              "outlinewidth": 0,
              "ticks": ""
             }
            },
            "type": "scattergl"
           }
          ],
          "scattermapbox": [
           {
            "marker": {
             "colorbar": {
              "outlinewidth": 0,
              "ticks": ""
             }
            },
            "type": "scattermapbox"
           }
          ],
          "scatterpolar": [
           {
            "marker": {
             "colorbar": {
              "outlinewidth": 0,
              "ticks": ""
             }
            },
            "type": "scatterpolar"
           }
          ],
          "scatterpolargl": [
           {
            "marker": {
             "colorbar": {
              "outlinewidth": 0,
              "ticks": ""
             }
            },
            "type": "scatterpolargl"
           }
          ],
          "scatterternary": [
           {
            "marker": {
             "colorbar": {
              "outlinewidth": 0,
              "ticks": ""
             }
            },
            "type": "scatterternary"
           }
          ],
          "surface": [
           {
            "colorbar": {
             "outlinewidth": 0,
             "ticks": ""
            },
            "colorscale": [
             [
              0,
              "#0d0887"
             ],
             [
              0.1111111111111111,
              "#46039f"
             ],
             [
              0.2222222222222222,
              "#7201a8"
             ],
             [
              0.3333333333333333,
              "#9c179e"
             ],
             [
              0.4444444444444444,
              "#bd3786"
             ],
             [
              0.5555555555555556,
              "#d8576b"
             ],
             [
              0.6666666666666666,
              "#ed7953"
             ],
             [
              0.7777777777777778,
              "#fb9f3a"
             ],
             [
              0.8888888888888888,
              "#fdca26"
             ],
             [
              1,
              "#f0f921"
             ]
            ],
            "type": "surface"
           }
          ],
          "table": [
           {
            "cells": {
             "fill": {
              "color": "#EBF0F8"
             },
             "line": {
              "color": "white"
             }
            },
            "header": {
             "fill": {
              "color": "#C8D4E3"
             },
             "line": {
              "color": "white"
             }
            },
            "type": "table"
           }
          ]
         },
         "layout": {
          "annotationdefaults": {
           "arrowcolor": "#2a3f5f",
           "arrowhead": 0,
           "arrowwidth": 1
          },
          "autotypenumbers": "strict",
          "coloraxis": {
           "colorbar": {
            "outlinewidth": 0,
            "ticks": ""
           }
          },
          "colorscale": {
           "diverging": [
            [
             0,
             "#8e0152"
            ],
            [
             0.1,
             "#c51b7d"
            ],
            [
             0.2,
             "#de77ae"
            ],
            [
             0.3,
             "#f1b6da"
            ],
            [
             0.4,
             "#fde0ef"
            ],
            [
             0.5,
             "#f7f7f7"
            ],
            [
             0.6,
             "#e6f5d0"
            ],
            [
             0.7,
             "#b8e186"
            ],
            [
             0.8,
             "#7fbc41"
            ],
            [
             0.9,
             "#4d9221"
            ],
            [
             1,
             "#276419"
            ]
           ],
           "sequential": [
            [
             0,
             "#0d0887"
            ],
            [
             0.1111111111111111,
             "#46039f"
            ],
            [
             0.2222222222222222,
             "#7201a8"
            ],
            [
             0.3333333333333333,
             "#9c179e"
            ],
            [
             0.4444444444444444,
             "#bd3786"
            ],
            [
             0.5555555555555556,
             "#d8576b"
            ],
            [
             0.6666666666666666,
             "#ed7953"
            ],
            [
             0.7777777777777778,
             "#fb9f3a"
            ],
            [
             0.8888888888888888,
             "#fdca26"
            ],
            [
             1,
             "#f0f921"
            ]
           ],
           "sequentialminus": [
            [
             0,
             "#0d0887"
            ],
            [
             0.1111111111111111,
             "#46039f"
            ],
            [
             0.2222222222222222,
             "#7201a8"
            ],
            [
             0.3333333333333333,
             "#9c179e"
            ],
            [
             0.4444444444444444,
             "#bd3786"
            ],
            [
             0.5555555555555556,
             "#d8576b"
            ],
            [
             0.6666666666666666,
             "#ed7953"
            ],
            [
             0.7777777777777778,
             "#fb9f3a"
            ],
            [
             0.8888888888888888,
             "#fdca26"
            ],
            [
             1,
             "#f0f921"
            ]
           ]
          },
          "colorway": [
           "#636efa",
           "#EF553B",
           "#00cc96",
           "#ab63fa",
           "#FFA15A",
           "#19d3f3",
           "#FF6692",
           "#B6E880",
           "#FF97FF",
           "#FECB52"
          ],
          "font": {
           "color": "#2a3f5f"
          },
          "geo": {
           "bgcolor": "white",
           "lakecolor": "white",
           "landcolor": "#E5ECF6",
           "showlakes": true,
           "showland": true,
           "subunitcolor": "white"
          },
          "hoverlabel": {
           "align": "left"
          },
          "hovermode": "closest",
          "mapbox": {
           "style": "light"
          },
          "paper_bgcolor": "white",
          "plot_bgcolor": "#E5ECF6",
          "polar": {
           "angularaxis": {
            "gridcolor": "white",
            "linecolor": "white",
            "ticks": ""
           },
           "bgcolor": "#E5ECF6",
           "radialaxis": {
            "gridcolor": "white",
            "linecolor": "white",
            "ticks": ""
           }
          },
          "scene": {
           "xaxis": {
            "backgroundcolor": "#E5ECF6",
            "gridcolor": "white",
            "gridwidth": 2,
            "linecolor": "white",
            "showbackground": true,
            "ticks": "",
            "zerolinecolor": "white"
           },
           "yaxis": {
            "backgroundcolor": "#E5ECF6",
            "gridcolor": "white",
            "gridwidth": 2,
            "linecolor": "white",
            "showbackground": true,
            "ticks": "",
            "zerolinecolor": "white"
           },
           "zaxis": {
            "backgroundcolor": "#E5ECF6",
            "gridcolor": "white",
            "gridwidth": 2,
            "linecolor": "white",
            "showbackground": true,
            "ticks": "",
            "zerolinecolor": "white"
           }
          },
          "shapedefaults": {
           "line": {
            "color": "#2a3f5f"
           }
          },
          "ternary": {
           "aaxis": {
            "gridcolor": "white",
            "linecolor": "white",
            "ticks": ""
           },
           "baxis": {
            "gridcolor": "white",
            "linecolor": "white",
            "ticks": ""
           },
           "bgcolor": "#E5ECF6",
           "caxis": {
            "gridcolor": "white",
            "linecolor": "white",
            "ticks": ""
           }
          },
          "title": {
           "x": 0.05
          },
          "xaxis": {
           "automargin": true,
           "gridcolor": "white",
           "linecolor": "white",
           "ticks": "",
           "title": {
            "standoff": 15
           },
           "zerolinecolor": "white",
           "zerolinewidth": 2
          },
          "yaxis": {
           "automargin": true,
           "gridcolor": "white",
           "linecolor": "white",
           "ticks": "",
           "title": {
            "standoff": 15
           },
           "zerolinecolor": "white",
           "zerolinewidth": 2
          }
         }
        },
        "xaxis": {
         "anchor": "y",
         "domain": [
          0,
          1
         ],
         "range": [
          -1,
          1
         ],
         "title": {
          "text": "Principal Component 1"
         }
        },
        "yaxis": {
         "anchor": "x",
         "domain": [
          0,
          1
         ],
         "range": [
          -1,
          1
         ],
         "title": {
          "text": "Principal Component 2"
         }
        }
       }
      }
     },
     "metadata": {}
    }
   ],
   "metadata": {}
  },
  {
   "cell_type": "code",
   "execution_count": 18,
   "source": [
    "fig = px.scatter_3d(pc, x = \"Principal Component 1\", y = \"Principal Component 2\", \r\n",
    "    z = \"Principal Component 3\", hover_data = [\"song\", \"artists\"], color = \"Éxito\")\r\n",
    "fig.update_scenes(aspectratio = dict(x=1, y=1, z=1))"
   ],
   "outputs": [
    {
     "output_type": "display_data",
     "data": {
      "application/vnd.plotly.v1+json": {
       "config": {
        "plotlyServerURL": "https://plotly.com"
       },
       "data": [
        {
         "customdata": [
          [
           "PENDEJO",
           "Enrique Iglesias"
          ],
          [
           "POR ELLA",
           "Cali Y El Dandee, Boza"
          ],
          [
           "Miami",
           "Nicky Jam"
          ],
          [
           "La Niña de la Escuela",
           "Lola Indigo, TINI, Belinda"
          ],
          [
           "3 de La Mañana",
           "Mau y Ricky, Sebastian Yatra, Mora"
          ],
          [
           "Ya Pasó",
           "Wisin & Yandel, Zion, Revol, Cosculluela"
          ],
          [
           "Mi Debilidad",
           "Maria Becerra"
          ],
          [
           "Perfecta",
           "Reik, Maluma"
          ],
          [
           "Hasta Abajo - Remix",
           "Kevin Roldan, Mariah Angeliq, Brytiago, Bryant Myers, Lyanno, Brray, Jerry Di, Mauro Dembow"
          ],
          [
           "KESI - Remix",
           "Camilo, Shawn Mendes"
          ],
          [
           "Uva",
           "Lalo Ebratt, Yera"
          ],
          [
           "Casualidad",
           "Sofía Reyes, Pedro Capó"
          ],
          [
           "Amor en Coma",
           "Manuel Turizo, Maluma"
          ],
          [
           "Tú 1ero",
           "Fonseca"
          ],
          [
           "La Rutina",
           "Mike Bahía"
          ],
          [
           "Aloha",
           "Maluma, Beéle, Rauw Alejandro, Mambo Kingz, DJ Luian, Darell"
          ],
          [
           "Tan Bonita",
           "Piso 21"
          ],
          [
           "Despiértate",
           "Cali Y El Dandee, Mau y Ricky, Guaynaa"
          ],
          [
           "EL TREN",
           "Micro TDH, Myke Towers"
          ],
          [
           "Machu Picchu",
           "Camilo, Evaluna Montaner"
          ],
          [
           "Rumba (Puro Oro Anthem)",
           "Maluma"
          ],
          [
           "Ojos Cafe",
           "Natan & Shander"
          ],
          [
           "Balenciaga",
           "Nanpa Básico, Don Patricio"
          ],
          [
           "Nadie La Controla",
           "Piso 21"
          ],
          [
           "Mal Acostumbrao",
           "Mau y Ricky, Maria Becerra"
          ],
          [
           "Quiereme Mientras se Pueda - Remix",
           "Manuel Turizo, Miky Woodz, Jay Wheeler"
          ],
          [
           "El Mismo Aire - con Pablo Alborán",
           "Camilo, Pablo Alborán"
          ],
          [
           "Nada",
           "Cali Y El Dandee, Danna Paola"
          ],
          [
           "Locura - Remix",
           "Cali Y El Dandee, Sebastian Yatra, Dalex, Justin Quiles"
          ],
          [
           "ADMV - Versión Urbana",
           "Maluma"
          ],
          [
           "UN DIA (ONE DAY) (Feat. Tainy)",
           "J Balvin, Dua Lipa, Bad Bunny, Tainy"
          ],
          [
           "Quiéreme Mientras Se Pueda",
           "Manuel Turizo"
          ],
          [
           "Dónde Estás (with Piso 21) - Remix",
           "KHEA, Piso 21"
          ],
          [
           "Loco - Remix",
           "Farruko, Beéle, Natti Natasha, Manuel Turizo"
          ],
          [
           "Djadja (feat. Maluma) - Remix",
           "Aya Nakamura, Maluma"
          ],
          [
           "TBT - Remix",
           "Sebastian Yatra, Rauw Alejandro, Manuel Turizo, Cosculluela, Lalo Ebratt, Llane, Dalmata"
          ],
          [
           "Si Me Dices Que Sí",
           "Reik, Farruko, Camilo"
          ],
          [
           "Rojo",
           "J Balvin"
          ],
          [
           "Por Fin Te Encontré",
           "Cali Y El Dandee, Juan Magán, Sebastian Yatra"
          ],
          [
           "La Botella",
           "Justin Quiles, Maluma"
          ],
          [
           "Yo No Te Olvido",
           "Cali Y El Dandee, Luis Fonsi"
          ],
          [
           "Fuego",
           "Andy Rivera"
          ],
          [
           "Besos en Cualquier Horario",
           "Carlos Vives, Mau y Ricky, Lucy Vives"
          ],
          [
           "Kaprichosa",
           "Danna Paola"
          ],
          [
           "Loco",
           "Justin Quiles, Chimbala, Zion & Lennox"
          ],
          [
           "La Buena - Remix",
           "Nacho, Yandel, Zion, Justin Quiles, Elkeretumba"
          ],
          [
           "Baila Conmigo (with Rauw Alejandro)",
           "Selena Gomez, Rauw Alejandro"
          ],
          [
           "Será",
           "Llane, Manuel Turizo"
          ],
          [
           "Dejaría Todo",
           "CNCO"
          ],
          [
           "Miedito o Qué? (feat. KAROL G)",
           "Ovy On The Drums, Danny Ocean, KAROL G"
          ],
          [
           "El Malo",
           "Juan Palau"
          ],
          [
           "Cuántas veces",
           "Danny Ocean, Justin Quiles"
          ],
          [
           "Millones",
           "Camilo"
          ],
          [
           "Mi Niña - Remix",
           "Wisin, Myke Towers, Maluma, Anitta, Los Legendarios"
          ],
          [
           "DÁKITI",
           "Bad Bunny, Jhay Cortez"
          ],
          [
           "Hawái",
           "Maluma"
          ],
          [
           "Increíble",
           "Andy Rivera"
          ],
          [
           "ANTES QUE SALGA EL SOL",
           "Natti Natasha, Prince Royce"
          ],
          [
           "Tan Enamorados",
           "CNCO"
          ],
          [
           "Despeinada",
           "Ozuna, Camilo"
          ],
          [
           "De 0 a Siempre",
           "Beéle, Piso 21"
          ],
          [
           "Tattoo - Remix with Camilo",
           "Rauw Alejandro, Camilo"
          ],
          [
           "Adicto a Ti",
           "Mono Zabaleta, Daniel Maestre"
          ],
          [
           "Me Enamora",
           "Lenny Tavárez, Zion & Lennox"
          ],
          [
           "Algo Mágico - R3HAB Remix",
           "Rauw Alejandro, R3HAB"
          ],
          [
           "Insuficiente",
           "Sael, Beéle"
          ],
          [
           "Apartamento",
           "Danny Ocean"
          ],
          [
           "Ojalá Pudiera",
           "Homie !, Piso 21"
          ],
          [
           "Ram Pam Pam",
           "Natti Natasha, Becky G"
          ],
          [
           "Que Locura",
           "J Balvin"
          ],
          [
           "Lao' a Lao'",
           "Prince Royce"
          ],
          [
           "Jugaste y Sufrí",
           "Eslabon Armado, DannyLux"
          ],
          [
           "Fanático",
           "Maxiolly, Feid"
          ],
          [
           "Wake Up",
           "Cheese People"
          ],
          [
           "Como Si No Importara",
           "Emilia, Duki"
          ],
          [
           "WOLFGANG",
           "Stray Kids"
          ],
          [
           "Meet Me At Our Spot",
           "THE ANXIETY, WILLOW, Tyler Cole"
          ],
          [
           "Need To Know",
           "Doja Cat"
          ],
          [
           "DUMB DUMB",
           "SOMI"
          ],
          [
           "double take",
           "dhruv"
          ],
          [
           "Mon Amour",
           "zzoilo"
          ],
          [
           "Buscate Otro",
           "Jc La Nevula, Atomic Otro Way"
          ],
          [
           "Loverboy",
           "A-Wall"
          ],
          [
           "NO WAY",
           "DONGURIZU"
          ],
          [
           "Love Nwantiti - Remix",
           "Dj Yo!, CKay, AX'EL"
          ],
          [
           "Touch It",
           "KiDi"
          ],
          [
           "Dueles Tan Bien",
           "Bruses"
          ],
          [
           "edamame (feat. Rich Brian)",
           "bbno$, Rich Brian"
          ],
          [
           "Chica 10",
           "Fusion Perreo"
          ],
          [
           "Amapolas",
           "Leo Rizzi"
          ],
          [
           "Shake It",
           "INNDRIVE"
          ],
          [
           "Strange",
           "Celeste"
          ],
          [
           "Stay With Me",
           "1nonly"
          ],
          [
           "Stoned at the Nail Salon",
           "Lorde"
          ],
          [
           "Happier Than Ever",
           "Billie Eilish"
          ],
          [
           "FVN!",
           "LVL1"
          ],
          [
           "Tranquilísimo",
           "Israel B, C. Tangana, LOWLIGHT"
          ],
          [
           "Dark Red",
           "Steve Lacy"
          ],
          [
           "Cry Baby",
           "Official HIGE DANdism"
          ],
          [
           "Not Into You",
           "Brooksie"
          ],
          [
           "Estoy Bien",
           "Panther"
          ],
          [
           "Everywhereigo",
           "Babyxsosa"
          ],
          [
           "INDUSTRY BABY (feat. Jack Harlow)",
           "Lil Nas X, Jack Harlow"
          ],
          [
           "Bezos I",
           "Bo Burnham"
          ],
          [
           "Todo Lo Bueno Tarda",
           "Alcolirykoz"
          ],
          [
           "Estoy Bien",
           "Panther"
          ],
          [
           "Feel Like God",
           "gazzzy, framed"
          ],
          [
           "Pimpeo",
           "Mambo DJ"
          ],
          [
           "Matatan",
           "Kaleb Di Masi, Alan Gomez"
          ],
          [
           "Los Sótanos del Infierno",
           "EPA COLOMBIA"
          ],
          [
           "Turraka (Remix)",
           "Kaleb Di Masi, Locura Mix"
          ],
          [
           "Mi Destino",
           "Caracol Televisión, Alejo Valencia, Guita"
          ],
          [
           "Not Around",
           "Nova"
          ],
          [
           "Catanas",
           "Daniel Merak"
          ],
          [
           "Cold Heart - PNAU Remix",
           "Elton John, Dua Lipa, PNAU"
          ],
          [
           "Beethoven",
           "Kenndog"
          ],
          [
           "Sou Favela",
           "MC Bruninho, Vitinho Ferrari, Dj DG, Batidão Stronda"
          ],
          [
           "Guaracha Con Ñejo",
           "Marco Acevedo, Ñejo"
          ],
          [
           "love nwantiti (feat. Dj Yo! & AX'EL) - Remix",
           "CKay, DJ Yo, AX'EL"
          ],
          [
           "Bailar",
           "Kalimba, Jiggy Drama"
          ],
          [
           "in heat.",
           "Hentai Xander"
          ],
          [
           "As the World Caves In",
           "Sarah Cothran"
          ],
          [
           "Mon Amour - Remix",
           "zzoilo, Aitana"
          ],
          [
           "love nwantiti (ah ah ah)",
           "CKay"
          ],
          [
           "Loverboy",
           "A-Wall"
          ],
          [
           "FVN!",
           "LVL1"
          ],
          [
           "Si Fueras Mía",
           "D.O."
          ],
          [
           "Over The Top (feat. Drake)",
           "Smiley, Drake"
          ],
          [
           "love nwantiti (feat. ElGrande Toto) - North African Remix",
           "CKay, ElGrandeToto"
          ],
          [
           "Lejos Conmigo",
           "Greeicy, Alejandro Sanz"
          ],
          [
           "Pepas - Remix",
           "Treekoo, Zato DJ"
          ],
          [
           "You Are Enough",
           "Sleeping At Last"
          ],
          [
           "I GUESS I'M IN LOVE",
           "Clinton Kane"
          ],
          [
           "LO$ER=LO♡ER",
           "TOMORROW X TOGETHER"
          ],
          [
           "Thunderous",
           "Stray Kids"
          ],
          [
           "ANIVERSARIO (feat. Nico Legreti)",
           "Manú, Nico Legreti"
          ],
          [
           "Espera (feat. Carlos Sadness)",
           "MOÜGLI, Carlos Sadness"
          ],
          [
           "Gute Vibes",
           "CERO39"
          ],
          [
           "No Todo Es un Juego",
           "Los Dinosaurios Murieron Ayer"
          ],
          [
           "El Amor II",
           "llilli, Paula Pera y el fin de los Tiempos, Linamaria O., Vencejo Común, Swimz"
          ],
          [
           "Dancing Beauty",
           "Dr Honey, High On Mars"
          ],
          [
           "L.N.E.M. (GATA) (feat. Kapla y Miky, Philip Ariaz & Blessd)",
           "Maluma, Kapla y Miky, Philip Ariaz, Blessd"
          ],
          [
           "Perra",
           "J Balvin, Tokischa"
          ],
          [
           "Magnum",
           "Nicky Jam, Jhay Cortez"
          ],
          [
           "999 (with Camilo)",
           "Selena Gomez, Camilo"
          ],
          [
           "A La Buena, El Mejor - Featured in Call Of Duty Mobile - Season 7: Elite of the Elite",
           "Ozuna"
          ],
          [
           "Wow Wow (feat. Becky G)",
           "Maria Becerra, Becky G"
          ],
          [
           "justified",
           "Kacey Musgraves"
          ],
          [
           "Burning Bridges",
           "Sigrid"
          ],
          [
           "California",
           "CHVRCHES"
          ],
          [
           "I am not a woman, I'm a god",
           "Halsey"
          ],
          [
           "Someday",
           "OneRepublic"
          ],
          [
           "Pa'lla Voy",
           "Marc Anthony"
          ],
          [
           "Lo Pasado Pisado",
           "Arelys Henao"
          ],
          [
           "Esta Ciudad",
           "Flor de Jamaica"
          ],
          [
           "Lo Que Nunca Fue Tuyo",
           "Bronco"
          ],
          [
           "Que Te Quedes Aquí",
           "Ines Gaviria, Tavo Botero"
          ],
          [
           "Lejos de Aquí",
           "Santiago Parra, Juan Felipe Samper"
          ],
          [
           "Tarareo",
           "Solo Valencia, Ana María Vahos"
          ],
          [
           "Todo Lo Que Sube",
           "Adrian Bello"
          ],
          [
           "Rey",
           "Camila Moreno"
          ],
          [
           "Peach",
           "Future Islands"
          ],
          [
           "Todo viene, todo va",
           "Nicolle Jadad, Matar Fuma"
          ],
          [
           "Esta Noche",
           "Inzul"
          ],
          [
           "3am",
           "Ev"
          ],
          [
           "Blind",
           "Bnny"
          ],
          [
           "Walkman",
           "Bad Bad Hats"
          ],
          [
           "If You Ever Leave, I'm Coming with You",
           "The Wombats"
          ],
          [
           "Walking at a Downtown Pace",
           "Parquet Courts"
          ],
          [
           "Perdón Margarita",
           "Los Makenzy"
          ],
          [
           "Sevier",
           "The Joy Formidable"
          ],
          [
           "We Are Midnight",
           "DMA'S"
          ],
          [
           "En el Mar No Eres Nadie",
           "Yo No La Tengo"
          ],
          [
           "Santo Remedio",
           "Pescao Vivo"
          ],
          [
           "Freedom Highway",
           "The Specials"
          ],
          [
           "About Last Night",
           "Jake Bugg"
          ],
          [
           "Living In The Heart Of Love",
           "The Rolling Stones"
          ],
          [
           "Survivor",
           "Nathaniel Rateliff & The Night Sweats"
          ],
          [
           "Can't Stop The Rain",
           "Neal Francis"
          ],
          [
           "Acerca de los Padres",
           "Silvio Rodríguez"
          ],
          [
           "Dueño de Tus Besos",
           "Alkilados, Pumba Dos Santos, Kapo"
          ],
          [
           "Tu Recuerdo",
           "Bareto"
          ],
          [
           "Me Enamoré",
           "Criss & Ronny, La Colectiva Élite"
          ],
          [
           "Mala Fama",
           "Doctor Krápula, Francisco, el Hombre"
          ],
          [
           "Wish You Were Gay - Versión en Español - Spotify Singles",
           "Mon Laferte"
          ],
          [
           "Necesidad",
           "Urdaneta"
          ],
          [
           "Corazón Maltratado",
           "Paula Van Hissenhoven"
          ],
          [
           "Te Quiero Ver",
           "Caravanchela"
          ],
          [
           "Bailando",
           "Ruzzi, Esteman"
          ],
          [
           "Vil Reptil",
           "Duplat, Soy Emilia"
          ],
          [
           "Regularly Scheduled Programming",
           "My Morning Jacket"
          ],
          [
           "You Can Do It",
           "Caribou"
          ],
          [
           "MÉTELE AL PERREO",
           "Daddy Yankee"
          ],
          [
           "Colorao",
           "Mike Bahía, Lenny Tavárez"
          ],
          [
           "Tú Eres Prohibida",
           "Yeison Jimenez"
          ],
          [
           "Las Olas",
           "Micro TDH, Yandel"
          ],
          [
           "Million To One - from the Amazon Original Movie \"Cinderella\"",
           "Camila Cabello"
          ],
          [
           "Way 2 Sexy (with Future & Young Thug)",
           "Drake, Future, Young Thug"
          ],
          [
           "Hurricane",
           "Kanye West"
          ],
          [
           "Good Ones",
           "Charli XCX"
          ],
          [
           "Sahara",
           "Volcán"
          ],
          [
           "Estoy Triste",
           "Chago"
          ],
          [
           "Radio, Radio",
           "Elvis Costello & The Attractions, Fito Paez"
          ],
          [
           "The Pines",
           "La Luz"
          ],
          [
           "Miénteme",
           "Young F."
          ],
          [
           "Luna",
           "Wolfine"
          ],
          [
           "Todos Somos Uno (feat. Santiago Cruz)",
           "Cayetana Y El Mundo, Santiago Cruz"
          ],
          [
           "Nunca entenderé",
           "Beret"
          ],
          [
           "Ferrari",
           "Jaycob Duque, Happy Bebé, Eix"
          ],
          [
           "Swipe Left",
           "JUANPORDIOS!, WOST"
          ],
          [
           "Mi Parcera",
           "Golpe a Golpe"
          ],
          [
           "Tears",
           "Crissin, Exotic Music, Dayme y El High, CHXII"
          ],
          [
           "Chucky73: Bzrp Music Sessions, Vol. 43",
           "Bizarrap, Chucky73"
          ],
          [
           "Quédate",
           "Som Caney"
          ],
          [
           "23 Preguntas",
           "Anuel AA"
          ],
          [
           "Océano",
           "Robert Tiamo"
          ],
          [
           "Jimmy Jimmy (feat. AJ Tracey)",
           "Gorillaz, AJ Tracey"
          ],
          [
           "Happiness",
           "Dj 113"
          ],
          [
           "Pasatiempo",
           "Vale"
          ],
          [
           "Para Amar (Lovely Day)",
           "Alvarezmejia"
          ],
          [
           "Pequeños Hombres",
           "Bella Álvarez"
          ],
          [
           "Birch (feat. Taylor Swift)",
           "Big Red Machine, Taylor Swift"
          ],
          [
           "Estar Vivo",
           "TELEBIT"
          ],
          [
           "Pájaro",
           "Las Yumbeñas"
          ],
          [
           "Nadie Nunca Nada",
           "The Kitsch"
          ],
          [
           "Arte",
           "Cheo Gallego, Afaz Natural"
          ],
          [
           "Angelitos",
           "Puerta de Oro Music, Jacobo Vélez \"El Callegüeso\", Papayebrass"
          ],
          [
           "Hoy No",
           "Daniel, Me Estás Matando, Mon Laferte"
          ],
          [
           "Vente Conmigo",
           "Noche de Brujas, Jorge Celedón"
          ],
          [
           "MHD: Bzrp Music Sessions, Vol. 44",
           "Bizarrap, MHD"
          ],
          [
           "Masta´z (Padrino Sessions) - Live",
           "Rap Bang Club"
          ],
          [
           "Mi Vida",
           "David Prieto, Mr Black El Presidente"
          ],
          [
           "Guaro - Remix",
           "Pipe Bueno, Carin Leon, Jessi Uribe, Alzate, Yeison Jimenez, Darío Gómez, Luis Alberto Posada, El Charrito Negro, Jhonny Rivera, Jhon Alex Castaño, Juan Pablo Navarrete"
          ],
          [
           "A Mi Gente De Acá",
           "Los Tigres Del Norte"
          ],
          [
           "Sobrenatural",
           "Los inquietos del vallenato"
          ],
          [
           "Picadita De Ojo",
           "Omar Geles"
          ],
          [
           "Sírvame Otra Copa",
           "Pasabordo"
          ],
          [
           "Lo Que Te Perdiste",
           "Fanny Lu"
          ],
          [
           "Te Necesito",
           "Janco Janner"
          ],
          [
           "Pensando en Mi Morena",
           "Meridian Brothers, Conjunto Media Luna"
          ],
          [
           "No Dejes Que Se Vaya",
           "Papo Man, Luister La Voz"
          ],
          [
           "El Mago",
           "Big Deivis, Dave Kutch"
          ],
          [
           "Calma",
           "Jeivy Dance"
          ],
          [
           "La Dueña de Mis Churupos",
           "Jhon Onofre"
          ],
          [
           "18 de Junio / Homenaje al Gran Martín Elías",
           "Rafael Santos, Juancho De La Espriella"
          ],
          [
           "Tu Norte Soy Yo",
           "María Cristina Plata"
          ],
          [
           "Vuelve",
           "Marta Gómez"
          ],
          [
           "Burbujas de Amor - (Sesión en vivo)",
           "Juliana Velasquez"
          ],
          [
           "Si Mi Cuarto Sigue Igual",
           "David Vaillancourt"
          ],
          [
           "Telepatía - Spotify Singles",
           "Twin Shadow"
          ],
          [
           "Loco",
           "Tiago PZK"
          ],
          [
           "Atención",
           "KolomB, Carzé"
          ],
          [
           "Pa Que Guaye",
           "Alex Rose, CNCO"
          ],
          [
           "Guille 2.0",
           "Element Black, Toby Letra, Slow Mike, Juanfer Quintero"
          ],
          [
           "La Funka",
           "Ozuna"
          ],
          [
           "Tarde",
           "Sebastian Yatra"
          ],
          [
           "Llori Pari",
           "Alvaro Diaz, Feid, Tainy"
          ],
          [
           "Tal Vez - Remix",
           "Pitizion, Itzza Primera, Andy Clay"
          ],
          [
           "Pal Suelo",
           "J Alvarez, Wyclef Jean, El Micha"
          ],
          [
           "A SOLAS",
           "Moncas, Maxiolly, Tommy Boysen"
          ],
          [
           "Picó",
           "Yera, Blackie & Lois, Danny Ocean"
          ],
          [
           "Los Cachos",
           "Guaynaa, Servando & Florentino"
          ],
          [
           "Bad Habits - Ovy On The Drums Remix",
           "Ed Sheeran, Ovy On The Drums"
          ],
          [
           "Who's In Your Head",
           "Jonas Brothers"
          ],
          [
           "tamale",
           "VALÉ"
          ],
          [
           "You Will Be Found (with Summer Walker) - From The “Dear Evan Hansen” Original Motion Picture Soundtrack",
           "Sam Smith, Summer Walker"
          ],
          [
           "Breakdown (feat. Demi Lovato)",
           "G-Eazy, Demi Lovato"
          ],
          [
           "Parapente",
           "Irepelusa, Cardellino"
          ],
          [
           "Berlín",
           "Aitana"
          ],
          [
           "¿Otra Canción de Amor?",
           "Siam"
          ],
          [
           "CHEESY",
           "Nicole Favre"
          ],
          [
           "Sígueme",
           "Dos Rayos"
          ],
          [
           "PORTAL",
           "Manú"
          ],
          [
           "Se Fue",
           "Alejandro Santamaria, Ovy On The Drums, ADSO"
          ],
          [
           "Cógela Suave",
           "Buxxi, DJ Mariano"
          ],
          [
           "Hijuepu",
           "Arcangel, Lenny Tavárez, Juanka"
          ],
          [
           "THATS WHAT I WANT",
           "Lil Nas X"
          ],
          [
           "I Still Have Faith In You",
           "ABBA"
          ],
          [
           "Under The Sun",
           "Cuco"
          ],
          [
           "Milky Way",
           "Bad Bad Hats"
          ],
          [
           "Reaching Out",
           "Dillon Francis, Bow Anderson"
          ],
          [
           "Thelma + Louise",
           "Bastille"
          ],
          [
           "I Feel Good",
           "Pitbull, Anthony Watts, DJWS"
          ],
          [
           "PAKATA",
           "Darell, El Alfa"
          ],
          [
           "Dejame Tranki",
           "LIT killah, KHEA"
          ],
          [
           "Adicto",
           "Buxxi, DJ Mariano"
          ],
          [
           "Abajo y Arriba (with Juhn)",
           "Lele Pons, Juhn"
          ],
          [
           "Rendido",
           "JBot & Tuti, Simón Trujillo"
          ],
          [
           "Bonita",
           "David Eron"
          ],
          [
           "Aguacero",
           "Sonyk El Dragón"
          ],
          [
           "Fango",
           "Irepelusa, Horus"
          ],
          [
           "Ain't No Love (feat. elevn)",
           "CIAN, elevn"
          ],
          [
           "No Finjas Más",
           "Kenai, Jd Pantoja"
          ],
          [
           "Más De Ti - En Vivo Desde Medellín, 2021",
           "Llane"
          ],
          [
           "COMO EH",
           "Kiko el Crazy, Maffio"
          ],
          [
           "Nos Matamos",
           "Jhay Cortez"
          ],
          [
           "Socios",
           "Santa Fe Klan, Gera MX"
          ],
          [
           "Pulsiones",
           "A.C.O, Naïa Valdez, K.maleon"
          ],
          [
           "El Remate",
           "Jhon Alex Castaño"
          ],
          [
           "Amor Divino - En Vivo",
           "Espinoza Paz"
          ],
          [
           "Cumbia Valledupar",
           "Celso Piña, Ronda Bogotá"
          ],
          [
           "Don’t Go (with Justin Bieber & Don Toliver)",
           "Skrillex, Justin Bieber, Don Toliver"
          ],
          [
           "Runaway (with Sigala and JP Cooper)",
           "R3HAB, Sigala, JP Cooper"
          ],
          [
           "Chasing Stars (feat. James Bay)",
           "Alesso, Marshmello, James Bay"
          ],
          [
           "Move",
           "Santana, Rob Thomas, American Authors"
          ],
          [
           "Camaleón de Jackson",
           "Revólver Plateado"
          ],
          [
           "Contracorriente",
           "Camilo Séptimo, Ximena Sariñana"
          ],
          [
           "Beautiful James",
           "Placebo"
          ],
          [
           "405 - Metronomy x Biig Piig",
           "Metronomy, Biig Piig"
          ],
          [
           "I Don't Live Here Anymore (feat. Lucius)",
           "The War On Drugs, Lucius"
          ],
          [
           "The Nowhere Inn",
           "St. Vincent"
          ],
          [
           "Planes in the Sky",
           "James Vincent McMorrow"
          ],
          [
           "Famous Last Words",
           "James Blake"
          ],
          [
           "Espiral",
           "Camilo Colmenares"
          ],
          [
           "Guayabo",
           "Aguas Ardientes"
          ],
          [
           "Valentine",
           "Snail Mail"
          ],
          [
           "Llévame",
           "Cultura Profética, Bebo Dumont"
          ],
          [
           "Chureito en la mañana",
           "Cerrero, Bejuco"
          ],
          [
           "Maldita Foto",
           "TINI, Manuel Turizo"
          ],
          [
           "Hora Loca Remix - Spotify Singles (with Piso 21)",
           "The Change, Piso 21"
          ],
          [
           "Huele A Gol",
           "Morat"
          ],
          [
           "Visiting Hours",
           "Ed Sheeran"
          ],
          [
           "Summer of Love (Shawn Mendes & Tainy)",
           "Shawn Mendes, Tainy"
          ],
          [
           "Mood Ring",
           "Lorde"
          ],
          [
           "Vuelve",
           "Quantic, Nidia Gongora"
          ],
          [
           "Monday",
           "Imagine Dragons"
          ],
          [
           "Just for me",
           "PinkPantheress"
          ],
          [
           "Likes y Cicatrices",
           "Melendi"
          ],
          [
           "Tamborero",
           "Bomba Estéreo"
          ],
          [
           "Soy la Fuerza",
           "Acid Coco"
          ],
          [
           "Memoria",
           "Combo Chimbita"
          ],
          [
           "Drive - Edit",
           "Divino Niño"
          ],
          [
           "If You Say the Word",
           "Radiohead"
          ],
          [
           "Might Forgive You",
           "Neoma"
          ],
          [
           "Dante",
           "Moldes"
          ],
          [
           "True Seekers",
           "Sleigh Bells"
          ],
          [
           "Long Way",
           "Eddie Vedder"
          ],
          [
           "Hanging On Your Hinges",
           "Stereophonics"
          ],
          [
           "Not Me Anymore",
           "We Were Promised Jetpacks"
          ],
          [
           "La Claque",
           "La Sociedad de La Sombrilla, Piel Camaleón"
          ],
          [
           "Rompe",
           "Armenia, Oh'laville"
          ],
          [
           "piensa en mí",
           "Pavlo"
          ],
          [
           "Misma Intención",
           "Urdaneta"
          ],
          [
           "Renacer",
           "Superlitio"
          ],
          [
           "Histéricos",
           "Leiva, Ximena Sariñana"
          ],
          [
           "Arcadia",
           "Lana Del Rey"
          ],
          [
           "Variaciones Sobre un Viejo Tema",
           "Silvio Rodríguez"
          ],
          [
           "Quereme de Amor",
           "Fabian Ojeda"
          ],
          [
           "Cuando Estoy Con Ella (En Vivo)",
           "Luifer Cuello"
          ],
          [
           "Jump Off The Top",
           "The Vaccines"
          ],
          [
           "El Arcoiris",
           "Ivan Villazon, Alfredo “Fello” Gámez"
          ],
          [
           "Mónaco",
           "LAGOS, Danny Ocean"
          ],
          [
           "Al Fin Qué",
           "Margarita Doria, Elder Dayán Díaz"
          ],
          [
           "Joselito Cubano (Huérfano Soy / No, No, No, Que Va)",
           "Los 50 De Joselito"
          ],
          [
           "La Luna",
           "Martina La Peligrosa"
          ],
          [
           "Llorar (Big Tears)",
           "Elvis Costello & The Attractions, Sebastian Yatra"
          ],
          [
           "DPM (De Pxta Madre)",
           "Kany Garcia"
          ],
          [
           "Incontrolable",
           "Dalmata"
          ],
          [
           "El Tracatra",
           "Las Villa, Wisin, KEVVO"
          ],
          [
           "simple times",
           "Kacey Musgraves"
          ],
          [
           "I Don't Wanna Talk (I Just Wanna Dance)",
           "Glass Animals"
          ],
          [
           "Angel Baby",
           "Troye Sivan"
          ],
          [
           "Acapulco",
           "Jason Derulo"
          ],
          [
           "Como Lo Pedí",
           "Bomba Estéreo, Leonel García"
          ],
          [
           "Sad Boy (feat. Ava Max & Kylie Cantrall)",
           "R3HAB, Jonas Blue, Ava Max, Kylie Cantrall"
          ],
          [
           "Mal de Amores",
           "Sofía Reyes, Becky G"
          ],
          [
           "Shivers",
           "Ed Sheeran"
          ],
          [
           "Days Of Future Past",
           "Iron Maiden"
          ],
          [
           "Unknown Male 01",
           "Biffy Clyro"
          ],
          [
           "El Día del Huracán - Versión 2021",
           "El Mató a un Policía Motorizado"
          ],
          [
           "Nada que hablar (feat. Aterciopelados)",
           "Don Tetto, Aterciopelados"
          ],
          [
           "Spirit Power and Soul",
           "Johnny Marr"
          ],
          [
           "Annie",
           "The Dodos"
          ],
          [
           "Human Touch",
           "Pond"
          ],
          [
           "Calendarios y Acetatos",
           "NERDS"
          ],
          [
           "Nostálgico",
           "Rvssian, Rauw Alejandro, Chris Brown"
          ],
          [
           "Tuyo (Nueva Versión)",
           "Tito Nieves"
          ],
          [
           "Mami Mamacita",
           "Nibal, Valentino"
          ],
          [
           "Guarito",
           "Cheo Gallego"
          ],
          [
           "Como Lo Hice Yo",
           "Matisse, Carin Leon"
          ],
          [
           "Caso Cerrado",
           "Luis Alfonso"
          ],
          [
           "La Reina de la Cantina",
           "Francy"
          ],
          [
           "Puño de Diamantes",
           "Dennis Fernando, Anderson Ariza"
          ],
          [
           "Poema",
           "Afaz Natural"
          ],
          [
           "La Ciudad del Rap",
           "Crew Peligrosos, Medayork Records, Jke, Kase.O"
          ],
          [
           "Mil Vueltas a Este Pantalón",
           "Charles Ans, BCN, Simpson Ahuevo, Adan Golden Ganga"
          ],
          [
           "Nueva Vida",
           "Farina, Lil Durk, Play-N-Skillz"
          ],
          [
           "Me Re Sirve",
           "Maxi El Brother, L-Gante, Eric Santana"
          ],
          [
           "Curazao",
           "El Alfa, Chael Produciendo, Farruko"
          ],
          [
           "ASUNTO SERIO / TATUA",
           "Dawer X Damper"
          ],
          [
           "Un Trago",
           "Noriel, kenser, Amenazzy"
          ],
          [
           "FEEL ME??",
           "Trueno"
          ],
          [
           "Como + Nadie",
           "MYA, LIT killah, Rusherking"
          ],
          [
           "Ven (with Luar La L & Eydren)",
           "st. Pedro, Luar La L, Eydren"
          ],
          [
           "Trap Romantic",
           "Alima"
          ],
          [
           "LALA (Unlocked) (feat. Swae Lee)",
           "Alicia Keys, Swae Lee"
          ],
          [
           "Paso a Paso",
           "Thony Wilson"
          ],
          [
           "Mal Acompañada",
           "Martinez, Philip Ariaz"
          ],
          [
           "Gánatelo",
           "Diana K."
          ],
          [
           "Guaro",
           "Morelli"
          ],
          [
           "Doncella",
           "Benú"
          ],
          [
           "Darte",
           "Casper Magico, Nio Garcia, Zion & Lennox, Flow La Movie"
          ],
          [
           "Bendecida (Padrino Sessions) - Live",
           "Delfina Dib"
          ],
          [
           "Contigo",
           "Afro Legends"
          ],
          [
           "Vuelo y Vértigo",
           "Sat Colibri"
          ],
          [
           "Nube Gris",
           "Sr Pablo"
          ],
          [
           "Neo Quimeras",
           "Tayko"
          ],
          [
           "Tiempo de la Cruz",
           "Alex Campos"
          ],
          [
           "Ya Fue",
           "Laura Pérez"
          ],
          [
           "Insomnio",
           "Métricas Frías, Doble Porcion, LeykingProducer, Hache, One Rose"
          ],
          [
           "Toa La Vida",
           "Nicki Nicole, Mora"
          ],
          [
           "Deja de Mirarme",
           "Free Stayla"
          ],
          [
           "Blame On Me",
           "Keke Minowa"
          ],
          [
           "Sorbito de Champán - Bonita y Mentirosa - Desorden Público rinde Homenaje al Indio Pastor López ft Billo's & Chicha Libre",
           "Desorden Público, Billo's, Chicha Libre"
          ],
          [
           "Querer Es Poder",
           "Lennis Rodriguez, Maikel Delacalle"
          ],
          [
           "Tengo Ganas",
           "Manyoma Brothers"
          ],
          [
           "¿Donde Estarás Libertad?",
           "Cynthia Montaño"
          ],
          [
           "Eco de Mis Ancestros",
           "Nelda Piña y sus Tambores"
          ],
          [
           "Te Quiero Igual Que Ayer",
           "Ana del Castillo, Jean Carlos Centeno"
          ],
          [
           "Cumbia del Olvido",
           "Ismael Ayende, Conjunto Media Luna"
          ],
          [
           "Ley de Atracción",
           "Duki"
          ],
          [
           "Poison (with DEKKO)",
           "Nobeat, DEKKO"
          ],
          [
           "Al Escondido",
           "Loy, Jaycob Duque"
          ],
          [
           "Sun Came Up",
           "Sofi Tukker, John Summit"
          ],
          [
           "Por El Alcohol",
           "Brytiago, Nio Garcia, Casper Magico"
          ],
          [
           "La Graduación",
           "JBot & Tuti"
          ],
          [
           "Santera",
           "Black Mambo"
          ],
          [
           "Repetíamos",
           "Abraham Mateo"
          ],
          [
           "Hace Calor",
           "Estereobeat"
          ],
          [
           "El Gato Andaluz",
           "Pavel Nuñez, Santiago Cruz"
          ],
          [
           "Cero Tiroteo",
           "Brray, Darell"
          ],
          [
           "Mentas / Lo Simple",
           "El Venue"
          ],
          [
           "High",
           "Soy Emilia"
          ],
          [
           "Iluminábamos (feat. Monsieur Periné)",
           "Benjamín Amadeo, Monsieur Periné"
          ],
          [
           "Piece Of My Mind",
           "BROODS"
          ],
          [
           "Nos Entendemos",
           "Totoy El Frio, Gaviria, Eix"
          ],
          [
           "Buscándote",
           "Xantos, Yomo, Jhoni The Voice"
          ],
          [
           "Just A Ghost",
           "Claptone, Seal"
          ],
          [
           "Ya No Funcionó",
           "Lika Nova"
          ],
          [
           "GPS",
           "Corina Smith, Noriel"
          ],
          [
           "Linda",
           "Tokischa, ROSALÍA"
          ],
          [
           "Ella Es Mala",
           "Juanfran, El Micha, Omega"
          ],
          [
           "La Foto Se Me Borró - Bachata",
           "Elvis Crespo, Ryan Milo"
          ]
         ],
         "hovertemplate": "Éxito=False<br>Principal Component 1=%{x}<br>Principal Component 2=%{y}<br>Principal Component 3=%{z}<br>song=%{customdata[0]}<br>artists=%{customdata[1]}<extra></extra>",
         "legendgroup": "False",
         "marker": {
          "color": "#636efa",
          "symbol": "circle"
         },
         "mode": "markers",
         "name": "False",
         "scene": "scene",
         "showlegend": true,
         "type": "scatter3d",
         "x": [
          0.3765685077889224,
          -0.30790921382291697,
          -0.06534263050116765,
          0.12750640151738,
          -0.6676704526712515,
          -0.06154047181387491,
          -0.20018216528713642,
          -0.24173084623783203,
          -0.03775792347875937,
          -0.10427072857938459,
          0.3422906953319963,
          -0.45436925473743134,
          0.4423980269746502,
          0.09473620764137199,
          -0.1820655994982446,
          0.3030108834063098,
          -0.44984572737604916,
          0.19473434615783333,
          0.26297807866185957,
          0.28026900046731607,
          -0.39937335415755043,
          0.2703106610371641,
          -0.13577956806667477,
          0.14072209843238823,
          -0.1333895798700223,
          0.029051621432844132,
          0.5753939014150665,
          0.2683763069670779,
          -0.3081508832246457,
          -0.30099789042541564,
          -0.017822719280017187,
          0.014692974026581268,
          -0.02443901735205713,
          -0.156666214439838,
          -0.05441621271461331,
          0.15547949309936962,
          -0.12853853891454295,
          -0.421593101277431,
          -0.6191689255509771,
          -0.1762771646073089,
          0.27797609683075575,
          -0.41616018203177946,
          0.2360003589450461,
          -0.565123784328124,
          -0.39274753612892055,
          0.1248040059685605,
          -0.07943563050183536,
          0.37617396204023756,
          -0.4393806488367572,
          -0.24821430545869708,
          0.0060810508578374,
          -0.4916250403400442,
          -0.5920777706262342,
          -0.6389838318664376,
          0.3161802282590468,
          -0.12260422976337187,
          -0.4268988865124447,
          -0.2589556538573131,
          0.0018310814194659418,
          -0.33307902859937033,
          0.34182423171160553,
          -0.4285237266674044,
          0.19644730682041606,
          0.33507983246385786,
          -0.4711567242333093,
          -0.4466775955503122,
          0.17092868678655682,
          0.29945263947734785,
          -0.19152022318959894,
          0.28735648369293443,
          0.2849612761049985,
          0.1894188138545571,
          -0.04415230315749957,
          0.04450516643002588,
          0.3966464781477099,
          0.34674167083492263,
          0.27845406134880873,
          0.4985134143219169,
          0.17822488368061742,
          0.14391740713530468,
          0.42092370987614985,
          0.4202012151080082,
          0.6489062089593252,
          0.30309365299509644,
          -0.0715438348376573,
          -0.5370186751980383,
          -0.15235994555142277,
          -0.08014548132661369,
          -0.42778991974332614,
          0.3036134947262557,
          -0.17715605768486764,
          0.8643488301951927,
          -0.23981723422525683,
          0.8361209847765212,
          0.8695066923671925,
          0.339950071051987,
          -0.3853248744082549,
          -0.07574139483651271,
          0.35494328645041456,
          0.22300200497713438,
          -0.1960576829238836,
          -0.4446095795109504,
          0.008026085961433834,
          0.07631368588588328,
          -0.438136972803509,
          -0.1960576829238836,
          0.49470436261775086,
          -0.5612390516098718,
          0.3166428814890077,
          -0.21905759681277254,
          0.04133879121434159,
          0.4706465286292672,
          0.1306895415182361,
          -0.1295163135317956,
          0.10728858132778998,
          -0.3299415332584433,
          0.06452758946815886,
          -0.38649072837946147,
          -0.07195283949799541,
          -0.4845951142332078,
          0.6061486025729824,
          0.7334602376774148,
          0.25804197013009417,
          -0.21050058577022787,
          0.6489062089593252,
          0.33897745906623644,
          0.4212798562153299,
          -0.338686542341158,
          0.45207432056279057,
          0.26159097855758023,
          -0.1933393986721944,
          0.5785360858644176,
          0.8506705353984371,
          -0.5880629097883358,
          0.23601204192993927,
          0.24075667604201395,
          0.3775417176281667,
          -0.004789508872990389,
          -0.3007099034710728,
          0.7646986397760452,
          0.4010785379753967,
          -0.19470642353425446,
          -0.4932696467732665,
          -0.3847161603928017,
          0.17532458808848037,
          -0.3576090493278219,
          -0.152531661849134,
          0.6324413213521582,
          0.18988404547708013,
          -0.22302381382185849,
          -0.05378279695019615,
          0.5029861269098596,
          -0.3985227469472599,
          -0.09288326597283385,
          0.24692579213003468,
          0.39804193747510225,
          0.077176138443639,
          0.14572591301587332,
          0.1070149650562736,
          -0.554125235235872,
          0.27079405783365507,
          -0.2877287201776236,
          -0.13572126356427508,
          -0.03728631975093098,
          -0.011645839854573981,
          0.09241354360399534,
          -0.28946623148384737,
          -0.37230084989651374,
          -0.5716179219059405,
          -0.3716308519901114,
          -0.0974138926986554,
          0.19134409936021782,
          0.1408553829183037,
          0.2230995930517102,
          -0.6087277709977089,
          -0.4926004459208764,
          0.28244836799917916,
          -0.264489755876782,
          -0.002181190928680607,
          -0.29137905048670576,
          -0.28465835833319164,
          -0.18867685468263676,
          0.22384509462206031,
          -0.29104866076957114,
          0.02999804679972495,
          -0.05825792002332244,
          -0.21145667646411345,
          0.02514194250283874,
          -0.0802091389067549,
          -0.14330630791576843,
          0.10807562178366598,
          0.40737951885147466,
          -0.17838799556744728,
          -0.15585928461457146,
          0.53682855882246,
          -0.2645773645829885,
          0.14891228573199947,
          -0.4577351724163411,
          0.4894524339643326,
          -0.2753749772541809,
          -0.015260694040114318,
          0.26305047363709627,
          -0.4218115119011102,
          -0.31687539408502585,
          0.23763244275319068,
          -0.2440841551161154,
          0.3930304883835721,
          0.6122379224908221,
          -0.4497263059375621,
          -0.14097685754899753,
          -0.14500830131603581,
          0.2777644148219446,
          -0.09316067398239515,
          0.43250202817946315,
          0.1472022829011008,
          0.46796630862884936,
          -0.2568781758066801,
          -0.014814930658776192,
          -0.06897897193139678,
          0.31604892219831526,
          0.5855342477823132,
          0.1547077997381965,
          0.3330168210692125,
          0.07295676725118573,
          -0.06879306129540862,
          0.45459641255794037,
          0.4665928058531284,
          0.2918750623311648,
          0.27146880806872303,
          -0.021334249003375872,
          0.5027868793775303,
          -0.3083786374151197,
          0.015033121471901067,
          -0.25227055099748313,
          -0.30214678560679326,
          -0.319204120757474,
          -0.2804726907838041,
          0.33187247265459563,
          0.10718841454561251,
          -0.5183172150130092,
          -0.25238013961096106,
          -0.03838985304820689,
          -0.17781579430892916,
          -0.15481795365285905,
          -0.3497071175964153,
          0.20704276376371894,
          0.7940270288797284,
          0.2515194762944871,
          0.7375816864549051,
          -0.15180896470815378,
          0.0884581595659471,
          0.07643865307966576,
          -0.19747891529609182,
          0.22731258714755556,
          -0.0678214472335996,
          0.37807679992924587,
          0.17467214007480214,
          0.3610137604553176,
          0.08530255089729433,
          -0.24814102044146333,
          0.3468788780627167,
          -0.06452930681055633,
          -0.5033419135335846,
          -0.15307806755944728,
          -0.135299774819178,
          0.5810636009643773,
          0.43308238214763817,
          0.20000732742348334,
          -0.13499794949099614,
          0.22869435519773254,
          -0.5005132401982798,
          -0.3916074496390643,
          0.16709653929598353,
          -0.1387315405937435,
          -0.5768943933300521,
          0.17497120251428247,
          0.21408540215255256,
          0.3622136623220842,
          -0.10349773456284814,
          0.08435267326097697,
          0.30666066811766945,
          -0.4873936789970272,
          -0.1571195249016602,
          0.12869038909559205,
          -0.44642072937860877,
          0.2839546349594702,
          -0.17693780435547335,
          -0.15122343990798218,
          -0.04751498594561013,
          0.19722931623931245,
          0.29228664417197087,
          0.3845616983997682,
          0.014744840898782412,
          -0.20588994377061198,
          -0.5748581649838542,
          -0.04292304818049315,
          0.12024261225920446,
          -0.2773299866142309,
          0.0025683696870736137,
          -0.08454514299935298,
          -0.5523600430636106,
          -0.4530758556532011,
          0.2139447750847518,
          -0.36770595487951674,
          -0.2044229228666554,
          -0.48375927990647877,
          -0.5196089343016101,
          0.5159756738838905,
          0.5230516727948381,
          0.01141070400573356,
          0.08912696310833304,
          0.0033711615744091514,
          0.5804902604399338,
          0.4078073437135288,
          0.3964083150201193,
          0.5366854345892706,
          0.05141046113920918,
          0.568936441335043,
          0.08857645918791646,
          0.3052526137731766,
          -0.5523182128099321,
          0.16020387347980164,
          -0.5458740419297364,
          0.20782813020934693,
          -0.11509238138499786,
          -0.19140931584853935,
          0.4843845438645322,
          0.4531495973678664,
          0.38033347897076525,
          0.1451613024255827,
          0.41906638561154325,
          0.2597227562969579,
          0.14985246220487142,
          0.17266811121657297,
          0.22196407558436695,
          0.20225819874225,
          -0.1657810355026443,
          -0.22143474862929804,
          0.5862486229122525,
          0.08361411414799456,
          -0.5955854371762566,
          0.8304965406840613,
          -0.13317637271668198,
          -0.0808778975353893,
          0.4613085508876922,
          0.22223686148897118,
          0.35886756205383874,
          -0.12748123479141754,
          -0.21926573431213242,
          -0.00874608984338401,
          -0.36460467190463935,
          -0.415311482531446,
          0.02259571187153269,
          -0.3817344795922068,
          -0.18226043328853264,
          -0.42122517959577327,
          0.35584289069952374,
          0.2960421424544565,
          0.2185236788533298,
          0.4065533291721597,
          -0.2695934399784393,
          -0.3696045791820758,
          -0.46926268975744356,
          0.4446208274159949,
          0.28649513676211297,
          -0.11744160404315725,
          0.102685924298852,
          0.0844344895613779,
          0.2960417408407458,
          0.0031059474329196307,
          -0.10552256232806499,
          -0.22573637201894003,
          0.1282020532595014,
          -0.13522031050699568,
          0.36801689908307417,
          -0.39009007798015427,
          -0.31258557719397523,
          0.10936464442779266,
          0.26466974482878636,
          0.3139574135773263,
          -0.013173534847174553,
          0.4051169054707826,
          0.22864587577472636,
          -0.07140870659200745,
          -0.2798804785506363,
          0.33349923649068897,
          -0.03436687550952729,
          0.2948759873934503,
          -0.576560164545804,
          -0.33757295762723244,
          -0.09772728016498772,
          -0.3136751065586043,
          -0.256760218822696,
          -0.009900352795907215,
          -0.23605048008000246,
          -0.1424222359676749,
          -0.13294202306572372,
          -0.18740581529041236,
          -0.48223602719479536,
          -0.4216326859713519,
          -0.352544213497692,
          0.1903805610448106,
          0.27228232738617464,
          0.12973653655068643,
          -0.3899808966430792,
          0.5132454411389786,
          -0.32561325865662527,
          0.03461852011161777,
          0.27410711153486417,
          -0.07842112143659025,
          0.5295505214051641,
          0.12890614276048926,
          0.4967052260538005,
          -0.17998753392118094,
          -0.5639578503135991,
          0.30142085481373126,
          0.5506902408429625,
          -0.4645940575051099,
          0.22979615605393672,
          0.24476697961180857,
          -0.4006471909911417,
          0.009669363643293285,
          -0.19777942962984135,
          -0.26745206919380093,
          -0.4124943681144574,
          0.3353147944740918,
          0.2748922553085529,
          0.1195234233408145,
          0.027681653995551645,
          -0.1793157138147235,
          -0.28581814020385,
          -0.017280843927002056,
          0.2653489030404672,
          -0.16614031880032268,
          0.2312191092072783,
          0.2874702069522786,
          -0.5180562449914793,
          0.27705065596399764,
          -0.43515248243192645,
          0.28689448615269536,
          0.06350762144470803,
          -0.14829318005611378,
          -0.43565512915907967
         ],
         "y": [
          -0.24659106597545755,
          -0.17450285217847464,
          0.06725833080058605,
          -0.60376661957822,
          -0.04386223185487774,
          -0.4480965103837695,
          0.0346083024533757,
          -0.1883133733131721,
          -0.18303780905975445,
          -0.34650226348874763,
          -0.29436103958522986,
          0.03762040441652448,
          -0.12184259832589688,
          -0.4991703098060322,
          0.02326629129894292,
          -0.11287758337706073,
          -0.02289048234708996,
          -0.6167930414074975,
          -0.22700946124786764,
          -0.4687004911989269,
          0.04596945361136782,
          -0.33785810510424874,
          0.4085318460084491,
          -0.29254143927910264,
          -0.010828993504294462,
          -0.18422504987309674,
          0.03658618615180071,
          -0.5747483193633377,
          0.00492211070196871,
          0.08128070857376934,
          -0.030414633773688964,
          -0.16896962907352278,
          0.34920687033850767,
          -0.018094028546904745,
          -0.05526086338661435,
          -0.2593506889389702,
          0.08114426149875438,
          0.1872014315034324,
          -0.1373408791140086,
          -0.044929789278879764,
          -0.548690526803545,
          0.05930311678631113,
          -0.4651427009832843,
          0.10584740713954936,
          -0.1598265542819564,
          -0.3585901617281749,
          -0.17951562532138846,
          -0.3564259347182832,
          -0.13892585233002097,
          -0.19978987613160684,
          -0.31297776360387813,
          0.2257285330242034,
          -0.22876653795956245,
          0.007178236820784129,
          0.33534208367709484,
          -0.1684321980112018,
          -0.07903081098372734,
          -0.05820346233423795,
          -0.1454709353009413,
          -0.13721253696299274,
          -0.20266716934011178,
          0.018063137975919605,
          -0.2882722831992792,
          -0.4331929242216749,
          0.2737066853426807,
          0.16925816001641816,
          -0.4028872891661383,
          -0.485215132167928,
          -0.24005158637807622,
          -0.3806151738372029,
          -0.44233954640687756,
          0.4668192068162886,
          -0.19688656183634717,
          -0.49103816154725816,
          0.03778647045158445,
          -0.18051774178775945,
          -0.048655198172000994,
          0.048069378673384594,
          -0.24106326085534627,
          0.8005045853419465,
          0.14406117088558146,
          -0.16591743792281885,
          0.22629580759720025,
          -0.3654292821283981,
          0.3534035538439752,
          0.01009282335871805,
          0.3164987364304443,
          -0.32012732403485195,
          0.055248634439112265,
          0.342183354303143,
          -0.05465074948705172,
          0.9649860180103491,
          0.22189102194709467,
          0.8738795053579078,
          0.6077198816315721,
          -0.35642589082420634,
          0.24119541449264784,
          -0.06358096476362764,
          -0.4057509049774046,
          0.005872843175358597,
          0.8340381146876543,
          0.3045088559533931,
          -0.3883732420988563,
          -0.45367823988819383,
          0.08998337664092543,
          0.8340381146876543,
          0.09416498382228558,
          0.1372019280755925,
          -0.27728808674462135,
          -0.36861502442139166,
          -0.033209242595765825,
          -0.17106678154803587,
          0.2869662397559506,
          -0.24507741725520457,
          -0.505757057477908,
          0.17697592825082534,
          0.35196939634582636,
          -0.11631948892990489,
          0.3532620442696294,
          -0.10285125690154276,
          0.2784590773171748,
          0.2794596005137095,
          -0.14820358433164754,
          0.18625102586889627,
          0.22629580759720025,
          -0.3576825330850689,
          0.4276975472447091,
          0.22560645633433707,
          -0.0805251683420963,
          -0.41119886403852096,
          -0.04327026855266259,
          0.2755321503306221,
          0.5835047913946676,
          -0.018543942024283788,
          -0.4350138362256729,
          -0.3212608510776468,
          0.05192398261935699,
          0.04957733550755178,
          0.6420435651424641,
          0.5066885910062431,
          -0.02034721950956828,
          -0.05762899387576782,
          -0.2735714097473012,
          0.06755636651927484,
          -0.4664337919548546,
          0.258888455830178,
          -0.3616187257659778,
          0.2462201209686562,
          -0.13220433131034032,
          0.059283027402428,
          -0.11599524897443006,
          -0.14692918248583436,
          0.08791453756580259,
          0.10830206842937776,
          0.2785742883927996,
          -0.30761289799033353,
          0.5521368040289324,
          -0.0027415020747664173,
          0.8748922828402187,
          0.14145524108160043,
          -0.5242816728829967,
          -0.03868431635821183,
          0.34677272697269884,
          -0.25347968682540495,
          -0.1199330074038202,
          1.002918237445689,
          -0.06468558851153712,
          -0.08388279138748962,
          0.03883585152075353,
          -0.03716608869914485,
          0.015189756366465565,
          -0.04312689649738271,
          0.1565775629315632,
          -0.3119720293852391,
          -0.06818864351202641,
          0.16899954598336991,
          -0.5388819630425211,
          0.11661270239030581,
          -0.224695382571901,
          0.32141071710754465,
          -0.21307106597609676,
          -0.07113136057111537,
          -0.4812873396254614,
          -0.18999506903494515,
          0.3612492638296048,
          0.0045489737831008814,
          0.31966462343215285,
          0.11022173788164295,
          0.19065098630658753,
          0.1269475238438403,
          0.34513791608829086,
          0.1631237086452997,
          -0.2831729272774665,
          -0.19580976573433126,
          0.046140914414455135,
          -0.19639387468660327,
          0.4920827714967405,
          0.20477243525347757,
          -0.07339806523218452,
          -0.13414402838445197,
          -0.31753382708415245,
          -0.005869991592090253,
          -0.1289069559805745,
          0.215118824447051,
          -0.3688284542057804,
          -0.15249542153089093,
          -0.21480969415398093,
          0.12393522309307418,
          -0.02918530559221662,
          -0.0068241537619365385,
          -0.32688146485534436,
          -0.49586576201570104,
          -0.09888789996240581,
          -0.1318516645927726,
          0.14494352695877377,
          0.3024422735522743,
          0.09937785899521251,
          0.6616464669232579,
          0.5020788754021289,
          0.4871965087149025,
          0.7835807654752259,
          0.8470440214906306,
          -0.1259859979108344,
          -0.12353436784657139,
          0.2178345764904394,
          -0.09352958160767871,
          0.5058104147324641,
          0.34434682281995593,
          -0.34558405019242083,
          -0.3793598283611667,
          0.05302967651025325,
          -0.1467590871153477,
          0.06951245780908714,
          -0.2201890689318984,
          0.32359446738450665,
          -0.06423170205064256,
          0.12444160407922397,
          -0.23495679180714482,
          -0.00348523789165694,
          -0.1557151558108667,
          -0.23112525832592629,
          -0.2463278070939621,
          -0.1340090700918756,
          -0.0384893997199475,
          -0.030546279167121996,
          0.8153731688175545,
          0.5199663028326457,
          0.6643877126911285,
          0.33141268223557846,
          -0.12863729836206866,
          0.332444262719384,
          0.07670457686957641,
          -0.09525892833833227,
          -0.327091828865335,
          -0.28044991956256404,
          0.641942426000894,
          0.13622837563168191,
          -0.25713223414537895,
          -0.5104468722389371,
          -0.034912068423830815,
          -0.12937073767429944,
          -0.23252379124974795,
          0.18433710423477412,
          -0.25737688203510833,
          0.06587661168306347,
          0.2933234614795194,
          -0.18579141967947632,
          0.73609311749146,
          -0.4685781356584579,
          0.032220772630934855,
          0.06939430664266176,
          0.3820434279849772,
          0.429566178767385,
          -0.32672196478576854,
          -0.04199311437768754,
          -0.5028668620939821,
          -0.35675142273263205,
          0.5743847932853736,
          0.14050794710222037,
          -0.39536012944832655,
          -0.4106502824996985,
          -0.1610011004685053,
          -0.14537236948212096,
          -0.5031380949529428,
          0.2801108148397228,
          -0.22913535288221804,
          -0.24799541184536858,
          0.11031269119118559,
          -0.17916853832096574,
          -0.5895843091852175,
          0.358725685835194,
          -0.045702648971384444,
          -0.2764387191703632,
          0.02145260044866513,
          0.08534077595204721,
          -0.28780443333279565,
          -0.05190857084120399,
          0.6676499735680289,
          -0.1350749800950133,
          0.2901210267803226,
          0.14385335570767066,
          0.28160032048630423,
          -0.06993300723743968,
          0.2266462331447352,
          -0.24209067169521825,
          0.12787780431333753,
          0.14977647569115798,
          -0.2661309699304775,
          -0.020579478208883114,
          -0.09876445496822493,
          0.4407331488224337,
          -0.11481736568409284,
          0.9372000803709759,
          -0.16072900834759368,
          0.09295462524430469,
          -0.1386116585835868,
          0.1290141727034549,
          0.5204254550082734,
          -0.46021747524150963,
          -0.3522171151239849,
          0.012675089215123319,
          0.7023354247996638,
          0.06649173117114557,
          0.39681168255232907,
          0.5477248235031124,
          -0.08546195575825127,
          -0.027063275138358784,
          -0.2582211833906588,
          -0.33404879136729737,
          -0.41573405542256225,
          -0.3574034940155438,
          -0.11911319467965119,
          0.20117127810215993,
          0.26159425483058013,
          -0.18494924446377778,
          -0.32107924306911595,
          -0.005684017235600028,
          -0.1913576993557146,
          0.10120476723933905,
          0.015455735627267975,
          -0.08700711915531784,
          0.44672499274475946,
          0.19989320990714243,
          0.4082225578275905,
          0.03119317754427979,
          1.2844482648692317,
          0.6576764350175199,
          -0.4099144810575078,
          0.5122160330636162,
          -0.5409839581317946,
          0.18894329491880674,
          0.31055463282366746,
          0.20795433196756458,
          0.25431513457851257,
          -0.012228135088910748,
          -0.09739639436533803,
          -0.04471898070178417,
          -0.33854370625004715,
          -0.3029095842906423,
          0.05907948602682614,
          -0.13628733079474517,
          0.41265362718588294,
          0.026042376815261378,
          -0.17268239206395936,
          -0.24228512450679965,
          -0.1400654004734791,
          -0.3937298634667615,
          -0.1327709152485026,
          0.24275917832235597,
          0.2948644060502216,
          -0.22989980276966815,
          -0.2885906010178747,
          0.20030214167109017,
          0.08695011197932008,
          -0.3313278168694384,
          0.034631553346155135,
          0.0223309384141748,
          0.17127888637648406,
          -0.3632299578890258,
          -0.07269089194768913,
          0.03464532581568643,
          0.03943871361426661,
          -0.25368998644223417,
          0.34116985519006776,
          0.3981628423484386,
          0.18818338106806928,
          -0.045601893211997646,
          -0.06297135019062407,
          0.02523051723496521,
          0.5524540907150437,
          0.20993185527186164,
          0.34102294882357953,
          -0.04498436875366329,
          0.035004329710918006,
          0.45960772026314894,
          0.16987350094963524,
          -0.251762909244821,
          -0.22768910857735833,
          0.33139023977663556,
          -0.0814353281805965,
          0.33118570266615877,
          -0.47785114393912154,
          -0.12192803267459096,
          0.3096428544813108,
          0.03127893350265322,
          -0.06697861080908704,
          0.5260260644037421,
          0.3278368916292481,
          0.8129172794332848,
          -0.13369659227637276,
          0.08650215534372957,
          0.48937542095065995,
          -0.0770527272591891,
          -0.3026925421550333,
          0.10802240628763746,
          -0.13817860514725563,
          -0.04226308208726784,
          0.36912091811997866,
          0.030697220504036525,
          -0.41543631541496306,
          0.07089617069905242,
          0.06894592510115076,
          0.06868913592337951,
          0.17251921302341006,
          -0.07812283378846852,
          0.0674742299948066,
          0.18382097230441555,
          -0.1296968484600385,
          -0.4843564951679822,
          0.07026396594310563,
          -0.37688671045965433,
          0.37026817716883254,
          -0.4098765114668161,
          0.26259060357404845,
          -0.46893334583954605,
          -0.27683855810470104,
          0.04308751220585293,
          -0.02880390633321353,
          0.034927836167246894,
          -0.1439261095571844,
          -0.4158516055131042,
          -0.034575881301033916,
          0.16333647879164098
         ],
         "z": [
          -0.3153507282717843,
          -0.2757918373001568,
          0.47501223543357707,
          0.2977754248340795,
          -0.3266152931129141,
          -0.17335347585715616,
          -0.2229153593789936,
          -0.3363777781091394,
          0.37536571952141945,
          -0.13659296993138853,
          -0.33567227345067663,
          0.3677485154099964,
          0.4245915454362363,
          -0.35031286797521344,
          -0.21168009752105826,
          -0.2495489298016552,
          -0.1307088685819334,
          0.06535594130047506,
          -0.3370997864273405,
          0.19340030423697024,
          -0.19654519389410946,
          -0.4043898608750768,
          -0.19435164640478927,
          -0.3269324901889683,
          -0.23830057037499616,
          0.141189312407118,
          0.23210113585779188,
          0.24711908981874287,
          -0.22254995098547206,
          0.3580615943279148,
          0.36606395829510596,
          0.07142407325968199,
          -0.1270814323065229,
          -0.20616422344410426,
          -0.22841397266852048,
          -0.31718853467060176,
          0.536308429377742,
          0.4245138034454124,
          0.4575230527577154,
          -0.3378394456783512,
          0.24080654938281085,
          -0.2591196868476381,
          -0.34964573196885457,
          -0.16696966748829348,
          -0.010294964593926877,
          -0.2681673449616412,
          0.10959404372318847,
          0.2147273825116434,
          0.3350641459779664,
          -0.28691957532332824,
          0.2994402222116966,
          -0.17344039662793717,
          0.462914269087945,
          -0.16527389177895263,
          -0.07510874799685864,
          0.3861350072739653,
          0.24625729707118493,
          0.38452634190833485,
          0.34322210961690036,
          0.2870746888160611,
          0.29160521443184656,
          -0.21947443800793967,
          -0.28363244279545125,
          0.300093399576324,
          -0.0979028898530574,
          -0.2792000904214574,
          -0.3280345613573665,
          0.3092733424305328,
          -0.30303613145735364,
          -0.19981490612175623,
          -0.0758498149928661,
          0.7381737960565429,
          0.3072681715249573,
          -0.053612465699177186,
          -0.27727027024543627,
          0.29969147744544583,
          -0.2708549183802528,
          0.039635242325064664,
          -0.2679748155477403,
          0.035323949938949745,
          -0.07629559943316568,
          -0.26071409150658786,
          -0.0012191560899512896,
          -0.09978554714351132,
          0.06932220918995377,
          -0.2589297726845815,
          -0.2966472129975833,
          -0.232432429519579,
          -0.193831144877116,
          0.005556934707147559,
          -0.023423123344031453,
          -0.11410648499980393,
          0.11197943752687013,
          0.20022314710137395,
          -0.11709861927393486,
          -0.031493086924111624,
          -0.18415089813716687,
          0.3687134896761868,
          0.6121087811417014,
          -0.19103058435695383,
          0.04816248257740696,
          0.15111288814981008,
          0.09646780875937759,
          -0.1650086400645668,
          0.4135076916933798,
          0.04816248257740696,
          -0.08227101668706055,
          -0.2047594408702053,
          -0.3775775670506053,
          -0.0330611694155718,
          -0.3221986313935039,
          0.49693289425998743,
          0.19414451498392313,
          0.5441714965403341,
          -0.2009783517508092,
          -0.1722922732766661,
          0.3160763754800973,
          -0.0015089833267743244,
          0.06902468457523028,
          -0.21680340282752886,
          0.09172896485549603,
          0.11629141250768926,
          -0.1149970381452706,
          -0.19952248599101222,
          -0.0012191560899512896,
          -0.031639992855097894,
          0.3529900766339625,
          0.12988621891629468,
          0.44430866532180635,
          -0.3430481268703601,
          0.04424646966174694,
          -0.0011569182820260497,
          -0.18590188364880436,
          0.048695365021451095,
          0.31253980237213425,
          -0.32416264522325344,
          -0.20104002332745768,
          -0.2086325673281857,
          -0.07042640038451257,
          0.03522515245853525,
          0.0141539247856992,
          -0.3339908173799592,
          -0.2599608748409367,
          -0.2149866575584789,
          0.08545261985717734,
          0.053929578451871026,
          0.3025701116115521,
          -0.1537050062095354,
          -0.052333533302231304,
          -0.08164013900642898,
          0.44633820210005115,
          -0.02313832421223497,
          -0.17589238721059486,
          -0.14077148574928436,
          -0.14910257974249322,
          0.170689999586375,
          -0.030560177111988582,
          0.11648988519914288,
          0.19656604373418798,
          0.1448071288455369,
          0.18780819542117014,
          0.26283782630833846,
          0.13017735050275953,
          0.10148908465204654,
          -0.14421484966379072,
          -0.14079186652193967,
          -0.11290452463969386,
          0.29041336586040273,
          0.0039050108182436508,
          0.27372317975009913,
          0.14716441676139644,
          0.12793664565009202,
          -0.0581239092035958,
          -0.19548697078447239,
          0.33527228362376704,
          -0.06403730082839837,
          0.038510243978208694,
          -0.18687651189637036,
          0.38561614086482626,
          0.3453130403622238,
          0.37012257870295084,
          -0.21883838928870386,
          -0.28901364028346,
          -0.014118524266763181,
          0.1517827221338578,
          0.06421381504077817,
          0.3820965038647791,
          0.314799773190561,
          -0.08078904577510533,
          -0.07204552670669671,
          0.535131613231511,
          0.11417882226004229,
          0.3796642330452719,
          -0.3808635945843469,
          -0.17807091284495644,
          -0.3805649427295357,
          0.3318859369911298,
          0.13340056747259024,
          -0.3056446704069294,
          -0.012192321994960125,
          0.13315443729960674,
          0.23034474912683203,
          0.21066412013581162,
          0.2937865911782546,
          0.5783551595585311,
          -0.3221680111136531,
          -0.28926601301696797,
          -0.19573577686490412,
          0.44060953628636035,
          -0.2731863858873949,
          0.3343679155921352,
          0.2731413470447094,
          -0.16802388919098285,
          -0.06841708286777702,
          -0.30086250817334903,
          -0.21216476582346547,
          0.03377578092890871,
          -0.311392141281328,
          0.48645653727735144,
          -0.2064274578556254,
          0.10917222483428818,
          -0.08094875314271405,
          -0.13429961525389125,
          -0.04079337266048872,
          -0.08707923101616474,
          -0.31683857461406795,
          -0.11558371254296348,
          -0.17534281085205547,
          -0.3282092755514411,
          -0.11151785602837251,
          -0.34175072557104924,
          -0.21760074282056407,
          -0.17672956503117251,
          0.47543437731142507,
          0.18030450393939854,
          0.31607108051957866,
          0.4209462518873623,
          0.26855890510602215,
          0.12414428966021485,
          -0.10311679121248142,
          -0.1934958480159499,
          -0.18658083069744288,
          -0.10042261123641423,
          -0.2488136347345324,
          -0.07447904672181398,
          -0.0475969730939347,
          -0.11815651555631389,
          -0.009852864594414536,
          0.04882113369775799,
          0.31025371578083794,
          0.45922616151640416,
          -0.19786710905392604,
          -0.27098203868401793,
          -0.242753707784069,
          -0.09974296260046732,
          -0.0035564716372330305,
          0.4113339680502043,
          -0.25204713046374994,
          -0.36066259122003885,
          0.40541023768474654,
          -0.22293631386895316,
          -0.27498958310399046,
          -0.07499785118303277,
          -0.2112971086904638,
          -0.2829613562238541,
          -0.21136432288893486,
          -0.2390466025660781,
          0.0770698722012148,
          0.10937490882912736,
          -0.18973237839497692,
          -0.18893248388692144,
          -0.04923407418572309,
          0.024209867230425057,
          0.27833838411111467,
          -0.22957537852692889,
          0.2894932634449836,
          -0.341424803098844,
          -0.09688875409673622,
          -0.19570875352969705,
          -0.20243116791746882,
          -0.12832103570486106,
          -0.04971714704755391,
          -0.058988587179449985,
          -0.20898525429920078,
          0.17962227697924046,
          -0.3154174191498719,
          -0.29956663990060617,
          -0.26453153851494954,
          -0.37839547811493446,
          -0.015740313217025438,
          0.09547884872582013,
          0.1438100074741247,
          0.30084174508974815,
          -0.17558237497774268,
          -0.013272196795414052,
          -0.08050689618666303,
          0.29787784049486143,
          -0.11073956100288149,
          0.472572150361065,
          -0.13751880015782925,
          -0.07705209268059206,
          -0.2828018616152388,
          -0.007802209584201996,
          -0.1357069987901725,
          -0.0297882718960675,
          0.4382415324300147,
          -0.056467864807359144,
          0.35530183084730843,
          -0.0028972543773289183,
          -0.03249079094269529,
          -0.08848116806316059,
          -0.11439701691607757,
          0.3582902882168638,
          -0.2899950917412423,
          0.011212928740754273,
          0.0677467989929226,
          0.022815001162705694,
          -0.2018209669700426,
          0.26153860476915136,
          -0.3353257552548444,
          0.29914935203649284,
          0.3779243635493233,
          0.015745274845224613,
          -0.15453498532254456,
          -0.20671779207173288,
          -0.28083275882846004,
          -0.0019620406102745834,
          0.2924184751990826,
          -0.10323908894726068,
          -0.20728828425663298,
          0.3333163359434559,
          -0.07125847557697897,
          -0.049004111609658174,
          -0.041491174985321226,
          -0.05734251566376699,
          0.19128202570114516,
          -0.03315435780663781,
          0.22788215288246128,
          -0.34015082540522024,
          0.08460338760541739,
          0.37220082788211095,
          0.0032874470213513193,
          -0.20725998704567908,
          0.30078022331172843,
          0.21158054249042232,
          0.05160142980972887,
          0.3645310021384652,
          -0.19746058003672892,
          -0.033546601749048055,
          0.3275942975188885,
          0.42136895301599114,
          -0.1018211647520521,
          0.2805944096522434,
          -0.08881999455165686,
          -0.14671835529642574,
          0.042486968387676835,
          0.3978213853205077,
          0.3064320111709794,
          0.3216357346224626,
          -0.3250590351555022,
          0.04609988351946481,
          -0.2313603618575528,
          -0.017025161602996493,
          -0.09174679854761073,
          -0.22450913042740017,
          -0.29484215554802856,
          0.010557156080986434,
          -0.1600799428757017,
          -0.24906592775537817,
          0.023305712170128636,
          -0.006898367638834816,
          0.006494159017393763,
          0.030240427464741825,
          0.27426452560427017,
          -0.07485196350338667,
          -0.17316853055609424,
          -0.1531218853223164,
          -0.16600207415301735,
          0.2295214066142521,
          0.10572722259807465,
          -0.24078502997858908,
          -0.32715834534759763,
          0.07723225233245005,
          -0.29688423958985083,
          0.18540611218953112,
          0.05233930757722532,
          -0.32388119316020564,
          0.33128595414200385,
          0.01628913883077372,
          -0.10899829978841578,
          -0.18365148500652348,
          0.05537100330644782,
          -0.2793177620698691,
          -0.28137254427259883,
          0.1387210810484668,
          0.21005224319243143,
          0.08998417993214215,
          0.3272607244034756,
          -0.1962252842580167,
          0.3336898563897138,
          -0.14455715991035373,
          0.22198640252392715,
          0.025114842119053685,
          -0.12714731539203164,
          -0.022864216551261342,
          -0.05450672434282132,
          0.16347017821800613,
          0.10753383186406157,
          0.20575455597639256,
          0.07833720921009242,
          0.38450027066234027,
          0.5065884818013577,
          -0.11078486826954227,
          -0.12299484468450426,
          0.05577413023236876,
          -0.2465237218100523,
          -0.14066567511190933,
          -0.1893039287213335,
          0.16312649099161128,
          0.4237347249130525,
          -0.2228908966318324,
          -0.28387748252816447,
          0.514452008858851,
          0.0458262519294467,
          0.35325327819535285,
          -0.1594051759765349,
          -0.11257857125726094,
          -0.2868973276743584,
          -0.21384789087516184,
          -0.06775372261465704,
          0.222742486246079,
          -0.20457862272250504,
          0.3606538897339731,
          -0.0834355997183613,
          -0.3695747888046752,
          0.23692538722564135,
          -0.13426560579300126,
          0.03908964283270988,
          0.22896383645709417,
          -0.35845586431491355,
          -0.20888637939815313,
          -0.11520353851658721,
          -0.017816794960510446
         ]
        },
        {
         "customdata": [
          [
           "Volando - Remix",
           "Mora, Bad Bunny, Sech"
          ],
          [
           "Tiroteo - Remix",
           "Marc Seguí, Rauw Alejandro, Pol Granch"
          ],
          [
           "Sobrio",
           "Maluma"
          ],
          [
           "STAY (with Justin Bieber)",
           "The Kid LAROI, Justin Bieber"
          ],
          [
           "TENGO FE",
           "Feid"
          ],
          [
           "Entre Nosotros",
           "Tiago PZK, LIT killah"
          ],
          [
           "200 COPAS",
           "KAROL G"
          ],
          [
           "París",
           "Ingratax"
          ],
          [
           "Life Goes On",
           "Oliver Tree"
          ],
          [
           "SI TÚ SUPIERAS - Bonus Track",
           "Feid"
          ],
          [
           "Wasa Wasa",
           "Ryan Castro"
          ],
          [
           "Una Nota",
           "J Balvin, Sech"
          ],
          [
           "Don't Be Shy",
           "Tiësto, KAROL G"
          ],
          [
           "Qué Más Pues?",
           "J Balvin, Maria Becerra"
          ],
          [
           "Miénteme",
           "TINI, Maria Becerra"
          ],
          [
           "Pepas",
           "Farruko"
          ],
          [
           "Pareja Del Año",
           "Sebastian Yatra, Myke Towers"
          ],
          [
           "Muy Feliz",
           "Ñejo"
          ],
          [
           "Dos Problemas (feat. Big Soto) - Remix",
           "Blessd, Javiielo, Neutro Shorty, Big Soto"
          ],
          [
           "TE MATA",
           "Feid"
          ],
          [
           "Volví",
           "Aventura, Bad Bunny"
          ],
          [
           "INDUSTRY BABY (feat. Jack Harlow)",
           "Lil Nas X, Jack Harlow"
          ],
          [
           "Jordan",
           "Ryan Castro"
          ],
          [
           "Woman",
           "Doja Cat"
          ],
          [
           "JORDAN IV",
           "Feid"
          ],
          [
           "Beggin'",
           "Måneskin"
          ],
          [
           "Yonaguni",
           "Bad Bunny"
          ],
          [
           "512",
           "Mora, Jhay Cortez"
          ],
          [
           "Cúrame",
           "Rauw Alejandro"
          ],
          [
           "Hace Tiempo",
           "Blessd, The Rudeboyz"
          ],
          [
           "14 De Febrero",
           "Feid"
          ],
          [
           "Sal y Perrea",
           "Sech"
          ],
          [
           "Bandido",
           "Myke Towers, Juhn"
          ],
          [
           "HULU",
           "Feid"
          ],
          [
           "HECTOL",
           "Feid"
          ],
          [
           "EL MAKINON",
           "KAROL G, Mariah Angeliq"
          ],
          [
           "COMO CUANDO",
           "Feid"
          ],
          [
           "EL PADRINO",
           "Feid"
          ],
          [
           "DÁKITI",
           "Bad Bunny, Jhay Cortez"
          ],
          [
           "2/Catorce",
           "Rauw Alejandro, Mr. Naisgai"
          ],
          [
           "PURRITO APA",
           "Feid, ICON"
          ],
          [
           "911 - Remix",
           "Sech, Jhay Cortez"
          ],
          [
           "CORONE",
           "Feid"
          ],
          [
           "FUMETEO",
           "Feid"
          ],
          [
           "Poblado - Remix",
           "J Balvin, KAROL G, Nicky Jam, Crissin, Totoy El Frio, Natan & Shander"
          ],
          [
           "CHIMBITA",
           "Feid, Sky Rompiendo"
          ],
          [
           "AM Remix",
           "Nio Garcia, J Balvin, Bad Bunny"
          ],
          [
           "FERXXO VI",
           "Feid"
          ],
          [
           "Botella Tras Botella",
           "Gera MX, Christian Nodal"
          ],
          [
           "XXXX",
           "Feid"
          ],
          [
           "Todo De Ti",
           "Rauw Alejandro"
          ],
          [
           "La Curiosidad",
           "Jay Wheeler, DJ Nelson, Myke Towers"
          ],
          [
           "Fiel",
           "Los Legendarios, Wisin, Jhay Cortez"
          ],
          [
           "LA NOCHE DE ANOCHE",
           "Bad Bunny, ROSALÍA"
          ],
          [
           "Fiel - Remix",
           "Wisin, Jhay Cortez, Anuel AA, Los Legendarios, Myke Towers"
          ],
          [
           "In Da Getto",
           "J Balvin, Skrillex"
          ],
          [
           "IMPOSIBLE - REMIX",
           "Blessd, Maluma"
          ],
          [
           "In Da Getto",
           "J Balvin, Skrillex"
          ],
          [
           "Bebé Que Bien Te Ves",
           "J Balvin, Feid"
          ],
          [
           "Poblado - Remix",
           "J Balvin, KAROL G, Nicky Jam, Crissin, Totoy El Frio, Natan & Shander"
          ],
          [
           "Qué Más Pues?",
           "J Balvin, Maria Becerra"
          ],
          [
           "Ley Seca",
           "Jhay Cortez, Anuel AA"
          ],
          [
           "Hawái",
           "Maluma"
          ],
          [
           "Ella",
           "Boza"
          ],
          [
           "Alguien Más",
           "Andy Rivera"
          ],
          [
           "Vestido",
           "J Balvin"
          ],
          [
           "La Venganza",
           "J Balvin, Jhay Cortez"
          ],
          [
           "Te Acuerdas De Mí",
           "J Balvin, Yandel"
          ],
          [
           "Si Te Atreves",
           "J Balvin, Zion & Lennox"
          ],
          [
           "Una Locura",
           "Ozuna, J Balvin, Chencho Corleone"
          ],
          [
           "Butter (feat. Megan Thee Stallion)",
           "BTS, Megan Thee Stallion"
          ],
          [
           "F40",
           "J Balvin"
          ]
         ],
         "hovertemplate": "Éxito=True<br>Principal Component 1=%{x}<br>Principal Component 2=%{y}<br>Principal Component 3=%{z}<br>song=%{customdata[0]}<br>artists=%{customdata[1]}<extra></extra>",
         "legendgroup": "True",
         "marker": {
          "color": "#EF553B",
          "symbol": "circle"
         },
         "mode": "markers",
         "name": "True",
         "scene": "scene",
         "showlegend": true,
         "type": "scatter3d",
         "x": [
          -0.08127849573824587,
          -0.256604537026744,
          -0.09123396639801098,
          0.31202106762167403,
          -0.12699850074324678,
          0.04588233920578476,
          -0.21638935773129203,
          0.5209261973980294,
          0.4253854482491312,
          0.15069948046107515,
          -0.2477812528083033,
          0.04522366083916874,
          -0.5119712163281165,
          -0.43777996693194,
          0.08786473687010356,
          -0.203670866264438,
          0.001739181496694868,
          -0.41792288179042303,
          -0.09255517141870105,
          -0.40343115778349375,
          0.2538453599723563,
          -0.5377802160346173,
          -0.5064033824110266,
          -0.19064848850600347,
          -0.03546720324089553,
          -0.5320708350082595,
          0.3954164177131249,
          0.05950854097786145,
          -0.12829271558310087,
          -0.5254314225445859,
          -0.1298176746128397,
          -0.5758178601957413,
          -0.2816767246093358,
          -0.22482709223804326,
          -0.09978788642303778,
          0.05821752563569477,
          -0.36632536484662376,
          0.4416125693290841,
          0.3161802282590468,
          0.35560258596611455,
          0.262529325515958,
          -0.2867193669141323,
          0.26862953675821566,
          -0.02900118238766354,
          0.05609072558326235,
          0.30029966369164646,
          -0.1724820631924012,
          0.8047498603276769,
          0.49652254539981033,
          -0.32434458211809813,
          0.2200697708255108,
          -0.5278349737108203,
          -0.04652132170763385,
          -0.1825400293061334,
          -0.06024349809229378,
          -0.39018383208718904,
          -0.4265952009434451,
          -0.3998080537643015,
          0.2517932489370778,
          0.06312796915285197,
          -0.4311166624487893,
          -0.32086249304208414,
          -0.12655062698212782,
          -0.13458042858507074,
          -0.4921978441481337,
          -0.07493081150052543,
          0.24754125240840397,
          -0.44810576197625085,
          0.32246545918548336,
          -0.1475241249622515,
          -0.35025515896503706,
          -0.11133453446680602
         ],
         "y": [
          -0.05824451417028972,
          0.2931083218336979,
          -0.2911822769931861,
          -0.35629169945763894,
          0.05217218497376835,
          0.03426659656551475,
          0.4029781744763803,
          0.04820772867177255,
          -0.11689237855596249,
          -0.046780995982117546,
          -0.026398235469414978,
          -0.4346770703054856,
          0.1473983508143639,
          -0.18285888846976445,
          -0.28541023838813934,
          -0.07682066304652306,
          -0.10804107704833615,
          0.2646628433033101,
          0.1693021219412414,
          -0.09579937063595498,
          -0.374411141235668,
          -0.07712184195075546,
          -0.08993772001730102,
          -0.29395502120458705,
          -0.04079609699069272,
          0.0862221218481621,
          -0.19631884826917823,
          0.006043257758753464,
          0.48755228845859544,
          0.040098018092568105,
          0.4168066748237539,
          -0.06366867118969032,
          -0.05363599211246488,
          -0.17833868854569895,
          0.0857173984006268,
          0.07893561507971843,
          0.12338867830830687,
          -0.28000293167265455,
          0.33534208367709484,
          0.2643453648010972,
          -0.30825384860378435,
          -0.08016110169674116,
          -0.37087908376069295,
          -0.21952982243081196,
          -0.22634071426670935,
          -0.3581248637558893,
          -0.21063269820580585,
          0.8586655736535688,
          0.015575026634721451,
          0.29260807415222134,
          -0.04369732548698355,
          0.22791813900998642,
          0.13660507778124786,
          0.06899238107720485,
          0.12138481364636677,
          -0.1546905463699835,
          0.05079720620966091,
          -0.1681043270858557,
          -0.3823575266197554,
          -0.2154101173639707,
          -0.17245479359609722,
          -0.03820944008179436,
          -0.17461672488582194,
          0.0624034649362324,
          -0.05522650440017483,
          -0.04068794801055677,
          -0.07973168214685415,
          -0.19880289954159674,
          -0.33219840678023366,
          -0.3345409036864093,
          -0.061953967501879745,
          -0.14392289749848008
         ],
         "z": [
          0.22925787152695662,
          -0.05377921113349953,
          0.341595835832339,
          0.2863968261131843,
          0.26304666057943593,
          0.31802399860679065,
          -0.06836445185262288,
          0.3438978278212743,
          -0.36777792962381806,
          0.37786325218434763,
          -0.26640731979300447,
          0.3489298201821581,
          -0.002184841603206967,
          -0.23501683657377728,
          -0.3439713548081221,
          0.022181684532775164,
          -0.3543014402959196,
          -0.2135471226793154,
          0.3571554941407353,
          0.3885600944851847,
          0.2954855226308265,
          0.17974883763157867,
          0.41102336208439516,
          -0.20960368542460575,
          0.29695044944792154,
          0.11822016244064439,
          0.37817643423924074,
          -0.3039126120964238,
          -0.09506158554367992,
          -0.26150066803707456,
          0.4447581870901135,
          -0.24631252388183336,
          0.32192759482451166,
          0.31972749471229717,
          -0.24612434196134597,
          -0.21456782768000351,
          -0.24191875054950807,
          0.3227505048197538,
          -0.07510874799685864,
          -0.08357884497090559,
          -0.1132214895766201,
          -0.2659595417607508,
          0.2331984533755998,
          -0.29757625507756813,
          -0.28525703279907005,
          0.38738122766891325,
          0.31427278422512306,
          -0.13992695683123585,
          -0.16739171090252553,
          -0.22433090596153693,
          -0.022457102547487864,
          -0.22812551848092885,
          -0.21669760558709494,
          -0.3163102107945583,
          -0.21069541036875297,
          -0.0735137357997181,
          -0.3076330735604099,
          -0.07779547582528644,
          0.20849451132587463,
          -0.2840487653276723,
          -0.2352601173314715,
          -0.1423489170327426,
          0.38649274287419677,
          -0.2972354950920666,
          -0.31767447853144193,
          -0.32289635745099154,
          -0.2917559508837659,
          -0.294498364425648,
          0.41079121610170455,
          0.26260955730801977,
          -0.10791458591865662,
          0.41529117870881677
         ]
        }
       ],
       "layout": {
        "legend": {
         "title": {
          "text": "Éxito"
         },
         "tracegroupgap": 0
        },
        "margin": {
         "t": 60
        },
        "scene": {
         "aspectratio": {
          "x": 1,
          "y": 1,
          "z": 1
         },
         "domain": {
          "x": [
           0,
           1
          ],
          "y": [
           0,
           1
          ]
         },
         "xaxis": {
          "title": {
           "text": "Principal Component 1"
          }
         },
         "yaxis": {
          "title": {
           "text": "Principal Component 2"
          }
         },
         "zaxis": {
          "title": {
           "text": "Principal Component 3"
          }
         }
        },
        "template": {
         "data": {
          "bar": [
           {
            "error_x": {
             "color": "#2a3f5f"
            },
            "error_y": {
             "color": "#2a3f5f"
            },
            "marker": {
             "line": {
              "color": "#E5ECF6",
              "width": 0.5
             },
             "pattern": {
              "fillmode": "overlay",
              "size": 10,
              "solidity": 0.2
             }
            },
            "type": "bar"
           }
          ],
          "barpolar": [
           {
            "marker": {
             "line": {
              "color": "#E5ECF6",
              "width": 0.5
             },
             "pattern": {
              "fillmode": "overlay",
              "size": 10,
              "solidity": 0.2
             }
            },
            "type": "barpolar"
           }
          ],
          "carpet": [
           {
            "aaxis": {
             "endlinecolor": "#2a3f5f",
             "gridcolor": "white",
             "linecolor": "white",
             "minorgridcolor": "white",
             "startlinecolor": "#2a3f5f"
            },
            "baxis": {
             "endlinecolor": "#2a3f5f",
             "gridcolor": "white",
             "linecolor": "white",
             "minorgridcolor": "white",
             "startlinecolor": "#2a3f5f"
            },
            "type": "carpet"
           }
          ],
          "choropleth": [
           {
            "colorbar": {
             "outlinewidth": 0,
             "ticks": ""
            },
            "type": "choropleth"
           }
          ],
          "contour": [
           {
            "colorbar": {
             "outlinewidth": 0,
             "ticks": ""
            },
            "colorscale": [
             [
              0,
              "#0d0887"
             ],
             [
              0.1111111111111111,
              "#46039f"
             ],
             [
              0.2222222222222222,
              "#7201a8"
             ],
             [
              0.3333333333333333,
              "#9c179e"
             ],
             [
              0.4444444444444444,
              "#bd3786"
             ],
             [
              0.5555555555555556,
              "#d8576b"
             ],
             [
              0.6666666666666666,
              "#ed7953"
             ],
             [
              0.7777777777777778,
              "#fb9f3a"
             ],
             [
              0.8888888888888888,
              "#fdca26"
             ],
             [
              1,
              "#f0f921"
             ]
            ],
            "type": "contour"
           }
          ],
          "contourcarpet": [
           {
            "colorbar": {
             "outlinewidth": 0,
             "ticks": ""
            },
            "type": "contourcarpet"
           }
          ],
          "heatmap": [
           {
            "colorbar": {
             "outlinewidth": 0,
             "ticks": ""
            },
            "colorscale": [
             [
              0,
              "#0d0887"
             ],
             [
              0.1111111111111111,
              "#46039f"
             ],
             [
              0.2222222222222222,
              "#7201a8"
             ],
             [
              0.3333333333333333,
              "#9c179e"
             ],
             [
              0.4444444444444444,
              "#bd3786"
             ],
             [
              0.5555555555555556,
              "#d8576b"
             ],
             [
              0.6666666666666666,
              "#ed7953"
             ],
             [
              0.7777777777777778,
              "#fb9f3a"
             ],
             [
              0.8888888888888888,
              "#fdca26"
             ],
             [
              1,
              "#f0f921"
             ]
            ],
            "type": "heatmap"
           }
          ],
          "heatmapgl": [
           {
            "colorbar": {
             "outlinewidth": 0,
             "ticks": ""
            },
            "colorscale": [
             [
              0,
              "#0d0887"
             ],
             [
              0.1111111111111111,
              "#46039f"
             ],
             [
              0.2222222222222222,
              "#7201a8"
             ],
             [
              0.3333333333333333,
              "#9c179e"
             ],
             [
              0.4444444444444444,
              "#bd3786"
             ],
             [
              0.5555555555555556,
              "#d8576b"
             ],
             [
              0.6666666666666666,
              "#ed7953"
             ],
             [
              0.7777777777777778,
              "#fb9f3a"
             ],
             [
              0.8888888888888888,
              "#fdca26"
             ],
             [
              1,
              "#f0f921"
             ]
            ],
            "type": "heatmapgl"
           }
          ],
          "histogram": [
           {
            "marker": {
             "pattern": {
              "fillmode": "overlay",
              "size": 10,
              "solidity": 0.2
             }
            },
            "type": "histogram"
           }
          ],
          "histogram2d": [
           {
            "colorbar": {
             "outlinewidth": 0,
             "ticks": ""
            },
            "colorscale": [
             [
              0,
              "#0d0887"
             ],
             [
              0.1111111111111111,
              "#46039f"
             ],
             [
              0.2222222222222222,
              "#7201a8"
             ],
             [
              0.3333333333333333,
              "#9c179e"
             ],
             [
              0.4444444444444444,
              "#bd3786"
             ],
             [
              0.5555555555555556,
              "#d8576b"
             ],
             [
              0.6666666666666666,
              "#ed7953"
             ],
             [
              0.7777777777777778,
              "#fb9f3a"
             ],
             [
              0.8888888888888888,
              "#fdca26"
             ],
             [
              1,
              "#f0f921"
             ]
            ],
            "type": "histogram2d"
           }
          ],
          "histogram2dcontour": [
           {
            "colorbar": {
             "outlinewidth": 0,
             "ticks": ""
            },
            "colorscale": [
             [
              0,
              "#0d0887"
             ],
             [
              0.1111111111111111,
              "#46039f"
             ],
             [
              0.2222222222222222,
              "#7201a8"
             ],
             [
              0.3333333333333333,
              "#9c179e"
             ],
             [
              0.4444444444444444,
              "#bd3786"
             ],
             [
              0.5555555555555556,
              "#d8576b"
             ],
             [
              0.6666666666666666,
              "#ed7953"
             ],
             [
              0.7777777777777778,
              "#fb9f3a"
             ],
             [
              0.8888888888888888,
              "#fdca26"
             ],
             [
              1,
              "#f0f921"
             ]
            ],
            "type": "histogram2dcontour"
           }
          ],
          "mesh3d": [
           {
            "colorbar": {
             "outlinewidth": 0,
             "ticks": ""
            },
            "type": "mesh3d"
           }
          ],
          "parcoords": [
           {
            "line": {
             "colorbar": {
              "outlinewidth": 0,
              "ticks": ""
             }
            },
            "type": "parcoords"
           }
          ],
          "pie": [
           {
            "automargin": true,
            "type": "pie"
           }
          ],
          "scatter": [
           {
            "marker": {
             "colorbar": {
              "outlinewidth": 0,
              "ticks": ""
             }
            },
            "type": "scatter"
           }
          ],
          "scatter3d": [
           {
            "line": {
             "colorbar": {
              "outlinewidth": 0,
              "ticks": ""
             }
            },
            "marker": {
             "colorbar": {
              "outlinewidth": 0,
              "ticks": ""
             }
            },
            "type": "scatter3d"
           }
          ],
          "scattercarpet": [
           {
            "marker": {
             "colorbar": {
              "outlinewidth": 0,
              "ticks": ""
             }
            },
            "type": "scattercarpet"
           }
          ],
          "scattergeo": [
           {
            "marker": {
             "colorbar": {
              "outlinewidth": 0,
              "ticks": ""
             }
            },
            "type": "scattergeo"
           }
          ],
          "scattergl": [
           {
            "marker": {
             "colorbar": {
              "outlinewidth": 0,
              "ticks": ""
             }
            },
            "type": "scattergl"
           }
          ],
          "scattermapbox": [
           {
            "marker": {
             "colorbar": {
              "outlinewidth": 0,
              "ticks": ""
             }
            },
            "type": "scattermapbox"
           }
          ],
          "scatterpolar": [
           {
            "marker": {
             "colorbar": {
              "outlinewidth": 0,
              "ticks": ""
             }
            },
            "type": "scatterpolar"
           }
          ],
          "scatterpolargl": [
           {
            "marker": {
             "colorbar": {
              "outlinewidth": 0,
              "ticks": ""
             }
            },
            "type": "scatterpolargl"
           }
          ],
          "scatterternary": [
           {
            "marker": {
             "colorbar": {
              "outlinewidth": 0,
              "ticks": ""
             }
            },
            "type": "scatterternary"
           }
          ],
          "surface": [
           {
            "colorbar": {
             "outlinewidth": 0,
             "ticks": ""
            },
            "colorscale": [
             [
              0,
              "#0d0887"
             ],
             [
              0.1111111111111111,
              "#46039f"
             ],
             [
              0.2222222222222222,
              "#7201a8"
             ],
             [
              0.3333333333333333,
              "#9c179e"
             ],
             [
              0.4444444444444444,
              "#bd3786"
             ],
             [
              0.5555555555555556,
              "#d8576b"
             ],
             [
              0.6666666666666666,
              "#ed7953"
             ],
             [
              0.7777777777777778,
              "#fb9f3a"
             ],
             [
              0.8888888888888888,
              "#fdca26"
             ],
             [
              1,
              "#f0f921"
             ]
            ],
            "type": "surface"
           }
          ],
          "table": [
           {
            "cells": {
             "fill": {
              "color": "#EBF0F8"
             },
             "line": {
              "color": "white"
             }
            },
            "header": {
             "fill": {
              "color": "#C8D4E3"
             },
             "line": {
              "color": "white"
             }
            },
            "type": "table"
           }
          ]
         },
         "layout": {
          "annotationdefaults": {
           "arrowcolor": "#2a3f5f",
           "arrowhead": 0,
           "arrowwidth": 1
          },
          "autotypenumbers": "strict",
          "coloraxis": {
           "colorbar": {
            "outlinewidth": 0,
            "ticks": ""
           }
          },
          "colorscale": {
           "diverging": [
            [
             0,
             "#8e0152"
            ],
            [
             0.1,
             "#c51b7d"
            ],
            [
             0.2,
             "#de77ae"
            ],
            [
             0.3,
             "#f1b6da"
            ],
            [
             0.4,
             "#fde0ef"
            ],
            [
             0.5,
             "#f7f7f7"
            ],
            [
             0.6,
             "#e6f5d0"
            ],
            [
             0.7,
             "#b8e186"
            ],
            [
             0.8,
             "#7fbc41"
            ],
            [
             0.9,
             "#4d9221"
            ],
            [
             1,
             "#276419"
            ]
           ],
           "sequential": [
            [
             0,
             "#0d0887"
            ],
            [
             0.1111111111111111,
             "#46039f"
            ],
            [
             0.2222222222222222,
             "#7201a8"
            ],
            [
             0.3333333333333333,
             "#9c179e"
            ],
            [
             0.4444444444444444,
             "#bd3786"
            ],
            [
             0.5555555555555556,
             "#d8576b"
            ],
            [
             0.6666666666666666,
             "#ed7953"
            ],
            [
             0.7777777777777778,
             "#fb9f3a"
            ],
            [
             0.8888888888888888,
             "#fdca26"
            ],
            [
             1,
             "#f0f921"
            ]
           ],
           "sequentialminus": [
            [
             0,
             "#0d0887"
            ],
            [
             0.1111111111111111,
             "#46039f"
            ],
            [
             0.2222222222222222,
             "#7201a8"
            ],
            [
             0.3333333333333333,
             "#9c179e"
            ],
            [
             0.4444444444444444,
             "#bd3786"
            ],
            [
             0.5555555555555556,
             "#d8576b"
            ],
            [
             0.6666666666666666,
             "#ed7953"
            ],
            [
             0.7777777777777778,
             "#fb9f3a"
            ],
            [
             0.8888888888888888,
             "#fdca26"
            ],
            [
             1,
             "#f0f921"
            ]
           ]
          },
          "colorway": [
           "#636efa",
           "#EF553B",
           "#00cc96",
           "#ab63fa",
           "#FFA15A",
           "#19d3f3",
           "#FF6692",
           "#B6E880",
           "#FF97FF",
           "#FECB52"
          ],
          "font": {
           "color": "#2a3f5f"
          },
          "geo": {
           "bgcolor": "white",
           "lakecolor": "white",
           "landcolor": "#E5ECF6",
           "showlakes": true,
           "showland": true,
           "subunitcolor": "white"
          },
          "hoverlabel": {
           "align": "left"
          },
          "hovermode": "closest",
          "mapbox": {
           "style": "light"
          },
          "paper_bgcolor": "white",
          "plot_bgcolor": "#E5ECF6",
          "polar": {
           "angularaxis": {
            "gridcolor": "white",
            "linecolor": "white",
            "ticks": ""
           },
           "bgcolor": "#E5ECF6",
           "radialaxis": {
            "gridcolor": "white",
            "linecolor": "white",
            "ticks": ""
           }
          },
          "scene": {
           "xaxis": {
            "backgroundcolor": "#E5ECF6",
            "gridcolor": "white",
            "gridwidth": 2,
            "linecolor": "white",
            "showbackground": true,
            "ticks": "",
            "zerolinecolor": "white"
           },
           "yaxis": {
            "backgroundcolor": "#E5ECF6",
            "gridcolor": "white",
            "gridwidth": 2,
            "linecolor": "white",
            "showbackground": true,
            "ticks": "",
            "zerolinecolor": "white"
           },
           "zaxis": {
            "backgroundcolor": "#E5ECF6",
            "gridcolor": "white",
            "gridwidth": 2,
            "linecolor": "white",
            "showbackground": true,
            "ticks": "",
            "zerolinecolor": "white"
           }
          },
          "shapedefaults": {
           "line": {
            "color": "#2a3f5f"
           }
          },
          "ternary": {
           "aaxis": {
            "gridcolor": "white",
            "linecolor": "white",
            "ticks": ""
           },
           "baxis": {
            "gridcolor": "white",
            "linecolor": "white",
            "ticks": ""
           },
           "bgcolor": "#E5ECF6",
           "caxis": {
            "gridcolor": "white",
            "linecolor": "white",
            "ticks": ""
           }
          },
          "title": {
           "x": 0.05
          },
          "xaxis": {
           "automargin": true,
           "gridcolor": "white",
           "linecolor": "white",
           "ticks": "",
           "title": {
            "standoff": 15
           },
           "zerolinecolor": "white",
           "zerolinewidth": 2
          },
          "yaxis": {
           "automargin": true,
           "gridcolor": "white",
           "linecolor": "white",
           "ticks": "",
           "title": {
            "standoff": 15
           },
           "zerolinecolor": "white",
           "zerolinewidth": 2
          }
         }
        }
       }
      }
     },
     "metadata": {}
    }
   ],
   "metadata": {}
  },
  {
   "cell_type": "code",
   "execution_count": 19,
   "source": [
    "# Perform K-Means\r\n",
    "wcss = []\r\n",
    "X = df_scaled.values\r\n",
    "for i in range(1, 100):\r\n",
    "    kmeans = KMeans(n_clusters = i, init = 'k-means++', max_iter = 300, \r\n",
    "        n_init = 10, random_state = 666)\r\n",
    "    kmeans.fit(X) \r\n",
    "    wcss.append(kmeans.inertia_)\r\n",
    "plt.plot(range(1, 100), wcss)\r\n",
    "plt.title('Elbow Method')\r\n",
    "plt.xlabel('Number of clusters')\r\n",
    "plt.ylabel('WCSS')\r\n",
    "plt.show()"
   ],
   "outputs": [
    {
     "output_type": "display_data",
     "data": {
      "image/png": "[encoded data removed]",
      "text/plain": [
       "<Figure size 432x288 with 1 Axes>"
      ]
     },
     "metadata": {
      "needs_background": "light"
     }
    }
   ],
   "metadata": {}
  }
 ],
 "metadata": {
  "orig_nbformat": 4,
  "language_info": {
   "name": "python",
   "version": "3.8.11",
   "mimetype": "text/x-python",
   "codemirror_mode": {
    "name": "ipython",
    "version": 3
   },
   "pygments_lexer": "ipython3",
   "nbconvert_exporter": "python",
   "file_extension": ".py"
  },
  "kernelspec": {
   "name": "python3",
   "display_name": "Python 3.8.11 64-bit ('tesis': conda)"
  },
  "interpreter": {
   "hash": "b593be6ec2d2954f27bc2722be29da300fa7dcb24a766e52710030263730092e"
  }
 },
 "nbformat": 4,
 "nbformat_minor": 2
}