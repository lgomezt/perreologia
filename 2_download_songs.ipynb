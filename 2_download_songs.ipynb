{
 "cells": [
  {
   "cell_type": "markdown",
   "source": [
    "We are collecting the information of four playlists (Novedades viernes, Popeton, Top Colombia y Viral Colombia) every week. In this script we are going to bind all the files created in the webscraping to download the songs using [`spotdl`](https://github.com/spotDL/spotify-downloader) package.\r\n",
    "\r\n",
    "To guarantee that the package [`spotdl`](https://github.com/spotDL/spotify-downloader) works we need to download `FFmpeg`. This [tutorial](https://www.youtube.com/watch?v=ObuBysxtv9M&ab_channel=PyNoobCoding) may help if you had trouble running this script."
   ],
   "metadata": {}
  },
  {
   "cell_type": "code",
   "execution_count": 23,
   "source": [
    "import os\r\n",
    "import pandas as pd\r\n",
    "import numpy as np\r\n",
    "import re\r\n",
    "from datetime import date"
   ],
   "outputs": [],
   "metadata": {}
  },
  {
   "cell_type": "code",
   "execution_count": 2,
   "source": [
    "path_scripts = os.getcwd()\r\n",
    "path_data = path_scripts.replace(\"Scripts\", \"Data\")\r\n",
    "archivos = os.listdir(path_data)"
   ],
   "outputs": [],
   "metadata": {}
  },
  {
   "cell_type": "code",
   "execution_count": 3,
   "source": [
    "playlist = [\"novedades_viernes\", \"popeton\", \"top_colombia\", \"viral\"]\r\n",
    "archivos_playlists = [i for i in archivos if any([j in i for j in playlist])]"
   ],
   "outputs": [],
   "metadata": {}
  },
  {
   "cell_type": "code",
   "execution_count": 4,
   "source": [
    "data = pd.DataFrame()\r\n",
    "for i in archivos_playlists:\r\n",
    "    submuestra = pd.read_csv(path_data + \"/\" + i, sep = \";\", index_col = 0)\r\n",
    "    data = data.append(submuestra).reset_index(drop = True)\r\n",
    "data = data.drop_duplicates().reset_index(drop = True)"
   ],
   "outputs": [],
   "metadata": {}
  },
  {
   "cell_type": "code",
   "execution_count": 5,
   "source": [
    "downloaded = [i for i in os.listdir(path_data + \"/songs\") if \".mp3\" in i]\r\n",
    "downloaded_names = [re.search(\"- (.*)\\.mp3\", i).group(1) for i in downloaded]\r\n",
    "# What are the names of the missing songs?\r\n",
    "songs_names = list(set(data[\"song\"].values) - set(downloaded_names))\r\n",
    "# What are the ids of the missing songs?\r\n",
    "songs_id = data.loc[data[\"song\"].isin(songs_names), \"song_id\"].drop_duplicates().values"
   ],
   "outputs": [],
   "metadata": {}
  },
  {
   "cell_type": "code",
   "execution_count": 6,
   "source": [
    "os.chdir(path_data + \"/songs\")\r\n",
    "counting = 0\r\n",
    "n = len(songs_id)\r\n",
    "base_url = \"https://open.spotify.com/track/\"\r\n",
    "\r\n",
    "for song_id in songs_id:\r\n",
    "    !spotdl f\"{base_url + song_id}\"\r\n",
    "    counting += 1\r\n",
    "    percentage = np.round(100*counting/n, 1)\r\n",
    "    print(str(counting) + \" song of \" + str(n) + \" (\" + str(percentage) + \"%)\")\r\n",
    "\r\n",
    "os.chdir(path_scripts)"
   ],
   "outputs": [
    {
     "output_type": "stream",
     "name": "stdout",
     "text": [
      "Fetching Song...\n",
      "Gathering Spotify Metadata for: fhttps://open.spotify.com/track/6UbgSQJ1jLpIJ30s6JRoQ2\n",
      "Skipping \"Ozuna - A La Buena, El Mejor - Featured in Call Of Duty Mobile - Season 7- Elite of the Elite\" as it's already downloaded\n",
      "1 song of 13 (7.7%)\n"
     ]
    },
    {
     "output_type": "stream",
     "name": "stderr",
     "text": [
      "Traceback (most recent call last):\n",
      "  File \"c:\\users\\user\\anaconda3\\envs\\tesis\\lib\\runpy.py\", line 194, in _run_module_as_main\n",
      "    return _run_code(code, main_globals, None,\n",
      "  File \"c:\\users\\user\\anaconda3\\envs\\tesis\\lib\\runpy.py\", line 87, in _run_code\n",
      "    exec(code, run_globals)\n",
      "  File \"C:\\Users\\User\\anaconda3\\envs\\tesis\\Scripts\\spotdl.exe\\__main__.py\", line 7, in <module>\n",
      "  File \"c:\\users\\user\\anaconda3\\envs\\tesis\\lib\\site-packages\\spotdl\\console\\__init__.py\", line 81, in console_entry_point\n",
      "    song_list = parse_query(\n",
      "  File \"c:\\users\\user\\anaconda3\\envs\\tesis\\lib\\site-packages\\spotdl\\parsers\\query_parser.py\", line 23, in parse_query\n",
      "    parse_request(request, format, use_youtube, generate_m3u, threads)\n",
      "  File \"c:\\users\\user\\anaconda3\\envs\\tesis\\lib\\site-packages\\spotdl\\parsers\\query_parser.py\", line 67, in parse_request\n",
      "    song = song_gatherer.from_spotify_url(request, output_format, use_youtube)\n",
      "  File \"c:\\users\\user\\anaconda3\\envs\\tesis\\lib\\site-packages\\spotdl\\search\\song_gatherer.py\", line 64, in from_spotify_url\n",
      "    raise OSError(f\"{converted_file_name} already downloaded\")\n",
      "OSError: Ozuna - A La Buena, El Mejor - Featured in Call Of Duty Mobile - Season 7- Elite of the Elite already downloaded\n"
     ]
    },
    {
     "output_type": "stream",
     "name": "stdout",
     "text": [
      "Fetching Song...\n",
      "Gathering Spotify Metadata for: fhttps://open.spotify.com/track/4xTd8fz0mZFK5b9IYdGKNd\n",
      "Searching YouTube Music for \"Bizarrap, Chucky73 - Chucky73: Bzrp Music Sessions, Vol. 43\"\n",
      "                                                                                    \n",
      "Found YouTube URL for \"Bizarrap, Chucky73 - Chucky73: Bzrp Music Sessions, Vol. 43\" : https://www.youtube.com/watch?v=9rD8NNSTND0\n",
      "2 song of 13 (15.4%)\n",
      "\n",
      "Fetching Song...\n",
      "Gathering Spotify Metadata for: fhttps://open.spotify.com/track/7pRw8jLLLSlGw3Xhc7bYHK\n",
      "Searching YouTube Music for \"Mon Laferte - Wish You Were Gay - Versión en Español - Spotify Singles\"\n",
      "Could not match any of the results on YouTube. Skipping\n",
      "3 song of 13 (23.1%)\n"
     ]
    },
    {
     "output_type": "stream",
     "name": "stderr",
     "text": [
      "Traceback (most recent call last):\n",
      "  File \"c:\\users\\user\\anaconda3\\envs\\tesis\\lib\\runpy.py\", line 194, in _run_module_as_main\n",
      "    return _run_code(code, main_globals, None,\n",
      "  File \"c:\\users\\user\\anaconda3\\envs\\tesis\\lib\\runpy.py\", line 87, in _run_code\n",
      "    exec(code, run_globals)\n",
      "  File \"C:\\Users\\User\\anaconda3\\envs\\tesis\\Scripts\\spotdl.exe\\__main__.py\", line 7, in <module>\n",
      "  File \"c:\\users\\user\\anaconda3\\envs\\tesis\\lib\\site-packages\\spotdl\\console\\__init__.py\", line 81, in console_entry_point\n",
      "    song_list = parse_query(\n",
      "  File \"c:\\users\\user\\anaconda3\\envs\\tesis\\lib\\site-packages\\spotdl\\parsers\\query_parser.py\", line 23, in parse_query\n",
      "    parse_request(request, format, use_youtube, generate_m3u, threads)\n",
      "  File \"c:\\users\\user\\anaconda3\\envs\\tesis\\lib\\site-packages\\spotdl\\parsers\\query_parser.py\", line 67, in parse_request\n",
      "    song = song_gatherer.from_spotify_url(request, output_format, use_youtube)\n",
      "  File \"c:\\users\\user\\anaconda3\\envs\\tesis\\lib\\site-packages\\spotdl\\search\\song_gatherer.py\", line 81, in from_spotify_url\n",
      "    raise LookupError(\"Could not match any of the results on YouTube for\")\n",
      "LookupError: Could not match any of the results on YouTube for\n"
     ]
    },
    {
     "output_type": "stream",
     "name": "stdout",
     "text": [
      "Fetching Song...\n",
      "Gathering Spotify Metadata for: fhttps://open.spotify.com/track/3lzYrD0WcgGFiAFKkB2shE\n",
      "Skipping \"Camila Cabello - Million To One - from the Amazon Original Movie 'Cinderella'\" as it's already downloaded\n",
      "4 song of 13 (30.8%)\n"
     ]
    },
    {
     "output_type": "stream",
     "name": "stderr",
     "text": [
      "Traceback (most recent call last):\n",
      "  File \"c:\\users\\user\\anaconda3\\envs\\tesis\\lib\\runpy.py\", line 194, in _run_module_as_main\n",
      "    return _run_code(code, main_globals, None,\n",
      "  File \"c:\\users\\user\\anaconda3\\envs\\tesis\\lib\\runpy.py\", line 87, in _run_code\n",
      "    exec(code, run_globals)\n",
      "  File \"C:\\Users\\User\\anaconda3\\envs\\tesis\\Scripts\\spotdl.exe\\__main__.py\", line 7, in <module>\n",
      "  File \"c:\\users\\user\\anaconda3\\envs\\tesis\\lib\\site-packages\\spotdl\\console\\__init__.py\", line 81, in console_entry_point\n",
      "    song_list = parse_query(\n",
      "  File \"c:\\users\\user\\anaconda3\\envs\\tesis\\lib\\site-packages\\spotdl\\parsers\\query_parser.py\", line 23, in parse_query\n",
      "    parse_request(request, format, use_youtube, generate_m3u, threads)\n",
      "  File \"c:\\users\\user\\anaconda3\\envs\\tesis\\lib\\site-packages\\spotdl\\parsers\\query_parser.py\", line 67, in parse_request\n",
      "    song = song_gatherer.from_spotify_url(request, output_format, use_youtube)\n",
      "  File \"c:\\users\\user\\anaconda3\\envs\\tesis\\lib\\site-packages\\spotdl\\search\\song_gatherer.py\", line 64, in from_spotify_url\n",
      "    raise OSError(f\"{converted_file_name} already downloaded\")\n",
      "OSError: Camila Cabello - Million To One - from the Amazon Original Movie 'Cinderella' already downloaded\n"
     ]
    },
    {
     "output_type": "stream",
     "name": "stdout",
     "text": [
      "Fetching Song...\n",
      "Gathering Spotify Metadata for: fhttps://open.spotify.com/track/2tDxwU388lJZVICCwMM8jk\n",
      "Skipping \"Cynthia Montaño - ¿Donde Estarás Libertad\" as it's already downloaded\n",
      "5 song of 13 (38.5%)\n"
     ]
    },
    {
     "output_type": "stream",
     "name": "stderr",
     "text": [
      "Traceback (most recent call last):\n",
      "  File \"c:\\users\\user\\anaconda3\\envs\\tesis\\lib\\runpy.py\", line 194, in _run_module_as_main\n",
      "    return _run_code(code, main_globals, None,\n",
      "  File \"c:\\users\\user\\anaconda3\\envs\\tesis\\lib\\runpy.py\", line 87, in _run_code\n",
      "    exec(code, run_globals)\n",
      "  File \"C:\\Users\\User\\anaconda3\\envs\\tesis\\Scripts\\spotdl.exe\\__main__.py\", line 7, in <module>\n",
      "  File \"c:\\users\\user\\anaconda3\\envs\\tesis\\lib\\site-packages\\spotdl\\console\\__init__.py\", line 81, in console_entry_point\n",
      "    song_list = parse_query(\n",
      "  File \"c:\\users\\user\\anaconda3\\envs\\tesis\\lib\\site-packages\\spotdl\\parsers\\query_parser.py\", line 23, in parse_query\n",
      "    parse_request(request, format, use_youtube, generate_m3u, threads)\n",
      "  File \"c:\\users\\user\\anaconda3\\envs\\tesis\\lib\\site-packages\\spotdl\\parsers\\query_parser.py\", line 67, in parse_request\n",
      "    song = song_gatherer.from_spotify_url(request, output_format, use_youtube)\n",
      "  File \"c:\\users\\user\\anaconda3\\envs\\tesis\\lib\\site-packages\\spotdl\\search\\song_gatherer.py\", line 64, in from_spotify_url\n",
      "    raise OSError(f\"{converted_file_name} already downloaded\")\n",
      "OSError: Cynthia Montaño - ¿Donde Estarás Libertad already downloaded\n"
     ]
    },
    {
     "output_type": "stream",
     "name": "stdout",
     "text": [
      "Fetching Song...\n",
      "Gathering Spotify Metadata for: fhttps://open.spotify.com/track/2hfusCtKjcoTR5HSz6hTgb\n",
      "Skipping \"El Venue - Mentas  Lo Simple\" as it's already downloaded\n",
      "6 song of 13 (46.2%)\n"
     ]
    },
    {
     "output_type": "stream",
     "name": "stderr",
     "text": [
      "Traceback (most recent call last):\n",
      "  File \"c:\\users\\user\\anaconda3\\envs\\tesis\\lib\\runpy.py\", line 194, in _run_module_as_main\n",
      "    return _run_code(code, main_globals, None,\n",
      "  File \"c:\\users\\user\\anaconda3\\envs\\tesis\\lib\\runpy.py\", line 87, in _run_code\n",
      "    exec(code, run_globals)\n",
      "  File \"C:\\Users\\User\\anaconda3\\envs\\tesis\\Scripts\\spotdl.exe\\__main__.py\", line 7, in <module>\n",
      "  File \"c:\\users\\user\\anaconda3\\envs\\tesis\\lib\\site-packages\\spotdl\\console\\__init__.py\", line 81, in console_entry_point\n",
      "    song_list = parse_query(\n",
      "  File \"c:\\users\\user\\anaconda3\\envs\\tesis\\lib\\site-packages\\spotdl\\parsers\\query_parser.py\", line 23, in parse_query\n",
      "    parse_request(request, format, use_youtube, generate_m3u, threads)\n",
      "  File \"c:\\users\\user\\anaconda3\\envs\\tesis\\lib\\site-packages\\spotdl\\parsers\\query_parser.py\", line 67, in parse_request\n",
      "    song = song_gatherer.from_spotify_url(request, output_format, use_youtube)\n",
      "  File \"c:\\users\\user\\anaconda3\\envs\\tesis\\lib\\site-packages\\spotdl\\search\\song_gatherer.py\", line 64, in from_spotify_url\n",
      "    raise OSError(f\"{converted_file_name} already downloaded\")\n",
      "OSError: El Venue - Mentas  Lo Simple already downloaded\n"
     ]
    },
    {
     "output_type": "stream",
     "name": "stdout",
     "text": [
      "Fetching Song...7 song of 13 (53.8%)\n"
     ]
    },
    {
     "output_type": "stream",
     "name": "stderr",
     "text": [
      "Traceback (most recent call last):\n",
      "  File \"c:\\users\\user\\anaconda3\\envs\\tesis\\lib\\runpy.py\", line 194, in _run_module_as_main\n",
      "    return _run_code(code, main_globals, None,\n",
      "  File \"c:\\users\\user\\anaconda3\\envs\\tesis\\lib\\runpy.py\", line 87, in _run_code\n",
      "    exec(code, run_globals)\n",
      "  File \"C:\\Users\\User\\anaconda3\\envs\\tesis\\Scripts\\spotdl.exe\\__main__.py\", line 7, in <module>\n",
      "  File \"c:\\users\\user\\anaconda3\\envs\\tesis\\lib\\site-packages\\spotdl\\console\\__init__.py\", line 81, in console_entry_point\n",
      "    song_list = parse_query(\n",
      "  File \"c:\\users\\user\\anaconda3\\envs\\tesis\\lib\\site-packages\\spotdl\\parsers\\query_parser.py\", line 23, in parse_query\n",
      "    parse_request(request, format, use_youtube, generate_m3u, threads)\n",
      "  File \"c:\\users\\user\\anaconda3\\envs\\tesis\\lib\\site-packages\\spotdl\\parsers\\query_parser.py\", line 67, in parse_request\n",
      "    song = song_gatherer.from_spotify_url(request, output_format, use_youtube)\n",
      "  File \"c:\\users\\user\\anaconda3\\envs\\tesis\\lib\\site-packages\\spotdl\\search\\song_gatherer.py\", line 64, in from_spotify_url\n",
      "    raise OSError(f\"{converted_file_name} already downloaded\")\n",
      "OSError: Dawer X Damper - ASUNTO SERIO  TATUA already downloaded\n"
     ]
    },
    {
     "output_type": "stream",
     "name": "stdout",
     "text": [
      "\n",
      "Gathering Spotify Metadata for: fhttps://open.spotify.com/track/4tZoV4KZUThuHCjHX6J8WY\n",
      "Skipping \"Dawer X Damper - ASUNTO SERIO  TATUA\" as it's already downloaded\n",
      "Fetching Song...\n",
      "Gathering Spotify Metadata for: fhttps://open.spotify.com/track/4kELKaXaNP4EQR8Q8xNIID\n",
      "Skipping \"Trueno - FEEL ME\" as it's already downloaded\n",
      "8 song of 13 (61.5%)\n"
     ]
    },
    {
     "output_type": "stream",
     "name": "stderr",
     "text": [
      "Traceback (most recent call last):\n",
      "  File \"c:\\users\\user\\anaconda3\\envs\\tesis\\lib\\runpy.py\", line 194, in _run_module_as_main\n",
      "    return _run_code(code, main_globals, None,\n",
      "  File \"c:\\users\\user\\anaconda3\\envs\\tesis\\lib\\runpy.py\", line 87, in _run_code\n",
      "    exec(code, run_globals)\n",
      "  File \"C:\\Users\\User\\anaconda3\\envs\\tesis\\Scripts\\spotdl.exe\\__main__.py\", line 7, in <module>\n",
      "  File \"c:\\users\\user\\anaconda3\\envs\\tesis\\lib\\site-packages\\spotdl\\console\\__init__.py\", line 81, in console_entry_point\n",
      "    song_list = parse_query(\n",
      "  File \"c:\\users\\user\\anaconda3\\envs\\tesis\\lib\\site-packages\\spotdl\\parsers\\query_parser.py\", line 23, in parse_query\n",
      "    parse_request(request, format, use_youtube, generate_m3u, threads)\n",
      "  File \"c:\\users\\user\\anaconda3\\envs\\tesis\\lib\\site-packages\\spotdl\\parsers\\query_parser.py\", line 67, in parse_request\n",
      "    song = song_gatherer.from_spotify_url(request, output_format, use_youtube)\n",
      "  File \"c:\\users\\user\\anaconda3\\envs\\tesis\\lib\\site-packages\\spotdl\\search\\song_gatherer.py\", line 64, in from_spotify_url\n",
      "    raise OSError(f\"{converted_file_name} already downloaded\")\n",
      "OSError: Trueno - FEEL ME already downloaded\n"
     ]
    },
    {
     "output_type": "stream",
     "name": "stdout",
     "text": [
      "Fetching Song...\n",
      "Gathering Spotify Metadata for: fhttps://open.spotify.com/track/2cFLPNTPTc1zHAjop7Lzl6\n",
      "Skipping \"Los 50 De Joselito - Joselito Cubano (Huérfano Soy  No, No, No, Que Va)\" as it's already downloaded\n",
      "9 song of 13 (69.2%)\n"
     ]
    },
    {
     "output_type": "stream",
     "name": "stderr",
     "text": [
      "Traceback (most recent call last):\n",
      "  File \"c:\\users\\user\\anaconda3\\envs\\tesis\\lib\\runpy.py\", line 194, in _run_module_as_main\n",
      "    return _run_code(code, main_globals, None,\n",
      "  File \"c:\\users\\user\\anaconda3\\envs\\tesis\\lib\\runpy.py\", line 87, in _run_code\n",
      "    exec(code, run_globals)\n",
      "  File \"C:\\Users\\User\\anaconda3\\envs\\tesis\\Scripts\\spotdl.exe\\__main__.py\", line 7, in <module>\n",
      "  File \"c:\\users\\user\\anaconda3\\envs\\tesis\\lib\\site-packages\\spotdl\\console\\__init__.py\", line 81, in console_entry_point\n",
      "    song_list = parse_query(\n",
      "  File \"c:\\users\\user\\anaconda3\\envs\\tesis\\lib\\site-packages\\spotdl\\parsers\\query_parser.py\", line 23, in parse_query\n",
      "    parse_request(request, format, use_youtube, generate_m3u, threads)\n",
      "  File \"c:\\users\\user\\anaconda3\\envs\\tesis\\lib\\site-packages\\spotdl\\parsers\\query_parser.py\", line 67, in parse_request\n",
      "    song = song_gatherer.from_spotify_url(request, output_format, use_youtube)\n",
      "  File \"c:\\users\\user\\anaconda3\\envs\\tesis\\lib\\site-packages\\spotdl\\search\\song_gatherer.py\", line 64, in from_spotify_url\n",
      "    raise OSError(f\"{converted_file_name} already downloaded\")\n",
      "OSError: Los 50 De Joselito - Joselito Cubano (Huérfano Soy  No, No, No, Que Va) already downloaded\n"
     ]
    },
    {
     "output_type": "stream",
     "name": "stdout",
     "text": [
      "Fetching Song...\n",
      "Gathering Spotify Metadata for: fhttps://open.spotify.com/track/6hf0RpxTbOprT5nnwzkk8e\n",
      "Skipping \"J Balvin, Maria Becerra - Qué Más Pues\" as it's already downloaded\n",
      "10 song of 13 (76.9%)\n"
     ]
    },
    {
     "output_type": "stream",
     "name": "stderr",
     "text": [
      "Traceback (most recent call last):\n",
      "  File \"c:\\users\\user\\anaconda3\\envs\\tesis\\lib\\runpy.py\", line 194, in _run_module_as_main\n",
      "    return _run_code(code, main_globals, None,\n",
      "  File \"c:\\users\\user\\anaconda3\\envs\\tesis\\lib\\runpy.py\", line 87, in _run_code\n",
      "    exec(code, run_globals)\n",
      "  File \"C:\\Users\\User\\anaconda3\\envs\\tesis\\Scripts\\spotdl.exe\\__main__.py\", line 7, in <module>\n",
      "  File \"c:\\users\\user\\anaconda3\\envs\\tesis\\lib\\site-packages\\spotdl\\console\\__init__.py\", line 81, in console_entry_point\n",
      "    song_list = parse_query(\n",
      "  File \"c:\\users\\user\\anaconda3\\envs\\tesis\\lib\\site-packages\\spotdl\\parsers\\query_parser.py\", line 23, in parse_query\n",
      "    parse_request(request, format, use_youtube, generate_m3u, threads)\n",
      "  File \"c:\\users\\user\\anaconda3\\envs\\tesis\\lib\\site-packages\\spotdl\\parsers\\query_parser.py\", line 67, in parse_request\n",
      "    song = song_gatherer.from_spotify_url(request, output_format, use_youtube)\n",
      "  File \"c:\\users\\user\\anaconda3\\envs\\tesis\\lib\\site-packages\\spotdl\\search\\song_gatherer.py\", line 64, in from_spotify_url\n",
      "    raise OSError(f\"{converted_file_name} already downloaded\")\n",
      "OSError: J Balvin, Maria Becerra - Qué Más Pues already downloaded\n"
     ]
    },
    {
     "output_type": "stream",
     "name": "stdout",
     "text": [
      "Fetching Song...\n",
      "Gathering Spotify Metadata for: fhttps://open.spotify.com/track/7MoZgM6AsQaZw14WnKopuy\n",
      "Searching YouTube Music for \"Ovy On The Drums, Danny Ocean, KAROL G - Miedito o Qué? (feat. KAROL G)\"\n",
      "                                                                                                \n",
      "Found YouTube URL for \"Ovy On The Drums, Danny Ocean, KAROL G - Miedito o Qué? (feat. KAROL G)\" : https://www.youtube.com/watch?v=ikArVUhC6pE\n",
      "\n",
      "11 song of 13 (84.6%)\n",
      "Fetching Song...\n",
      "Gathering Spotify Metadata for: fhttps://open.spotify.com/track/0PwFN7vRvY80Hnkoew2x3f\n",
      "Skipping \"Rauw Alejandro, Mr. Naisgai - 2Catorce\" as it's already downloaded\n",
      "12 song of 13 (92.3%)\n"
     ]
    },
    {
     "output_type": "stream",
     "name": "stderr",
     "text": [
      "Traceback (most recent call last):\n",
      "  File \"c:\\users\\user\\anaconda3\\envs\\tesis\\lib\\runpy.py\", line 194, in _run_module_as_main\n",
      "    return _run_code(code, main_globals, None,\n",
      "  File \"c:\\users\\user\\anaconda3\\envs\\tesis\\lib\\runpy.py\", line 87, in _run_code\n",
      "    exec(code, run_globals)\n",
      "  File \"C:\\Users\\User\\anaconda3\\envs\\tesis\\Scripts\\spotdl.exe\\__main__.py\", line 7, in <module>\n",
      "  File \"c:\\users\\user\\anaconda3\\envs\\tesis\\lib\\site-packages\\spotdl\\console\\__init__.py\", line 81, in console_entry_point\n",
      "    song_list = parse_query(\n",
      "  File \"c:\\users\\user\\anaconda3\\envs\\tesis\\lib\\site-packages\\spotdl\\parsers\\query_parser.py\", line 23, in parse_query\n",
      "    parse_request(request, format, use_youtube, generate_m3u, threads)\n",
      "  File \"c:\\users\\user\\anaconda3\\envs\\tesis\\lib\\site-packages\\spotdl\\parsers\\query_parser.py\", line 67, in parse_request\n",
      "    song = song_gatherer.from_spotify_url(request, output_format, use_youtube)\n",
      "  File \"c:\\users\\user\\anaconda3\\envs\\tesis\\lib\\site-packages\\spotdl\\search\\song_gatherer.py\", line 64, in from_spotify_url\n",
      "    raise OSError(f\"{converted_file_name} already downloaded\")\n",
      "OSError: Rauw Alejandro, Mr. Naisgai - 2Catorce already downloaded\n"
     ]
    },
    {
     "output_type": "stream",
     "name": "stdout",
     "text": [
      "Fetching Song...\n",
      "Gathering Spotify Metadata for: fhttps://open.spotify.com/track/6D2TCm4nf5nxAcdGJ7w3QP\n",
      "Skipping \"J Balvin, Maria Becerra - Qué Más Pues\" as it's already downloaded\n",
      "13 song of 13 (100.0%)\n"
     ]
    },
    {
     "output_type": "stream",
     "name": "stderr",
     "text": [
      "Traceback (most recent call last):\n",
      "  File \"c:\\users\\user\\anaconda3\\envs\\tesis\\lib\\runpy.py\", line 194, in _run_module_as_main\n",
      "    return _run_code(code, main_globals, None,\n",
      "  File \"c:\\users\\user\\anaconda3\\envs\\tesis\\lib\\runpy.py\", line 87, in _run_code\n",
      "    exec(code, run_globals)\n",
      "  File \"C:\\Users\\User\\anaconda3\\envs\\tesis\\Scripts\\spotdl.exe\\__main__.py\", line 7, in <module>\n",
      "  File \"c:\\users\\user\\anaconda3\\envs\\tesis\\lib\\site-packages\\spotdl\\console\\__init__.py\", line 81, in console_entry_point\n",
      "    song_list = parse_query(\n",
      "  File \"c:\\users\\user\\anaconda3\\envs\\tesis\\lib\\site-packages\\spotdl\\parsers\\query_parser.py\", line 23, in parse_query\n",
      "    parse_request(request, format, use_youtube, generate_m3u, threads)\n",
      "  File \"c:\\users\\user\\anaconda3\\envs\\tesis\\lib\\site-packages\\spotdl\\parsers\\query_parser.py\", line 67, in parse_request\n",
      "    song = song_gatherer.from_spotify_url(request, output_format, use_youtube)\n",
      "  File \"c:\\users\\user\\anaconda3\\envs\\tesis\\lib\\site-packages\\spotdl\\search\\song_gatherer.py\", line 64, in from_spotify_url\n",
      "    raise OSError(f\"{converted_file_name} already downloaded\")\n",
      "OSError: J Balvin, Maria Becerra - Qué Más Pues already downloaded\n"
     ]
    }
   ],
   "metadata": {}
  },
  {
   "cell_type": "code",
   "execution_count": 7,
   "source": [
    "downloaded = [i for i in os.listdir(path_data + \"/songs\") if \".mp3\" in i]\r\n",
    "downloaded_names = [re.search(\"- (.*)\\.mp3\", i).group(1) for i in downloaded]\r\n",
    "diff = len(data[\"song_id\"].drop_duplicates().reset_index(drop = True)) - len(downloaded_names)\r\n",
    "print(str(diff) + \" songs can't be downloaded\")"
   ],
   "outputs": [
    {
     "output_type": "stream",
     "name": "stdout",
     "text": [
      "8 songs can't be downloaded\n"
     ]
    }
   ],
   "metadata": {}
  },
  {
   "cell_type": "code",
   "execution_count": 8,
   "source": [
    "diff"
   ],
   "outputs": [
    {
     "output_type": "execute_result",
     "data": {
      "text/plain": [
       "8"
      ]
     },
     "metadata": {},
     "execution_count": 8
    }
   ],
   "metadata": {}
  },
  {
   "cell_type": "markdown",
   "source": [
    "---\r\n",
    "## Creating our dependent variable"
   ],
   "metadata": {}
  },
  {
   "cell_type": "code",
   "execution_count": 9,
   "source": [
    "mask = data[\"playlist\"] == \"Top 50 - Colombia\"\r\n",
    "top50 = data.loc[mask, [\"song\", \"song_id\"]].drop_duplicates().reset_index(drop = True)\r\n",
    "incoming = data.loc[~mask, [\"song\", \"song_id\"]].drop_duplicates().reset_index(drop = True)\r\n",
    "intersection = list(set(top50[\"song_id\"]) & set(incoming[\"song_id\"]))"
   ],
   "outputs": [],
   "metadata": {}
  },
  {
   "cell_type": "code",
   "execution_count": 10,
   "source": [
    "# Creating our dependent variable\r\n",
    "data[\"jump_to_top50\"] = False\r\n",
    "mask = data[\"song_id\"].isin(intersection)\r\n",
    "data.loc[mask, \"jump_to_top50\"] = True"
   ],
   "outputs": [],
   "metadata": {}
  },
  {
   "cell_type": "markdown",
   "source": [
    "Should we define the output as 1 if the song enter to Top 50 and 0 otherwise or define the output as 1 if and only if the song enter to Top 50 from Popeton, Viral or Novedades."
   ],
   "metadata": {}
  },
  {
   "cell_type": "code",
   "execution_count": 20,
   "source": [
    "mask = data[\"song_id\"].isin(top50[\"song_id\"].values)\r\n",
    "data[\"top50\"] = mask"
   ],
   "outputs": [],
   "metadata": {}
  },
  {
   "cell_type": "code",
   "execution_count": 24,
   "source": [
    "# Save the results\r\n",
    "path_scritps = os.getcwd()\r\n",
    "path_data = path_scritps.replace(\"Scripts\", \"Data\")\r\n",
    "\r\n",
    "today = date.today()\r\n",
    "week = str(today.isocalendar()[1])\r\n",
    "year = str(today.isocalendar()[0])"
   ],
   "outputs": [],
   "metadata": {}
  },
  {
   "cell_type": "code",
   "execution_count": 25,
   "source": [
    "data.to_csv(path_data + \"/consolidate_raw_\" + year + \"_\" + week + \".csv\", sep = \";\")"
   ],
   "outputs": [],
   "metadata": {}
  },
  {
   "cell_type": "code",
   "execution_count": null,
   "source": [],
   "outputs": [],
   "metadata": {}
  }
 ],
 "metadata": {
  "orig_nbformat": 4,
  "language_info": {
   "name": "python",
   "version": "3.8.11",
   "mimetype": "text/x-python",
   "codemirror_mode": {
    "name": "ipython",
    "version": 3
   },
   "pygments_lexer": "ipython3",
   "nbconvert_exporter": "python",
   "file_extension": ".py"
  },
  "kernelspec": {
   "name": "python3",
   "display_name": "Python 3.8.11 64-bit ('tesis': conda)"
  },
  "interpreter": {
   "hash": "b593be6ec2d2954f27bc2722be29da300fa7dcb24a766e52710030263730092e"
  }
 },
 "nbformat": 4,
 "nbformat_minor": 2
}