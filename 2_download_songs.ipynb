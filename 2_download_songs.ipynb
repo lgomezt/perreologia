{
 "cells": [
  {
   "cell_type": "markdown",
   "metadata": {},
   "source": [
    "We are collecting the information of four playlists (Novedades viernes, Popeton, Top Colombia y Viral Colombia) every week. In this script we are going to bind all the files created in the webscraping to download the songs using [`spotdl`](https://github.com/spotDL/spotify-downloader) package.\n",
    "\n",
    "To guarantee that the package [`spotdl`](https://github.com/spotDL/spotify-downloader) works we need to download `FFmpeg`. This [tutorial](https://www.youtube.com/watch?v=ObuBysxtv9M&ab_channel=PyNoobCoding) may help if you had trouble running this script."
   ]
  },
  {
   "cell_type": "code",
   "execution_count": 1,
   "metadata": {},
   "outputs": [],
   "source": [
    "import os\n",
    "import pandas as pd\n",
    "import numpy as np\n",
    "import re\n",
    "from datetime import date"
   ]
  },
  {
   "cell_type": "code",
   "execution_count": 2,
   "metadata": {},
   "outputs": [],
   "source": [
    "path_scripts = os.getcwd()\n",
    "path_data = path_scripts.replace(\"Scripts\", \"Data\")\n",
    "archivos = os.listdir(path_data)"
   ]
  },
  {
   "cell_type": "code",
   "execution_count": 3,
   "metadata": {},
   "outputs": [],
   "source": [
    "playlist = [\"novedades_viernes\", \"popeton\", \"top_colombia\", \"viral\"]\n",
    "archivos_playlists = [i for i in archivos if any([j in i for j in playlist])]"
   ]
  },
  {
   "cell_type": "code",
   "execution_count": 4,
   "metadata": {},
   "outputs": [],
   "source": [
    "data = pd.DataFrame()\n",
    "for i in archivos_playlists:\n",
    "    submuestra = pd.read_csv(path_data + \"/\" + i, sep = \";\", index_col = 0)\n",
    "    data = data.append(submuestra).reset_index(drop = True)\n",
    "data = data.drop_duplicates().reset_index(drop = True)"
   ]
  },
  {
   "cell_type": "code",
   "execution_count": 5,
   "metadata": {},
   "outputs": [],
   "source": [
    "downloaded = [i for i in os.listdir(path_data + \"/songs\") if \".mp3\" in i]\n",
    "downloaded_names = [re.search(\"- (.*)\\.mp3\", i).group(1) for i in downloaded]\n",
    "# What are the names of the missing songs?\n",
    "songs_names = list(set(data[\"song\"].values) - set(downloaded_names))\n",
    "# What are the ids of the missing songs?\n",
    "songs_id = data.loc[data[\"song\"].isin(songs_names), \"song_id\"].drop_duplicates().values"
   ]
  },
  {
   "cell_type": "code",
   "execution_count": 6,
   "metadata": {},
   "outputs": [
    {
     "name": "stdout",
     "output_type": "stream",
     "text": [
      "Fetching Song...\n",
      "Gathering Spotify Metadata for: fhttps://open.spotify.com/track/6d8IMraPyqMZyDCjpDOvNQ\n",
      "Skipping \"Siam - ¿Otra Canción de Amor\" as it's already downloaded\n",
      "1 song of 96 (1.0%)\n"
     ]
    },
    {
     "name": "stderr",
     "output_type": "stream",
     "text": [
      "Traceback (most recent call last):\n",
      "  File \"c:\\users\\user\\anaconda3\\envs\\tesis\\lib\\runpy.py\", line 194, in _run_module_as_main\n",
      "    return _run_code(code, main_globals, None,\n",
      "  File \"c:\\users\\user\\anaconda3\\envs\\tesis\\lib\\runpy.py\", line 87, in _run_code\n",
      "    exec(code, run_globals)\n",
      "  File \"C:\\Users\\User\\anaconda3\\envs\\tesis\\Scripts\\spotdl.exe\\__main__.py\", line 7, in <module>\n",
      "  File \"c:\\users\\user\\anaconda3\\envs\\tesis\\lib\\site-packages\\spotdl\\console\\__init__.py\", line 81, in console_entry_point\n",
      "    song_list = parse_query(\n",
      "  File \"c:\\users\\user\\anaconda3\\envs\\tesis\\lib\\site-packages\\spotdl\\parsers\\query_parser.py\", line 23, in parse_query\n",
      "    parse_request(request, format, use_youtube, generate_m3u, threads)\n",
      "  File \"c:\\users\\user\\anaconda3\\envs\\tesis\\lib\\site-packages\\spotdl\\parsers\\query_parser.py\", line 67, in parse_request\n",
      "    song = song_gatherer.from_spotify_url(request, output_format, use_youtube)\n",
      "  File \"c:\\users\\user\\anaconda3\\envs\\tesis\\lib\\site-packages\\spotdl\\search\\song_gatherer.py\", line 64, in from_spotify_url\n",
      "    raise OSError(f\"{converted_file_name} already downloaded\")\n",
      "OSError: Siam - ¿Otra Canción de Amor already downloaded\n"
     ]
    },
    {
     "name": "stdout",
     "output_type": "stream",
     "text": [
      "Fetching Song...\n",
      "Gathering Spotify Metadata for: fhttps://open.spotify.com/track/4JC18crxRPZOuTqBfXKFIR\n",
      "Searching YouTube Music for \"Bizarrap, MHD - MHD: Bzrp Music Sessions, Vol. 44\"\n",
      "                                                                          \n",
      "Found YouTube URL for \"Bizarrap, MHD - MHD: Bzrp Music Sessions, Vol. 44\" : https://www.youtube.com/watch?v=j50nmKXdT7U\n",
      "\n",
      "2 song of 96 (2.1%)\n",
      "Fetching Song...\n",
      "Gathering Spotify Metadata for: fhttps://open.spotify.com/track/5fNJ6mhN9NBOELN7Nw8dzJ\n",
      "Searching YouTube Music for \"Pipe Bueno, Carin Leon, Jessi Uribe, Alzate, Yeison Jimenez, Darío Gómez, Luis Alberto Posada, El Charrito Negro, Jhonny Rivera, Jhon Alex Castaño, Juan Pablo Navarrete - Guaro - Remix\"\n",
      "                                                                                                                                                                                                                 \n",
      "Found YouTube URL for \"Pipe Bueno, Carin Leon, Jessi Uribe, Alzate, Yeison Jimenez, Darío Gómez, Luis Alberto Posada, El Charrito Negro, Jhonny Rivera, Jhon Alex Castaño, Juan Pablo Navarrete - Guaro - Remix\" : https://www.youtube.com/watch?v=GRhreRHgJCA\n",
      "\n",
      "Error: [WinError 2] The system cannot find the file specified: 'Pipe Bueno, \n",
      "Carin Leon, Jessi Uribe, Alzate, Yeison Jimenez, Darío Gómez, Luis Alberto \n",
      "Posada, El Charrito Negro, Jhonny Rivera, Jhon Alex Castaño, Juan Pablo \n",
      "Navarrete - Guaro - Remix.mp3'   While Error Tagging: Pipe Bueno, Carin Leon, \n",
      "Jessi Uribe, Alzate, Yeison Jimenez, Darío Gómez, Luis Alberto Posada, El \n",
      "Charrito Negro, Jhonny Rivera, Jhon Alex Castaño, Juan Pablo Navarrete - Guaro \n",
      "- Remix\n",
      " Traceback (most recent call last):\n",
      "  File \"c:\\users\\user\\anaconda3\\envs\\tesis\\lib\\site-packages\\spotdl\\download\\do\n",
      "wnloader.py\", line 226, in download_song\n",
      "    converted_file_path.unlink()\n",
      "  File \"c:\\users\\user\\anaconda3\\envs\\tesis\\lib\\pathlib.py\", line 1325, in \n",
      "unlink\n",
      "    self._accessor.unlink(self)\n",
      "FileNotFoundError: [WinError 2] The system cannot find the file specified: \n",
      "'Pipe Bueno, Carin Leon, Jessi Uribe, Alzate, Yeison Jimenez, Darío Gómez, Luis\n",
      "Alberto Posada, El Charrito Negro, Jhonny Rivera, Jhon Alex Castaño, Juan Pablo\n",
      "Navarrete - Guaro - Remix.mp3'\n",
      " \n",
      "3 song of 96 (3.1%)\n"
     ]
    },
    {
     "name": "stderr",
     "output_type": "stream",
     "text": [
      "ffmpeg returned an error (1)\n",
      "ffmpeg arguments: \"-i spotdl-temp\\GRhreRHgJCA.webm -codec:a libmp3lame -abr true -q:a 0 -v debug Pipe Bueno, Carin Leon, Jessi Uribe, Alzate, Yeison Jimenez, Darío Gómez, Luis Alberto Posada, El Charrito Negro, Jhonny Rivera, Jhon Alex Castaño, Juan Pablo Navarrete - Guaro - Remix.mp3\"\n",
      "ffmpeg gave this output:\n",
      "=====\n",
      "b\"ffmpeg version 2021-09-05-git-a947098558-full_build-www.gyan.dev Copyright (c) 2000-2021 the FFmpeg developers\\r\\n  built with gcc 10.3.0 (Rev5, Built by MSYS2 project)\\r\\n  configuration: --enable-gpl --enable-version3 --enable-static --disable-w32threads --disable-autodetect --enable-fontconfig --enable-iconv --enable-gnutls --enable-libxml2 --enable-gmp --enable-lzma --enable-libsnappy --enable-zlib --enable-librist --enable-libsrt --enable-libssh --enable-libzmq --enable-avisynth --enable-libbluray --enable-libcaca --enable-sdl2 --enable-libdav1d --enable-libzvbi --enable-librav1e --enable-libsvtav1 --enable-libwebp --enable-libx264 --enable-libx265 --enable-libxvid --enable-libaom --enable-libopenjpeg --enable-libvpx --enable-libass --enable-frei0r --enable-libfreetype --enable-libfribidi --enable-libvidstab --enable-libvmaf --enable-libzimg --enable-amf --enable-cuda-llvm --enable-cuvid --enable-ffnvcodec --enable-nvdec --enable-nvenc --enable-d3d11va --enable-dxva2 --enable-libmfx --enable-libglslang --enable-vulkan --enable-opencl --enable-libcdio --enable-libgme --enable-libmodplug --enable-libopenmpt --enable-libopencore-amrwb --enable-libmp3lame --enable-libshine --enable-libtheora --enable-libtwolame --enable-libvo-amrwbenc --enable-libilbc --enable-libgsm --enable-libopencore-amrnb --enable-libopus --enable-libspeex --enable-libvorbis --enable-ladspa --enable-libbs2b --enable-libflite --enable-libmysofa --enable-librubberband --enable-libsoxr --enable-chromaprint\\r\\n  libavutil      57.  4.101 / 57.  4.101\\r\\n  libavcodec     59.  7.100 / 59.  7.100\\r\\n  libavformat    59.  5.100 / 59.  5.100\\r\\n  libavdevice    59.  0.101 / 59.  0.101\\r\\n  libavfilter     8.  7.101 /  8.  7.101\\r\\n  libswscale      6.  0.100 /  6.  0.100\\r\\n  libswresample   4.  0.100 /  4.  0.100\\r\\n  libpostproc    56.  0.100 / 56.  0.100\\r\\nSplitting the commandline.\\r\\nReading option '-i' ... matched as input url with argument 'spotdl-temp\\\\GRhreRHgJCA.webm'.\\r\\nReading option '-codec:a' ... matched as option 'codec' (codec name) with argument 'libmp3lame'.\\r\\nReading option '-abr' ... matched as AVOption 'abr' with argument 'true'.\\r\\nReading option '-q:a' ... matched as option 'q' (use fixed quality scale (VBR)) with argument '0'.\\r\\nReading option '-v' ... matched as option 'v' (set logging level) with argument 'debug'.\\r\\nReading option 'Pipe Bueno, Carin Leon, Jessi Uribe, Alzate, Yeison Jimenez, Dar\\xc3\\xado G\\xc3\\xb3mez, Luis Alberto Posada, El Charrito Negro, Jhonny Rivera, Jhon Alex Casta\\xc3\\xb1o, Juan Pablo Navarrete - Guaro - Remix.mp3' ... matched as output url.\\r\\nFinished splitting the commandline.\\r\\nParsing a group of options: global .\\r\\nApplying option v (set logging level) with argument debug.\\r\\nSuccessfully parsed a group of options.\\r\\nParsing a group of options: input url spotdl-temp\\\\GRhreRHgJCA.webm.\\r\\nSuccessfully parsed a group of options.\\r\\nOpening an input file: spotdl-temp\\\\GRhreRHgJCA.webm.\\r\\n[NULL @ 0000020e9ed1f3c0] Opening 'spotdl-temp\\\\GRhreRHgJCA.webm' for reading\\r\\n[file @ 0000020e9ed1fac0] Setting default whitelist 'file,crypto,data'\\r\\n[matroska,webm @ 0000020e9ed1f3c0] Format matroska,webm probed with size=2048 and score=100\\r\\nst:0 removing common factor 1000000 from timebase\\r\\n[matroska,webm @ 0000020e9ed1f3c0] Before avformat_find_stream_info() pos: 651 bytes read:32768 seeks:0 nb_streams:1\\r\\n[opus @ 0000020e9ed233c0] skip 312/960 samples\\r\\n[matroska,webm @ 0000020e9ed1f3c0] All info found\\r\\n[matroska,webm @ 0000020e9ed1f3c0] After avformat_find_stream_info() pos: 666 bytes read:32768 seeks:0 frames:1\\r\\nInput #0, matroska,webm, from 'spotdl-temp\\\\GRhreRHgJCA.webm':\\r\\n  Metadata:\\r\\n    encoder         : google/video-file\\r\\n  Duration: 00:03:42.30, start: -0.007000, bitrate: 138 kb/s\\r\\n  Stream #0:0(eng), 1, 1/1000: Audio: opus, 48000 Hz, stereo, fltp, delay 312 (default)\\r\\nSuccessfully opened the file.\\r\\nParsing a group of options: output url Pipe Bueno, Carin Leon, Jessi Uribe, Alzate, Yeison Jimenez, Dar\\xc3\\xado G\\xc3\\xb3mez, Luis Alberto Posada, El Charrito Negro, Jhonny Rivera, Jhon Alex Casta\\xc3\\xb1o, Juan Pablo Navarrete - Guaro - Remix.mp3.\\r\\nApplying option codec:a (codec name) with argument libmp3lame.\\r\\nApplying option q:a (use fixed quality scale (VBR)) with argument 0.\\r\\nSuccessfully parsed a group of options.\\r\\nOpening an output file: Pipe Bueno, Carin Leon, Jessi Uribe, Alzate, Yeison Jimenez, Dar\\xc3\\xado G\\xc3\\xb3mez, Luis Alberto Posada, El Charrito Negro, Jhonny Rivera, Jhon Alex Casta\\xc3\\xb1o, Juan Pablo Navarrete - Guaro - Remix.mp3.\\r\\n[file @ 0000020e9ed26f80] Setting default whitelist 'file,crypto,data'\\r\\nPipe Bueno, Carin Leon, Jessi Uribe, Alzate, Yeison Jimenez, Dar\\xc3\\xado G\\xc3\\xb3mez, Luis Alberto Posada, El Charrito Negro, Jhonny Rivera, Jhon Alex Casta\\xc3\\xb1o, Juan Pablo Navarrete - Guaro - Remix.mp3: No such file or directory\\r\\n[AVIOContext @ 0000020e9ed28640] Statistics: 32768 bytes read, 0 seeks\\r\\n\"\n",
      "=====\n",
      "\n"
     ]
    },
    {
     "name": "stdout",
     "output_type": "stream",
     "text": [
      "Fetching Song...\n",
      "Gathering Spotify Metadata for: fhttps://open.spotify.com/track/6dJpmibj6WZTYlZAReoIxp\n",
      "Skipping \"Rafael Santos, Juancho De La Espriella - 18 de Junio  Homenaje al Gran Martín Elías\" as it's already downloaded\n",
      "4 song of 96 (4.2%)\n"
     ]
    },
    {
     "name": "stderr",
     "output_type": "stream",
     "text": [
      "Traceback (most recent call last):\n",
      "  File \"c:\\users\\user\\anaconda3\\envs\\tesis\\lib\\runpy.py\", line 194, in _run_module_as_main\n",
      "    return _run_code(code, main_globals, None,\n",
      "  File \"c:\\users\\user\\anaconda3\\envs\\tesis\\lib\\runpy.py\", line 87, in _run_code\n",
      "    exec(code, run_globals)\n",
      "  File \"C:\\Users\\User\\anaconda3\\envs\\tesis\\Scripts\\spotdl.exe\\__main__.py\", line 7, in <module>\n",
      "  File \"c:\\users\\user\\anaconda3\\envs\\tesis\\lib\\site-packages\\spotdl\\console\\__init__.py\", line 81, in console_entry_point\n",
      "    song_list = parse_query(\n",
      "  File \"c:\\users\\user\\anaconda3\\envs\\tesis\\lib\\site-packages\\spotdl\\parsers\\query_parser.py\", line 23, in parse_query\n",
      "    parse_request(request, format, use_youtube, generate_m3u, threads)\n",
      "  File \"c:\\users\\user\\anaconda3\\envs\\tesis\\lib\\site-packages\\spotdl\\parsers\\query_parser.py\", line 67, in parse_request\n",
      "    song = song_gatherer.from_spotify_url(request, output_format, use_youtube)\n",
      "  File \"c:\\users\\user\\anaconda3\\envs\\tesis\\lib\\site-packages\\spotdl\\search\\song_gatherer.py\", line 64, in from_spotify_url\n",
      "    raise OSError(f\"{converted_file_name} already downloaded\")\n",
      "OSError: Rafael Santos, Juancho De La Espriella - 18 de Junio  Homenaje al Gran Martín Elías already downloaded\n"
     ]
    },
    {
     "name": "stdout",
     "output_type": "stream",
     "text": [
      "Fetching Song...5 song of 96 (5.2%)\n"
     ]
    },
    {
     "name": "stderr",
     "output_type": "stream",
     "text": [
      "Traceback (most recent call last):\n",
      "  File \"c:\\users\\user\\anaconda3\\envs\\tesis\\lib\\runpy.py\", line 194, in _run_module_as_main\n",
      "    return _run_code(code, main_globals, None,\n",
      "  File \"c:\\users\\user\\anaconda3\\envs\\tesis\\lib\\runpy.py\", line 87, in _run_code\n",
      "    exec(code, run_globals)\n",
      "  File \"C:\\Users\\User\\anaconda3\\envs\\tesis\\Scripts\\spotdl.exe\\__main__.py\", line 7, in <module>\n",
      "  File \"c:\\users\\user\\anaconda3\\envs\\tesis\\lib\\site-packages\\spotdl\\console\\__init__.py\", line 81, in console_entry_point\n",
      "    song_list = parse_query(\n",
      "  File \"c:\\users\\user\\anaconda3\\envs\\tesis\\lib\\site-packages\\spotdl\\parsers\\query_parser.py\", line 23, in parse_query\n",
      "    parse_request(request, format, use_youtube, generate_m3u, threads)\n",
      "  File \"c:\\users\\user\\anaconda3\\envs\\tesis\\lib\\site-packages\\spotdl\\parsers\\query_parser.py\", line 67, in parse_request\n",
      "    song = song_gatherer.from_spotify_url(request, output_format, use_youtube)\n",
      "  File \"c:\\users\\user\\anaconda3\\envs\\tesis\\lib\\site-packages\\spotdl\\search\\song_gatherer.py\", line 81, in from_spotify_url\n",
      "    raise LookupError(\"Could not match any of the results on YouTube for\")\n",
      "LookupError: Could not match any of the results on YouTube for\n"
     ]
    },
    {
     "name": "stdout",
     "output_type": "stream",
     "text": [
      "\n",
      "Gathering Spotify Metadata for: fhttps://open.spotify.com/track/5btOvqOWxTVq33xL3ugEtb\n",
      "Searching YouTube Music for \"Twin Shadow - Telepatía - Spotify Singles\"\n",
      "Could not match any of the results on YouTube. Skipping\n",
      "Fetching Song...\n",
      "Gathering Spotify Metadata for: fhttps://open.spotify.com/track/6AthIk01CYAe3GBYK6rtA7\n",
      "Searching YouTube Music for \"Ali Aka Mind - Recreo\"\n",
      "Could not match any of the results on YouTube. Skipping\n",
      "6 song of 96 (6.2%)\n"
     ]
    },
    {
     "name": "stderr",
     "output_type": "stream",
     "text": [
      "Traceback (most recent call last):\n",
      "  File \"c:\\users\\user\\anaconda3\\envs\\tesis\\lib\\runpy.py\", line 194, in _run_module_as_main\n",
      "    return _run_code(code, main_globals, None,\n",
      "  File \"c:\\users\\user\\anaconda3\\envs\\tesis\\lib\\runpy.py\", line 87, in _run_code\n",
      "    exec(code, run_globals)\n",
      "  File \"C:\\Users\\User\\anaconda3\\envs\\tesis\\Scripts\\spotdl.exe\\__main__.py\", line 7, in <module>\n",
      "  File \"c:\\users\\user\\anaconda3\\envs\\tesis\\lib\\site-packages\\spotdl\\console\\__init__.py\", line 81, in console_entry_point\n",
      "    song_list = parse_query(\n",
      "  File \"c:\\users\\user\\anaconda3\\envs\\tesis\\lib\\site-packages\\spotdl\\parsers\\query_parser.py\", line 23, in parse_query\n",
      "    parse_request(request, format, use_youtube, generate_m3u, threads)\n",
      "  File \"c:\\users\\user\\anaconda3\\envs\\tesis\\lib\\site-packages\\spotdl\\parsers\\query_parser.py\", line 67, in parse_request\n",
      "    song = song_gatherer.from_spotify_url(request, output_format, use_youtube)\n",
      "  File \"c:\\users\\user\\anaconda3\\envs\\tesis\\lib\\site-packages\\spotdl\\search\\song_gatherer.py\", line 81, in from_spotify_url\n",
      "    raise LookupError(\"Could not match any of the results on YouTube for\")\n",
      "LookupError: Could not match any of the results on YouTube for\n"
     ]
    },
    {
     "name": "stdout",
     "output_type": "stream",
     "text": [
      "Fetching Song...\n",
      "Gathering Spotify Metadata for: fhttps://open.spotify.com/track/42iGyYwAkmYlNMrXU7u7Mp\n",
      "Searching YouTube Music for \"PLEITØ, Junior Zamora, Daske Gaitán, Reies - DDQTT\"\n",
      "                                                                           \n",
      "Found YouTube URL for \"PLEITØ, Junior Zamora, Daske Gaitán, Reies - DDQTT\" : https://www.youtube.com/watch?v=zItZyS_67uI\n",
      "\n",
      "7 song of 96 (7.3%)\n",
      "Fetching Song...\n",
      "Gathering Spotify Metadata for: fhttps://open.spotify.com/track/6Qnhr1JQ1PfKWVT3MmqS6k\n",
      "Skipping \"Megan Thee Stallion, Maluma, Rock Mafia - Crazy Family - From 'The Addams Family 2'\" as it's already downloaded\n",
      "8 song of 96 (8.3%)\n"
     ]
    },
    {
     "name": "stderr",
     "output_type": "stream",
     "text": [
      "Traceback (most recent call last):\n",
      "  File \"c:\\users\\user\\anaconda3\\envs\\tesis\\lib\\runpy.py\", line 194, in _run_module_as_main\n",
      "    return _run_code(code, main_globals, None,\n",
      "  File \"c:\\users\\user\\anaconda3\\envs\\tesis\\lib\\runpy.py\", line 87, in _run_code\n",
      "    exec(code, run_globals)\n",
      "  File \"C:\\Users\\User\\anaconda3\\envs\\tesis\\Scripts\\spotdl.exe\\__main__.py\", line 7, in <module>\n",
      "  File \"c:\\users\\user\\anaconda3\\envs\\tesis\\lib\\site-packages\\spotdl\\console\\__init__.py\", line 81, in console_entry_point\n",
      "    song_list = parse_query(\n",
      "  File \"c:\\users\\user\\anaconda3\\envs\\tesis\\lib\\site-packages\\spotdl\\parsers\\query_parser.py\", line 23, in parse_query\n",
      "    parse_request(request, format, use_youtube, generate_m3u, threads)\n",
      "  File \"c:\\users\\user\\anaconda3\\envs\\tesis\\lib\\site-packages\\spotdl\\parsers\\query_parser.py\", line 67, in parse_request\n",
      "    song = song_gatherer.from_spotify_url(request, output_format, use_youtube)\n",
      "  File \"c:\\users\\user\\anaconda3\\envs\\tesis\\lib\\site-packages\\spotdl\\search\\song_gatherer.py\", line 64, in from_spotify_url\n",
      "    raise OSError(f\"{converted_file_name} already downloaded\")\n",
      "OSError: Megan Thee Stallion, Maluma, Rock Mafia - Crazy Family - From 'The Addams Family 2' already downloaded\n"
     ]
    },
    {
     "name": "stdout",
     "output_type": "stream",
     "text": [
      "Fetching Song...\n",
      "Gathering Spotify Metadata for: fhttps://open.spotify.com/track/3CQDFLetMMxD5hzAnUk410\n",
      "Skipping \"Rels B - SHORTY QUE TE VAYA BN 3\" as it's already downloaded\n",
      "9 song of 96 (9.4%)\n"
     ]
    },
    {
     "name": "stderr",
     "output_type": "stream",
     "text": [
      "Traceback (most recent call last):\n",
      "  File \"c:\\users\\user\\anaconda3\\envs\\tesis\\lib\\runpy.py\", line 194, in _run_module_as_main\n",
      "    return _run_code(code, main_globals, None,\n",
      "  File \"c:\\users\\user\\anaconda3\\envs\\tesis\\lib\\runpy.py\", line 87, in _run_code\n",
      "    exec(code, run_globals)\n",
      "  File \"C:\\Users\\User\\anaconda3\\envs\\tesis\\Scripts\\spotdl.exe\\__main__.py\", line 7, in <module>\n",
      "  File \"c:\\users\\user\\anaconda3\\envs\\tesis\\lib\\site-packages\\spotdl\\console\\__init__.py\", line 81, in console_entry_point\n",
      "    song_list = parse_query(\n",
      "  File \"c:\\users\\user\\anaconda3\\envs\\tesis\\lib\\site-packages\\spotdl\\parsers\\query_parser.py\", line 23, in parse_query\n",
      "    parse_request(request, format, use_youtube, generate_m3u, threads)\n",
      "  File \"c:\\users\\user\\anaconda3\\envs\\tesis\\lib\\site-packages\\spotdl\\parsers\\query_parser.py\", line 67, in parse_request\n",
      "    song = song_gatherer.from_spotify_url(request, output_format, use_youtube)\n",
      "  File \"c:\\users\\user\\anaconda3\\envs\\tesis\\lib\\site-packages\\spotdl\\search\\song_gatherer.py\", line 64, in from_spotify_url\n",
      "    raise OSError(f\"{converted_file_name} already downloaded\")\n",
      "OSError: Rels B - SHORTY QUE TE VAYA BN 3 already downloaded\n"
     ]
    },
    {
     "name": "stdout",
     "output_type": "stream",
     "text": [
      "Fetching Song...\n",
      "Gathering Spotify Metadata for: fhttps://open.spotify.com/track/39VaE08TKJEJQLYyOBn8hM\n",
      "Skipping \"Luz Pinos - ¿Qué Voy a Hacer\" as it's already downloaded\n",
      "10 song of 96 (10.4%)\n"
     ]
    },
    {
     "name": "stderr",
     "output_type": "stream",
     "text": [
      "Traceback (most recent call last):\n",
      "  File \"c:\\users\\user\\anaconda3\\envs\\tesis\\lib\\runpy.py\", line 194, in _run_module_as_main\n",
      "    return _run_code(code, main_globals, None,\n",
      "  File \"c:\\users\\user\\anaconda3\\envs\\tesis\\lib\\runpy.py\", line 87, in _run_code\n",
      "    exec(code, run_globals)\n",
      "  File \"C:\\Users\\User\\anaconda3\\envs\\tesis\\Scripts\\spotdl.exe\\__main__.py\", line 7, in <module>\n",
      "  File \"c:\\users\\user\\anaconda3\\envs\\tesis\\lib\\site-packages\\spotdl\\console\\__init__.py\", line 81, in console_entry_point\n",
      "    song_list = parse_query(\n",
      "  File \"c:\\users\\user\\anaconda3\\envs\\tesis\\lib\\site-packages\\spotdl\\parsers\\query_parser.py\", line 23, in parse_query\n",
      "    parse_request(request, format, use_youtube, generate_m3u, threads)\n",
      "  File \"c:\\users\\user\\anaconda3\\envs\\tesis\\lib\\site-packages\\spotdl\\parsers\\query_parser.py\", line 67, in parse_request\n",
      "    song = song_gatherer.from_spotify_url(request, output_format, use_youtube)\n",
      "  File \"c:\\users\\user\\anaconda3\\envs\\tesis\\lib\\site-packages\\spotdl\\search\\song_gatherer.py\", line 64, in from_spotify_url\n",
      "    raise OSError(f\"{converted_file_name} already downloaded\")\n",
      "OSError: Luz Pinos - ¿Qué Voy a Hacer already downloaded\n"
     ]
    }
   ],
   "source": [
    "os.chdir(path_data + \"/songs\")\n",
    "counting = 0\n",
    "n = len(songs_id)\n",
    "base_url = \"https://open.spotify.com/track/\"\n",
    "\n",
    "for song_id in songs_id:\n",
    "    !spotdl f\"{base_url + song_id}\"\n",
    "    counting += 1\n",
    "    percentage = np.round(100*counting/n, 1)\n",
    "    print(str(counting) + \" song of \" + str(n) + \" (\" + str(percentage) + \"%)\")\n",
    "\n",
    "os.chdir(path_scripts)"
   ]
  },
  {
   "cell_type": "code",
   "execution_count": null,
   "metadata": {},
   "outputs": [
    {
     "name": "stdout",
     "output_type": "stream",
     "text": [
      "16 songs can't be downloaded\n"
     ]
    }
   ],
   "source": [
    "downloaded = [i for i in os.listdir(path_data + \"/songs\") if \".mp3\" in i]\n",
    "downloaded_names = [re.search(\"- (.*)\\.mp3\", i).group(1) for i in downloaded]\n",
    "diff = len(data[\"song_id\"].drop_duplicates().reset_index(drop = True)) - len(downloaded_names)\n",
    "print(str(diff) + \" songs can't be downloaded\")"
   ]
  },
  {
   "cell_type": "markdown",
   "metadata": {},
   "source": [
    "---\n",
    "## Creating our dependent variable"
   ]
  },
  {
   "cell_type": "code",
   "execution_count": null,
   "metadata": {},
   "outputs": [],
   "source": [
    "mask = data[\"playlist\"] == \"Top 50 - Colombia\"\n",
    "top50 = data.loc[mask, [\"song\", \"song_id\"]].drop_duplicates().reset_index(drop = True)\n",
    "incoming = data.loc[~mask, [\"song\", \"song_id\"]].drop_duplicates().reset_index(drop = True)\n",
    "intersection = list(set(top50[\"song_id\"]) & set(incoming[\"song_id\"]))"
   ]
  },
  {
   "cell_type": "code",
   "execution_count": null,
   "metadata": {},
   "outputs": [],
   "source": [
    "# Creating our dependent variable\n",
    "data[\"jump_to_top50\"] = False\n",
    "mask = data[\"song_id\"].isin(intersection)\n",
    "data.loc[mask, \"jump_to_top50\"] = True"
   ]
  },
  {
   "cell_type": "markdown",
   "metadata": {},
   "source": [
    "Should we define the output as 1 if the song enter to Top 50 and 0 otherwise or define the output as 1 if and only if the song enter to Top 50 from Popeton, Viral or Novedades."
   ]
  },
  {
   "cell_type": "code",
   "execution_count": null,
   "metadata": {},
   "outputs": [],
   "source": [
    "mask = data[\"song_id\"].isin(top50[\"song_id\"].values)\n",
    "data[\"top50\"] = mask"
   ]
  },
  {
   "cell_type": "code",
   "execution_count": null,
   "metadata": {},
   "outputs": [],
   "source": [
    "# Save the results\n",
    "path_scritps = os.getcwd()\n",
    "path_data = path_scritps.replace(\"Scripts\", \"Data\")\n",
    "\n",
    "today = str(date.today())"
   ]
  },
  {
   "cell_type": "code",
   "execution_count": null,
   "metadata": {},
   "outputs": [],
   "source": [
    "data.to_csv(path_data + \"/consolidate_raw_\" + today + \".csv\", sep = \";\")"
   ]
  }
 ],
 "metadata": {
  "interpreter": {
   "hash": "b593be6ec2d2954f27bc2722be29da300fa7dcb24a766e52710030263730092e"
  },
  "kernelspec": {
   "display_name": "Python 3.8.11 64-bit ('tesis': conda)",
   "name": "python3"
  },
  "language_info": {
   "codemirror_mode": {
    "name": "ipython",
    "version": 3
   },
   "file_extension": ".py",
   "mimetype": "text/x-python",
   "name": "python",
   "nbconvert_exporter": "python",
   "pygments_lexer": "ipython3",
   "version": "3.8.11"
  },
  "orig_nbformat": 4
 },
 "nbformat": 4,
 "nbformat_minor": 2
}
